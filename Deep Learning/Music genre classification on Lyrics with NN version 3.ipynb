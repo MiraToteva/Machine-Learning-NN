{
 "cells": [
  {
   "cell_type": "code",
   "execution_count": 1,
   "metadata": {},
   "outputs": [],
   "source": [
    "%matplotlib inline"
   ]
  },
  {
   "cell_type": "code",
   "execution_count": 65,
   "metadata": {},
   "outputs": [],
   "source": [
    "import numpy as np\n",
    "import pandas as pd\n",
    "import matplotlib.pyplot as plt\n",
    "import pickle \n",
    "\n",
    "import tensorflow as tf\n",
    "from tensorflow import keras\n",
    "from tensorflow.keras import layers\n",
    "from tensorflow.keras.layers.experimental.preprocessing import TextVectorization # how to import text vectorization in tf 2.3.0\n",
    "from tensorflow.keras.layers import Dense, Embedding, GlobalAveragePooling1D\n",
    "import gensim\n",
    "from gensim.models import Word2Vec\n",
    "from keras.models import Model\n",
    "from tensorflow.keras.layers import Embedding,Input,Dropout, LSTM, Bidirectional, \\\n",
    "    Conv1D, MaxPool1D, Dense, Attention, Flatten\n",
    "from tensorflow.keras.models import Sequential\n",
    "\n",
    "from tensorflow.keras.activations import softmax\n",
    "from tensorflow.keras.losses import SparseCategoricalCrossentropy\n",
    "from tensorflow.keras.optimizers import Adam\n",
    "from tensorflow.keras.callbacks import TensorBoard, ModelCheckpoint,EarlyStopping\n",
    "from keras.preprocessing.text import Tokenizer\n",
    "\n",
    "\n",
    "\n",
    "plt.style.use('seaborn')"
   ]
  },
  {
   "cell_type": "markdown",
   "metadata": {},
   "source": [
    "## Models hyperparamters version 3"
   ]
  },
  {
   "cell_type": "markdown",
   "metadata": {},
   "source": [
    "* maximum length of the sequences - we will not use the actual maximum length of the sequences as very few songs have 800 words in them. If we choose a maximum length equal to 300, we will cover 94% of the lyrics' actual length, if we choose 250 - we will cover 90%. We can try with 300, if we have a problem with the vanishing gradient - we can decrease it to 250 or even 200 (85%)\n",
    "\n",
    "\n",
    "\n",
    "* maximum vocabulary size (word-based vocabulary) -  The set of unique words used in the text corpus is ~ 50 000. Given the fact that we work with lyrics of songs, even though we selected only English lyrics there is a high probability that there are some words left from Spanish ( typical for pop songs), some typical slang for artists, and other peculiarities. Thus we will use the maximum size of vocabulary 10 000 ( if it is too big, we can drop it to 5000) and keep only the most common words.\n",
    "\n",
    "\n",
    "\n",
    "\n",
    "* BATCH_SIZE = 8 \n",
    "* MAX_VOCABULARY_SIZE = 5000 \n",
    "* MAX_OUTPUT_LENGTH = 200\n",
    "* EMBEDDING_DIMENSIONS = 100 #loaded GloVe trained  with 100d\n",
    "* LEARNING_RATE = 1e-4 "
   ]
  },
  {
   "cell_type": "code",
   "execution_count": 51,
   "metadata": {},
   "outputs": [],
   "source": [
    "TRAIN_BASE_DIR = r\"C:\\Users\\PC\\Desktop\\NN\\Text calssification\\train\"\n",
    "TEST_BASE_DIR = r\"C:\\Users\\PC\\Desktop\\NN\\Text calssification\\test\"\n",
    "logs = r\"C:\\Users\\PC\\Desktop\\NN\\Text calssification\\logs\"\n",
    "check_point_base = r\"C:\\Users\\PC\\Desktop\\NN\\Text calssification\\version 3\\checkpoint_base\"\n",
    "check_point_bi = r\"C:\\Users\\PC\\Desktop\\NN\\Text calssification\\version 3\\checkpoint_bi\"\n",
    "check_point_opt = r\"C:\\Users\\PC\\Desktop\\NN\\Text calssification\\version 3\\checkpoint_opt\"\n",
    "check_point_cnn = r\"C:\\Users\\PC\\Desktop\\NN\\Text calssification\\version 3\\checkpoint_cnn\"\n",
    "\n",
    "N_CLASSES = 4\n",
    "\n",
    "BATCH_SIZE = 8 # 16\n",
    "MAX_VOCABULARY_SIZE = 5000 # change to 5000 if too big\n",
    "MAX_OUTPUT_LENGTH = 200 # 300\n",
    "EMBEDDING_DIMENSIONS = 100 #loaded GloVe trained  with 100d\n",
    "LEARNING_RATE = 1e-4 # Adam default is 1e-3\n",
    "Seed = 42"
   ]
  },
  {
   "cell_type": "code",
   "execution_count": 4,
   "metadata": {
    "scrolled": true
   },
   "outputs": [
    {
     "name": "stdout",
     "output_type": "stream",
     "text": [
      "Found 65048 files belonging to 4 classes.\n",
      "Using 58544 files for training.\n"
     ]
    }
   ],
   "source": [
    "\n",
    "train_dataset = tf.keras.utils.text_dataset_from_directory(TRAIN_BASE_DIR,batch_size = BATCH_SIZE, validation_split=0.1,\n",
    "    subset='training', seed = Seed)\n",
    "   \n",
    "   "
   ]
  },
  {
   "cell_type": "markdown",
   "metadata": {},
   "source": [
    "Found 65048 files belonging to 4 classes.\n",
    "Using 58544 files for training."
   ]
  },
  {
   "cell_type": "code",
   "execution_count": 5,
   "metadata": {},
   "outputs": [
    {
     "name": "stdout",
     "output_type": "stream",
     "text": [
      "7318\n"
     ]
    }
   ],
   "source": [
    "print(train_dataset.cardinality().numpy())"
   ]
  },
  {
   "cell_type": "code",
   "execution_count": 6,
   "metadata": {},
   "outputs": [
    {
     "name": "stdout",
     "output_type": "stream",
     "text": [
      "Found 65048 files belonging to 4 classes.\n",
      "Using 6504 files for validation.\n"
     ]
    }
   ],
   "source": [
    "val_dataset = tf.keras.utils.text_dataset_from_directory(\n",
    "    TRAIN_BASE_DIR, batch_size=BATCH_SIZE, validation_split=0.1,\n",
    "    subset='validation', seed=Seed)"
   ]
  },
  {
   "cell_type": "code",
   "execution_count": 7,
   "metadata": {
    "scrolled": true
   },
   "outputs": [
    {
     "name": "stdout",
     "output_type": "stream",
     "text": [
      "Found 4000 files belonging to 4 classes.\n"
     ]
    }
   ],
   "source": [
    "test_dataset = tf.keras.utils.text_dataset_from_directory(TEST_BASE_DIR,batch_size = BATCH_SIZE, seed = Seed)"
   ]
  },
  {
   "cell_type": "code",
   "execution_count": 8,
   "metadata": {},
   "outputs": [
    {
     "data": {
      "text/plain": [
       "([(0, 'Jazz'), (1, 'Metal'), (2, 'Pop'), (3, 'Rock')],\n",
       " [(0, 'Jazz'), (1, 'Metal'), (2, 'Pop'), (3, 'Rock')])"
      ]
     },
     "execution_count": 8,
     "metadata": {},
     "output_type": "execute_result"
    }
   ],
   "source": [
    "### check the labesl\n",
    "list(enumerate(train_dataset.class_names)), list(enumerate(val_dataset.class_names))"
   ]
  },
  {
   "cell_type": "code",
   "execution_count": 9,
   "metadata": {
    "scrolled": true
   },
   "outputs": [
    {
     "data": {
      "text/plain": [
       "(1, 'Metal')"
      ]
     },
     "execution_count": 9,
     "metadata": {},
     "output_type": "execute_result"
    }
   ],
   "source": [
    "list(enumerate(train_dataset.class_names))[1]"
   ]
  },
  {
   "cell_type": "markdown",
   "metadata": {},
   "source": [
    ".shape method in keras gives the lenght of a sequence"
   ]
  },
  {
   "cell_type": "markdown",
   "metadata": {},
   "source": [
    "## Vectorizing the text\n",
    "\n",
    "This layer has basic options for managing text in a Keras model. It transforms a batch of strings (one sample = one string) into either a list of token indices (one sample = 1D tensor of integer token indices) or a dense representation (one sample = 1D tensor of float values representing data about the sample's tokens)."
   ]
  },
  {
   "cell_type": "code",
   "execution_count": 10,
   "metadata": {},
   "outputs": [],
   "source": [
    "vectorize_layer = TextVectorization(\n",
    "    max_tokens = MAX_VOCABULARY_SIZE, \n",
    "    output_sequence_length=MAX_OUTPUT_LENGTH)"
   ]
  },
  {
   "cell_type": "code",
   "execution_count": 11,
   "metadata": {},
   "outputs": [],
   "source": [
    "text_ds = train_dataset.map(lambda x, y: x)\n",
    "vectorize_layer.adapt(text_ds)"
   ]
  },
  {
   "cell_type": "code",
   "execution_count": 12,
   "metadata": {},
   "outputs": [],
   "source": [
    "### 76952 vocabulary size without limiting the vocabulary size to max size"
   ]
  },
  {
   "cell_type": "code",
   "execution_count": 13,
   "metadata": {},
   "outputs": [],
   "source": [
    "#text_ds"
   ]
  },
  {
   "cell_type": "code",
   "execution_count": 14,
   "metadata": {
    "scrolled": false
   },
   "outputs": [
    {
     "data": {
      "text/plain": [
       "5000"
      ]
     },
     "execution_count": 14,
     "metadata": {},
     "output_type": "execute_result"
    }
   ],
   "source": [
    "vectorize_layer.vocabulary_size()"
   ]
  },
  {
   "cell_type": "code",
   "execution_count": 15,
   "metadata": {},
   "outputs": [],
   "source": [
    "## 1 is unkown"
   ]
  },
  {
   "cell_type": "code",
   "execution_count": 16,
   "metadata": {
    "scrolled": true
   },
   "outputs": [],
   "source": [
    "#vectorize_layer([\"something nigga money where love queen king boy girl\"])"
   ]
  },
  {
   "cell_type": "code",
   "execution_count": 17,
   "metadata": {
    "scrolled": true
   },
   "outputs": [
    {
     "data": {
      "text/plain": [
       "['rang',\n",
       " 'liberate',\n",
       " 'imitation',\n",
       " 'harvest',\n",
       " 'frail',\n",
       " 'eminem',\n",
       " 'ditch',\n",
       " 'crucify',\n",
       " 'carter',\n",
       " 'carol',\n",
       " 'canvas',\n",
       " 'brief',\n",
       " 'yelling',\n",
       " 'village',\n",
       " 'stunna',\n",
       " 'slut',\n",
       " 'rocker',\n",
       " 'relation',\n",
       " 'oooo',\n",
       " 'moonlit',\n",
       " 'max',\n",
       " 'loco',\n",
       " 'league',\n",
       " 'kelly',\n",
       " 'incomplete',\n",
       " 'grinding',\n",
       " 'donna',\n",
       " 'diggin',\n",
       " 'decline',\n",
       " 'coulda',\n",
       " 'argue',\n",
       " 'tuck',\n",
       " 'spiral',\n",
       " 'raped',\n",
       " 'poster',\n",
       " 'pitter',\n",
       " 'marie',\n",
       " 'lucifer',\n",
       " 'lettin',\n",
       " 'howling',\n",
       " 'gyal',\n",
       " 'farmer',\n",
       " 'crunk',\n",
       " 'countin',\n",
       " 'assume',\n",
       " 'aisle',\n",
       " 'actor',\n",
       " 'yow',\n",
       " 'western',\n",
       " 'upstairs',\n",
       " 'twerk',\n",
       " 'tipsy',\n",
       " 'tic',\n",
       " 'suffocate',\n",
       " 'stash',\n",
       " 'stairway',\n",
       " 'sideways',\n",
       " 'ruler',\n",
       " 'rooftop',\n",
       " 'retreat',\n",
       " 'permanent',\n",
       " 'nurse',\n",
       " 'jury',\n",
       " 'fu',\n",
       " 'finna',\n",
       " 'dreamy',\n",
       " 'declare',\n",
       " 'daze',\n",
       " 'collapse',\n",
       " 'boyz',\n",
       " 'asshole',\n",
       " 'worldwide',\n",
       " 'wage',\n",
       " 'vibration',\n",
       " 'sweetness',\n",
       " 'strut',\n",
       " 'snatch',\n",
       " 'rail',\n",
       " 'purse',\n",
       " 'nameless',\n",
       " 'mysterious',\n",
       " 'melancholy',\n",
       " 'meanwhile',\n",
       " 'laura',\n",
       " 'jo',\n",
       " 'hustlin',\n",
       " 'feature',\n",
       " 'coin',\n",
       " 'blondie',\n",
       " 'beyonce',\n",
       " 'roman',\n",
       " 'rod',\n",
       " 'madonna',\n",
       " 'interest',\n",
       " 'ideal',\n",
       " 'heals',\n",
       " 'headlight',\n",
       " 'hallway',\n",
       " 'foul',\n",
       " 'dressing',\n",
       " 'dixie',\n",
       " 'discovered',\n",
       " 'def',\n",
       " 'creator',\n",
       " 'countless',\n",
       " 'clique',\n",
       " 'clack',\n",
       " 'armageddon',\n",
       " 'waiter',\n",
       " 'task',\n",
       " 'sparkling',\n",
       " 'snitch',\n",
       " 'smith',\n",
       " 'rodeo',\n",
       " 'philosophy',\n",
       " 'mint',\n",
       " 'lorraine',\n",
       " 'indigo',\n",
       " 'hypnotic',\n",
       " 'hunting',\n",
       " 'happenin',\n",
       " 'guru',\n",
       " 'genocide',\n",
       " 'gained',\n",
       " 'flock',\n",
       " 'flipped',\n",
       " 'expensive',\n",
       " 'drake',\n",
       " 'device',\n",
       " 'current',\n",
       " 'curl',\n",
       " 'corruption',\n",
       " 'closest',\n",
       " 'capital',\n",
       " 'breathin',\n",
       " 'belle',\n",
       " 'barbie',\n",
       " 'wid',\n",
       " 'tit',\n",
       " 'soothing',\n",
       " 'rug',\n",
       " 'punishment',\n",
       " 'package',\n",
       " 'nae',\n",
       " 'mony',\n",
       " 'lifestyle',\n",
       " 'jewelry',\n",
       " 'infected',\n",
       " 'et',\n",
       " 'droppin',\n",
       " 'detroit',\n",
       " 'delay',\n",
       " 'cunt',\n",
       " 'cu',\n",
       " 'anxiety',\n",
       " 'anew',\n",
       " 'zip',\n",
       " 'testify',\n",
       " 'sanctuary',\n",
       " 'rearrange',\n",
       " 'pyramid',\n",
       " 'paved',\n",
       " 'oxygen',\n",
       " 'nearer',\n",
       " 'nd',\n",
       " 'mustve',\n",
       " 'hesitation',\n",
       " 'galaxy',\n",
       " 'fails',\n",
       " 'diving',\n",
       " 'digital',\n",
       " 'delicious',\n",
       " 'contagious',\n",
       " 'bud',\n",
       " 'atlanta',\n",
       " 'appeal',\n",
       " 'apocalypse',\n",
       " 'yearn',\n",
       " 'vanity',\n",
       " 'trend',\n",
       " 'tighter',\n",
       " 'shooter',\n",
       " 'peach',\n",
       " 'lou',\n",
       " 'landed',\n",
       " 'idiot',\n",
       " 'failing',\n",
       " 'expected',\n",
       " 'entered',\n",
       " 'cuddle',\n",
       " 'confuse',\n",
       " 'chuck',\n",
       " 'caring',\n",
       " 'amends',\n",
       " 'abide',\n",
       " 'whoop',\n",
       " 'unleash',\n",
       " 'tyrant',\n",
       " 'sighing',\n",
       " 'seize',\n",
       " 'resurrection',\n",
       " 'necessary',\n",
       " 'logic',\n",
       " 'lemonade',\n",
       " 'jaded',\n",
       " 'hut',\n",
       " 'hitting',\n",
       " 'disorder',\n",
       " 'difficult',\n",
       " 'delusion',\n",
       " 'crossroad',\n",
       " 'chart',\n",
       " 'ben',\n",
       " 'address',\n",
       " 'wastin',\n",
       " 'trusting',\n",
       " 'travelling',\n",
       " 'talent',\n",
       " 'suicidal',\n",
       " 'spendin',\n",
       " 'shoo',\n",
       " 'politician',\n",
       " 'playground',\n",
       " 'now',\n",
       " 'nearness',\n",
       " 'mutha',\n",
       " 'muddy',\n",
       " 'kite',\n",
       " 'jerk',\n",
       " 'isolation',\n",
       " 'intent',\n",
       " 'infinite',\n",
       " 'grieve',\n",
       " 'goon',\n",
       " 'destroying',\n",
       " 'dealt',\n",
       " 'dave',\n",
       " 'crucified',\n",
       " 'convince',\n",
       " 'chump',\n",
       " 'basket',\n",
       " 'undertow',\n",
       " 'ugh',\n",
       " 'tossin',\n",
       " 'stall',\n",
       " 'shred',\n",
       " 'settled',\n",
       " 'scarlet',\n",
       " 'runner',\n",
       " 'robbed',\n",
       " 'ripple',\n",
       " 'pedal',\n",
       " 'pawn',\n",
       " 'maniac',\n",
       " 'football',\n",
       " 'faggot',\n",
       " 'dump',\n",
       " 'descend',\n",
       " 'dancefloor',\n",
       " 'cult',\n",
       " 'crook',\n",
       " 'communication',\n",
       " 'bom',\n",
       " 'boil',\n",
       " 'blazin',\n",
       " 'biz',\n",
       " 'behavior',\n",
       " 'badly',\n",
       " 'axe',\n",
       " 'yayo',\n",
       " 'tax',\n",
       " 'steer',\n",
       " 'reminisce',\n",
       " 'rank',\n",
       " 'nailed',\n",
       " 'murdered',\n",
       " 'motel',\n",
       " 'mere',\n",
       " 'member',\n",
       " 'listenin',\n",
       " 'kansa',\n",
       " 'hella',\n",
       " 'heh',\n",
       " 'headline',\n",
       " 'gga',\n",
       " 'designed',\n",
       " 'curb',\n",
       " 'soda',\n",
       " 'shaped',\n",
       " 'shack',\n",
       " 'ringin',\n",
       " 'method',\n",
       " 'loop',\n",
       " 'isle',\n",
       " 'inviting',\n",
       " 'impress',\n",
       " 'identity',\n",
       " 'goddess',\n",
       " 'gloomy',\n",
       " 'consolation',\n",
       " 'carousel',\n",
       " 'blush',\n",
       " 'whirl',\n",
       " 'unusual',\n",
       " 'tempt',\n",
       " 'taylor',\n",
       " 'stripper',\n",
       " 'slit',\n",
       " 'reminding',\n",
       " 'reel',\n",
       " 'possessed',\n",
       " 'playboy',\n",
       " 'petal',\n",
       " 'leaning',\n",
       " 'janet',\n",
       " 'insecurity',\n",
       " 'homeboy',\n",
       " 'evermore',\n",
       " 'copy',\n",
       " 'controlling',\n",
       " 'brotha',\n",
       " 'brightest',\n",
       " 'woulda',\n",
       " 'unbelievable',\n",
       " 'sweetie',\n",
       " 'sucked',\n",
       " 'spilling',\n",
       " 'seventh',\n",
       " 'scenery',\n",
       " 'revealing',\n",
       " 'remix',\n",
       " 'q',\n",
       " 'pledge',\n",
       " 'patron',\n",
       " 'oer',\n",
       " 'japan',\n",
       " 'goo',\n",
       " 'firm',\n",
       " 'event',\n",
       " 'enchanted',\n",
       " 'ella',\n",
       " 'dusty',\n",
       " 'cruising',\n",
       " 'chant',\n",
       " 'bonnie',\n",
       " 'bin',\n",
       " 'whistling',\n",
       " 'warmer',\n",
       " 'unity',\n",
       " 'underwater',\n",
       " 'touchdown',\n",
       " 'strollin',\n",
       " 'splendor',\n",
       " 'spice',\n",
       " 'rendezvous',\n",
       " 'object',\n",
       " 'murderer',\n",
       " 'lifeline',\n",
       " 'jeff',\n",
       " 'hottest',\n",
       " 'groupie',\n",
       " 'groovy',\n",
       " 'gosh',\n",
       " 'crumbling',\n",
       " 'cinderella',\n",
       " 'ciara',\n",
       " 'ching',\n",
       " 'cheated',\n",
       " 'chased',\n",
       " 'carve',\n",
       " 'canyon',\n",
       " 'yeahh',\n",
       " 'yap',\n",
       " 'writer',\n",
       " 'wiz',\n",
       " 'vote',\n",
       " 'virginia',\n",
       " 'survived',\n",
       " 'stared',\n",
       " 'sounding',\n",
       " 'slack',\n",
       " 'secure',\n",
       " 'sacrificed',\n",
       " 'parted',\n",
       " 'newborn',\n",
       " 'luv',\n",
       " 'kentucky',\n",
       " 'homicide',\n",
       " 'groovin',\n",
       " 'fortress',\n",
       " 'flippin',\n",
       " 'era',\n",
       " 'education',\n",
       " 'delivered',\n",
       " 'causing',\n",
       " 'awe',\n",
       " 'anguish',\n",
       " 'addict',\n",
       " 'tum',\n",
       " 'tucked',\n",
       " 'towel',\n",
       " 'tempting',\n",
       " 'tainted',\n",
       " 'sweater',\n",
       " 'sprung',\n",
       " 'slang',\n",
       " 'routine',\n",
       " 'print',\n",
       " 'pirate',\n",
       " 'limousine',\n",
       " 'lethal',\n",
       " 'joker',\n",
       " 'hitch',\n",
       " 'gospel',\n",
       " 'gathering',\n",
       " 'framed',\n",
       " 'exchange',\n",
       " 'effort',\n",
       " 'dealin',\n",
       " 'chi',\n",
       " 'catchin',\n",
       " 'buyin',\n",
       " 'adrenaline',\n",
       " 'why',\n",
       " 'undo',\n",
       " 'turkey',\n",
       " 'tommy',\n",
       " 'term',\n",
       " 'sweating',\n",
       " 'stressed',\n",
       " 'spittin',\n",
       " 'sadly',\n",
       " 'risin',\n",
       " 'reject',\n",
       " 'realest',\n",
       " 'possibly',\n",
       " 'pitiful',\n",
       " 'pitbull',\n",
       " 'patter',\n",
       " 'overload',\n",
       " 'oom',\n",
       " 'noble',\n",
       " 'lighting',\n",
       " 'juicy',\n",
       " 'inspired',\n",
       " 'headache',\n",
       " 'fairytale',\n",
       " 'example',\n",
       " 'dose',\n",
       " 'disappears',\n",
       " 'charles',\n",
       " 'bleek',\n",
       " 'beggar',\n",
       " 'anyhow',\n",
       " 'vile',\n",
       " 'vanish',\n",
       " 'usa',\n",
       " 'trained',\n",
       " 'timing',\n",
       " 'stripe',\n",
       " 'strictly',\n",
       " 'sparrow',\n",
       " 'sounded',\n",
       " 'shuffle',\n",
       " 'sew',\n",
       " 'several',\n",
       " 'secrecy',\n",
       " 'sample',\n",
       " 'process',\n",
       " 'popular',\n",
       " 'overtime',\n",
       " 'myth',\n",
       " 'martin',\n",
       " 'jukebox',\n",
       " 'ivy',\n",
       " 'heartbreaker',\n",
       " 'function',\n",
       " 'dock',\n",
       " 'dame',\n",
       " 'correct',\n",
       " 'comb',\n",
       " 'bursting',\n",
       " 'area',\n",
       " 'anti',\n",
       " 'adam',\n",
       " 'unstoppable',\n",
       " 'sundown',\n",
       " 'stealin',\n",
       " 'rowdy',\n",
       " 'polka',\n",
       " 'oops',\n",
       " 'oohh',\n",
       " 'milky',\n",
       " 'mil',\n",
       " 'loneliest',\n",
       " 'khaled',\n",
       " 'jerry',\n",
       " 'insect',\n",
       " 'impression',\n",
       " 'fling',\n",
       " 'expectation',\n",
       " 'drill',\n",
       " 'countdown',\n",
       " 'committed',\n",
       " 'cindy',\n",
       " 'biting',\n",
       " 'birdman',\n",
       " 'bewildered',\n",
       " 'beloved',\n",
       " 'believin',\n",
       " 'willie',\n",
       " 'wallet',\n",
       " 'taunt',\n",
       " 'subway',\n",
       " 'spilled',\n",
       " 'scratching',\n",
       " 'scheming',\n",
       " 'remove',\n",
       " 'perspective',\n",
       " 'obviously',\n",
       " 'loyalty',\n",
       " 'kim',\n",
       " 'je',\n",
       " 'hypocrite',\n",
       " 'hardcore',\n",
       " 'flashin',\n",
       " 'elvis',\n",
       " 'earthquake',\n",
       " 'cracker',\n",
       " 'comprehend',\n",
       " 'cable',\n",
       " 'buffalo',\n",
       " 'booze',\n",
       " 'bizarre',\n",
       " 'bending',\n",
       " 'applause',\n",
       " 'anchor',\n",
       " 'abandon',\n",
       " 'wooo',\n",
       " 'unlock',\n",
       " 'tightly',\n",
       " 'terribly',\n",
       " 'temper',\n",
       " 'stutter',\n",
       " 'straw',\n",
       " 'shocked',\n",
       " 'rocked',\n",
       " 'random',\n",
       " 'peak',\n",
       " 'obie',\n",
       " 'oath',\n",
       " 'kong',\n",
       " 'healthy',\n",
       " 'gloria',\n",
       " 'globe',\n",
       " 'gleaming',\n",
       " 'frankie',\n",
       " 'ford',\n",
       " 'detail',\n",
       " 'deeply',\n",
       " 'daytime',\n",
       " 'dagger',\n",
       " 'cannibal',\n",
       " 'brutal',\n",
       " 'bleak',\n",
       " 'bewitched',\n",
       " 'vocal',\n",
       " 'uniform',\n",
       " 'twinkle',\n",
       " 'thus',\n",
       " 'steeple',\n",
       " 'standard',\n",
       " 'stabbed',\n",
       " 'reflect',\n",
       " 'react',\n",
       " 'punish',\n",
       " 'philly',\n",
       " 'passenger',\n",
       " 'male',\n",
       " 'licking',\n",
       " 'liberation',\n",
       " 'lad',\n",
       " 'joined',\n",
       " 'jammin',\n",
       " 'international',\n",
       " 'intense',\n",
       " 'huggin',\n",
       " 'hospital',\n",
       " 'ham',\n",
       " 'ggas',\n",
       " 'drunken',\n",
       " 'damaged',\n",
       " 'caution',\n",
       " 'alot',\n",
       " 'virus',\n",
       " 'unaware',\n",
       " 'studio',\n",
       " 'slower',\n",
       " 'skate',\n",
       " 'senseless',\n",
       " 'poke',\n",
       " 'pointed',\n",
       " 'oi',\n",
       " 'offered',\n",
       " 'obscene',\n",
       " 'motivation',\n",
       " 'ka',\n",
       " 'iced',\n",
       " 'grim',\n",
       " 'dismiss',\n",
       " 'choo',\n",
       " 'cheatin',\n",
       " 'blooded',\n",
       " 'blasphemy',\n",
       " 'attached',\n",
       " 'zz',\n",
       " 'twista',\n",
       " 'touchin',\n",
       " 'stiff',\n",
       " 'status',\n",
       " 'spitting',\n",
       " 'smaller',\n",
       " 'renegade',\n",
       " 'quicker',\n",
       " 'minor',\n",
       " 'lime',\n",
       " 'junk',\n",
       " 'juliet',\n",
       " 'herb',\n",
       " 'francisco',\n",
       " 'flop',\n",
       " 'element',\n",
       " 'eighteen',\n",
       " 'critic',\n",
       " 'clone',\n",
       " 'childrens',\n",
       " 'brink',\n",
       " 'wizard',\n",
       " 'vacant',\n",
       " 'tingle',\n",
       " 'spaceship',\n",
       " 'seldom',\n",
       " 'nate',\n",
       " 'madman',\n",
       " 'log',\n",
       " 'infection',\n",
       " 'hooray',\n",
       " 'hahaha',\n",
       " 'fork',\n",
       " 'evrything',\n",
       " 'england',\n",
       " 'drained',\n",
       " 'dedicate',\n",
       " 'curious',\n",
       " 'controlled',\n",
       " 'clarity',\n",
       " 'brian',\n",
       " 'birdland',\n",
       " 'auld',\n",
       " 'yellin',\n",
       " 'tech',\n",
       " 'spike',\n",
       " 'snowflake',\n",
       " 'sauce',\n",
       " 'reflecting',\n",
       " 'rebellion',\n",
       " 'ragged',\n",
       " 'olden',\n",
       " 'o',\n",
       " 'musical',\n",
       " 'mon',\n",
       " 'louisiana',\n",
       " 'knuckle',\n",
       " 'inna',\n",
       " 'infernal',\n",
       " 'frog',\n",
       " 'fee',\n",
       " 'expecting',\n",
       " 'duh',\n",
       " 'doot',\n",
       " 'dolla',\n",
       " 'distress',\n",
       " 'dearly',\n",
       " 'curly',\n",
       " 'cooking',\n",
       " 'berry',\n",
       " 'award',\n",
       " 'unleashed',\n",
       " 'undress',\n",
       " 'troop',\n",
       " 'tote',\n",
       " 'sucka',\n",
       " 'strive',\n",
       " 'soak',\n",
       " 'sever',\n",
       " 'scorn',\n",
       " 'roaring',\n",
       " 'rebound',\n",
       " 'prop',\n",
       " 'prettiest',\n",
       " 'official',\n",
       " 'lifting',\n",
       " 'entertainment',\n",
       " 'desperately',\n",
       " 'designer',\n",
       " 'conquered',\n",
       " 'conclusion',\n",
       " 'con',\n",
       " 'certainly',\n",
       " 'boiling',\n",
       " 'aloud',\n",
       " 'windy',\n",
       " 'triumph',\n",
       " 'travelin',\n",
       " 'thrilling',\n",
       " 'suckin',\n",
       " 'strawberry',\n",
       " 'steak',\n",
       " 'slightly',\n",
       " 'reeling',\n",
       " 'potion',\n",
       " 'planted',\n",
       " 'moses',\n",
       " 'mindless',\n",
       " 'meaningless',\n",
       " 'judy',\n",
       " 'hippy',\n",
       " 'hidin',\n",
       " 'hawk',\n",
       " 'happily',\n",
       " 'gamble',\n",
       " 'feared',\n",
       " 'exposed',\n",
       " 'endure',\n",
       " 'daffodil',\n",
       " 'cuff',\n",
       " 'conscious',\n",
       " 'coaster',\n",
       " 'balling',\n",
       " 'ape',\n",
       " 'wreckage',\n",
       " 'wop',\n",
       " 'wooden',\n",
       " 'voyage',\n",
       " 'title',\n",
       " 'ross',\n",
       " 'richard',\n",
       " 'religious',\n",
       " 'poured',\n",
       " 'pointing',\n",
       " 'noel',\n",
       " 'nana',\n",
       " 'midst',\n",
       " 'luckiest',\n",
       " 'loot',\n",
       " 'jigga',\n",
       " 'hearse',\n",
       " 'flirt',\n",
       " 'exotic',\n",
       " 'embraced',\n",
       " 'elton',\n",
       " 'eastside',\n",
       " 'drippin',\n",
       " 'cigar',\n",
       " 'chemistry',\n",
       " 'bun',\n",
       " 'brook',\n",
       " 'breaker',\n",
       " 'bella',\n",
       " 'adored',\n",
       " 'thriller',\n",
       " 'suspicion',\n",
       " 'suffered',\n",
       " 'snowman',\n",
       " 'shimmy',\n",
       " 'repeated',\n",
       " 'proceed',\n",
       " 'phoenix',\n",
       " 'oficial',\n",
       " 'november',\n",
       " 'nineteen',\n",
       " 'nike',\n",
       " 'massacre',\n",
       " 'lite',\n",
       " 'hmmm',\n",
       " 'handful',\n",
       " 'greener',\n",
       " 'forgiving',\n",
       " 'doorstep',\n",
       " 'donkey',\n",
       " 'diva',\n",
       " 'distraction',\n",
       " 'disguised',\n",
       " 'diana',\n",
       " 'cuckoo',\n",
       " 'criticize',\n",
       " 'counter',\n",
       " 'cough',\n",
       " 'corps',\n",
       " 'cord',\n",
       " 'cooked',\n",
       " 'coloured',\n",
       " 'closely',\n",
       " 'claimed',\n",
       " 'checked',\n",
       " 'cape',\n",
       " 'candlelight',\n",
       " 'burner',\n",
       " 'bracelet',\n",
       " 'begged',\n",
       " 'zoo',\n",
       " 'yacht',\n",
       " 'wither',\n",
       " 'upper',\n",
       " 'unique',\n",
       " 'traded',\n",
       " 'tonk',\n",
       " 'strangest',\n",
       " 'spree',\n",
       " 'softer',\n",
       " 'serum',\n",
       " 'serenity',\n",
       " 'quarrel',\n",
       " 'parked',\n",
       " 'og',\n",
       " 'meek',\n",
       " 'manhattan',\n",
       " 'maggot',\n",
       " 'lined',\n",
       " 'lightly',\n",
       " 'leak',\n",
       " 'flocka',\n",
       " 'flea',\n",
       " 'escaping',\n",
       " 'entire',\n",
       " 'drifted',\n",
       " 'descends',\n",
       " 'descending',\n",
       " 'departed',\n",
       " 'custom',\n",
       " 'clash',\n",
       " 'central',\n",
       " 'bronx',\n",
       " 'battery',\n",
       " 'angle',\n",
       " 'anarchy',\n",
       " 'worthwhile',\n",
       " 'wat',\n",
       " 'trice',\n",
       " 'spinner',\n",
       " 'sole',\n",
       " 'slowing',\n",
       " 'shalt',\n",
       " 'ridiculous',\n",
       " 'reachin',\n",
       " 'penetrate',\n",
       " 'parasite',\n",
       " 'officer',\n",
       " 'mojo',\n",
       " 'minaj',\n",
       " 'mek',\n",
       " 'marilyn',\n",
       " 'lunatic',\n",
       " 'longest',\n",
       " 'lalala',\n",
       " 'julie',\n",
       " 'instant',\n",
       " 'hoop',\n",
       " 'fragment',\n",
       " 'fonte',\n",
       " 'florida',\n",
       " 'explosion',\n",
       " 'explore',\n",
       " 'dm',\n",
       " 'computer',\n",
       " 'alter',\n",
       " 'alligator',\n",
       " 'unborn',\n",
       " 'unable',\n",
       " 'study',\n",
       " 'speeding',\n",
       " 'sly',\n",
       " 'shackle',\n",
       " 'responsible',\n",
       " 'reminded',\n",
       " 'rapping',\n",
       " 'parting',\n",
       " 'paranoia',\n",
       " 'pad',\n",
       " 'packin',\n",
       " 'owned',\n",
       " 'necklace',\n",
       " 'mostly',\n",
       " 'mistreated',\n",
       " 'miserable',\n",
       " 'merrily',\n",
       " 'learnin',\n",
       " 'interlude',\n",
       " 'hov',\n",
       " 'heroin',\n",
       " 'grenade',\n",
       " 'execution',\n",
       " 'duke',\n",
       " 'draggin',\n",
       " 'disbelief',\n",
       " 'creating',\n",
       " 'contradiction',\n",
       " 'coldest',\n",
       " 'charade',\n",
       " 'bunny',\n",
       " 'brace',\n",
       " 'blackout',\n",
       " 'bitterness',\n",
       " 'bait',\n",
       " 'angeles',\n",
       " 'ala',\n",
       " 'wooh',\n",
       " 'unfolds',\n",
       " 'treason',\n",
       " 'technology',\n",
       " 'spoiled',\n",
       " 'speechless',\n",
       " 'semi',\n",
       " 'rihanna',\n",
       " 'prowl',\n",
       " 'obsessed',\n",
       " 'mink',\n",
       " 'mild',\n",
       " 'layer',\n",
       " 'landing',\n",
       " 'israel',\n",
       " 'inspire',\n",
       " 'impressed',\n",
       " 'ignorant',\n",
       " 'idle',\n",
       " 'horny',\n",
       " 'hometown',\n",
       " 'harbor',\n",
       " 'fluid',\n",
       " 'flowin',\n",
       " 'fitted',\n",
       " 'entrancing',\n",
       " 'elbow',\n",
       " 'drought',\n",
       " 'dolly',\n",
       " 'deo',\n",
       " 'cheetah',\n",
       " 'butcher',\n",
       " 'borrowed',\n",
       " 'bearing',\n",
       " 'bayou',\n",
       " 'aunt',\n",
       " 'audience',\n",
       " 'apathy',\n",
       " 'xzibit',\n",
       " 'wantin',\n",
       " 'uuh',\n",
       " 'toxic',\n",
       " 'tot',\n",
       " 'tch',\n",
       " 'strolling',\n",
       " 'stamp',\n",
       " 'stalk',\n",
       " 'speakin',\n",
       " 'shovel',\n",
       " 'roaming',\n",
       " 'ripe',\n",
       " 'report',\n",
       " 'porn',\n",
       " 'petty',\n",
       " 'percent',\n",
       " 'packing',\n",
       " 'juvenile',\n",
       " 'julep',\n",
       " 'freed',\n",
       " 'freakin',\n",
       " 'fe',\n",
       " 'expose',\n",
       " 'detour',\n",
       " 'crisis',\n",
       " 'compete',\n",
       " 'civil',\n",
       " 'chalk',\n",
       " 'carefully',\n",
       " 'breakaway',\n",
       " 'ave',\n",
       " 'arizona',\n",
       " 'ar',\n",
       " 'alike',\n",
       " 'yuletide',\n",
       " 'weaker',\n",
       " 'waka',\n",
       " 'vodka',\n",
       " 'violet',\n",
       " 'tube',\n",
       " 'supplied',\n",
       " 'structure',\n",
       " 'southside',\n",
       " 'retire',\n",
       " 'resolve']"
      ]
     },
     "execution_count": 17,
     "metadata": {},
     "output_type": "execute_result"
    }
   ],
   "source": [
    "### test\n",
    "vectorize_layer.get_vocabulary()[4000:]\n"
   ]
  },
  {
   "cell_type": "code",
   "execution_count": 18,
   "metadata": {},
   "outputs": [],
   "source": [
    "### test \n",
    "#output = vectorize_layer([[\"the cat sat on the mat\"]])\n",
    "#output.numpy()[0, :11]\n"
   ]
  },
  {
   "cell_type": "code",
   "execution_count": null,
   "metadata": {},
   "outputs": [],
   "source": [
    "\n"
   ]
  },
  {
   "cell_type": "code",
   "execution_count": 19,
   "metadata": {},
   "outputs": [
    {
     "data": {
      "text/plain": [
       "5000"
      ]
     },
     "execution_count": 19,
     "metadata": {},
     "output_type": "execute_result"
    }
   ],
   "source": [
    "# Here's a dict mapping words to their indices:\n",
    "voc = vectorize_layer.get_vocabulary()\n",
    "word_index = dict(zip(voc, range(len(voc))))\n",
    "len(voc)"
   ]
  },
  {
   "cell_type": "code",
   "execution_count": 20,
   "metadata": {
    "scrolled": false
   },
   "outputs": [
    {
     "data": {
      "text/plain": [
       "['',\n",
       " '[UNK]',\n",
       " 'im',\n",
       " 'love',\n",
       " 'know',\n",
       " 'dont',\n",
       " 'like',\n",
       " 'oh',\n",
       " 'get',\n",
       " 'got',\n",
       " 'go',\n",
       " 'one',\n",
       " 'time',\n",
       " 'youre',\n",
       " 'never',\n",
       " 'see',\n",
       " 'let',\n",
       " 'come',\n",
       " 'cant',\n",
       " 'baby']"
      ]
     },
     "execution_count": 20,
     "metadata": {},
     "output_type": "execute_result"
    }
   ],
   "source": [
    "list(word_index.keys())[:20]"
   ]
  },
  {
   "cell_type": "code",
   "execution_count": 21,
   "metadata": {},
   "outputs": [],
   "source": [
    "tf.keras.backend.clear_session()"
   ]
  },
  {
   "cell_type": "markdown",
   "metadata": {},
   "source": [
    "### Load Pretrained Glove Word Embedding\n",
    "\n",
    "#Jeffrey Pennington, Richard Socher, and Christopher D. Manning. 2014. GloVe: Global Vectors for Word Representation.\n",
    "\n",
    "\n",
    "GloVe is an unsupervised learning algorithm for obtaining vector representations for words. Training is performed on aggregated global word-word co-occurrence statistics from a corpus, and the resulting representations showcase interesting linear substructures of the word vector space.\n",
    "\n",
    "\n",
    "The GloVe model is trained on the non-zero entries of a global word-word co-occurrence matrix, which tabulates how frequently words co-occur with one another in a given corpus. Populating this matrix requires a single pass through the entire corpus to collect the statistics. For large corpora, this pass can be computationally expensive, but it is a one-time up-front cost. Subsequent training iterations are much faster because the number of non-zero matrix entries is typically much smaller than the total number of words in the corpus."
   ]
  },
  {
   "cell_type": "code",
   "execution_count": 22,
   "metadata": {},
   "outputs": [
    {
     "data": {
      "text/plain": [
       "5000"
      ]
     },
     "execution_count": 22,
     "metadata": {},
     "output_type": "execute_result"
    }
   ],
   "source": [
    "vectorize_layer.vocabulary_size()"
   ]
  },
  {
   "cell_type": "code",
   "execution_count": 23,
   "metadata": {},
   "outputs": [],
   "source": [
    "path_glove = (r'C:\\Users\\PC\\Desktop\\NN\\NN Project\\glove\\glove.6B.100d.txt')"
   ]
  },
  {
   "cell_type": "code",
   "execution_count": 24,
   "metadata": {},
   "outputs": [
    {
     "name": "stdout",
     "output_type": "stream",
     "text": [
      "Total 400000 word vectors in Glove 6B 100d.\n"
     ]
    }
   ],
   "source": [
    "embeddings_index = {}\n",
    "f = open(path_glove,encoding='utf8')\n",
    "for line in f:\n",
    "    values = line.split()\n",
    "    word = values[0]\n",
    "    coefs = np.asarray(values[1:], dtype='float32')\n",
    "    embeddings_index[word] = coefs\n",
    "f.close()\n",
    "\n",
    "print('Total %s word vectors in Glove 6B 100d.' % len(embeddings_index))"
   ]
  },
  {
   "cell_type": "code",
   "execution_count": 25,
   "metadata": {},
   "outputs": [],
   "source": [
    "#embeddings_index"
   ]
  },
  {
   "cell_type": "markdown",
   "metadata": {},
   "source": [
    "#### Creating a weight matrix for words in training docs"
   ]
  },
  {
   "cell_type": "code",
   "execution_count": 26,
   "metadata": {},
   "outputs": [
    {
     "name": "stdout",
     "output_type": "stream",
     "text": [
      "Converted 4925 words (75 misses)\n"
     ]
    }
   ],
   "source": [
    "### note to self \n",
    "\n",
    "#index 0 is reserved for padding and index 1 is reserved for \"out of vocabulary\" tokens.\n",
    "num_tokens = len(voc) + 2\n",
    "embedding_dim = EMBEDDING_DIMENSIONS\n",
    "hits = 0\n",
    "misses = 0\n",
    "\n",
    "# Prepare embedding matrix\n",
    "embedding_matrix = np.zeros((num_tokens, embedding_dim))\n",
    "for word, i in word_index.items():\n",
    "    embedding_vector = embeddings_index.get(word)\n",
    "    if embedding_vector is not None:\n",
    "        # Words not found in embedding index will be all-zeros.\n",
    "        # This includes the representation for \"padding\" and \"OOV\"\n",
    "        embedding_matrix[i] = embedding_vector\n",
    "        hits += 1\n",
    "    else:\n",
    "        misses += 1\n",
    "print(\"Converted %d words (%d misses)\" % (hits, misses))"
   ]
  },
  {
   "cell_type": "code",
   "execution_count": 27,
   "metadata": {},
   "outputs": [
    {
     "data": {
      "text/plain": [
       "array([[ 0.        ,  0.        ,  0.        , ...,  0.        ,\n",
       "         0.        ,  0.        ],\n",
       "       [ 0.        ,  0.        ,  0.        , ...,  0.        ,\n",
       "         0.        ,  0.        ],\n",
       "       [ 0.41711   , -0.10176   ,  0.058147  , ..., -0.29444   ,\n",
       "        -0.039114  ,  0.39534   ],\n",
       "       ...,\n",
       "       [-0.085527  , -0.24119   ,  0.22500999, ..., -0.39478999,\n",
       "         0.45925   ,  0.49186   ],\n",
       "       [ 0.        ,  0.        ,  0.        , ...,  0.        ,\n",
       "         0.        ,  0.        ],\n",
       "       [ 0.        ,  0.        ,  0.        , ...,  0.        ,\n",
       "         0.        ,  0.        ]])"
      ]
     },
     "execution_count": 27,
     "metadata": {},
     "output_type": "execute_result"
    }
   ],
   "source": [
    "embedding_matrix"
   ]
  },
  {
   "cell_type": "markdown",
   "metadata": {},
   "source": [
    "## Base LSTM Model"
   ]
  },
  {
   "cell_type": "code",
   "execution_count": 28,
   "metadata": {},
   "outputs": [],
   "source": [
    "tf.keras.backend.clear_session()\n",
    "model_name = \"base lstm model\"\n",
    "checkpointer = ModelCheckpoint(filepath =check_point_base,\n",
    "                               save_best_only=False, save_weights_only = False, verbose=0,mode='min')\n",
    "early_stopping = EarlyStopping(monitor='val_loss', min_delta=0, patience=10, verbose=0, mode='auto')"
   ]
  },
  {
   "cell_type": "code",
   "execution_count": null,
   "metadata": {},
   "outputs": [],
   "source": [
    "tf.keras.backend.clear_session()"
   ]
  },
  {
   "cell_type": "code",
   "execution_count": 29,
   "metadata": {},
   "outputs": [],
   "source": [
    "lstm_base_model = Sequential([\n",
    "  vectorize_layer,\n",
    "  Embedding(input_dim = vectorize_layer.vocabulary_size()+2, output_dim = EMBEDDING_DIMENSIONS,weights=[embedding_matrix],input_length=MAX_OUTPUT_LENGTH,trainable=False),\n",
    "  LSTM(128),\n",
    "  Dense(N_CLASSES,activation = softmax)])\n",
    "\n",
    "lstm_base_model.compile(\n",
    "    loss = tf.keras.losses.SparseCategoricalCrossentropy(),\n",
    "    optimizer = Adam(learning_rate = LEARNING_RATE),\n",
    "    metrics = [\"acc\"]\n",
    "    )"
   ]
  },
  {
   "cell_type": "code",
   "execution_count": 30,
   "metadata": {
    "scrolled": true
   },
   "outputs": [
    {
     "name": "stdout",
     "output_type": "stream",
     "text": [
      "Model: \"sequential\"\n",
      "_________________________________________________________________\n",
      " Layer (type)                Output Shape              Param #   \n",
      "=================================================================\n",
      " text_vectorization (TextVec  (None, 200)              0         \n",
      " torization)                                                     \n",
      "                                                                 \n",
      " embedding (Embedding)       (None, 200, 100)          500200    \n",
      "                                                                 \n",
      " lstm (LSTM)                 (None, 128)               117248    \n",
      "                                                                 \n",
      " dense (Dense)               (None, 4)                 516       \n",
      "                                                                 \n",
      "=================================================================\n",
      "Total params: 617,964\n",
      "Trainable params: 117,764\n",
      "Non-trainable params: 500,200\n",
      "_________________________________________________________________\n"
     ]
    }
   ],
   "source": [
    "lstm_base_model.summary()"
   ]
  },
  {
   "cell_type": "code",
   "execution_count": null,
   "metadata": {},
   "outputs": [],
   "source": []
  },
  {
   "cell_type": "code",
   "execution_count": null,
   "metadata": {},
   "outputs": [],
   "source": []
  },
  {
   "cell_type": "code",
   "execution_count": 31,
   "metadata": {},
   "outputs": [
    {
     "name": "stdout",
     "output_type": "stream",
     "text": [
      "Epoch 1/10\n",
      "7318/7318 [==============================] - 587s 80ms/step - loss: 1.2243 - acc: 0.4347 - val_loss: 1.1242 - val_acc: 0.5158\n",
      "Epoch 2/10\n",
      "7318/7318 [==============================] - 562s 77ms/step - loss: 1.1254 - acc: 0.5110 - val_loss: 1.0803 - val_acc: 0.5497\n",
      "Epoch 3/10\n",
      "7318/7318 [==============================] - 567s 78ms/step - loss: 1.0857 - acc: 0.5391 - val_loss: 1.0658 - val_acc: 0.5490\n",
      "Epoch 4/10\n",
      "7318/7318 [==============================] - 526s 72ms/step - loss: 1.0751 - acc: 0.5410 - val_loss: 1.0410 - val_acc: 0.5652\n",
      "Epoch 5/10\n",
      "7318/7318 [==============================] - 526s 72ms/step - loss: 1.0531 - acc: 0.5564 - val_loss: 1.0885 - val_acc: 0.5395\n",
      "Epoch 6/10\n",
      "7318/7318 [==============================] - 528s 72ms/step - loss: 1.0365 - acc: 0.5634 - val_loss: 1.0136 - val_acc: 0.5806\n",
      "Epoch 7/10\n",
      "7318/7318 [==============================] - 528s 72ms/step - loss: 1.0117 - acc: 0.5760 - val_loss: 1.0159 - val_acc: 0.5715\n",
      "Epoch 8/10\n",
      "7318/7318 [==============================] - 534s 73ms/step - loss: 0.9912 - acc: 0.5837 - val_loss: 0.9916 - val_acc: 0.5801\n",
      "Epoch 9/10\n",
      "7318/7318 [==============================] - 532s 73ms/step - loss: 0.9775 - acc: 0.5931 - val_loss: 1.0022 - val_acc: 0.5783\n",
      "Epoch 10/10\n",
      "7318/7318 [==============================] - 535s 73ms/step - loss: 0.9786 - acc: 0.5961 - val_loss: 1.0289 - val_acc: 0.5620\n"
     ]
    }
   ],
   "source": [
    "lstm_history_base_model = lstm_base_model.fit(train_dataset, \n",
    "          validation_data = val_dataset,\n",
    "          epochs = 10,\n",
    "          verbose=1)"
   ]
  },
  {
   "cell_type": "code",
   "execution_count": 32,
   "metadata": {},
   "outputs": [],
   "source": [
    "def plot_loss_accuracy(hist,model):\n",
    "    fig=plt.figure()\n",
    "    plt.plot(hist.history['acc'],'r',linewidth=3.0)\n",
    "    plt.plot(hist.history['val_acc'],'b',linewidth=3.0)\n",
    "    plt.legend(['Training Accuracy', 'Validation Accuracy'],fontsize=18)\n",
    "    plt.xlabel('Epochs ',fontsize=16)\n",
    "    plt.ylabel('Accuracy',fontsize=16)\n",
    "    plt.title(f'Accuracy Curves : {model}',fontsize=16)\n",
    "    #fig.savefig('accuracy_lstm.png')\n",
    "    plt.show()"
   ]
  },
  {
   "cell_type": "code",
   "execution_count": 33,
   "metadata": {},
   "outputs": [
    {
     "data": {
      "image/png": "[encoded data removed]",
      "text/plain": [
       "<Figure size 576x396 with 1 Axes>"
      ]
     },
     "metadata": {},
     "output_type": "display_data"
    }
   ],
   "source": [
    "plot_loss_accuracy(lstm_history_base_model, 'Base LSTM')"
   ]
  },
  {
   "cell_type": "code",
   "execution_count": 34,
   "metadata": {},
   "outputs": [
    {
     "name": "stdout",
     "output_type": "stream",
     "text": [
      "813/813 [==============================] - 15s 18ms/step - loss: 1.0289 - acc: 0.5620\n"
     ]
    }
   ],
   "source": [
    "_,val_acc = lstm_base_model.evaluate(val_dataset)"
   ]
  },
  {
   "cell_type": "code",
   "execution_count": 35,
   "metadata": {},
   "outputs": [],
   "source": [
    "hist_1 = pd.DataFrame(lstm_history_base_model.history)\n",
    "hist_1['epoch'] = lstm_history_base_model.epoch"
   ]
  },
  {
   "cell_type": "code",
   "execution_count": 36,
   "metadata": {},
   "outputs": [
    {
     "data": {
      "text/html": [
       "<div>\n",
       "<style scoped>\n",
       "    .dataframe tbody tr th:only-of-type {\n",
       "        vertical-align: middle;\n",
       "    }\n",
       "\n",
       "    .dataframe tbody tr th {\n",
       "        vertical-align: top;\n",
       "    }\n",
       "\n",
       "    .dataframe thead th {\n",
       "        text-align: right;\n",
       "    }\n",
       "</style>\n",
       "<table border=\"1\" class=\"dataframe\">\n",
       "  <thead>\n",
       "    <tr style=\"text-align: right;\">\n",
       "      <th></th>\n",
       "      <th>loss</th>\n",
       "      <th>acc</th>\n",
       "      <th>val_loss</th>\n",
       "      <th>val_acc</th>\n",
       "      <th>epoch</th>\n",
       "    </tr>\n",
       "  </thead>\n",
       "  <tbody>\n",
       "    <tr>\n",
       "      <th>0</th>\n",
       "      <td>1.224348</td>\n",
       "      <td>0.434716</td>\n",
       "      <td>1.124247</td>\n",
       "      <td>0.515836</td>\n",
       "      <td>0</td>\n",
       "    </tr>\n",
       "    <tr>\n",
       "      <th>1</th>\n",
       "      <td>1.125438</td>\n",
       "      <td>0.511000</td>\n",
       "      <td>1.080331</td>\n",
       "      <td>0.549662</td>\n",
       "      <td>1</td>\n",
       "    </tr>\n",
       "    <tr>\n",
       "      <th>2</th>\n",
       "      <td>1.085680</td>\n",
       "      <td>0.539116</td>\n",
       "      <td>1.065817</td>\n",
       "      <td>0.549047</td>\n",
       "      <td>2</td>\n",
       "    </tr>\n",
       "    <tr>\n",
       "      <th>3</th>\n",
       "      <td>1.075124</td>\n",
       "      <td>0.541046</td>\n",
       "      <td>1.040990</td>\n",
       "      <td>0.565191</td>\n",
       "      <td>3</td>\n",
       "    </tr>\n",
       "    <tr>\n",
       "      <th>4</th>\n",
       "      <td>1.053140</td>\n",
       "      <td>0.556351</td>\n",
       "      <td>1.088536</td>\n",
       "      <td>0.539514</td>\n",
       "      <td>4</td>\n",
       "    </tr>\n",
       "    <tr>\n",
       "      <th>5</th>\n",
       "      <td>1.036480</td>\n",
       "      <td>0.563405</td>\n",
       "      <td>1.013636</td>\n",
       "      <td>0.580566</td>\n",
       "      <td>5</td>\n",
       "    </tr>\n",
       "    <tr>\n",
       "      <th>6</th>\n",
       "      <td>1.011730</td>\n",
       "      <td>0.575994</td>\n",
       "      <td>1.015861</td>\n",
       "      <td>0.571494</td>\n",
       "      <td>6</td>\n",
       "    </tr>\n",
       "    <tr>\n",
       "      <th>7</th>\n",
       "      <td>0.991166</td>\n",
       "      <td>0.583732</td>\n",
       "      <td>0.991625</td>\n",
       "      <td>0.580105</td>\n",
       "      <td>7</td>\n",
       "    </tr>\n",
       "    <tr>\n",
       "      <th>8</th>\n",
       "      <td>0.977535</td>\n",
       "      <td>0.593092</td>\n",
       "      <td>1.002160</td>\n",
       "      <td>0.578260</td>\n",
       "      <td>8</td>\n",
       "    </tr>\n",
       "    <tr>\n",
       "      <th>9</th>\n",
       "      <td>0.978641</td>\n",
       "      <td>0.596099</td>\n",
       "      <td>1.028889</td>\n",
       "      <td>0.561962</td>\n",
       "      <td>9</td>\n",
       "    </tr>\n",
       "  </tbody>\n",
       "</table>\n",
       "</div>"
      ],
      "text/plain": [
       "       loss       acc  val_loss   val_acc  epoch\n",
       "0  1.224348  0.434716  1.124247  0.515836      0\n",
       "1  1.125438  0.511000  1.080331  0.549662      1\n",
       "2  1.085680  0.539116  1.065817  0.549047      2\n",
       "3  1.075124  0.541046  1.040990  0.565191      3\n",
       "4  1.053140  0.556351  1.088536  0.539514      4\n",
       "5  1.036480  0.563405  1.013636  0.580566      5\n",
       "6  1.011730  0.575994  1.015861  0.571494      6\n",
       "7  0.991166  0.583732  0.991625  0.580105      7\n",
       "8  0.977535  0.593092  1.002160  0.578260      8\n",
       "9  0.978641  0.596099  1.028889  0.561962      9"
      ]
     },
     "execution_count": 36,
     "metadata": {},
     "output_type": "execute_result"
    }
   ],
   "source": [
    "hist_1"
   ]
  },
  {
   "cell_type": "code",
   "execution_count": 37,
   "metadata": {},
   "outputs": [
    {
     "name": "stdout",
     "output_type": "stream",
     "text": [
      "1/1 [==============================] - 1s 627ms/step\n"
     ]
    },
    {
     "data": {
      "text/plain": [
       "array([[0.06087403, 0.33457008, 0.19296125, 0.41159454]], dtype=float32)"
      ]
     },
     "execution_count": 37,
     "metadata": {},
     "output_type": "execute_result"
    }
   ],
   "source": [
    "lstm_base_model.predict([''' \n",
    "It seems you're having some trouble In dealing with these changes Living with these changes (oh no) \n",
    "The world is a scary place Now that you've woken up the demon in me \n",
    "Why can't you just leave here and die Never stick your hand in my face again bitch\n",
    "Fuck you\n",
    "I don't need this shit\n",
    "\n",
    "''' ])\n"
   ]
  },
  {
   "cell_type": "code",
   "execution_count": null,
   "metadata": {},
   "outputs": [],
   "source": [
    "train_dataset.class_names"
   ]
  },
  {
   "cell_type": "markdown",
   "metadata": {},
   "source": [
    "## Optimize base LSTM"
   ]
  },
  {
   "cell_type": "code",
   "execution_count": 38,
   "metadata": {},
   "outputs": [],
   "source": [
    "tf.keras.backend.clear_session()"
   ]
  },
  {
   "cell_type": "code",
   "execution_count": 39,
   "metadata": {},
   "outputs": [],
   "source": [
    "model_name = \"optimized lstm model\"\n",
    "checkpointer_opt = ModelCheckpoint(filepath =check_point_opt,\n",
    "                               save_best_only=False, save_weights_only = False, verbose=0,mode='min')\n",
    "early_stopping_opt = EarlyStopping(monitor='val_loss', min_delta=0, patience=10, verbose=0, mode='auto')"
   ]
  },
  {
   "cell_type": "code",
   "execution_count": 40,
   "metadata": {},
   "outputs": [],
   "source": [
    "lstm_opt_model = Sequential([\n",
    "  vectorize_layer,\n",
    "  Embedding(input_dim = vectorize_layer.vocabulary_size()+2, output_dim = EMBEDDING_DIMENSIONS,weights=[embedding_matrix],input_length=MAX_OUTPUT_LENGTH,trainable=False),\n",
    "  LSTM(64,return_sequences=True,dropout=0.2),\n",
    "  tf.keras.layers.GlobalMaxPooling1D(),\n",
    "  Dense(64,activation='relu'),\n",
    "  Dense(N_CLASSES,activation = softmax)])\n",
    "\n",
    "lstm_opt_model.compile(\n",
    "    loss='sparse_categorical_crossentropy',\n",
    "    optimizer = Adam(learning_rate = LEARNING_RATE),\n",
    "    metrics = [\"acc\"]\n",
    "    )"
   ]
  },
  {
   "cell_type": "code",
   "execution_count": 41,
   "metadata": {},
   "outputs": [
    {
     "name": "stdout",
     "output_type": "stream",
     "text": [
      "Model: \"sequential\"\n",
      "_________________________________________________________________\n",
      " Layer (type)                Output Shape              Param #   \n",
      "=================================================================\n",
      " text_vectorization (TextVec  (None, 200)              0         \n",
      " torization)                                                     \n",
      "                                                                 \n",
      " embedding (Embedding)       (None, 200, 100)          500200    \n",
      "                                                                 \n",
      " lstm (LSTM)                 (None, 200, 64)           42240     \n",
      "                                                                 \n",
      " global_max_pooling1d (Globa  (None, 64)               0         \n",
      " lMaxPooling1D)                                                  \n",
      "                                                                 \n",
      " dense (Dense)               (None, 64)                4160      \n",
      "                                                                 \n",
      " dense_1 (Dense)             (None, 4)                 260       \n",
      "                                                                 \n",
      "=================================================================\n",
      "Total params: 546,860\n",
      "Trainable params: 46,660\n",
      "Non-trainable params: 500,200\n",
      "_________________________________________________________________\n"
     ]
    }
   ],
   "source": [
    "lstm_opt_model.summary()"
   ]
  },
  {
   "cell_type": "code",
   "execution_count": null,
   "metadata": {},
   "outputs": [],
   "source": []
  },
  {
   "cell_type": "code",
   "execution_count": 42,
   "metadata": {},
   "outputs": [
    {
     "name": "stdout",
     "output_type": "stream",
     "text": [
      "Epoch 1/10\n",
      "7317/7318 [============================>.] - ETA: 0s - loss: 1.1115 - acc: 0.5100"
     ]
    },
    {
     "name": "stderr",
     "output_type": "stream",
     "text": [
      "WARNING:absl:Found untraced functions such as lstm_cell_layer_call_fn, lstm_cell_layer_call_and_return_conditional_losses while saving (showing 2 of 2). These functions will not be directly callable after loading.\n"
     ]
    },
    {
     "name": "stdout",
     "output_type": "stream",
     "text": [
      "INFO:tensorflow:Assets written to: C:\\Users\\PC\\Desktop\\NN\\Text calssification\\version 3\\checkpoint_opt\\assets\n"
     ]
    },
    {
     "name": "stderr",
     "output_type": "stream",
     "text": [
      "INFO:tensorflow:Assets written to: C:\\Users\\PC\\Desktop\\NN\\Text calssification\\version 3\\checkpoint_opt\\assets\n",
      "WARNING:absl:<keras.layers.recurrent.LSTMCell object at 0x000002271459FE80> has the same name 'LSTMCell' as a built-in Keras object. Consider renaming <class 'keras.layers.recurrent.LSTMCell'> to avoid naming conflicts when loading with `tf.keras.models.load_model`. If renaming is not possible, pass the object in the `custom_objects` parameter of the load function.\n"
     ]
    },
    {
     "name": "stdout",
     "output_type": "stream",
     "text": [
      "7318/7318 [==============================] - 330s 45ms/step - loss: 1.1116 - acc: 0.5100 - val_loss: 1.0270 - val_acc: 0.5695\n",
      "Epoch 2/10\n",
      "7318/7318 [==============================] - ETA: 0s - loss: 1.0104 - acc: 0.5711"
     ]
    },
    {
     "name": "stderr",
     "output_type": "stream",
     "text": [
      "WARNING:absl:Found untraced functions such as lstm_cell_layer_call_fn, lstm_cell_layer_call_and_return_conditional_losses while saving (showing 2 of 2). These functions will not be directly callable after loading.\n"
     ]
    },
    {
     "name": "stdout",
     "output_type": "stream",
     "text": [
      "INFO:tensorflow:Assets written to: C:\\Users\\PC\\Desktop\\NN\\Text calssification\\version 3\\checkpoint_opt\\assets\n"
     ]
    },
    {
     "name": "stderr",
     "output_type": "stream",
     "text": [
      "INFO:tensorflow:Assets written to: C:\\Users\\PC\\Desktop\\NN\\Text calssification\\version 3\\checkpoint_opt\\assets\n",
      "WARNING:absl:<keras.layers.recurrent.LSTMCell object at 0x000002271459FE80> has the same name 'LSTMCell' as a built-in Keras object. Consider renaming <class 'keras.layers.recurrent.LSTMCell'> to avoid naming conflicts when loading with `tf.keras.models.load_model`. If renaming is not possible, pass the object in the `custom_objects` parameter of the load function.\n"
     ]
    },
    {
     "name": "stdout",
     "output_type": "stream",
     "text": [
      "7318/7318 [==============================] - 322s 44ms/step - loss: 1.0104 - acc: 0.5711 - val_loss: 0.9996 - val_acc: 0.5758\n",
      "Epoch 3/10\n",
      "7318/7318 [==============================] - ETA: 0s - loss: 0.9804 - acc: 0.5871"
     ]
    },
    {
     "name": "stderr",
     "output_type": "stream",
     "text": [
      "WARNING:absl:Found untraced functions such as lstm_cell_layer_call_fn, lstm_cell_layer_call_and_return_conditional_losses while saving (showing 2 of 2). These functions will not be directly callable after loading.\n"
     ]
    },
    {
     "name": "stdout",
     "output_type": "stream",
     "text": [
      "INFO:tensorflow:Assets written to: C:\\Users\\PC\\Desktop\\NN\\Text calssification\\version 3\\checkpoint_opt\\assets\n"
     ]
    },
    {
     "name": "stderr",
     "output_type": "stream",
     "text": [
      "INFO:tensorflow:Assets written to: C:\\Users\\PC\\Desktop\\NN\\Text calssification\\version 3\\checkpoint_opt\\assets\n",
      "WARNING:absl:<keras.layers.recurrent.LSTMCell object at 0x000002271459FE80> has the same name 'LSTMCell' as a built-in Keras object. Consider renaming <class 'keras.layers.recurrent.LSTMCell'> to avoid naming conflicts when loading with `tf.keras.models.load_model`. If renaming is not possible, pass the object in the `custom_objects` parameter of the load function.\n"
     ]
    },
    {
     "name": "stdout",
     "output_type": "stream",
     "text": [
      "7318/7318 [==============================] - 388s 53ms/step - loss: 0.9804 - acc: 0.5871 - val_loss: 0.9749 - val_acc: 0.5881\n",
      "Epoch 4/10\n",
      "7318/7318 [==============================] - ETA: 0s - loss: 0.9598 - acc: 0.5965"
     ]
    },
    {
     "name": "stderr",
     "output_type": "stream",
     "text": [
      "WARNING:absl:Found untraced functions such as lstm_cell_layer_call_fn, lstm_cell_layer_call_and_return_conditional_losses while saving (showing 2 of 2). These functions will not be directly callable after loading.\n"
     ]
    },
    {
     "name": "stdout",
     "output_type": "stream",
     "text": [
      "INFO:tensorflow:Assets written to: C:\\Users\\PC\\Desktop\\NN\\Text calssification\\version 3\\checkpoint_opt\\assets\n"
     ]
    },
    {
     "name": "stderr",
     "output_type": "stream",
     "text": [
      "INFO:tensorflow:Assets written to: C:\\Users\\PC\\Desktop\\NN\\Text calssification\\version 3\\checkpoint_opt\\assets\n",
      "WARNING:absl:<keras.layers.recurrent.LSTMCell object at 0x000002271459FE80> has the same name 'LSTMCell' as a built-in Keras object. Consider renaming <class 'keras.layers.recurrent.LSTMCell'> to avoid naming conflicts when loading with `tf.keras.models.load_model`. If renaming is not possible, pass the object in the `custom_objects` parameter of the load function.\n"
     ]
    },
    {
     "name": "stdout",
     "output_type": "stream",
     "text": [
      "7318/7318 [==============================] - 344s 47ms/step - loss: 0.9598 - acc: 0.5965 - val_loss: 0.9526 - val_acc: 0.5996\n",
      "Epoch 5/10\n",
      "7318/7318 [==============================] - ETA: 0s - loss: 0.9446 - acc: 0.6038"
     ]
    },
    {
     "name": "stderr",
     "output_type": "stream",
     "text": [
      "WARNING:absl:Found untraced functions such as lstm_cell_layer_call_fn, lstm_cell_layer_call_and_return_conditional_losses while saving (showing 2 of 2). These functions will not be directly callable after loading.\n"
     ]
    },
    {
     "name": "stdout",
     "output_type": "stream",
     "text": [
      "INFO:tensorflow:Assets written to: C:\\Users\\PC\\Desktop\\NN\\Text calssification\\version 3\\checkpoint_opt\\assets\n"
     ]
    },
    {
     "name": "stderr",
     "output_type": "stream",
     "text": [
      "INFO:tensorflow:Assets written to: C:\\Users\\PC\\Desktop\\NN\\Text calssification\\version 3\\checkpoint_opt\\assets\n",
      "WARNING:absl:<keras.layers.recurrent.LSTMCell object at 0x000002271459FE80> has the same name 'LSTMCell' as a built-in Keras object. Consider renaming <class 'keras.layers.recurrent.LSTMCell'> to avoid naming conflicts when loading with `tf.keras.models.load_model`. If renaming is not possible, pass the object in the `custom_objects` parameter of the load function.\n"
     ]
    },
    {
     "name": "stdout",
     "output_type": "stream",
     "text": [
      "7318/7318 [==============================] - 367s 50ms/step - loss: 0.9446 - acc: 0.6038 - val_loss: 0.9416 - val_acc: 0.6076\n",
      "Epoch 6/10\n",
      "7318/7318 [==============================] - ETA: 0s - loss: 0.9302 - acc: 0.6110"
     ]
    },
    {
     "name": "stderr",
     "output_type": "stream",
     "text": [
      "WARNING:absl:Found untraced functions such as lstm_cell_layer_call_fn, lstm_cell_layer_call_and_return_conditional_losses while saving (showing 2 of 2). These functions will not be directly callable after loading.\n"
     ]
    },
    {
     "name": "stdout",
     "output_type": "stream",
     "text": [
      "INFO:tensorflow:Assets written to: C:\\Users\\PC\\Desktop\\NN\\Text calssification\\version 3\\checkpoint_opt\\assets\n"
     ]
    },
    {
     "name": "stderr",
     "output_type": "stream",
     "text": [
      "INFO:tensorflow:Assets written to: C:\\Users\\PC\\Desktop\\NN\\Text calssification\\version 3\\checkpoint_opt\\assets\n",
      "WARNING:absl:<keras.layers.recurrent.LSTMCell object at 0x000002271459FE80> has the same name 'LSTMCell' as a built-in Keras object. Consider renaming <class 'keras.layers.recurrent.LSTMCell'> to avoid naming conflicts when loading with `tf.keras.models.load_model`. If renaming is not possible, pass the object in the `custom_objects` parameter of the load function.\n"
     ]
    },
    {
     "name": "stdout",
     "output_type": "stream",
     "text": [
      "7318/7318 [==============================] - 381s 52ms/step - loss: 0.9302 - acc: 0.6110 - val_loss: 0.9257 - val_acc: 0.6153\n",
      "Epoch 7/10\n",
      "7317/7318 [============================>.] - ETA: 0s - loss: 0.9200 - acc: 0.6160"
     ]
    },
    {
     "name": "stderr",
     "output_type": "stream",
     "text": [
      "WARNING:absl:Found untraced functions such as lstm_cell_layer_call_fn, lstm_cell_layer_call_and_return_conditional_losses while saving (showing 2 of 2). These functions will not be directly callable after loading.\n"
     ]
    },
    {
     "name": "stdout",
     "output_type": "stream",
     "text": [
      "INFO:tensorflow:Assets written to: C:\\Users\\PC\\Desktop\\NN\\Text calssification\\version 3\\checkpoint_opt\\assets\n"
     ]
    },
    {
     "name": "stderr",
     "output_type": "stream",
     "text": [
      "INFO:tensorflow:Assets written to: C:\\Users\\PC\\Desktop\\NN\\Text calssification\\version 3\\checkpoint_opt\\assets\n",
      "WARNING:absl:<keras.layers.recurrent.LSTMCell object at 0x000002271459FE80> has the same name 'LSTMCell' as a built-in Keras object. Consider renaming <class 'keras.layers.recurrent.LSTMCell'> to avoid naming conflicts when loading with `tf.keras.models.load_model`. If renaming is not possible, pass the object in the `custom_objects` parameter of the load function.\n"
     ]
    },
    {
     "name": "stdout",
     "output_type": "stream",
     "text": [
      "7318/7318 [==============================] - 376s 51ms/step - loss: 0.9200 - acc: 0.6160 - val_loss: 0.9251 - val_acc: 0.6133\n",
      "Epoch 8/10\n",
      "7317/7318 [============================>.] - ETA: 0s - loss: 0.9091 - acc: 0.6206"
     ]
    },
    {
     "name": "stderr",
     "output_type": "stream",
     "text": [
      "WARNING:absl:Found untraced functions such as lstm_cell_layer_call_fn, lstm_cell_layer_call_and_return_conditional_losses while saving (showing 2 of 2). These functions will not be directly callable after loading.\n"
     ]
    },
    {
     "name": "stdout",
     "output_type": "stream",
     "text": [
      "INFO:tensorflow:Assets written to: C:\\Users\\PC\\Desktop\\NN\\Text calssification\\version 3\\checkpoint_opt\\assets\n"
     ]
    },
    {
     "name": "stderr",
     "output_type": "stream",
     "text": [
      "INFO:tensorflow:Assets written to: C:\\Users\\PC\\Desktop\\NN\\Text calssification\\version 3\\checkpoint_opt\\assets\n",
      "WARNING:absl:<keras.layers.recurrent.LSTMCell object at 0x000002271459FE80> has the same name 'LSTMCell' as a built-in Keras object. Consider renaming <class 'keras.layers.recurrent.LSTMCell'> to avoid naming conflicts when loading with `tf.keras.models.load_model`. If renaming is not possible, pass the object in the `custom_objects` parameter of the load function.\n"
     ]
    },
    {
     "name": "stdout",
     "output_type": "stream",
     "text": [
      "7318/7318 [==============================] - 364s 50ms/step - loss: 0.9091 - acc: 0.6206 - val_loss: 0.9170 - val_acc: 0.6218\n",
      "Epoch 9/10\n",
      "7318/7318 [==============================] - ETA: 0s - loss: 0.9013 - acc: 0.6242"
     ]
    },
    {
     "name": "stderr",
     "output_type": "stream",
     "text": [
      "WARNING:absl:Found untraced functions such as lstm_cell_layer_call_fn, lstm_cell_layer_call_and_return_conditional_losses while saving (showing 2 of 2). These functions will not be directly callable after loading.\n"
     ]
    },
    {
     "name": "stdout",
     "output_type": "stream",
     "text": [
      "INFO:tensorflow:Assets written to: C:\\Users\\PC\\Desktop\\NN\\Text calssification\\version 3\\checkpoint_opt\\assets\n"
     ]
    },
    {
     "name": "stderr",
     "output_type": "stream",
     "text": [
      "INFO:tensorflow:Assets written to: C:\\Users\\PC\\Desktop\\NN\\Text calssification\\version 3\\checkpoint_opt\\assets\n",
      "WARNING:absl:<keras.layers.recurrent.LSTMCell object at 0x000002271459FE80> has the same name 'LSTMCell' as a built-in Keras object. Consider renaming <class 'keras.layers.recurrent.LSTMCell'> to avoid naming conflicts when loading with `tf.keras.models.load_model`. If renaming is not possible, pass the object in the `custom_objects` parameter of the load function.\n"
     ]
    },
    {
     "name": "stdout",
     "output_type": "stream",
     "text": [
      "7318/7318 [==============================] - 389s 53ms/step - loss: 0.9013 - acc: 0.6242 - val_loss: 0.9141 - val_acc: 0.6193\n",
      "Epoch 10/10\n",
      "7317/7318 [============================>.] - ETA: 0s - loss: 0.8923 - acc: 0.6303"
     ]
    },
    {
     "name": "stderr",
     "output_type": "stream",
     "text": [
      "WARNING:absl:Found untraced functions such as lstm_cell_layer_call_fn, lstm_cell_layer_call_and_return_conditional_losses while saving (showing 2 of 2). These functions will not be directly callable after loading.\n"
     ]
    },
    {
     "name": "stdout",
     "output_type": "stream",
     "text": [
      "INFO:tensorflow:Assets written to: C:\\Users\\PC\\Desktop\\NN\\Text calssification\\version 3\\checkpoint_opt\\assets\n"
     ]
    },
    {
     "name": "stderr",
     "output_type": "stream",
     "text": [
      "INFO:tensorflow:Assets written to: C:\\Users\\PC\\Desktop\\NN\\Text calssification\\version 3\\checkpoint_opt\\assets\n",
      "WARNING:absl:<keras.layers.recurrent.LSTMCell object at 0x000002271459FE80> has the same name 'LSTMCell' as a built-in Keras object. Consider renaming <class 'keras.layers.recurrent.LSTMCell'> to avoid naming conflicts when loading with `tf.keras.models.load_model`. If renaming is not possible, pass the object in the `custom_objects` parameter of the load function.\n"
     ]
    },
    {
     "name": "stdout",
     "output_type": "stream",
     "text": [
      "\b\b\b\b\b\b\b\b\b\b\b\b\b\b\b\b\b\b\b\b\b\b\b\b\b\b\b\b\b\b\b\b\b\b\b\b\b\b\b\b\b\b\b\b\b\b\b\b\b\b\b\b\b\b\b\b\b\b\b\b\b\b\b\b\b\b\b\b\b\b\b\b\b\b\b\b\b\b\b\b\b\r",
      "7318/7318 [==============================] - 367s 50ms/step - loss: 0.8923 - acc: 0.6303 - val_loss: 0.9163 - val_acc: 0.6238\n"
     ]
    }
   ],
   "source": [
    "lstm_history_opt_model = lstm_opt_model.fit(train_dataset, \n",
    "          validation_data = val_dataset,\n",
    "          epochs = 10,\n",
    "          callbacks=[checkpointer_opt, early_stopping_opt])"
   ]
  },
  {
   "cell_type": "code",
   "execution_count": null,
   "metadata": {},
   "outputs": [],
   "source": []
  },
  {
   "cell_type": "code",
   "execution_count": 43,
   "metadata": {},
   "outputs": [
    {
     "data": {
      "image/png": "[encoded data removed]",
      "text/plain": [
       "<Figure size 576x396 with 1 Axes>"
      ]
     },
     "metadata": {},
     "output_type": "display_data"
    }
   ],
   "source": [
    "plot_loss_accuracy(lstm_history_opt_model, 'LSTM_Optimized')"
   ]
  },
  {
   "cell_type": "code",
   "execution_count": 44,
   "metadata": {},
   "outputs": [
    {
     "name": "stdout",
     "output_type": "stream",
     "text": [
      "813/813 [==============================] - 11s 14ms/step - loss: 0.9163 - acc: 0.6238\n"
     ]
    }
   ],
   "source": [
    "_,val_acc = lstm_opt_model.evaluate(val_dataset)"
   ]
  },
  {
   "cell_type": "code",
   "execution_count": 45,
   "metadata": {},
   "outputs": [],
   "source": [
    "hist_2 = pd.DataFrame(lstm_history_opt_model.history)\n",
    "hist_2['epoch'] = lstm_history_opt_model.epoch"
   ]
  },
  {
   "cell_type": "code",
   "execution_count": 46,
   "metadata": {},
   "outputs": [
    {
     "data": {
      "text/html": [
       "<div>\n",
       "<style scoped>\n",
       "    .dataframe tbody tr th:only-of-type {\n",
       "        vertical-align: middle;\n",
       "    }\n",
       "\n",
       "    .dataframe tbody tr th {\n",
       "        vertical-align: top;\n",
       "    }\n",
       "\n",
       "    .dataframe thead th {\n",
       "        text-align: right;\n",
       "    }\n",
       "</style>\n",
       "<table border=\"1\" class=\"dataframe\">\n",
       "  <thead>\n",
       "    <tr style=\"text-align: right;\">\n",
       "      <th></th>\n",
       "      <th>loss</th>\n",
       "      <th>acc</th>\n",
       "      <th>val_loss</th>\n",
       "      <th>val_acc</th>\n",
       "      <th>epoch</th>\n",
       "    </tr>\n",
       "  </thead>\n",
       "  <tbody>\n",
       "    <tr>\n",
       "      <th>0</th>\n",
       "      <td>1.111551</td>\n",
       "      <td>0.510027</td>\n",
       "      <td>1.026981</td>\n",
       "      <td>0.569496</td>\n",
       "      <td>0</td>\n",
       "    </tr>\n",
       "    <tr>\n",
       "      <th>1</th>\n",
       "      <td>1.010440</td>\n",
       "      <td>0.571109</td>\n",
       "      <td>0.999582</td>\n",
       "      <td>0.575800</td>\n",
       "      <td>1</td>\n",
       "    </tr>\n",
       "    <tr>\n",
       "      <th>2</th>\n",
       "      <td>0.980429</td>\n",
       "      <td>0.587080</td>\n",
       "      <td>0.974940</td>\n",
       "      <td>0.588100</td>\n",
       "      <td>2</td>\n",
       "    </tr>\n",
       "    <tr>\n",
       "      <th>3</th>\n",
       "      <td>0.959794</td>\n",
       "      <td>0.596492</td>\n",
       "      <td>0.952604</td>\n",
       "      <td>0.599631</td>\n",
       "      <td>3</td>\n",
       "    </tr>\n",
       "    <tr>\n",
       "      <th>4</th>\n",
       "      <td>0.944569</td>\n",
       "      <td>0.603836</td>\n",
       "      <td>0.941639</td>\n",
       "      <td>0.607626</td>\n",
       "      <td>4</td>\n",
       "    </tr>\n",
       "    <tr>\n",
       "      <th>5</th>\n",
       "      <td>0.930207</td>\n",
       "      <td>0.611045</td>\n",
       "      <td>0.925666</td>\n",
       "      <td>0.615314</td>\n",
       "      <td>5</td>\n",
       "    </tr>\n",
       "    <tr>\n",
       "      <th>6</th>\n",
       "      <td>0.920017</td>\n",
       "      <td>0.615998</td>\n",
       "      <td>0.925063</td>\n",
       "      <td>0.613315</td>\n",
       "      <td>6</td>\n",
       "    </tr>\n",
       "    <tr>\n",
       "      <th>7</th>\n",
       "      <td>0.909100</td>\n",
       "      <td>0.620644</td>\n",
       "      <td>0.917006</td>\n",
       "      <td>0.621771</td>\n",
       "      <td>7</td>\n",
       "    </tr>\n",
       "    <tr>\n",
       "      <th>8</th>\n",
       "      <td>0.901291</td>\n",
       "      <td>0.624214</td>\n",
       "      <td>0.914137</td>\n",
       "      <td>0.619311</td>\n",
       "      <td>8</td>\n",
       "    </tr>\n",
       "    <tr>\n",
       "      <th>9</th>\n",
       "      <td>0.892290</td>\n",
       "      <td>0.630329</td>\n",
       "      <td>0.916274</td>\n",
       "      <td>0.623770</td>\n",
       "      <td>9</td>\n",
       "    </tr>\n",
       "  </tbody>\n",
       "</table>\n",
       "</div>"
      ],
      "text/plain": [
       "       loss       acc  val_loss   val_acc  epoch\n",
       "0  1.111551  0.510027  1.026981  0.569496      0\n",
       "1  1.010440  0.571109  0.999582  0.575800      1\n",
       "2  0.980429  0.587080  0.974940  0.588100      2\n",
       "3  0.959794  0.596492  0.952604  0.599631      3\n",
       "4  0.944569  0.603836  0.941639  0.607626      4\n",
       "5  0.930207  0.611045  0.925666  0.615314      5\n",
       "6  0.920017  0.615998  0.925063  0.613315      6\n",
       "7  0.909100  0.620644  0.917006  0.621771      7\n",
       "8  0.901291  0.624214  0.914137  0.619311      8\n",
       "9  0.892290  0.630329  0.916274  0.623770      9"
      ]
     },
     "execution_count": 46,
     "metadata": {},
     "output_type": "execute_result"
    }
   ],
   "source": [
    "hist_2"
   ]
  },
  {
   "cell_type": "code",
   "execution_count": null,
   "metadata": {},
   "outputs": [],
   "source": []
  },
  {
   "cell_type": "markdown",
   "metadata": {},
   "source": [
    "## Bidirectional LSTM"
   ]
  },
  {
   "cell_type": "code",
   "execution_count": 74,
   "metadata": {},
   "outputs": [],
   "source": [
    "tf.keras.backend.clear_session()"
   ]
  },
  {
   "cell_type": "code",
   "execution_count": 53,
   "metadata": {},
   "outputs": [],
   "source": [
    "model_name = \"optimized lstm model\"\n",
    "checkpointer_bi = ModelCheckpoint(filepath =check_point_bi,\n",
    "                               save_best_only=False, save_weights_only = False, verbose=0,mode='min')\n",
    "early_stopping_bi = EarlyStopping(monitor='val_loss', min_delta=0, patience=10, verbose=0, mode='auto')"
   ]
  },
  {
   "cell_type": "code",
   "execution_count": 55,
   "metadata": {},
   "outputs": [],
   "source": [
    "lstm_bi_model = Sequential([\n",
    "  vectorize_layer,\n",
    "  Embedding(input_dim = vectorize_layer.vocabulary_size()+2, output_dim = EMBEDDING_DIMENSIONS,weights=[embedding_matrix],input_length=MAX_OUTPUT_LENGTH,trainable=False),\n",
    "  Bidirectional(LSTM(128)),\n",
    "  \n",
    "  Dense(N_CLASSES, activation = softmax)\n",
    "  ])\n",
    "\n",
    "lstm_bi_model.compile(\n",
    "    loss='sparse_categorical_crossentropy',\n",
    "    optimizer = Adam(learning_rate = LEARNING_RATE),\n",
    "    metrics = [\"acc\"])"
   ]
  },
  {
   "cell_type": "code",
   "execution_count": 56,
   "metadata": {},
   "outputs": [
    {
     "name": "stdout",
     "output_type": "stream",
     "text": [
      "Model: \"sequential_1\"\n",
      "_________________________________________________________________\n",
      " Layer (type)                Output Shape              Param #   \n",
      "=================================================================\n",
      " text_vectorization (TextVec  (None, 200)              0         \n",
      " torization)                                                     \n",
      "                                                                 \n",
      " embedding_1 (Embedding)     (None, 200, 100)          500200    \n",
      "                                                                 \n",
      " bidirectional_1 (Bidirectio  (None, 256)              234496    \n",
      " nal)                                                            \n",
      "                                                                 \n",
      " dense_1 (Dense)             (None, 4)                 1028      \n",
      "                                                                 \n",
      "=================================================================\n",
      "Total params: 735,724\n",
      "Trainable params: 235,524\n",
      "Non-trainable params: 500,200\n",
      "_________________________________________________________________\n"
     ]
    }
   ],
   "source": [
    "lstm_bi_model.summary()"
   ]
  },
  {
   "cell_type": "code",
   "execution_count": 57,
   "metadata": {
    "scrolled": true
   },
   "outputs": [
    {
     "name": "stdout",
     "output_type": "stream",
     "text": [
      "Epoch 1/10\n",
      "7318/7318 [==============================] - ETA: 0s - loss: 1.0746 - acc: 0.5357"
     ]
    },
    {
     "name": "stderr",
     "output_type": "stream",
     "text": [
      "WARNING:absl:Found untraced functions such as lstm_cell_4_layer_call_fn, lstm_cell_4_layer_call_and_return_conditional_losses, lstm_cell_5_layer_call_fn, lstm_cell_5_layer_call_and_return_conditional_losses while saving (showing 4 of 4). These functions will not be directly callable after loading.\n"
     ]
    },
    {
     "name": "stdout",
     "output_type": "stream",
     "text": [
      "INFO:tensorflow:Assets written to: C:\\Users\\PC\\Desktop\\NN\\Text calssification\\version 3\\checkpoint_bi\\assets\n"
     ]
    },
    {
     "name": "stderr",
     "output_type": "stream",
     "text": [
      "INFO:tensorflow:Assets written to: C:\\Users\\PC\\Desktop\\NN\\Text calssification\\version 3\\checkpoint_bi\\assets\n",
      "WARNING:absl:<keras.layers.recurrent.LSTMCell object at 0x0000022724255160> has the same name 'LSTMCell' as a built-in Keras object. Consider renaming <class 'keras.layers.recurrent.LSTMCell'> to avoid naming conflicts when loading with `tf.keras.models.load_model`. If renaming is not possible, pass the object in the `custom_objects` parameter of the load function.\n",
      "WARNING:absl:<keras.layers.recurrent.LSTMCell object at 0x00000227208C6F10> has the same name 'LSTMCell' as a built-in Keras object. Consider renaming <class 'keras.layers.recurrent.LSTMCell'> to avoid naming conflicts when loading with `tf.keras.models.load_model`. If renaming is not possible, pass the object in the `custom_objects` parameter of the load function.\n"
     ]
    },
    {
     "name": "stdout",
     "output_type": "stream",
     "text": [
      "7318/7318 [==============================] - 633s 86ms/step - loss: 1.0746 - acc: 0.5357 - val_loss: 1.0328 - val_acc: 0.5664\n",
      "Epoch 2/10\n",
      "7318/7318 [==============================] - ETA: 0s - loss: 1.0004 - acc: 0.5752"
     ]
    },
    {
     "name": "stderr",
     "output_type": "stream",
     "text": [
      "WARNING:absl:Found untraced functions such as lstm_cell_4_layer_call_fn, lstm_cell_4_layer_call_and_return_conditional_losses, lstm_cell_5_layer_call_fn, lstm_cell_5_layer_call_and_return_conditional_losses while saving (showing 4 of 4). These functions will not be directly callable after loading.\n"
     ]
    },
    {
     "name": "stdout",
     "output_type": "stream",
     "text": [
      "INFO:tensorflow:Assets written to: C:\\Users\\PC\\Desktop\\NN\\Text calssification\\version 3\\checkpoint_bi\\assets\n"
     ]
    },
    {
     "name": "stderr",
     "output_type": "stream",
     "text": [
      "INFO:tensorflow:Assets written to: C:\\Users\\PC\\Desktop\\NN\\Text calssification\\version 3\\checkpoint_bi\\assets\n",
      "WARNING:absl:<keras.layers.recurrent.LSTMCell object at 0x0000022724255160> has the same name 'LSTMCell' as a built-in Keras object. Consider renaming <class 'keras.layers.recurrent.LSTMCell'> to avoid naming conflicts when loading with `tf.keras.models.load_model`. If renaming is not possible, pass the object in the `custom_objects` parameter of the load function.\n",
      "WARNING:absl:<keras.layers.recurrent.LSTMCell object at 0x00000227208C6F10> has the same name 'LSTMCell' as a built-in Keras object. Consider renaming <class 'keras.layers.recurrent.LSTMCell'> to avoid naming conflicts when loading with `tf.keras.models.load_model`. If renaming is not possible, pass the object in the `custom_objects` parameter of the load function.\n"
     ]
    },
    {
     "name": "stdout",
     "output_type": "stream",
     "text": [
      "7318/7318 [==============================] - 637s 87ms/step - loss: 1.0004 - acc: 0.5752 - val_loss: 0.9933 - val_acc: 0.5878\n",
      "Epoch 3/10\n",
      "7318/7318 [==============================] - ETA: 0s - loss: 0.9709 - acc: 0.5930"
     ]
    },
    {
     "name": "stderr",
     "output_type": "stream",
     "text": [
      "WARNING:absl:Found untraced functions such as lstm_cell_4_layer_call_fn, lstm_cell_4_layer_call_and_return_conditional_losses, lstm_cell_5_layer_call_fn, lstm_cell_5_layer_call_and_return_conditional_losses while saving (showing 4 of 4). These functions will not be directly callable after loading.\n"
     ]
    },
    {
     "name": "stdout",
     "output_type": "stream",
     "text": [
      "INFO:tensorflow:Assets written to: C:\\Users\\PC\\Desktop\\NN\\Text calssification\\version 3\\checkpoint_bi\\assets\n"
     ]
    },
    {
     "name": "stderr",
     "output_type": "stream",
     "text": [
      "INFO:tensorflow:Assets written to: C:\\Users\\PC\\Desktop\\NN\\Text calssification\\version 3\\checkpoint_bi\\assets\n",
      "WARNING:absl:<keras.layers.recurrent.LSTMCell object at 0x0000022724255160> has the same name 'LSTMCell' as a built-in Keras object. Consider renaming <class 'keras.layers.recurrent.LSTMCell'> to avoid naming conflicts when loading with `tf.keras.models.load_model`. If renaming is not possible, pass the object in the `custom_objects` parameter of the load function.\n",
      "WARNING:absl:<keras.layers.recurrent.LSTMCell object at 0x00000227208C6F10> has the same name 'LSTMCell' as a built-in Keras object. Consider renaming <class 'keras.layers.recurrent.LSTMCell'> to avoid naming conflicts when loading with `tf.keras.models.load_model`. If renaming is not possible, pass the object in the `custom_objects` parameter of the load function.\n"
     ]
    },
    {
     "name": "stdout",
     "output_type": "stream",
     "text": [
      "7318/7318 [==============================] - 640s 88ms/step - loss: 0.9709 - acc: 0.5930 - val_loss: 0.9725 - val_acc: 0.5944\n",
      "Epoch 4/10\n",
      "7318/7318 [==============================] - ETA: 0s - loss: 0.9469 - acc: 0.6035"
     ]
    },
    {
     "name": "stderr",
     "output_type": "stream",
     "text": [
      "WARNING:absl:Found untraced functions such as lstm_cell_4_layer_call_fn, lstm_cell_4_layer_call_and_return_conditional_losses, lstm_cell_5_layer_call_fn, lstm_cell_5_layer_call_and_return_conditional_losses while saving (showing 4 of 4). These functions will not be directly callable after loading.\n"
     ]
    },
    {
     "name": "stdout",
     "output_type": "stream",
     "text": [
      "INFO:tensorflow:Assets written to: C:\\Users\\PC\\Desktop\\NN\\Text calssification\\version 3\\checkpoint_bi\\assets\n"
     ]
    },
    {
     "name": "stderr",
     "output_type": "stream",
     "text": [
      "INFO:tensorflow:Assets written to: C:\\Users\\PC\\Desktop\\NN\\Text calssification\\version 3\\checkpoint_bi\\assets\n",
      "WARNING:absl:<keras.layers.recurrent.LSTMCell object at 0x0000022724255160> has the same name 'LSTMCell' as a built-in Keras object. Consider renaming <class 'keras.layers.recurrent.LSTMCell'> to avoid naming conflicts when loading with `tf.keras.models.load_model`. If renaming is not possible, pass the object in the `custom_objects` parameter of the load function.\n",
      "WARNING:absl:<keras.layers.recurrent.LSTMCell object at 0x00000227208C6F10> has the same name 'LSTMCell' as a built-in Keras object. Consider renaming <class 'keras.layers.recurrent.LSTMCell'> to avoid naming conflicts when loading with `tf.keras.models.load_model`. If renaming is not possible, pass the object in the `custom_objects` parameter of the load function.\n"
     ]
    },
    {
     "name": "stdout",
     "output_type": "stream",
     "text": [
      "7318/7318 [==============================] - 689s 94ms/step - loss: 0.9469 - acc: 0.6035 - val_loss: 0.9574 - val_acc: 0.5962\n",
      "Epoch 5/10\n",
      "7318/7318 [==============================] - ETA: 0s - loss: 0.9273 - acc: 0.6126"
     ]
    },
    {
     "name": "stderr",
     "output_type": "stream",
     "text": [
      "WARNING:absl:Found untraced functions such as lstm_cell_4_layer_call_fn, lstm_cell_4_layer_call_and_return_conditional_losses, lstm_cell_5_layer_call_fn, lstm_cell_5_layer_call_and_return_conditional_losses while saving (showing 4 of 4). These functions will not be directly callable after loading.\n"
     ]
    },
    {
     "name": "stdout",
     "output_type": "stream",
     "text": [
      "INFO:tensorflow:Assets written to: C:\\Users\\PC\\Desktop\\NN\\Text calssification\\version 3\\checkpoint_bi\\assets\n"
     ]
    },
    {
     "name": "stderr",
     "output_type": "stream",
     "text": [
      "INFO:tensorflow:Assets written to: C:\\Users\\PC\\Desktop\\NN\\Text calssification\\version 3\\checkpoint_bi\\assets\n",
      "WARNING:absl:<keras.layers.recurrent.LSTMCell object at 0x0000022724255160> has the same name 'LSTMCell' as a built-in Keras object. Consider renaming <class 'keras.layers.recurrent.LSTMCell'> to avoid naming conflicts when loading with `tf.keras.models.load_model`. If renaming is not possible, pass the object in the `custom_objects` parameter of the load function.\n",
      "WARNING:absl:<keras.layers.recurrent.LSTMCell object at 0x00000227208C6F10> has the same name 'LSTMCell' as a built-in Keras object. Consider renaming <class 'keras.layers.recurrent.LSTMCell'> to avoid naming conflicts when loading with `tf.keras.models.load_model`. If renaming is not possible, pass the object in the `custom_objects` parameter of the load function.\n"
     ]
    },
    {
     "name": "stdout",
     "output_type": "stream",
     "text": [
      "7318/7318 [==============================] - 703s 96ms/step - loss: 0.9273 - acc: 0.6126 - val_loss: 0.9432 - val_acc: 0.6027\n",
      "Epoch 6/10\n",
      "7318/7318 [==============================] - ETA: 0s - loss: 0.9081 - acc: 0.6210"
     ]
    },
    {
     "name": "stderr",
     "output_type": "stream",
     "text": [
      "WARNING:absl:Found untraced functions such as lstm_cell_4_layer_call_fn, lstm_cell_4_layer_call_and_return_conditional_losses, lstm_cell_5_layer_call_fn, lstm_cell_5_layer_call_and_return_conditional_losses while saving (showing 4 of 4). These functions will not be directly callable after loading.\n"
     ]
    },
    {
     "name": "stdout",
     "output_type": "stream",
     "text": [
      "INFO:tensorflow:Assets written to: C:\\Users\\PC\\Desktop\\NN\\Text calssification\\version 3\\checkpoint_bi\\assets\n"
     ]
    },
    {
     "name": "stderr",
     "output_type": "stream",
     "text": [
      "INFO:tensorflow:Assets written to: C:\\Users\\PC\\Desktop\\NN\\Text calssification\\version 3\\checkpoint_bi\\assets\n",
      "WARNING:absl:<keras.layers.recurrent.LSTMCell object at 0x0000022724255160> has the same name 'LSTMCell' as a built-in Keras object. Consider renaming <class 'keras.layers.recurrent.LSTMCell'> to avoid naming conflicts when loading with `tf.keras.models.load_model`. If renaming is not possible, pass the object in the `custom_objects` parameter of the load function.\n",
      "WARNING:absl:<keras.layers.recurrent.LSTMCell object at 0x00000227208C6F10> has the same name 'LSTMCell' as a built-in Keras object. Consider renaming <class 'keras.layers.recurrent.LSTMCell'> to avoid naming conflicts when loading with `tf.keras.models.load_model`. If renaming is not possible, pass the object in the `custom_objects` parameter of the load function.\n"
     ]
    },
    {
     "name": "stdout",
     "output_type": "stream",
     "text": [
      "7318/7318 [==============================] - 976s 133ms/step - loss: 0.9081 - acc: 0.6210 - val_loss: 0.9428 - val_acc: 0.6026\n",
      "Epoch 7/10\n",
      "7318/7318 [==============================] - ETA: 0s - loss: 0.8913 - acc: 0.6292"
     ]
    },
    {
     "name": "stderr",
     "output_type": "stream",
     "text": [
      "WARNING:absl:Found untraced functions such as lstm_cell_4_layer_call_fn, lstm_cell_4_layer_call_and_return_conditional_losses, lstm_cell_5_layer_call_fn, lstm_cell_5_layer_call_and_return_conditional_losses while saving (showing 4 of 4). These functions will not be directly callable after loading.\n"
     ]
    },
    {
     "name": "stdout",
     "output_type": "stream",
     "text": [
      "INFO:tensorflow:Assets written to: C:\\Users\\PC\\Desktop\\NN\\Text calssification\\version 3\\checkpoint_bi\\assets\n"
     ]
    },
    {
     "name": "stderr",
     "output_type": "stream",
     "text": [
      "INFO:tensorflow:Assets written to: C:\\Users\\PC\\Desktop\\NN\\Text calssification\\version 3\\checkpoint_bi\\assets\n",
      "WARNING:absl:<keras.layers.recurrent.LSTMCell object at 0x0000022724255160> has the same name 'LSTMCell' as a built-in Keras object. Consider renaming <class 'keras.layers.recurrent.LSTMCell'> to avoid naming conflicts when loading with `tf.keras.models.load_model`. If renaming is not possible, pass the object in the `custom_objects` parameter of the load function.\n",
      "WARNING:absl:<keras.layers.recurrent.LSTMCell object at 0x00000227208C6F10> has the same name 'LSTMCell' as a built-in Keras object. Consider renaming <class 'keras.layers.recurrent.LSTMCell'> to avoid naming conflicts when loading with `tf.keras.models.load_model`. If renaming is not possible, pass the object in the `custom_objects` parameter of the load function.\n"
     ]
    },
    {
     "name": "stdout",
     "output_type": "stream",
     "text": [
      "7318/7318 [==============================] - 983s 134ms/step - loss: 0.8913 - acc: 0.6292 - val_loss: 0.9336 - val_acc: 0.6095\n",
      "Epoch 8/10\n",
      "7318/7318 [==============================] - ETA: 0s - loss: 0.8746 - acc: 0.6359"
     ]
    },
    {
     "name": "stderr",
     "output_type": "stream",
     "text": [
      "WARNING:absl:Found untraced functions such as lstm_cell_4_layer_call_fn, lstm_cell_4_layer_call_and_return_conditional_losses, lstm_cell_5_layer_call_fn, lstm_cell_5_layer_call_and_return_conditional_losses while saving (showing 4 of 4). These functions will not be directly callable after loading.\n"
     ]
    },
    {
     "name": "stdout",
     "output_type": "stream",
     "text": [
      "INFO:tensorflow:Assets written to: C:\\Users\\PC\\Desktop\\NN\\Text calssification\\version 3\\checkpoint_bi\\assets\n"
     ]
    },
    {
     "name": "stderr",
     "output_type": "stream",
     "text": [
      "INFO:tensorflow:Assets written to: C:\\Users\\PC\\Desktop\\NN\\Text calssification\\version 3\\checkpoint_bi\\assets\n",
      "WARNING:absl:<keras.layers.recurrent.LSTMCell object at 0x0000022724255160> has the same name 'LSTMCell' as a built-in Keras object. Consider renaming <class 'keras.layers.recurrent.LSTMCell'> to avoid naming conflicts when loading with `tf.keras.models.load_model`. If renaming is not possible, pass the object in the `custom_objects` parameter of the load function.\n",
      "WARNING:absl:<keras.layers.recurrent.LSTMCell object at 0x00000227208C6F10> has the same name 'LSTMCell' as a built-in Keras object. Consider renaming <class 'keras.layers.recurrent.LSTMCell'> to avoid naming conflicts when loading with `tf.keras.models.load_model`. If renaming is not possible, pass the object in the `custom_objects` parameter of the load function.\n"
     ]
    },
    {
     "name": "stdout",
     "output_type": "stream",
     "text": [
      "7318/7318 [==============================] - 995s 136ms/step - loss: 0.8746 - acc: 0.6359 - val_loss: 0.9208 - val_acc: 0.6172\n",
      "Epoch 9/10\n",
      "7318/7318 [==============================] - ETA: 0s - loss: 0.8586 - acc: 0.6441"
     ]
    },
    {
     "name": "stderr",
     "output_type": "stream",
     "text": [
      "WARNING:absl:Found untraced functions such as lstm_cell_4_layer_call_fn, lstm_cell_4_layer_call_and_return_conditional_losses, lstm_cell_5_layer_call_fn, lstm_cell_5_layer_call_and_return_conditional_losses while saving (showing 4 of 4). These functions will not be directly callable after loading.\n"
     ]
    },
    {
     "name": "stdout",
     "output_type": "stream",
     "text": [
      "INFO:tensorflow:Assets written to: C:\\Users\\PC\\Desktop\\NN\\Text calssification\\version 3\\checkpoint_bi\\assets\n"
     ]
    },
    {
     "name": "stderr",
     "output_type": "stream",
     "text": [
      "INFO:tensorflow:Assets written to: C:\\Users\\PC\\Desktop\\NN\\Text calssification\\version 3\\checkpoint_bi\\assets\n",
      "WARNING:absl:<keras.layers.recurrent.LSTMCell object at 0x0000022724255160> has the same name 'LSTMCell' as a built-in Keras object. Consider renaming <class 'keras.layers.recurrent.LSTMCell'> to avoid naming conflicts when loading with `tf.keras.models.load_model`. If renaming is not possible, pass the object in the `custom_objects` parameter of the load function.\n",
      "WARNING:absl:<keras.layers.recurrent.LSTMCell object at 0x00000227208C6F10> has the same name 'LSTMCell' as a built-in Keras object. Consider renaming <class 'keras.layers.recurrent.LSTMCell'> to avoid naming conflicts when loading with `tf.keras.models.load_model`. If renaming is not possible, pass the object in the `custom_objects` parameter of the load function.\n"
     ]
    },
    {
     "name": "stdout",
     "output_type": "stream",
     "text": [
      "7318/7318 [==============================] - 1148s 157ms/step - loss: 0.8586 - acc: 0.6441 - val_loss: 0.9305 - val_acc: 0.6089\n",
      "Epoch 10/10\n",
      "7318/7318 [==============================] - ETA: 0s - loss: 0.8411 - acc: 0.6518"
     ]
    },
    {
     "name": "stderr",
     "output_type": "stream",
     "text": [
      "WARNING:absl:Found untraced functions such as lstm_cell_4_layer_call_fn, lstm_cell_4_layer_call_and_return_conditional_losses, lstm_cell_5_layer_call_fn, lstm_cell_5_layer_call_and_return_conditional_losses while saving (showing 4 of 4). These functions will not be directly callable after loading.\n"
     ]
    },
    {
     "name": "stdout",
     "output_type": "stream",
     "text": [
      "INFO:tensorflow:Assets written to: C:\\Users\\PC\\Desktop\\NN\\Text calssification\\version 3\\checkpoint_bi\\assets\n"
     ]
    },
    {
     "name": "stderr",
     "output_type": "stream",
     "text": [
      "INFO:tensorflow:Assets written to: C:\\Users\\PC\\Desktop\\NN\\Text calssification\\version 3\\checkpoint_bi\\assets\n",
      "WARNING:absl:<keras.layers.recurrent.LSTMCell object at 0x0000022724255160> has the same name 'LSTMCell' as a built-in Keras object. Consider renaming <class 'keras.layers.recurrent.LSTMCell'> to avoid naming conflicts when loading with `tf.keras.models.load_model`. If renaming is not possible, pass the object in the `custom_objects` parameter of the load function.\n",
      "WARNING:absl:<keras.layers.recurrent.LSTMCell object at 0x00000227208C6F10> has the same name 'LSTMCell' as a built-in Keras object. Consider renaming <class 'keras.layers.recurrent.LSTMCell'> to avoid naming conflicts when loading with `tf.keras.models.load_model`. If renaming is not possible, pass the object in the `custom_objects` parameter of the load function.\n"
     ]
    },
    {
     "name": "stdout",
     "output_type": "stream",
     "text": [
      "\b\b\b\b\b\b\b\b\b\b\b\b\b\b\b\b\b\b\b\b\b\b\b\b\b\b\b\b\b\b\b\b\b\b\b\b\b\b\b\b\b\b\b\b\b\b\b\b\b\b\b\b\b\b\b\b\b\b\b\b\b\b\b\b\b\b\b\b\b\b\b\b\b\b\b\b\b\b\b\b\b\r",
      "7318/7318 [==============================] - 1276s 174ms/step - loss: 0.8411 - acc: 0.6518 - val_loss: 0.9224 - val_acc: 0.6149\n"
     ]
    }
   ],
   "source": [
    "lstm_history_bi_model = lstm_bi_model.fit(train_dataset, \n",
    "          validation_data = val_dataset,\n",
    "          epochs = 10,\n",
    "          callbacks=[checkpointer_bi, early_stopping_bi])"
   ]
  },
  {
   "cell_type": "code",
   "execution_count": 58,
   "metadata": {},
   "outputs": [
    {
     "data": {
      "image/png": "[encoded data removed]",
      "text/plain": [
       "<Figure size 576x396 with 1 Axes>"
      ]
     },
     "metadata": {},
     "output_type": "display_data"
    }
   ],
   "source": [
    "plot_loss_accuracy(lstm_history_bi_model, 'LSTM_Bi-directional')"
   ]
  },
  {
   "cell_type": "code",
   "execution_count": 59,
   "metadata": {},
   "outputs": [
    {
     "name": "stdout",
     "output_type": "stream",
     "text": [
      "813/813 [==============================] - 42s 52ms/step - loss: 0.9224 - acc: 0.6149\n"
     ]
    }
   ],
   "source": [
    "_,val_acc = lstm_bi_model.evaluate(val_dataset)"
   ]
  },
  {
   "cell_type": "code",
   "execution_count": 60,
   "metadata": {},
   "outputs": [],
   "source": [
    "hist_3 = pd.DataFrame(lstm_history_bi_model.history)\n",
    "hist_3['epoch'] = lstm_history_bi_model.epoch"
   ]
  },
  {
   "cell_type": "code",
   "execution_count": 61,
   "metadata": {
    "scrolled": true
   },
   "outputs": [
    {
     "data": {
      "text/html": [
       "<div>\n",
       "<style scoped>\n",
       "    .dataframe tbody tr th:only-of-type {\n",
       "        vertical-align: middle;\n",
       "    }\n",
       "\n",
       "    .dataframe tbody tr th {\n",
       "        vertical-align: top;\n",
       "    }\n",
       "\n",
       "    .dataframe thead th {\n",
       "        text-align: right;\n",
       "    }\n",
       "</style>\n",
       "<table border=\"1\" class=\"dataframe\">\n",
       "  <thead>\n",
       "    <tr style=\"text-align: right;\">\n",
       "      <th></th>\n",
       "      <th>loss</th>\n",
       "      <th>acc</th>\n",
       "      <th>val_loss</th>\n",
       "      <th>val_acc</th>\n",
       "      <th>epoch</th>\n",
       "    </tr>\n",
       "  </thead>\n",
       "  <tbody>\n",
       "    <tr>\n",
       "      <th>0</th>\n",
       "      <td>1.074649</td>\n",
       "      <td>0.535734</td>\n",
       "      <td>1.032842</td>\n",
       "      <td>0.566421</td>\n",
       "      <td>0</td>\n",
       "    </tr>\n",
       "    <tr>\n",
       "      <th>1</th>\n",
       "      <td>1.000390</td>\n",
       "      <td>0.575225</td>\n",
       "      <td>0.993276</td>\n",
       "      <td>0.587792</td>\n",
       "      <td>1</td>\n",
       "    </tr>\n",
       "    <tr>\n",
       "      <th>2</th>\n",
       "      <td>0.970889</td>\n",
       "      <td>0.593024</td>\n",
       "      <td>0.972472</td>\n",
       "      <td>0.594403</td>\n",
       "      <td>2</td>\n",
       "    </tr>\n",
       "    <tr>\n",
       "      <th>3</th>\n",
       "      <td>0.946913</td>\n",
       "      <td>0.603512</td>\n",
       "      <td>0.957410</td>\n",
       "      <td>0.596248</td>\n",
       "      <td>3</td>\n",
       "    </tr>\n",
       "    <tr>\n",
       "      <th>4</th>\n",
       "      <td>0.927286</td>\n",
       "      <td>0.612599</td>\n",
       "      <td>0.943224</td>\n",
       "      <td>0.602706</td>\n",
       "      <td>4</td>\n",
       "    </tr>\n",
       "    <tr>\n",
       "      <th>5</th>\n",
       "      <td>0.908087</td>\n",
       "      <td>0.620952</td>\n",
       "      <td>0.942849</td>\n",
       "      <td>0.602552</td>\n",
       "      <td>5</td>\n",
       "    </tr>\n",
       "    <tr>\n",
       "      <th>6</th>\n",
       "      <td>0.891256</td>\n",
       "      <td>0.629185</td>\n",
       "      <td>0.933594</td>\n",
       "      <td>0.609471</td>\n",
       "      <td>6</td>\n",
       "    </tr>\n",
       "    <tr>\n",
       "      <th>7</th>\n",
       "      <td>0.874620</td>\n",
       "      <td>0.635915</td>\n",
       "      <td>0.920810</td>\n",
       "      <td>0.617159</td>\n",
       "      <td>7</td>\n",
       "    </tr>\n",
       "    <tr>\n",
       "      <th>8</th>\n",
       "      <td>0.858552</td>\n",
       "      <td>0.644063</td>\n",
       "      <td>0.930525</td>\n",
       "      <td>0.608856</td>\n",
       "      <td>8</td>\n",
       "    </tr>\n",
       "    <tr>\n",
       "      <th>9</th>\n",
       "      <td>0.841074</td>\n",
       "      <td>0.651800</td>\n",
       "      <td>0.922365</td>\n",
       "      <td>0.614852</td>\n",
       "      <td>9</td>\n",
       "    </tr>\n",
       "  </tbody>\n",
       "</table>\n",
       "</div>"
      ],
      "text/plain": [
       "       loss       acc  val_loss   val_acc  epoch\n",
       "0  1.074649  0.535734  1.032842  0.566421      0\n",
       "1  1.000390  0.575225  0.993276  0.587792      1\n",
       "2  0.970889  0.593024  0.972472  0.594403      2\n",
       "3  0.946913  0.603512  0.957410  0.596248      3\n",
       "4  0.927286  0.612599  0.943224  0.602706      4\n",
       "5  0.908087  0.620952  0.942849  0.602552      5\n",
       "6  0.891256  0.629185  0.933594  0.609471      6\n",
       "7  0.874620  0.635915  0.920810  0.617159      7\n",
       "8  0.858552  0.644063  0.930525  0.608856      8\n",
       "9  0.841074  0.651800  0.922365  0.614852      9"
      ]
     },
     "execution_count": 61,
     "metadata": {},
     "output_type": "execute_result"
    }
   ],
   "source": [
    "hist_3"
   ]
  },
  {
   "cell_type": "markdown",
   "metadata": {},
   "source": [
    "## CNN model"
   ]
  },
  {
   "cell_type": "code",
   "execution_count": 85,
   "metadata": {},
   "outputs": [],
   "source": [
    "tf.keras.backend.clear_session()"
   ]
  },
  {
   "cell_type": "code",
   "execution_count": 86,
   "metadata": {},
   "outputs": [],
   "source": [
    "checkpointer_cnn = ModelCheckpoint(filepath =check_point_cnn,\n",
    "                               save_best_only=False, save_weights_only = False, verbose=0,mode='min')\n",
    "early_stopping_cnn = EarlyStopping(monitor='val_loss', min_delta=0, patience=10, verbose=0, mode='auto')"
   ]
  },
  {
   "cell_type": "code",
   "execution_count": 87,
   "metadata": {},
   "outputs": [],
   "source": [
    "cnn_model = Sequential([\n",
    "  vectorize_layer,\n",
    "  Embedding(input_dim = vectorize_layer.vocabulary_size()+2, output_dim = EMBEDDING_DIMENSIONS,weights=[embedding_matrix],input_length=MAX_OUTPUT_LENGTH,trainable=False),\n",
    "  Conv1D(128,3, padding = 'same', activation= 'relu'),\n",
    "  MaxPool1D(),\n",
    "  Dropout(0.2),\n",
    " \n",
    "  \n",
    "  Conv1D(128,5, padding = 'same', activation= 'relu'),\n",
    "  MaxPool1D(),\n",
    "  Dropout(0.2),\n",
    "  \n",
    "  Conv1D(128,5, padding = 'same', activation= 'relu'),\n",
    "  MaxPool1D(),\n",
    "  Dropout(0.2),\n",
    "  \n",
    "  Flatten(),\n",
    "  Dense(128, activation = 'relu'),\n",
    "  Dense(N_CLASSES, activation = softmax)\n",
    "  ])\n",
    "\n",
    "cnn_model.compile(\n",
    "    loss='sparse_categorical_crossentropy',\n",
    "    optimizer = Adam(learning_rate = LEARNING_RATE),\n",
    "    metrics = [\"acc\"]\n",
    "    )"
   ]
  },
  {
   "cell_type": "code",
   "execution_count": 88,
   "metadata": {
    "scrolled": true
   },
   "outputs": [
    {
     "name": "stdout",
     "output_type": "stream",
     "text": [
      "Model: \"sequential\"\n",
      "_________________________________________________________________\n",
      " Layer (type)                Output Shape              Param #   \n",
      "=================================================================\n",
      " text_vectorization (TextVec  (None, 200)              0         \n",
      " torization)                                                     \n",
      "                                                                 \n",
      " embedding (Embedding)       (None, 200, 100)          500200    \n",
      "                                                                 \n",
      " conv1d (Conv1D)             (None, 200, 128)          38528     \n",
      "                                                                 \n",
      " max_pooling1d (MaxPooling1D  (None, 100, 128)         0         \n",
      " )                                                               \n",
      "                                                                 \n",
      " dropout (Dropout)           (None, 100, 128)          0         \n",
      "                                                                 \n",
      " conv1d_1 (Conv1D)           (None, 100, 128)          82048     \n",
      "                                                                 \n",
      " max_pooling1d_1 (MaxPooling  (None, 50, 128)          0         \n",
      " 1D)                                                             \n",
      "                                                                 \n",
      " dropout_1 (Dropout)         (None, 50, 128)           0         \n",
      "                                                                 \n",
      " conv1d_2 (Conv1D)           (None, 50, 128)           82048     \n",
      "                                                                 \n",
      " max_pooling1d_2 (MaxPooling  (None, 25, 128)          0         \n",
      " 1D)                                                             \n",
      "                                                                 \n",
      " dropout_2 (Dropout)         (None, 25, 128)           0         \n",
      "                                                                 \n",
      " flatten (Flatten)           (None, 3200)              0         \n",
      "                                                                 \n",
      " dense (Dense)               (None, 128)               409728    \n",
      "                                                                 \n",
      " dense_1 (Dense)             (None, 4)                 516       \n",
      "                                                                 \n",
      "=================================================================\n",
      "Total params: 1,113,068\n",
      "Trainable params: 612,868\n",
      "Non-trainable params: 500,200\n",
      "_________________________________________________________________\n"
     ]
    }
   ],
   "source": [
    "cnn_model.summary()"
   ]
  },
  {
   "cell_type": "markdown",
   "metadata": {},
   "source": []
  },
  {
   "cell_type": "code",
   "execution_count": 89,
   "metadata": {},
   "outputs": [
    {
     "name": "stdout",
     "output_type": "stream",
     "text": [
      "Epoch 1/20\n",
      "7317/7318 [============================>.] - ETA: 0s - loss: 1.0890 - acc: 0.5276"
     ]
    },
    {
     "name": "stderr",
     "output_type": "stream",
     "text": [
      "WARNING:absl:Found untraced functions such as _jit_compiled_convolution_op, _jit_compiled_convolution_op, _jit_compiled_convolution_op while saving (showing 3 of 3). These functions will not be directly callable after loading.\n"
     ]
    },
    {
     "name": "stdout",
     "output_type": "stream",
     "text": [
      "INFO:tensorflow:Assets written to: C:\\Users\\PC\\Desktop\\NN\\Text calssification\\version 3\\checkpoint_cnn\\assets\n"
     ]
    },
    {
     "name": "stderr",
     "output_type": "stream",
     "text": [
      "INFO:tensorflow:Assets written to: C:\\Users\\PC\\Desktop\\NN\\Text calssification\\version 3\\checkpoint_cnn\\assets\n"
     ]
    },
    {
     "name": "stdout",
     "output_type": "stream",
     "text": [
      "7318/7318 [==============================] - 164s 22ms/step - loss: 1.0890 - acc: 0.5276 - val_loss: 1.0292 - val_acc: 0.5744\n",
      "Epoch 2/20\n",
      "7316/7318 [============================>.] - ETA: 0s - loss: 0.9882 - acc: 0.5826"
     ]
    },
    {
     "name": "stderr",
     "output_type": "stream",
     "text": [
      "WARNING:absl:Found untraced functions such as _jit_compiled_convolution_op, _jit_compiled_convolution_op, _jit_compiled_convolution_op while saving (showing 3 of 3). These functions will not be directly callable after loading.\n"
     ]
    },
    {
     "name": "stdout",
     "output_type": "stream",
     "text": [
      "INFO:tensorflow:Assets written to: C:\\Users\\PC\\Desktop\\NN\\Text calssification\\version 3\\checkpoint_cnn\\assets\n"
     ]
    },
    {
     "name": "stderr",
     "output_type": "stream",
     "text": [
      "INFO:tensorflow:Assets written to: C:\\Users\\PC\\Desktop\\NN\\Text calssification\\version 3\\checkpoint_cnn\\assets\n"
     ]
    },
    {
     "name": "stdout",
     "output_type": "stream",
     "text": [
      "7318/7318 [==============================] - 163s 22ms/step - loss: 0.9882 - acc: 0.5826 - val_loss: 0.9667 - val_acc: 0.6073\n",
      "Epoch 3/20\n",
      "7317/7318 [============================>.] - ETA: 0s - loss: 0.9373 - acc: 0.6097"
     ]
    },
    {
     "name": "stderr",
     "output_type": "stream",
     "text": [
      "WARNING:absl:Found untraced functions such as _jit_compiled_convolution_op, _jit_compiled_convolution_op, _jit_compiled_convolution_op while saving (showing 3 of 3). These functions will not be directly callable after loading.\n"
     ]
    },
    {
     "name": "stdout",
     "output_type": "stream",
     "text": [
      "INFO:tensorflow:Assets written to: C:\\Users\\PC\\Desktop\\NN\\Text calssification\\version 3\\checkpoint_cnn\\assets\n"
     ]
    },
    {
     "name": "stderr",
     "output_type": "stream",
     "text": [
      "INFO:tensorflow:Assets written to: C:\\Users\\PC\\Desktop\\NN\\Text calssification\\version 3\\checkpoint_cnn\\assets\n"
     ]
    },
    {
     "name": "stdout",
     "output_type": "stream",
     "text": [
      "7318/7318 [==============================] - 164s 22ms/step - loss: 0.9373 - acc: 0.6097 - val_loss: 0.9485 - val_acc: 0.6122\n",
      "Epoch 4/20\n",
      "7318/7318 [==============================] - ETA: 0s - loss: 0.8981 - acc: 0.6269"
     ]
    },
    {
     "name": "stderr",
     "output_type": "stream",
     "text": [
      "WARNING:absl:Found untraced functions such as _jit_compiled_convolution_op, _jit_compiled_convolution_op, _jit_compiled_convolution_op while saving (showing 3 of 3). These functions will not be directly callable after loading.\n"
     ]
    },
    {
     "name": "stdout",
     "output_type": "stream",
     "text": [
      "INFO:tensorflow:Assets written to: C:\\Users\\PC\\Desktop\\NN\\Text calssification\\version 3\\checkpoint_cnn\\assets\n"
     ]
    },
    {
     "name": "stderr",
     "output_type": "stream",
     "text": [
      "INFO:tensorflow:Assets written to: C:\\Users\\PC\\Desktop\\NN\\Text calssification\\version 3\\checkpoint_cnn\\assets\n"
     ]
    },
    {
     "name": "stdout",
     "output_type": "stream",
     "text": [
      "7318/7318 [==============================] - 163s 22ms/step - loss: 0.8981 - acc: 0.6269 - val_loss: 0.9284 - val_acc: 0.6142\n",
      "Epoch 5/20\n",
      "7318/7318 [==============================] - ETA: 0s - loss: 0.8674 - acc: 0.6406"
     ]
    },
    {
     "name": "stderr",
     "output_type": "stream",
     "text": [
      "WARNING:absl:Found untraced functions such as _jit_compiled_convolution_op, _jit_compiled_convolution_op, _jit_compiled_convolution_op while saving (showing 3 of 3). These functions will not be directly callable after loading.\n"
     ]
    },
    {
     "name": "stdout",
     "output_type": "stream",
     "text": [
      "INFO:tensorflow:Assets written to: C:\\Users\\PC\\Desktop\\NN\\Text calssification\\version 3\\checkpoint_cnn\\assets\n"
     ]
    },
    {
     "name": "stderr",
     "output_type": "stream",
     "text": [
      "INFO:tensorflow:Assets written to: C:\\Users\\PC\\Desktop\\NN\\Text calssification\\version 3\\checkpoint_cnn\\assets\n"
     ]
    },
    {
     "name": "stdout",
     "output_type": "stream",
     "text": [
      "7318/7318 [==============================] - 163s 22ms/step - loss: 0.8674 - acc: 0.6406 - val_loss: 0.9233 - val_acc: 0.6162\n",
      "Epoch 6/20\n",
      "7316/7318 [============================>.] - ETA: 0s - loss: 0.8385 - acc: 0.6546"
     ]
    },
    {
     "name": "stderr",
     "output_type": "stream",
     "text": [
      "WARNING:absl:Found untraced functions such as _jit_compiled_convolution_op, _jit_compiled_convolution_op, _jit_compiled_convolution_op while saving (showing 3 of 3). These functions will not be directly callable after loading.\n"
     ]
    },
    {
     "name": "stdout",
     "output_type": "stream",
     "text": [
      "INFO:tensorflow:Assets written to: C:\\Users\\PC\\Desktop\\NN\\Text calssification\\version 3\\checkpoint_cnn\\assets\n"
     ]
    },
    {
     "name": "stderr",
     "output_type": "stream",
     "text": [
      "INFO:tensorflow:Assets written to: C:\\Users\\PC\\Desktop\\NN\\Text calssification\\version 3\\checkpoint_cnn\\assets\n"
     ]
    },
    {
     "name": "stdout",
     "output_type": "stream",
     "text": [
      "7318/7318 [==============================] - 163s 22ms/step - loss: 0.8385 - acc: 0.6546 - val_loss: 0.9212 - val_acc: 0.6162\n",
      "Epoch 7/20\n",
      "7317/7318 [============================>.] - ETA: 0s - loss: 0.8109 - acc: 0.6671"
     ]
    },
    {
     "name": "stderr",
     "output_type": "stream",
     "text": [
      "WARNING:absl:Found untraced functions such as _jit_compiled_convolution_op, _jit_compiled_convolution_op, _jit_compiled_convolution_op while saving (showing 3 of 3). These functions will not be directly callable after loading.\n"
     ]
    },
    {
     "name": "stdout",
     "output_type": "stream",
     "text": [
      "INFO:tensorflow:Assets written to: C:\\Users\\PC\\Desktop\\NN\\Text calssification\\version 3\\checkpoint_cnn\\assets\n"
     ]
    },
    {
     "name": "stderr",
     "output_type": "stream",
     "text": [
      "INFO:tensorflow:Assets written to: C:\\Users\\PC\\Desktop\\NN\\Text calssification\\version 3\\checkpoint_cnn\\assets\n"
     ]
    },
    {
     "name": "stdout",
     "output_type": "stream",
     "text": [
      "7318/7318 [==============================] - 163s 22ms/step - loss: 0.8110 - acc: 0.6671 - val_loss: 0.9126 - val_acc: 0.6227\n",
      "Epoch 8/20\n",
      "7318/7318 [==============================] - ETA: 0s - loss: 0.7866 - acc: 0.6784"
     ]
    },
    {
     "name": "stderr",
     "output_type": "stream",
     "text": [
      "WARNING:absl:Found untraced functions such as _jit_compiled_convolution_op, _jit_compiled_convolution_op, _jit_compiled_convolution_op while saving (showing 3 of 3). These functions will not be directly callable after loading.\n"
     ]
    },
    {
     "name": "stdout",
     "output_type": "stream",
     "text": [
      "INFO:tensorflow:Assets written to: C:\\Users\\PC\\Desktop\\NN\\Text calssification\\version 3\\checkpoint_cnn\\assets\n"
     ]
    },
    {
     "name": "stderr",
     "output_type": "stream",
     "text": [
      "INFO:tensorflow:Assets written to: C:\\Users\\PC\\Desktop\\NN\\Text calssification\\version 3\\checkpoint_cnn\\assets\n"
     ]
    },
    {
     "name": "stdout",
     "output_type": "stream",
     "text": [
      "7318/7318 [==============================] - 163s 22ms/step - loss: 0.7866 - acc: 0.6784 - val_loss: 0.9050 - val_acc: 0.6301\n",
      "Epoch 9/20\n",
      "7317/7318 [============================>.] - ETA: 0s - loss: 0.7657 - acc: 0.6855"
     ]
    },
    {
     "name": "stderr",
     "output_type": "stream",
     "text": [
      "WARNING:absl:Found untraced functions such as _jit_compiled_convolution_op, _jit_compiled_convolution_op, _jit_compiled_convolution_op while saving (showing 3 of 3). These functions will not be directly callable after loading.\n"
     ]
    },
    {
     "name": "stdout",
     "output_type": "stream",
     "text": [
      "INFO:tensorflow:Assets written to: C:\\Users\\PC\\Desktop\\NN\\Text calssification\\version 3\\checkpoint_cnn\\assets\n"
     ]
    },
    {
     "name": "stderr",
     "output_type": "stream",
     "text": [
      "INFO:tensorflow:Assets written to: C:\\Users\\PC\\Desktop\\NN\\Text calssification\\version 3\\checkpoint_cnn\\assets\n"
     ]
    },
    {
     "name": "stdout",
     "output_type": "stream",
     "text": [
      "7318/7318 [==============================] - 164s 22ms/step - loss: 0.7657 - acc: 0.6855 - val_loss: 0.9194 - val_acc: 0.6232\n",
      "Epoch 10/20\n",
      "7316/7318 [============================>.] - ETA: 0s - loss: 0.7423 - acc: 0.6994"
     ]
    },
    {
     "name": "stderr",
     "output_type": "stream",
     "text": [
      "WARNING:absl:Found untraced functions such as _jit_compiled_convolution_op, _jit_compiled_convolution_op, _jit_compiled_convolution_op while saving (showing 3 of 3). These functions will not be directly callable after loading.\n"
     ]
    },
    {
     "name": "stdout",
     "output_type": "stream",
     "text": [
      "INFO:tensorflow:Assets written to: C:\\Users\\PC\\Desktop\\NN\\Text calssification\\version 3\\checkpoint_cnn\\assets\n"
     ]
    },
    {
     "name": "stderr",
     "output_type": "stream",
     "text": [
      "INFO:tensorflow:Assets written to: C:\\Users\\PC\\Desktop\\NN\\Text calssification\\version 3\\checkpoint_cnn\\assets\n"
     ]
    },
    {
     "name": "stdout",
     "output_type": "stream",
     "text": [
      "7318/7318 [==============================] - 163s 22ms/step - loss: 0.7423 - acc: 0.6994 - val_loss: 0.9132 - val_acc: 0.6218\n",
      "Epoch 11/20\n",
      "7318/7318 [==============================] - ETA: 0s - loss: 0.7186 - acc: 0.7073"
     ]
    },
    {
     "name": "stderr",
     "output_type": "stream",
     "text": [
      "WARNING:absl:Found untraced functions such as _jit_compiled_convolution_op, _jit_compiled_convolution_op, _jit_compiled_convolution_op while saving (showing 3 of 3). These functions will not be directly callable after loading.\n"
     ]
    },
    {
     "name": "stdout",
     "output_type": "stream",
     "text": [
      "INFO:tensorflow:Assets written to: C:\\Users\\PC\\Desktop\\NN\\Text calssification\\version 3\\checkpoint_cnn\\assets\n"
     ]
    },
    {
     "name": "stderr",
     "output_type": "stream",
     "text": [
      "INFO:tensorflow:Assets written to: C:\\Users\\PC\\Desktop\\NN\\Text calssification\\version 3\\checkpoint_cnn\\assets\n"
     ]
    },
    {
     "name": "stdout",
     "output_type": "stream",
     "text": [
      "7318/7318 [==============================] - 164s 22ms/step - loss: 0.7186 - acc: 0.7073 - val_loss: 0.9210 - val_acc: 0.6184\n",
      "Epoch 12/20\n",
      "7316/7318 [============================>.] - ETA: 0s - loss: 0.6997 - acc: 0.7168"
     ]
    },
    {
     "name": "stderr",
     "output_type": "stream",
     "text": [
      "WARNING:absl:Found untraced functions such as _jit_compiled_convolution_op, _jit_compiled_convolution_op, _jit_compiled_convolution_op while saving (showing 3 of 3). These functions will not be directly callable after loading.\n"
     ]
    },
    {
     "name": "stdout",
     "output_type": "stream",
     "text": [
      "INFO:tensorflow:Assets written to: C:\\Users\\PC\\Desktop\\NN\\Text calssification\\version 3\\checkpoint_cnn\\assets\n"
     ]
    },
    {
     "name": "stderr",
     "output_type": "stream",
     "text": [
      "INFO:tensorflow:Assets written to: C:\\Users\\PC\\Desktop\\NN\\Text calssification\\version 3\\checkpoint_cnn\\assets\n"
     ]
    },
    {
     "name": "stdout",
     "output_type": "stream",
     "text": [
      "7318/7318 [==============================] - 164s 22ms/step - loss: 0.6997 - acc: 0.7167 - val_loss: 0.9063 - val_acc: 0.6310\n",
      "Epoch 13/20\n",
      "7316/7318 [============================>.] - ETA: 0s - loss: 0.6817 - acc: 0.7250"
     ]
    },
    {
     "name": "stderr",
     "output_type": "stream",
     "text": [
      "WARNING:absl:Found untraced functions such as _jit_compiled_convolution_op, _jit_compiled_convolution_op, _jit_compiled_convolution_op while saving (showing 3 of 3). These functions will not be directly callable after loading.\n"
     ]
    },
    {
     "name": "stdout",
     "output_type": "stream",
     "text": [
      "INFO:tensorflow:Assets written to: C:\\Users\\PC\\Desktop\\NN\\Text calssification\\version 3\\checkpoint_cnn\\assets\n"
     ]
    },
    {
     "name": "stderr",
     "output_type": "stream",
     "text": [
      "INFO:tensorflow:Assets written to: C:\\Users\\PC\\Desktop\\NN\\Text calssification\\version 3\\checkpoint_cnn\\assets\n"
     ]
    },
    {
     "name": "stdout",
     "output_type": "stream",
     "text": [
      "7318/7318 [==============================] - 163s 22ms/step - loss: 0.6818 - acc: 0.7250 - val_loss: 0.9290 - val_acc: 0.6241\n",
      "Epoch 14/20\n",
      "7317/7318 [============================>.] - ETA: 0s - loss: 0.6662 - acc: 0.7329"
     ]
    },
    {
     "name": "stderr",
     "output_type": "stream",
     "text": [
      "WARNING:absl:Found untraced functions such as _jit_compiled_convolution_op, _jit_compiled_convolution_op, _jit_compiled_convolution_op while saving (showing 3 of 3). These functions will not be directly callable after loading.\n"
     ]
    },
    {
     "name": "stdout",
     "output_type": "stream",
     "text": [
      "INFO:tensorflow:Assets written to: C:\\Users\\PC\\Desktop\\NN\\Text calssification\\version 3\\checkpoint_cnn\\assets\n"
     ]
    },
    {
     "name": "stderr",
     "output_type": "stream",
     "text": [
      "INFO:tensorflow:Assets written to: C:\\Users\\PC\\Desktop\\NN\\Text calssification\\version 3\\checkpoint_cnn\\assets\n"
     ]
    },
    {
     "name": "stdout",
     "output_type": "stream",
     "text": [
      "7318/7318 [==============================] - 163s 22ms/step - loss: 0.6662 - acc: 0.7329 - val_loss: 0.9212 - val_acc: 0.6255\n",
      "Epoch 15/20\n",
      "7316/7318 [============================>.] - ETA: 0s - loss: 0.6456 - acc: 0.7392"
     ]
    },
    {
     "name": "stderr",
     "output_type": "stream",
     "text": [
      "WARNING:absl:Found untraced functions such as _jit_compiled_convolution_op, _jit_compiled_convolution_op, _jit_compiled_convolution_op while saving (showing 3 of 3). These functions will not be directly callable after loading.\n"
     ]
    },
    {
     "name": "stdout",
     "output_type": "stream",
     "text": [
      "INFO:tensorflow:Assets written to: C:\\Users\\PC\\Desktop\\NN\\Text calssification\\version 3\\checkpoint_cnn\\assets\n"
     ]
    },
    {
     "name": "stderr",
     "output_type": "stream",
     "text": [
      "INFO:tensorflow:Assets written to: C:\\Users\\PC\\Desktop\\NN\\Text calssification\\version 3\\checkpoint_cnn\\assets\n"
     ]
    },
    {
     "name": "stdout",
     "output_type": "stream",
     "text": [
      "7318/7318 [==============================] - 163s 22ms/step - loss: 0.6456 - acc: 0.7392 - val_loss: 0.9418 - val_acc: 0.6196\n",
      "Epoch 16/20\n",
      "7318/7318 [==============================] - ETA: 0s - loss: 0.6349 - acc: 0.7456"
     ]
    },
    {
     "name": "stderr",
     "output_type": "stream",
     "text": [
      "WARNING:absl:Found untraced functions such as _jit_compiled_convolution_op, _jit_compiled_convolution_op, _jit_compiled_convolution_op while saving (showing 3 of 3). These functions will not be directly callable after loading.\n"
     ]
    },
    {
     "name": "stdout",
     "output_type": "stream",
     "text": [
      "INFO:tensorflow:Assets written to: C:\\Users\\PC\\Desktop\\NN\\Text calssification\\version 3\\checkpoint_cnn\\assets\n"
     ]
    },
    {
     "name": "stderr",
     "output_type": "stream",
     "text": [
      "INFO:tensorflow:Assets written to: C:\\Users\\PC\\Desktop\\NN\\Text calssification\\version 3\\checkpoint_cnn\\assets\n"
     ]
    },
    {
     "name": "stdout",
     "output_type": "stream",
     "text": [
      "7318/7318 [==============================] - 165s 23ms/step - loss: 0.6349 - acc: 0.7456 - val_loss: 0.9367 - val_acc: 0.6182\n",
      "Epoch 17/20\n",
      "7317/7318 [============================>.] - ETA: 0s - loss: 0.6176 - acc: 0.7523"
     ]
    },
    {
     "name": "stderr",
     "output_type": "stream",
     "text": [
      "WARNING:absl:Found untraced functions such as _jit_compiled_convolution_op, _jit_compiled_convolution_op, _jit_compiled_convolution_op while saving (showing 3 of 3). These functions will not be directly callable after loading.\n"
     ]
    },
    {
     "name": "stdout",
     "output_type": "stream",
     "text": [
      "INFO:tensorflow:Assets written to: C:\\Users\\PC\\Desktop\\NN\\Text calssification\\version 3\\checkpoint_cnn\\assets\n"
     ]
    },
    {
     "name": "stderr",
     "output_type": "stream",
     "text": [
      "INFO:tensorflow:Assets written to: C:\\Users\\PC\\Desktop\\NN\\Text calssification\\version 3\\checkpoint_cnn\\assets\n"
     ]
    },
    {
     "name": "stdout",
     "output_type": "stream",
     "text": [
      "7318/7318 [==============================] - 159s 22ms/step - loss: 0.6177 - acc: 0.7523 - val_loss: 0.9400 - val_acc: 0.6241\n",
      "Epoch 18/20\n",
      "7316/7318 [============================>.] - ETA: 0s - loss: 0.6042 - acc: 0.7564"
     ]
    },
    {
     "name": "stderr",
     "output_type": "stream",
     "text": [
      "WARNING:absl:Found untraced functions such as _jit_compiled_convolution_op, _jit_compiled_convolution_op, _jit_compiled_convolution_op while saving (showing 3 of 3). These functions will not be directly callable after loading.\n"
     ]
    },
    {
     "name": "stdout",
     "output_type": "stream",
     "text": [
      "INFO:tensorflow:Assets written to: C:\\Users\\PC\\Desktop\\NN\\Text calssification\\version 3\\checkpoint_cnn\\assets\n"
     ]
    },
    {
     "name": "stderr",
     "output_type": "stream",
     "text": [
      "INFO:tensorflow:Assets written to: C:\\Users\\PC\\Desktop\\NN\\Text calssification\\version 3\\checkpoint_cnn\\assets\n"
     ]
    },
    {
     "name": "stdout",
     "output_type": "stream",
     "text": [
      "\b\b\b\b\b\b\b\b\b\b\b\b\b\b\b\b\b\b\b\b\b\b\b\b\b\b\b\b\b\b\b\b\b\b\b\b\b\b\b\b\b\b\b\b\b\b\b\b\b\b\b\b\b\b\b\b\b\b\b\b\b\b\b\b\b\b\b\b\b\b\b\b\b\b\b\b\b\b\b\b\b\r",
      "7318/7318 [==============================] - 161s 22ms/step - loss: 0.6042 - acc: 0.7564 - val_loss: 0.9495 - val_acc: 0.6187\n"
     ]
    }
   ],
   "source": [
    "cnn_history_model = cnn_model.fit(train_dataset, \n",
    "          validation_data = val_dataset,\n",
    "          epochs = 20,\n",
    "          callbacks=[checkpointer_cnn, early_stopping_cnn])"
   ]
  },
  {
   "cell_type": "code",
   "execution_count": 90,
   "metadata": {},
   "outputs": [
    {
     "name": "stdout",
     "output_type": "stream",
     "text": [
      "813/813 [==============================] - 6s 8ms/step - loss: 0.9495 - acc: 0.6187\n"
     ]
    }
   ],
   "source": [
    "_,val_acc = cnn_model.evaluate(val_dataset)"
   ]
  },
  {
   "cell_type": "code",
   "execution_count": 91,
   "metadata": {},
   "outputs": [],
   "source": [
    "hist_4 = pd.DataFrame(cnn_history_model.history)\n",
    "hist_4['epoch'] = cnn_history_model.epoch"
   ]
  },
  {
   "cell_type": "code",
   "execution_count": 92,
   "metadata": {
    "scrolled": true
   },
   "outputs": [
    {
     "data": {
      "text/html": [
       "<div>\n",
       "<style scoped>\n",
       "    .dataframe tbody tr th:only-of-type {\n",
       "        vertical-align: middle;\n",
       "    }\n",
       "\n",
       "    .dataframe tbody tr th {\n",
       "        vertical-align: top;\n",
       "    }\n",
       "\n",
       "    .dataframe thead th {\n",
       "        text-align: right;\n",
       "    }\n",
       "</style>\n",
       "<table border=\"1\" class=\"dataframe\">\n",
       "  <thead>\n",
       "    <tr style=\"text-align: right;\">\n",
       "      <th></th>\n",
       "      <th>loss</th>\n",
       "      <th>acc</th>\n",
       "      <th>val_loss</th>\n",
       "      <th>val_acc</th>\n",
       "      <th>epoch</th>\n",
       "    </tr>\n",
       "  </thead>\n",
       "  <tbody>\n",
       "    <tr>\n",
       "      <th>0</th>\n",
       "      <td>1.088978</td>\n",
       "      <td>0.527552</td>\n",
       "      <td>1.029178</td>\n",
       "      <td>0.574416</td>\n",
       "      <td>0</td>\n",
       "    </tr>\n",
       "    <tr>\n",
       "      <th>1</th>\n",
       "      <td>0.988219</td>\n",
       "      <td>0.582553</td>\n",
       "      <td>0.966693</td>\n",
       "      <td>0.607319</td>\n",
       "      <td>1</td>\n",
       "    </tr>\n",
       "    <tr>\n",
       "      <th>2</th>\n",
       "      <td>0.937312</td>\n",
       "      <td>0.609678</td>\n",
       "      <td>0.948529</td>\n",
       "      <td>0.612239</td>\n",
       "      <td>2</td>\n",
       "    </tr>\n",
       "    <tr>\n",
       "      <th>3</th>\n",
       "      <td>0.898087</td>\n",
       "      <td>0.626930</td>\n",
       "      <td>0.928385</td>\n",
       "      <td>0.614237</td>\n",
       "      <td>3</td>\n",
       "    </tr>\n",
       "    <tr>\n",
       "      <th>4</th>\n",
       "      <td>0.867384</td>\n",
       "      <td>0.640595</td>\n",
       "      <td>0.923340</td>\n",
       "      <td>0.616236</td>\n",
       "      <td>4</td>\n",
       "    </tr>\n",
       "    <tr>\n",
       "      <th>5</th>\n",
       "      <td>0.838546</td>\n",
       "      <td>0.654567</td>\n",
       "      <td>0.921243</td>\n",
       "      <td>0.616236</td>\n",
       "      <td>5</td>\n",
       "    </tr>\n",
       "    <tr>\n",
       "      <th>6</th>\n",
       "      <td>0.810951</td>\n",
       "      <td>0.667054</td>\n",
       "      <td>0.912575</td>\n",
       "      <td>0.622694</td>\n",
       "      <td>6</td>\n",
       "    </tr>\n",
       "    <tr>\n",
       "      <th>7</th>\n",
       "      <td>0.786583</td>\n",
       "      <td>0.678413</td>\n",
       "      <td>0.905049</td>\n",
       "      <td>0.630074</td>\n",
       "      <td>7</td>\n",
       "    </tr>\n",
       "    <tr>\n",
       "      <th>8</th>\n",
       "      <td>0.765682</td>\n",
       "      <td>0.685502</td>\n",
       "      <td>0.919371</td>\n",
       "      <td>0.623155</td>\n",
       "      <td>8</td>\n",
       "    </tr>\n",
       "    <tr>\n",
       "      <th>9</th>\n",
       "      <td>0.742291</td>\n",
       "      <td>0.699389</td>\n",
       "      <td>0.913168</td>\n",
       "      <td>0.621771</td>\n",
       "      <td>9</td>\n",
       "    </tr>\n",
       "    <tr>\n",
       "      <th>10</th>\n",
       "      <td>0.718635</td>\n",
       "      <td>0.707348</td>\n",
       "      <td>0.921037</td>\n",
       "      <td>0.618389</td>\n",
       "      <td>10</td>\n",
       "    </tr>\n",
       "    <tr>\n",
       "      <th>11</th>\n",
       "      <td>0.699743</td>\n",
       "      <td>0.716726</td>\n",
       "      <td>0.906294</td>\n",
       "      <td>0.630996</td>\n",
       "      <td>11</td>\n",
       "    </tr>\n",
       "    <tr>\n",
       "      <th>12</th>\n",
       "      <td>0.681754</td>\n",
       "      <td>0.724959</td>\n",
       "      <td>0.929025</td>\n",
       "      <td>0.624077</td>\n",
       "      <td>12</td>\n",
       "    </tr>\n",
       "    <tr>\n",
       "      <th>13</th>\n",
       "      <td>0.666196</td>\n",
       "      <td>0.732885</td>\n",
       "      <td>0.921240</td>\n",
       "      <td>0.625461</td>\n",
       "      <td>13</td>\n",
       "    </tr>\n",
       "    <tr>\n",
       "      <th>14</th>\n",
       "      <td>0.645577</td>\n",
       "      <td>0.739171</td>\n",
       "      <td>0.941801</td>\n",
       "      <td>0.619619</td>\n",
       "      <td>14</td>\n",
       "    </tr>\n",
       "    <tr>\n",
       "      <th>15</th>\n",
       "      <td>0.634860</td>\n",
       "      <td>0.745559</td>\n",
       "      <td>0.936656</td>\n",
       "      <td>0.618235</td>\n",
       "      <td>15</td>\n",
       "    </tr>\n",
       "    <tr>\n",
       "      <th>16</th>\n",
       "      <td>0.617672</td>\n",
       "      <td>0.752306</td>\n",
       "      <td>0.940023</td>\n",
       "      <td>0.624077</td>\n",
       "      <td>16</td>\n",
       "    </tr>\n",
       "    <tr>\n",
       "      <th>17</th>\n",
       "      <td>0.604204</td>\n",
       "      <td>0.756440</td>\n",
       "      <td>0.949512</td>\n",
       "      <td>0.618696</td>\n",
       "      <td>17</td>\n",
       "    </tr>\n",
       "  </tbody>\n",
       "</table>\n",
       "</div>"
      ],
      "text/plain": [
       "        loss       acc  val_loss   val_acc  epoch\n",
       "0   1.088978  0.527552  1.029178  0.574416      0\n",
       "1   0.988219  0.582553  0.966693  0.607319      1\n",
       "2   0.937312  0.609678  0.948529  0.612239      2\n",
       "3   0.898087  0.626930  0.928385  0.614237      3\n",
       "4   0.867384  0.640595  0.923340  0.616236      4\n",
       "5   0.838546  0.654567  0.921243  0.616236      5\n",
       "6   0.810951  0.667054  0.912575  0.622694      6\n",
       "7   0.786583  0.678413  0.905049  0.630074      7\n",
       "8   0.765682  0.685502  0.919371  0.623155      8\n",
       "9   0.742291  0.699389  0.913168  0.621771      9\n",
       "10  0.718635  0.707348  0.921037  0.618389     10\n",
       "11  0.699743  0.716726  0.906294  0.630996     11\n",
       "12  0.681754  0.724959  0.929025  0.624077     12\n",
       "13  0.666196  0.732885  0.921240  0.625461     13\n",
       "14  0.645577  0.739171  0.941801  0.619619     14\n",
       "15  0.634860  0.745559  0.936656  0.618235     15\n",
       "16  0.617672  0.752306  0.940023  0.624077     16\n",
       "17  0.604204  0.756440  0.949512  0.618696     17"
      ]
     },
     "execution_count": 92,
     "metadata": {},
     "output_type": "execute_result"
    }
   ],
   "source": [
    "hist_4"
   ]
  },
  {
   "cell_type": "code",
   "execution_count": 93,
   "metadata": {},
   "outputs": [
    {
     "data": {
      "image/png": "[encoded data removed]",
      "text/plain": [
       "<Figure size 576x396 with 1 Axes>"
      ]
     },
     "metadata": {},
     "output_type": "display_data"
    }
   ],
   "source": [
    "plot_loss_accuracy(cnn_history_model, 'CNN 1D model')"
   ]
  },
  {
   "cell_type": "markdown",
   "metadata": {},
   "source": [
    "With batch 8, learning rate 1e-4, vocabulary 5000 and max sequence lenght - the model starts to overfit."
   ]
  },
  {
   "cell_type": "code",
   "execution_count": null,
   "metadata": {},
   "outputs": [],
   "source": []
  },
  {
   "cell_type": "markdown",
   "metadata": {},
   "source": [
    "### CNN model no drop out"
   ]
  },
  {
   "cell_type": "code",
   "execution_count": 78,
   "metadata": {},
   "outputs": [],
   "source": [
    "cnn_model_2 = Sequential([\n",
    "  vectorize_layer,\n",
    "  Embedding(input_dim = vectorize_layer.vocabulary_size()+2, output_dim = EMBEDDING_DIMENSIONS,weights=[embedding_matrix],input_length=MAX_OUTPUT_LENGTH,trainable=False),\n",
    "  Conv1D(128,3, padding = 'same', activation= 'relu'),\n",
    "  MaxPool1D(),\n",
    " \n",
    "  \n",
    "  Conv1D(128,5, padding = 'same', activation= 'relu'),\n",
    "  MaxPool1D(),\n",
    "  \n",
    "  \n",
    "  Conv1D(128,5, padding = 'same', activation= 'relu'),\n",
    "  MaxPool1D(),\n",
    "  \n",
    "  \n",
    "  Flatten(),\n",
    "  Dense(128, activation = 'relu'),\n",
    "  Dense(N_CLASSES, activation = softmax)\n",
    "  ])\n",
    "\n",
    "cnn_model_2.compile(\n",
    "    loss='sparse_categorical_crossentropy',\n",
    "    optimizer = Adam(learning_rate = LEARNING_RATE),\n",
    "    metrics = [\"acc\"]\n",
    "    )"
   ]
  },
  {
   "cell_type": "code",
   "execution_count": 79,
   "metadata": {},
   "outputs": [
    {
     "name": "stdout",
     "output_type": "stream",
     "text": [
      "Epoch 1/10\n",
      "7318/7318 [==============================] - 145s 20ms/step - loss: 1.0585 - acc: 0.5432 - val_loss: 1.0050 - val_acc: 0.5789\n",
      "Epoch 2/10\n",
      "7318/7318 [==============================] - 142s 19ms/step - loss: 0.9401 - acc: 0.6061 - val_loss: 0.9498 - val_acc: 0.6041\n",
      "Epoch 3/10\n",
      "7318/7318 [==============================] - 143s 20ms/step - loss: 0.8531 - acc: 0.6465 - val_loss: 0.9656 - val_acc: 0.6030\n",
      "Epoch 4/10\n",
      "7318/7318 [==============================] - 143s 20ms/step - loss: 0.7524 - acc: 0.6958 - val_loss: 0.9912 - val_acc: 0.5970\n",
      "Epoch 5/10\n",
      "7318/7318 [==============================] - 144s 20ms/step - loss: 0.6333 - acc: 0.7519 - val_loss: 1.0833 - val_acc: 0.5829\n",
      "Epoch 6/10\n",
      "7318/7318 [==============================] - 142s 19ms/step - loss: 0.5102 - acc: 0.8081 - val_loss: 1.1728 - val_acc: 0.5798\n",
      "Epoch 7/10\n",
      "7318/7318 [==============================] - 145s 20ms/step - loss: 0.3902 - acc: 0.8615 - val_loss: 1.3450 - val_acc: 0.5690\n",
      "Epoch 8/10\n",
      "7318/7318 [==============================] - 144s 20ms/step - loss: 0.2885 - acc: 0.9038 - val_loss: 1.5465 - val_acc: 0.5613\n",
      "Epoch 9/10\n",
      "7318/7318 [==============================] - 149s 20ms/step - loss: 0.2144 - acc: 0.9337 - val_loss: 1.8102 - val_acc: 0.5475\n",
      "Epoch 10/10\n",
      "7318/7318 [==============================] - 151s 21ms/step - loss: 0.1752 - acc: 0.9460 - val_loss: 1.9684 - val_acc: 0.5467\n"
     ]
    }
   ],
   "source": [
    "cnn_history_model_2 = cnn_model_2.fit(train_dataset, \n",
    "          validation_data = val_dataset,\n",
    "          epochs = 10,\n",
    "          verbose=1)"
   ]
  },
  {
   "cell_type": "code",
   "execution_count": 82,
   "metadata": {},
   "outputs": [
    {
     "name": "stdout",
     "output_type": "stream",
     "text": [
      "813/813 [==============================] - 7s 8ms/step - loss: 1.9684 - acc: 0.5467\n"
     ]
    }
   ],
   "source": [
    "_,val_acc = cnn_model_2.evaluate(val_dataset)"
   ]
  },
  {
   "cell_type": "code",
   "execution_count": 83,
   "metadata": {},
   "outputs": [],
   "source": [
    "hist_5 = pd.DataFrame(cnn_history_model.history)\n",
    "hist_5['epoch'] = cnn_history_model_2.epoch"
   ]
  },
  {
   "cell_type": "code",
   "execution_count": 84,
   "metadata": {},
   "outputs": [
    {
     "data": {
      "image/png": "[encoded data removed]",
      "text/plain": [
       "<Figure size 576x396 with 1 Axes>"
      ]
     },
     "metadata": {},
     "output_type": "display_data"
    }
   ],
   "source": [
    "plot_loss_accuracy(cnn_history_model_2, 'CNN 1D model 2')"
   ]
  },
  {
   "cell_type": "code",
   "execution_count": null,
   "metadata": {},
   "outputs": [],
   "source": []
  }
 ],
 "metadata": {
  "kernelspec": {
   "display_name": "Python 3 (ipykernel)",
   "language": "python",
   "name": "python3"
  },
  "language_info": {
   "codemirror_mode": {
    "name": "ipython",
    "version": 3
   },
   "file_extension": ".py",
   "mimetype": "text/x-python",
   "name": "python",
   "nbconvert_exporter": "python",
   "pygments_lexer": "ipython3",
   "version": "3.9.7"
  }
 },
 "nbformat": 4,
 "nbformat_minor": 4
}
