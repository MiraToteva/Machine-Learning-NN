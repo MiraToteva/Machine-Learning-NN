{
 "cells": [
  {
   "cell_type": "code",
   "execution_count": 1,
   "metadata": {},
   "outputs": [],
   "source": [
    "%matplotlib inline"
   ]
  },
  {
   "cell_type": "code",
   "execution_count": 115,
   "metadata": {},
   "outputs": [],
   "source": [
    "import numpy as np\n",
    "import pandas as pd\n",
    "import matplotlib.pyplot as plt\n",
    "import pickle \n",
    "\n",
    "import tensorflow as tf\n",
    "from tensorflow import keras\n",
    "from tensorflow.keras import layers\n",
    "from tensorflow.keras.layers.experimental.preprocessing import TextVectorization # how to import text vectorization in tf 2.3.0\n",
    "from tensorflow.keras.layers import Dense, Embedding, GlobalAveragePooling1D\n",
    "import gensim\n",
    "from gensim.models import Word2Vec\n",
    "from keras.models import Model\n",
    "from tensorflow.keras.layers import Embedding,Input,Dropout, LSTM, Bidirectional, \\\n",
    "    Conv1D, MaxPool1D, Dense, Attention, Flatten\n",
    "from tensorflow.keras.models import Sequential\n",
    "\n",
    "from tensorflow.keras.activations import softmax\n",
    "from tensorflow.keras.losses import SparseCategoricalCrossentropy\n",
    "from tensorflow.keras.optimizers import Adam\n",
    "from tensorflow.keras.callbacks import TensorBoard, ModelCheckpoint,EarlyStopping\n",
    "from keras.preprocessing.text import Tokenizer\n",
    "\n",
    "\n",
    "import mlflow\n",
    "plt.style.use('seaborn')"
   ]
  },
  {
   "cell_type": "markdown",
   "metadata": {},
   "source": [
    "## Models hyperparamters version 4"
   ]
  },
  {
   "cell_type": "markdown",
   "metadata": {},
   "source": [
    "* maximum length of the sequences - we will not use the actual maximum length of the sequences as very few songs have 800 words in them. If we choose a maximum length equal to 300, we will cover 94% of the lyrics' actual length, if we choose 250 - we will cover 90%. We can try with 300, if we have a problem with the vanishing gradient - we can decrease it to 250 or even 200 (85%)\n",
    "\n",
    "\n",
    "\n",
    "* maximum vocabulary size (word-based vocabulary) -  The set of unique words used in the text corpus is ~ 50 000. Given the fact that we work with lyrics of songs, even though we selected only English lyrics there is a high probability that there are some words left from Spanish ( typical for pop songs), some typical slang for artists, and other peculiarities. Thus we will use the maximum size of vocabulary 10 000 ( if it is too big, we can drop it to 5000) and keep only the most common words.\n",
    "\n",
    "\n",
    "\n",
    "\n",
    "* BATCH_SIZE = 16\n",
    "* MAX_VOCABULARY_SIZE = 5000 \n",
    "* MAX_OUTPUT_LENGTH = 200\n",
    "* EMBEDDING_DIMENSIONS = 100 #loaded GloVe trained  with 100d\n",
    "* LEARNING_RATE = 1e-3"
   ]
  },
  {
   "cell_type": "code",
   "execution_count": null,
   "metadata": {},
   "outputs": [],
   "source": [
    "#Vocabulary size = 5000"
   ]
  },
  {
   "cell_type": "code",
   "execution_count": 120,
   "metadata": {},
   "outputs": [],
   "source": [
    "TRAIN_BASE_DIR = r\"C:\\Users\\PC\\Desktop\\NN\\Text calssification\\train\"\n",
    "TEST_BASE_DIR = r\"C:\\Users\\PC\\Desktop\\NN\\Text calssification\\test\"\n",
    "logs = r\"C:\\Users\\PC\\Desktop\\NN\\Text calssification\\logs\"\n",
    "check_point_base = r\"C:\\Users\\PC\\Desktop\\NN\\Text calssification\\version 4\\checkpoint_base\"\n",
    "check_point_opt = r\"C:\\Users\\PC\\Desktop\\NN\\Text calssification\\version 4\\checkpoint_opt\"\n",
    "check_point_cnn = r\"C:\\Users\\PC\\Desktop\\NN\\Text calssification\\version 4\\checkpoint_cnn\"\n",
    "\n",
    "N_CLASSES = 4\n",
    "\n",
    "BATCH_SIZE = 16 # 8\n",
    "MAX_VOCABULARY_SIZE = 5000 # change to 5000 if too big\n",
    "MAX_OUTPUT_LENGTH = 200 # 300\n",
    "EMBEDDING_DIMENSIONS = 100 #loaded GloVe trained  with 100d\n",
    "LEARNING_RATE = 1e-3 # by deafult Adam optimizer learning rate is 1e-3\n",
    "Seed = 42"
   ]
  },
  {
   "cell_type": "code",
   "execution_count": 4,
   "metadata": {
    "scrolled": true
   },
   "outputs": [
    {
     "name": "stdout",
     "output_type": "stream",
     "text": [
      "Found 65048 files belonging to 4 classes.\n",
      "Using 58544 files for training.\n"
     ]
    }
   ],
   "source": [
    "\n",
    "train_dataset = tf.keras.utils.text_dataset_from_directory(TRAIN_BASE_DIR,batch_size = BATCH_SIZE, validation_split=0.1,\n",
    "    subset='training', seed = Seed)\n",
    "   \n",
    "   "
   ]
  },
  {
   "cell_type": "markdown",
   "metadata": {},
   "source": [
    "Found 65048 files belonging to 4 classes.\n",
    "Using 58544 files for training."
   ]
  },
  {
   "cell_type": "code",
   "execution_count": 5,
   "metadata": {},
   "outputs": [
    {
     "name": "stdout",
     "output_type": "stream",
     "text": [
      "3659\n"
     ]
    }
   ],
   "source": [
    "print(train_dataset.cardinality().numpy())"
   ]
  },
  {
   "cell_type": "code",
   "execution_count": 6,
   "metadata": {},
   "outputs": [
    {
     "name": "stdout",
     "output_type": "stream",
     "text": [
      "Found 65048 files belonging to 4 classes.\n",
      "Using 6504 files for validation.\n"
     ]
    }
   ],
   "source": [
    "val_dataset = tf.keras.utils.text_dataset_from_directory(\n",
    "    TRAIN_BASE_DIR, batch_size=BATCH_SIZE, validation_split=0.1,\n",
    "    subset='validation', seed=Seed)"
   ]
  },
  {
   "cell_type": "code",
   "execution_count": 7,
   "metadata": {
    "scrolled": true
   },
   "outputs": [
    {
     "name": "stdout",
     "output_type": "stream",
     "text": [
      "Found 4000 files belonging to 4 classes.\n"
     ]
    }
   ],
   "source": [
    "test_dataset = tf.keras.utils.text_dataset_from_directory(TEST_BASE_DIR,batch_size = BATCH_SIZE, seed = Seed)"
   ]
  },
  {
   "cell_type": "code",
   "execution_count": 8,
   "metadata": {},
   "outputs": [
    {
     "data": {
      "text/plain": [
       "([(0, 'Jazz'), (1, 'Metal'), (2, 'Pop'), (3, 'Rock')],\n",
       " [(0, 'Jazz'), (1, 'Metal'), (2, 'Pop'), (3, 'Rock')])"
      ]
     },
     "execution_count": 8,
     "metadata": {},
     "output_type": "execute_result"
    }
   ],
   "source": [
    "### check the labesl\n",
    "list(enumerate(train_dataset.class_names)), list(enumerate(val_dataset.class_names))"
   ]
  },
  {
   "cell_type": "code",
   "execution_count": 9,
   "metadata": {
    "scrolled": true
   },
   "outputs": [
    {
     "data": {
      "text/plain": [
       "(1, 'Metal')"
      ]
     },
     "execution_count": 9,
     "metadata": {},
     "output_type": "execute_result"
    }
   ],
   "source": [
    "list(enumerate(train_dataset.class_names))[1]"
   ]
  },
  {
   "cell_type": "markdown",
   "metadata": {},
   "source": [
    ".shape method in keras gives the lenght of a sequence"
   ]
  },
  {
   "cell_type": "markdown",
   "metadata": {},
   "source": [
    "## Vectorizing the text\n",
    "\n",
    "This layer has basic options for managing text in a Keras model. It transforms a batch of strings (one sample = one string) into either a list of token indices (one sample = 1D tensor of integer token indices) or a dense representation (one sample = 1D tensor of float values representing data about the sample's tokens)."
   ]
  },
  {
   "cell_type": "code",
   "execution_count": 10,
   "metadata": {},
   "outputs": [],
   "source": [
    "vectorize_layer = TextVectorization(\n",
    "    max_tokens = MAX_VOCABULARY_SIZE, \n",
    "    output_sequence_length=MAX_OUTPUT_LENGTH)"
   ]
  },
  {
   "cell_type": "code",
   "execution_count": 11,
   "metadata": {},
   "outputs": [],
   "source": [
    "text_ds = train_dataset.map(lambda x, y: x)\n",
    "vectorize_layer.adapt(text_ds)"
   ]
  },
  {
   "cell_type": "code",
   "execution_count": 12,
   "metadata": {},
   "outputs": [],
   "source": [
    "### 76952 vocabulary size without limiting the vocabulary size to max size"
   ]
  },
  {
   "cell_type": "code",
   "execution_count": 13,
   "metadata": {},
   "outputs": [],
   "source": [
    "#text_ds"
   ]
  },
  {
   "cell_type": "code",
   "execution_count": 14,
   "metadata": {
    "scrolled": false
   },
   "outputs": [
    {
     "data": {
      "text/plain": [
       "5000"
      ]
     },
     "execution_count": 14,
     "metadata": {},
     "output_type": "execute_result"
    }
   ],
   "source": [
    "vectorize_layer.vocabulary_size()"
   ]
  },
  {
   "cell_type": "code",
   "execution_count": 15,
   "metadata": {},
   "outputs": [],
   "source": [
    "## 1 is unkown"
   ]
  },
  {
   "cell_type": "code",
   "execution_count": 16,
   "metadata": {
    "scrolled": true
   },
   "outputs": [],
   "source": [
    "#vectorize_layer([\"something nigga money where love queen king boy girl\"])"
   ]
  },
  {
   "cell_type": "code",
   "execution_count": 17,
   "metadata": {
    "scrolled": true
   },
   "outputs": [
    {
     "data": {
      "text/plain": [
       "['rang',\n",
       " 'liberate',\n",
       " 'imitation',\n",
       " 'harvest',\n",
       " 'frail',\n",
       " 'eminem',\n",
       " 'ditch',\n",
       " 'crucify',\n",
       " 'carter',\n",
       " 'carol',\n",
       " 'canvas',\n",
       " 'brief',\n",
       " 'yelling',\n",
       " 'village',\n",
       " 'stunna',\n",
       " 'slut',\n",
       " 'rocker',\n",
       " 'relation',\n",
       " 'oooo',\n",
       " 'moonlit',\n",
       " 'max',\n",
       " 'loco',\n",
       " 'league',\n",
       " 'kelly',\n",
       " 'incomplete',\n",
       " 'grinding',\n",
       " 'donna',\n",
       " 'diggin',\n",
       " 'decline',\n",
       " 'coulda',\n",
       " 'argue',\n",
       " 'tuck',\n",
       " 'spiral',\n",
       " 'raped',\n",
       " 'poster',\n",
       " 'pitter',\n",
       " 'marie',\n",
       " 'lucifer',\n",
       " 'lettin',\n",
       " 'howling',\n",
       " 'gyal',\n",
       " 'farmer',\n",
       " 'crunk',\n",
       " 'countin',\n",
       " 'assume',\n",
       " 'aisle',\n",
       " 'actor',\n",
       " 'yow',\n",
       " 'western',\n",
       " 'upstairs',\n",
       " 'twerk',\n",
       " 'tipsy',\n",
       " 'tic',\n",
       " 'suffocate',\n",
       " 'stash',\n",
       " 'stairway',\n",
       " 'sideways',\n",
       " 'ruler',\n",
       " 'rooftop',\n",
       " 'retreat',\n",
       " 'permanent',\n",
       " 'nurse',\n",
       " 'jury',\n",
       " 'fu',\n",
       " 'finna',\n",
       " 'dreamy',\n",
       " 'declare',\n",
       " 'daze',\n",
       " 'collapse',\n",
       " 'boyz',\n",
       " 'asshole',\n",
       " 'worldwide',\n",
       " 'wage',\n",
       " 'vibration',\n",
       " 'sweetness',\n",
       " 'strut',\n",
       " 'snatch',\n",
       " 'rail',\n",
       " 'purse',\n",
       " 'nameless',\n",
       " 'mysterious',\n",
       " 'melancholy',\n",
       " 'meanwhile',\n",
       " 'laura',\n",
       " 'jo',\n",
       " 'hustlin',\n",
       " 'feature',\n",
       " 'coin',\n",
       " 'blondie',\n",
       " 'beyonce',\n",
       " 'roman',\n",
       " 'rod',\n",
       " 'madonna',\n",
       " 'interest',\n",
       " 'ideal',\n",
       " 'heals',\n",
       " 'headlight',\n",
       " 'hallway',\n",
       " 'foul',\n",
       " 'dressing',\n",
       " 'dixie',\n",
       " 'discovered',\n",
       " 'def',\n",
       " 'creator',\n",
       " 'countless',\n",
       " 'clique',\n",
       " 'clack',\n",
       " 'armageddon',\n",
       " 'waiter',\n",
       " 'task',\n",
       " 'sparkling',\n",
       " 'snitch',\n",
       " 'smith',\n",
       " 'rodeo',\n",
       " 'philosophy',\n",
       " 'mint',\n",
       " 'lorraine',\n",
       " 'indigo',\n",
       " 'hypnotic',\n",
       " 'hunting',\n",
       " 'happenin',\n",
       " 'guru',\n",
       " 'genocide',\n",
       " 'gained',\n",
       " 'flock',\n",
       " 'flipped',\n",
       " 'expensive',\n",
       " 'drake',\n",
       " 'device',\n",
       " 'current',\n",
       " 'curl',\n",
       " 'corruption',\n",
       " 'closest',\n",
       " 'capital',\n",
       " 'breathin',\n",
       " 'belle',\n",
       " 'barbie',\n",
       " 'wid',\n",
       " 'tit',\n",
       " 'soothing',\n",
       " 'rug',\n",
       " 'punishment',\n",
       " 'package',\n",
       " 'nae',\n",
       " 'mony',\n",
       " 'lifestyle',\n",
       " 'jewelry',\n",
       " 'infected',\n",
       " 'et',\n",
       " 'droppin',\n",
       " 'detroit',\n",
       " 'delay',\n",
       " 'cunt',\n",
       " 'cu',\n",
       " 'anxiety',\n",
       " 'anew',\n",
       " 'zip',\n",
       " 'testify',\n",
       " 'sanctuary',\n",
       " 'rearrange',\n",
       " 'pyramid',\n",
       " 'paved',\n",
       " 'oxygen',\n",
       " 'nearer',\n",
       " 'nd',\n",
       " 'mustve',\n",
       " 'hesitation',\n",
       " 'galaxy',\n",
       " 'fails',\n",
       " 'diving',\n",
       " 'digital',\n",
       " 'delicious',\n",
       " 'contagious',\n",
       " 'bud',\n",
       " 'atlanta',\n",
       " 'appeal',\n",
       " 'apocalypse',\n",
       " 'yearn',\n",
       " 'vanity',\n",
       " 'trend',\n",
       " 'tighter',\n",
       " 'shooter',\n",
       " 'peach',\n",
       " 'lou',\n",
       " 'landed',\n",
       " 'idiot',\n",
       " 'failing',\n",
       " 'expected',\n",
       " 'entered',\n",
       " 'cuddle',\n",
       " 'confuse',\n",
       " 'chuck',\n",
       " 'caring',\n",
       " 'amends',\n",
       " 'abide',\n",
       " 'whoop',\n",
       " 'unleash',\n",
       " 'tyrant',\n",
       " 'sighing',\n",
       " 'seize',\n",
       " 'resurrection',\n",
       " 'necessary',\n",
       " 'logic',\n",
       " 'lemonade',\n",
       " 'jaded',\n",
       " 'hut',\n",
       " 'hitting',\n",
       " 'disorder',\n",
       " 'difficult',\n",
       " 'delusion',\n",
       " 'crossroad',\n",
       " 'chart',\n",
       " 'ben',\n",
       " 'address',\n",
       " 'wastin',\n",
       " 'trusting',\n",
       " 'travelling',\n",
       " 'talent',\n",
       " 'suicidal',\n",
       " 'spendin',\n",
       " 'shoo',\n",
       " 'politician',\n",
       " 'playground',\n",
       " 'now',\n",
       " 'nearness',\n",
       " 'mutha',\n",
       " 'muddy',\n",
       " 'kite',\n",
       " 'jerk',\n",
       " 'isolation',\n",
       " 'intent',\n",
       " 'infinite',\n",
       " 'grieve',\n",
       " 'goon',\n",
       " 'destroying',\n",
       " 'dealt',\n",
       " 'dave',\n",
       " 'crucified',\n",
       " 'convince',\n",
       " 'chump',\n",
       " 'basket',\n",
       " 'undertow',\n",
       " 'ugh',\n",
       " 'tossin',\n",
       " 'stall',\n",
       " 'shred',\n",
       " 'settled',\n",
       " 'scarlet',\n",
       " 'runner',\n",
       " 'robbed',\n",
       " 'ripple',\n",
       " 'pedal',\n",
       " 'pawn',\n",
       " 'maniac',\n",
       " 'football',\n",
       " 'faggot',\n",
       " 'dump',\n",
       " 'descend',\n",
       " 'dancefloor',\n",
       " 'cult',\n",
       " 'crook',\n",
       " 'communication',\n",
       " 'bom',\n",
       " 'boil',\n",
       " 'blazin',\n",
       " 'biz',\n",
       " 'behavior',\n",
       " 'badly',\n",
       " 'axe',\n",
       " 'yayo',\n",
       " 'tax',\n",
       " 'steer',\n",
       " 'reminisce',\n",
       " 'rank',\n",
       " 'nailed',\n",
       " 'murdered',\n",
       " 'motel',\n",
       " 'mere',\n",
       " 'member',\n",
       " 'listenin',\n",
       " 'kansa',\n",
       " 'hella',\n",
       " 'heh',\n",
       " 'headline',\n",
       " 'gga',\n",
       " 'designed',\n",
       " 'curb',\n",
       " 'soda',\n",
       " 'shaped',\n",
       " 'shack',\n",
       " 'ringin',\n",
       " 'method',\n",
       " 'loop',\n",
       " 'isle',\n",
       " 'inviting',\n",
       " 'impress',\n",
       " 'identity',\n",
       " 'goddess',\n",
       " 'gloomy',\n",
       " 'consolation',\n",
       " 'carousel',\n",
       " 'blush',\n",
       " 'whirl',\n",
       " 'unusual',\n",
       " 'tempt',\n",
       " 'taylor',\n",
       " 'stripper',\n",
       " 'slit',\n",
       " 'reminding',\n",
       " 'reel',\n",
       " 'possessed',\n",
       " 'playboy',\n",
       " 'petal',\n",
       " 'leaning',\n",
       " 'janet',\n",
       " 'insecurity',\n",
       " 'homeboy',\n",
       " 'evermore',\n",
       " 'copy',\n",
       " 'controlling',\n",
       " 'brotha',\n",
       " 'brightest',\n",
       " 'woulda',\n",
       " 'unbelievable',\n",
       " 'sweetie',\n",
       " 'sucked',\n",
       " 'spilling',\n",
       " 'seventh',\n",
       " 'scenery',\n",
       " 'revealing',\n",
       " 'remix',\n",
       " 'q',\n",
       " 'pledge',\n",
       " 'patron',\n",
       " 'oer',\n",
       " 'japan',\n",
       " 'goo',\n",
       " 'firm',\n",
       " 'event',\n",
       " 'enchanted',\n",
       " 'ella',\n",
       " 'dusty',\n",
       " 'cruising',\n",
       " 'chant',\n",
       " 'bonnie',\n",
       " 'bin',\n",
       " 'whistling',\n",
       " 'warmer',\n",
       " 'unity',\n",
       " 'underwater',\n",
       " 'touchdown',\n",
       " 'strollin',\n",
       " 'splendor',\n",
       " 'spice',\n",
       " 'rendezvous',\n",
       " 'object',\n",
       " 'murderer',\n",
       " 'lifeline',\n",
       " 'jeff',\n",
       " 'hottest',\n",
       " 'groupie',\n",
       " 'groovy',\n",
       " 'gosh',\n",
       " 'crumbling',\n",
       " 'cinderella',\n",
       " 'ciara',\n",
       " 'ching',\n",
       " 'cheated',\n",
       " 'chased',\n",
       " 'carve',\n",
       " 'canyon',\n",
       " 'yeahh',\n",
       " 'yap',\n",
       " 'writer',\n",
       " 'wiz',\n",
       " 'vote',\n",
       " 'virginia',\n",
       " 'survived',\n",
       " 'stared',\n",
       " 'sounding',\n",
       " 'slack',\n",
       " 'secure',\n",
       " 'sacrificed',\n",
       " 'parted',\n",
       " 'newborn',\n",
       " 'luv',\n",
       " 'kentucky',\n",
       " 'homicide',\n",
       " 'groovin',\n",
       " 'fortress',\n",
       " 'flippin',\n",
       " 'era',\n",
       " 'education',\n",
       " 'delivered',\n",
       " 'causing',\n",
       " 'awe',\n",
       " 'anguish',\n",
       " 'addict',\n",
       " 'tum',\n",
       " 'tucked',\n",
       " 'towel',\n",
       " 'tempting',\n",
       " 'tainted',\n",
       " 'sweater',\n",
       " 'sprung',\n",
       " 'slang',\n",
       " 'routine',\n",
       " 'print',\n",
       " 'pirate',\n",
       " 'limousine',\n",
       " 'lethal',\n",
       " 'joker',\n",
       " 'hitch',\n",
       " 'gospel',\n",
       " 'gathering',\n",
       " 'framed',\n",
       " 'exchange',\n",
       " 'effort',\n",
       " 'dealin',\n",
       " 'chi',\n",
       " 'catchin',\n",
       " 'buyin',\n",
       " 'adrenaline',\n",
       " 'why',\n",
       " 'undo',\n",
       " 'turkey',\n",
       " 'tommy',\n",
       " 'term',\n",
       " 'sweating',\n",
       " 'stressed',\n",
       " 'spittin',\n",
       " 'sadly',\n",
       " 'risin',\n",
       " 'reject',\n",
       " 'realest',\n",
       " 'possibly',\n",
       " 'pitiful',\n",
       " 'pitbull',\n",
       " 'patter',\n",
       " 'overload',\n",
       " 'oom',\n",
       " 'noble',\n",
       " 'lighting',\n",
       " 'juicy',\n",
       " 'inspired',\n",
       " 'headache',\n",
       " 'fairytale',\n",
       " 'example',\n",
       " 'dose',\n",
       " 'disappears',\n",
       " 'charles',\n",
       " 'bleek',\n",
       " 'beggar',\n",
       " 'anyhow',\n",
       " 'vile',\n",
       " 'vanish',\n",
       " 'usa',\n",
       " 'trained',\n",
       " 'timing',\n",
       " 'stripe',\n",
       " 'strictly',\n",
       " 'sparrow',\n",
       " 'sounded',\n",
       " 'shuffle',\n",
       " 'sew',\n",
       " 'several',\n",
       " 'secrecy',\n",
       " 'sample',\n",
       " 'process',\n",
       " 'popular',\n",
       " 'overtime',\n",
       " 'myth',\n",
       " 'martin',\n",
       " 'jukebox',\n",
       " 'ivy',\n",
       " 'heartbreaker',\n",
       " 'function',\n",
       " 'dock',\n",
       " 'dame',\n",
       " 'correct',\n",
       " 'comb',\n",
       " 'bursting',\n",
       " 'area',\n",
       " 'anti',\n",
       " 'adam',\n",
       " 'unstoppable',\n",
       " 'sundown',\n",
       " 'stealin',\n",
       " 'rowdy',\n",
       " 'polka',\n",
       " 'oops',\n",
       " 'oohh',\n",
       " 'milky',\n",
       " 'mil',\n",
       " 'loneliest',\n",
       " 'khaled',\n",
       " 'jerry',\n",
       " 'insect',\n",
       " 'impression',\n",
       " 'fling',\n",
       " 'expectation',\n",
       " 'drill',\n",
       " 'countdown',\n",
       " 'committed',\n",
       " 'cindy',\n",
       " 'biting',\n",
       " 'birdman',\n",
       " 'bewildered',\n",
       " 'beloved',\n",
       " 'believin',\n",
       " 'willie',\n",
       " 'wallet',\n",
       " 'taunt',\n",
       " 'subway',\n",
       " 'spilled',\n",
       " 'scratching',\n",
       " 'scheming',\n",
       " 'remove',\n",
       " 'perspective',\n",
       " 'obviously',\n",
       " 'loyalty',\n",
       " 'kim',\n",
       " 'je',\n",
       " 'hypocrite',\n",
       " 'hardcore',\n",
       " 'flashin',\n",
       " 'elvis',\n",
       " 'earthquake',\n",
       " 'cracker',\n",
       " 'comprehend',\n",
       " 'cable',\n",
       " 'buffalo',\n",
       " 'booze',\n",
       " 'bizarre',\n",
       " 'bending',\n",
       " 'applause',\n",
       " 'anchor',\n",
       " 'abandon',\n",
       " 'wooo',\n",
       " 'unlock',\n",
       " 'tightly',\n",
       " 'terribly',\n",
       " 'temper',\n",
       " 'stutter',\n",
       " 'straw',\n",
       " 'shocked',\n",
       " 'rocked',\n",
       " 'random',\n",
       " 'peak',\n",
       " 'obie',\n",
       " 'oath',\n",
       " 'kong',\n",
       " 'healthy',\n",
       " 'gloria',\n",
       " 'globe',\n",
       " 'gleaming',\n",
       " 'frankie',\n",
       " 'ford',\n",
       " 'detail',\n",
       " 'deeply',\n",
       " 'daytime',\n",
       " 'dagger',\n",
       " 'cannibal',\n",
       " 'brutal',\n",
       " 'bleak',\n",
       " 'bewitched',\n",
       " 'vocal',\n",
       " 'uniform',\n",
       " 'twinkle',\n",
       " 'thus',\n",
       " 'steeple',\n",
       " 'standard',\n",
       " 'stabbed',\n",
       " 'reflect',\n",
       " 'react',\n",
       " 'punish',\n",
       " 'philly',\n",
       " 'passenger',\n",
       " 'male',\n",
       " 'licking',\n",
       " 'liberation',\n",
       " 'lad',\n",
       " 'joined',\n",
       " 'jammin',\n",
       " 'international',\n",
       " 'intense',\n",
       " 'huggin',\n",
       " 'hospital',\n",
       " 'ham',\n",
       " 'ggas',\n",
       " 'drunken',\n",
       " 'damaged',\n",
       " 'caution',\n",
       " 'alot',\n",
       " 'virus',\n",
       " 'unaware',\n",
       " 'studio',\n",
       " 'slower',\n",
       " 'skate',\n",
       " 'senseless',\n",
       " 'poke',\n",
       " 'pointed',\n",
       " 'oi',\n",
       " 'offered',\n",
       " 'obscene',\n",
       " 'motivation',\n",
       " 'ka',\n",
       " 'iced',\n",
       " 'grim',\n",
       " 'dismiss',\n",
       " 'choo',\n",
       " 'cheatin',\n",
       " 'blooded',\n",
       " 'blasphemy',\n",
       " 'attached',\n",
       " 'zz',\n",
       " 'twista',\n",
       " 'touchin',\n",
       " 'stiff',\n",
       " 'status',\n",
       " 'spitting',\n",
       " 'smaller',\n",
       " 'renegade',\n",
       " 'quicker',\n",
       " 'minor',\n",
       " 'lime',\n",
       " 'junk',\n",
       " 'juliet',\n",
       " 'herb',\n",
       " 'francisco',\n",
       " 'flop',\n",
       " 'element',\n",
       " 'eighteen',\n",
       " 'critic',\n",
       " 'clone',\n",
       " 'childrens',\n",
       " 'brink',\n",
       " 'wizard',\n",
       " 'vacant',\n",
       " 'tingle',\n",
       " 'spaceship',\n",
       " 'seldom',\n",
       " 'nate',\n",
       " 'madman',\n",
       " 'log',\n",
       " 'infection',\n",
       " 'hooray',\n",
       " 'hahaha',\n",
       " 'fork',\n",
       " 'evrything',\n",
       " 'england',\n",
       " 'drained',\n",
       " 'dedicate',\n",
       " 'curious',\n",
       " 'controlled',\n",
       " 'clarity',\n",
       " 'brian',\n",
       " 'birdland',\n",
       " 'auld',\n",
       " 'yellin',\n",
       " 'tech',\n",
       " 'spike',\n",
       " 'snowflake',\n",
       " 'sauce',\n",
       " 'reflecting',\n",
       " 'rebellion',\n",
       " 'ragged',\n",
       " 'olden',\n",
       " 'o',\n",
       " 'musical',\n",
       " 'mon',\n",
       " 'louisiana',\n",
       " 'knuckle',\n",
       " 'inna',\n",
       " 'infernal',\n",
       " 'frog',\n",
       " 'fee',\n",
       " 'expecting',\n",
       " 'duh',\n",
       " 'doot',\n",
       " 'dolla',\n",
       " 'distress',\n",
       " 'dearly',\n",
       " 'curly',\n",
       " 'cooking',\n",
       " 'berry',\n",
       " 'award',\n",
       " 'unleashed',\n",
       " 'undress',\n",
       " 'troop',\n",
       " 'tote',\n",
       " 'sucka',\n",
       " 'strive',\n",
       " 'soak',\n",
       " 'sever',\n",
       " 'scorn',\n",
       " 'roaring',\n",
       " 'rebound',\n",
       " 'prop',\n",
       " 'prettiest',\n",
       " 'official',\n",
       " 'lifting',\n",
       " 'entertainment',\n",
       " 'desperately',\n",
       " 'designer',\n",
       " 'conquered',\n",
       " 'conclusion',\n",
       " 'con',\n",
       " 'certainly',\n",
       " 'boiling',\n",
       " 'aloud',\n",
       " 'windy',\n",
       " 'triumph',\n",
       " 'travelin',\n",
       " 'thrilling',\n",
       " 'suckin',\n",
       " 'strawberry',\n",
       " 'steak',\n",
       " 'slightly',\n",
       " 'reeling',\n",
       " 'potion',\n",
       " 'planted',\n",
       " 'moses',\n",
       " 'mindless',\n",
       " 'meaningless',\n",
       " 'judy',\n",
       " 'hippy',\n",
       " 'hidin',\n",
       " 'hawk',\n",
       " 'happily',\n",
       " 'gamble',\n",
       " 'feared',\n",
       " 'exposed',\n",
       " 'endure',\n",
       " 'daffodil',\n",
       " 'cuff',\n",
       " 'conscious',\n",
       " 'coaster',\n",
       " 'balling',\n",
       " 'ape',\n",
       " 'wreckage',\n",
       " 'wop',\n",
       " 'wooden',\n",
       " 'voyage',\n",
       " 'title',\n",
       " 'ross',\n",
       " 'richard',\n",
       " 'religious',\n",
       " 'poured',\n",
       " 'pointing',\n",
       " 'noel',\n",
       " 'nana',\n",
       " 'midst',\n",
       " 'luckiest',\n",
       " 'loot',\n",
       " 'jigga',\n",
       " 'hearse',\n",
       " 'flirt',\n",
       " 'exotic',\n",
       " 'embraced',\n",
       " 'elton',\n",
       " 'eastside',\n",
       " 'drippin',\n",
       " 'cigar',\n",
       " 'chemistry',\n",
       " 'bun',\n",
       " 'brook',\n",
       " 'breaker',\n",
       " 'bella',\n",
       " 'adored',\n",
       " 'thriller',\n",
       " 'suspicion',\n",
       " 'suffered',\n",
       " 'snowman',\n",
       " 'shimmy',\n",
       " 'repeated',\n",
       " 'proceed',\n",
       " 'phoenix',\n",
       " 'oficial',\n",
       " 'november',\n",
       " 'nineteen',\n",
       " 'nike',\n",
       " 'massacre',\n",
       " 'lite',\n",
       " 'hmmm',\n",
       " 'handful',\n",
       " 'greener',\n",
       " 'forgiving',\n",
       " 'doorstep',\n",
       " 'donkey',\n",
       " 'diva',\n",
       " 'distraction',\n",
       " 'disguised',\n",
       " 'diana',\n",
       " 'cuckoo',\n",
       " 'criticize',\n",
       " 'counter',\n",
       " 'cough',\n",
       " 'corps',\n",
       " 'cord',\n",
       " 'cooked',\n",
       " 'coloured',\n",
       " 'closely',\n",
       " 'claimed',\n",
       " 'checked',\n",
       " 'cape',\n",
       " 'candlelight',\n",
       " 'burner',\n",
       " 'bracelet',\n",
       " 'begged',\n",
       " 'zoo',\n",
       " 'yacht',\n",
       " 'wither',\n",
       " 'upper',\n",
       " 'unique',\n",
       " 'traded',\n",
       " 'tonk',\n",
       " 'strangest',\n",
       " 'spree',\n",
       " 'softer',\n",
       " 'serum',\n",
       " 'serenity',\n",
       " 'quarrel',\n",
       " 'parked',\n",
       " 'og',\n",
       " 'meek',\n",
       " 'manhattan',\n",
       " 'maggot',\n",
       " 'lined',\n",
       " 'lightly',\n",
       " 'leak',\n",
       " 'flocka',\n",
       " 'flea',\n",
       " 'escaping',\n",
       " 'entire',\n",
       " 'drifted',\n",
       " 'descends',\n",
       " 'descending',\n",
       " 'departed',\n",
       " 'custom',\n",
       " 'clash',\n",
       " 'central',\n",
       " 'bronx',\n",
       " 'battery',\n",
       " 'angle',\n",
       " 'anarchy',\n",
       " 'worthwhile',\n",
       " 'wat',\n",
       " 'trice',\n",
       " 'spinner',\n",
       " 'sole',\n",
       " 'slowing',\n",
       " 'shalt',\n",
       " 'ridiculous',\n",
       " 'reachin',\n",
       " 'penetrate',\n",
       " 'parasite',\n",
       " 'officer',\n",
       " 'mojo',\n",
       " 'minaj',\n",
       " 'mek',\n",
       " 'marilyn',\n",
       " 'lunatic',\n",
       " 'longest',\n",
       " 'lalala',\n",
       " 'julie',\n",
       " 'instant',\n",
       " 'hoop',\n",
       " 'fragment',\n",
       " 'fonte',\n",
       " 'florida',\n",
       " 'explosion',\n",
       " 'explore',\n",
       " 'dm',\n",
       " 'computer',\n",
       " 'alter',\n",
       " 'alligator',\n",
       " 'unborn',\n",
       " 'unable',\n",
       " 'study',\n",
       " 'speeding',\n",
       " 'sly',\n",
       " 'shackle',\n",
       " 'responsible',\n",
       " 'reminded',\n",
       " 'rapping',\n",
       " 'parting',\n",
       " 'paranoia',\n",
       " 'pad',\n",
       " 'packin',\n",
       " 'owned',\n",
       " 'necklace',\n",
       " 'mostly',\n",
       " 'mistreated',\n",
       " 'miserable',\n",
       " 'merrily',\n",
       " 'learnin',\n",
       " 'interlude',\n",
       " 'hov',\n",
       " 'heroin',\n",
       " 'grenade',\n",
       " 'execution',\n",
       " 'duke',\n",
       " 'draggin',\n",
       " 'disbelief',\n",
       " 'creating',\n",
       " 'contradiction',\n",
       " 'coldest',\n",
       " 'charade',\n",
       " 'bunny',\n",
       " 'brace',\n",
       " 'blackout',\n",
       " 'bitterness',\n",
       " 'bait',\n",
       " 'angeles',\n",
       " 'ala',\n",
       " 'wooh',\n",
       " 'unfolds',\n",
       " 'treason',\n",
       " 'technology',\n",
       " 'spoiled',\n",
       " 'speechless',\n",
       " 'semi',\n",
       " 'rihanna',\n",
       " 'prowl',\n",
       " 'obsessed',\n",
       " 'mink',\n",
       " 'mild',\n",
       " 'layer',\n",
       " 'landing',\n",
       " 'israel',\n",
       " 'inspire',\n",
       " 'impressed',\n",
       " 'ignorant',\n",
       " 'idle',\n",
       " 'horny',\n",
       " 'hometown',\n",
       " 'harbor',\n",
       " 'fluid',\n",
       " 'flowin',\n",
       " 'fitted',\n",
       " 'entrancing',\n",
       " 'elbow',\n",
       " 'drought',\n",
       " 'dolly',\n",
       " 'deo',\n",
       " 'cheetah',\n",
       " 'butcher',\n",
       " 'borrowed',\n",
       " 'bearing',\n",
       " 'bayou',\n",
       " 'aunt',\n",
       " 'audience',\n",
       " 'apathy',\n",
       " 'xzibit',\n",
       " 'wantin',\n",
       " 'uuh',\n",
       " 'toxic',\n",
       " 'tot',\n",
       " 'tch',\n",
       " 'strolling',\n",
       " 'stamp',\n",
       " 'stalk',\n",
       " 'speakin',\n",
       " 'shovel',\n",
       " 'roaming',\n",
       " 'ripe',\n",
       " 'report',\n",
       " 'porn',\n",
       " 'petty',\n",
       " 'percent',\n",
       " 'packing',\n",
       " 'juvenile',\n",
       " 'julep',\n",
       " 'freed',\n",
       " 'freakin',\n",
       " 'fe',\n",
       " 'expose',\n",
       " 'detour',\n",
       " 'crisis',\n",
       " 'compete',\n",
       " 'civil',\n",
       " 'chalk',\n",
       " 'carefully',\n",
       " 'breakaway',\n",
       " 'ave',\n",
       " 'arizona',\n",
       " 'ar',\n",
       " 'alike',\n",
       " 'yuletide',\n",
       " 'weaker',\n",
       " 'waka',\n",
       " 'vodka',\n",
       " 'violet',\n",
       " 'tube',\n",
       " 'supplied',\n",
       " 'structure',\n",
       " 'southside',\n",
       " 'retire',\n",
       " 'resolve']"
      ]
     },
     "execution_count": 17,
     "metadata": {},
     "output_type": "execute_result"
    }
   ],
   "source": [
    "### test\n",
    "vectorize_layer.get_vocabulary()[4000:]\n"
   ]
  },
  {
   "cell_type": "code",
   "execution_count": 18,
   "metadata": {},
   "outputs": [],
   "source": [
    "### test \n",
    "#output = vectorize_layer([[\"the cat sat on the mat\"]])\n",
    "#output.numpy()[0, :11]\n"
   ]
  },
  {
   "cell_type": "code",
   "execution_count": null,
   "metadata": {},
   "outputs": [],
   "source": [
    "\n"
   ]
  },
  {
   "cell_type": "code",
   "execution_count": 19,
   "metadata": {},
   "outputs": [
    {
     "data": {
      "text/plain": [
       "5000"
      ]
     },
     "execution_count": 19,
     "metadata": {},
     "output_type": "execute_result"
    }
   ],
   "source": [
    "# Here's a dict mapping words to their indices:\n",
    "voc = vectorize_layer.get_vocabulary()\n",
    "word_index = dict(zip(voc, range(len(voc))))\n",
    "len(voc)"
   ]
  },
  {
   "cell_type": "code",
   "execution_count": 20,
   "metadata": {
    "scrolled": false
   },
   "outputs": [
    {
     "data": {
      "text/plain": [
       "['',\n",
       " '[UNK]',\n",
       " 'im',\n",
       " 'love',\n",
       " 'know',\n",
       " 'dont',\n",
       " 'like',\n",
       " 'oh',\n",
       " 'get',\n",
       " 'got',\n",
       " 'go',\n",
       " 'one',\n",
       " 'time',\n",
       " 'youre',\n",
       " 'never',\n",
       " 'see',\n",
       " 'let',\n",
       " 'come',\n",
       " 'cant',\n",
       " 'baby']"
      ]
     },
     "execution_count": 20,
     "metadata": {},
     "output_type": "execute_result"
    }
   ],
   "source": [
    "list(word_index.keys())[:20]"
   ]
  },
  {
   "cell_type": "code",
   "execution_count": 21,
   "metadata": {},
   "outputs": [],
   "source": [
    "tf.keras.backend.clear_session()"
   ]
  },
  {
   "cell_type": "markdown",
   "metadata": {},
   "source": [
    "### Load Pretrained Glove Word Embedding\n",
    "\n",
    "\n",
    "#Jeffrey Pennington, Richard Socher, and Christopher D. Manning. 2014. GloVe: Global Vectors for Word Representation.\n",
    "\n",
    "\n",
    "GloVe is an unsupervised learning algorithm for obtaining vector representations for words. Training is performed on aggregated global word-word co-occurrence statistics from a corpus, and the resulting representations showcase interesting linear substructures of the word vector space.\n",
    "\n",
    "\n",
    "The GloVe model is trained on the non-zero entries of a global word-word co-occurrence matrix, which tabulates how frequently words co-occur with one another in a given corpus. Populating this matrix requires a single pass through the entire corpus to collect the statistics. For large corpora, this pass can be computationally expensive, but it is a one-time up-front cost. Subsequent training iterations are much faster because the number of non-zero matrix entries is typically much smaller than the total number of words in the corpus."
   ]
  },
  {
   "cell_type": "code",
   "execution_count": 22,
   "metadata": {},
   "outputs": [
    {
     "data": {
      "text/plain": [
       "5000"
      ]
     },
     "execution_count": 22,
     "metadata": {},
     "output_type": "execute_result"
    }
   ],
   "source": [
    "vectorize_layer.vocabulary_size()"
   ]
  },
  {
   "cell_type": "code",
   "execution_count": 23,
   "metadata": {},
   "outputs": [],
   "source": [
    "path_glove = (r'C:\\Users\\PC\\Desktop\\NN\\NN Project\\glove\\glove.6B.100d.txt')"
   ]
  },
  {
   "cell_type": "code",
   "execution_count": 24,
   "metadata": {},
   "outputs": [
    {
     "name": "stdout",
     "output_type": "stream",
     "text": [
      "Total 400000 word vectors in Glove 6B 100d.\n"
     ]
    }
   ],
   "source": [
    "embeddings_index = {}\n",
    "f = open(path_glove,encoding='utf8')\n",
    "for line in f:\n",
    "    values = line.split()\n",
    "    word = values[0]\n",
    "    coefs = np.asarray(values[1:], dtype='float32')\n",
    "    embeddings_index[word] = coefs\n",
    "f.close()\n",
    "\n",
    "print('Total %s word vectors in Glove 6B 100d.' % len(embeddings_index))"
   ]
  },
  {
   "cell_type": "code",
   "execution_count": 25,
   "metadata": {},
   "outputs": [],
   "source": [
    "#embeddings_index"
   ]
  },
  {
   "cell_type": "markdown",
   "metadata": {},
   "source": [
    "#### Creating a weight matrix for words in training docs"
   ]
  },
  {
   "cell_type": "code",
   "execution_count": 26,
   "metadata": {},
   "outputs": [
    {
     "name": "stdout",
     "output_type": "stream",
     "text": [
      "Converted 4925 words (75 misses)\n"
     ]
    }
   ],
   "source": [
    "### note to self \n",
    "\n",
    "#index 0 is reserved for padding and index 1 is reserved for \"out of vocabulary\" tokens.\n",
    "num_tokens = len(voc) + 2\n",
    "embedding_dim = EMBEDDING_DIMENSIONS\n",
    "hits = 0\n",
    "misses = 0\n",
    "\n",
    "# Prepare embedding matrix\n",
    "embedding_matrix = np.zeros((num_tokens, embedding_dim))\n",
    "for word, i in word_index.items():\n",
    "    embedding_vector = embeddings_index.get(word)\n",
    "    if embedding_vector is not None:\n",
    "        # Words not found in embedding index will be all-zeros.\n",
    "        # This includes the representation for \"padding\" and \"OOV\"\n",
    "        embedding_matrix[i] = embedding_vector\n",
    "        hits += 1\n",
    "    else:\n",
    "        misses += 1\n",
    "print(\"Converted %d words (%d misses)\" % (hits, misses))"
   ]
  },
  {
   "cell_type": "code",
   "execution_count": 27,
   "metadata": {},
   "outputs": [
    {
     "data": {
      "text/plain": [
       "array([[ 0.        ,  0.        ,  0.        , ...,  0.        ,\n",
       "         0.        ,  0.        ],\n",
       "       [ 0.        ,  0.        ,  0.        , ...,  0.        ,\n",
       "         0.        ,  0.        ],\n",
       "       [ 0.41711   , -0.10176   ,  0.058147  , ..., -0.29444   ,\n",
       "        -0.039114  ,  0.39534   ],\n",
       "       ...,\n",
       "       [ 0.63734001, -0.086567  ,  0.61628997, ..., -0.22788   ,\n",
       "        -0.13654999,  0.01734   ],\n",
       "       [ 0.        ,  0.        ,  0.        , ...,  0.        ,\n",
       "         0.        ,  0.        ],\n",
       "       [ 0.        ,  0.        ,  0.        , ...,  0.        ,\n",
       "         0.        ,  0.        ]])"
      ]
     },
     "execution_count": 27,
     "metadata": {},
     "output_type": "execute_result"
    }
   ],
   "source": [
    "embedding_matrix"
   ]
  },
  {
   "cell_type": "markdown",
   "metadata": {},
   "source": [
    "## Base LSTM Model"
   ]
  },
  {
   "cell_type": "code",
   "execution_count": 86,
   "metadata": {},
   "outputs": [],
   "source": [
    "tf.keras.backend.clear_session()\n",
    "model_name = \"base lstm model\"\n",
    "checkpointer = ModelCheckpoint(filepath =check_point_base,\n",
    "                               save_best_only=False, save_weights_only = False, verbose=0,mode='min')\n",
    "early_stopping = EarlyStopping(monitor='val_loss', min_delta=0, patience=10, verbose=0, mode='auto')"
   ]
  },
  {
   "cell_type": "code",
   "execution_count": 88,
   "metadata": {},
   "outputs": [],
   "source": [
    "lstm_base_model = Sequential([\n",
    "  vectorize_layer,\n",
    "  Embedding(input_dim = vectorize_layer.vocabulary_size()+2, output_dim = EMBEDDING_DIMENSIONS,weights=[embedding_matrix],input_length=MAX_OUTPUT_LENGTH,trainable=False),\n",
    "  LSTM(64),\n",
    "  Dense(N_CLASSES,activation = softmax)])\n",
    "\n",
    "lstm_base_model.compile(\n",
    "    loss = tf.keras.losses.SparseCategoricalCrossentropy(),\n",
    "    optimizer = Adam(),\n",
    "    metrics = [\"acc\"]\n",
    "    )"
   ]
  },
  {
   "cell_type": "code",
   "execution_count": 89,
   "metadata": {
    "scrolled": true
   },
   "outputs": [
    {
     "name": "stdout",
     "output_type": "stream",
     "text": [
      "Model: \"sequential_1\"\n",
      "_________________________________________________________________\n",
      " Layer (type)                Output Shape              Param #   \n",
      "=================================================================\n",
      " text_vectorization (TextVec  (None, 200)              0         \n",
      " torization)                                                     \n",
      "                                                                 \n",
      " embedding_1 (Embedding)     (None, 200, 100)          500200    \n",
      "                                                                 \n",
      " lstm_1 (LSTM)               (None, 64)                42240     \n",
      "                                                                 \n",
      " dense_1 (Dense)             (None, 4)                 260       \n",
      "                                                                 \n",
      "=================================================================\n",
      "Total params: 542,700\n",
      "Trainable params: 42,500\n",
      "Non-trainable params: 500,200\n",
      "_________________________________________________________________\n"
     ]
    }
   ],
   "source": [
    "lstm_base_model.summary()"
   ]
  },
  {
   "cell_type": "code",
   "execution_count": null,
   "metadata": {},
   "outputs": [],
   "source": []
  },
  {
   "cell_type": "code",
   "execution_count": 90,
   "metadata": {
    "scrolled": true
   },
   "outputs": [
    {
     "name": "stdout",
     "output_type": "stream",
     "text": [
      "Epoch 1/15\n",
      "3659/3659 [==============================] - ETA: 0s - loss: 1.2162 - acc: 0.4402"
     ]
    },
    {
     "name": "stderr",
     "output_type": "stream",
     "text": [
      "WARNING:absl:Found untraced functions such as lstm_cell_1_layer_call_fn, lstm_cell_1_layer_call_and_return_conditional_losses while saving (showing 2 of 2). These functions will not be directly callable after loading.\n"
     ]
    },
    {
     "name": "stdout",
     "output_type": "stream",
     "text": [
      "INFO:tensorflow:Assets written to: C:\\Users\\PC\\Desktop\\NN\\Text calssification\\version 3\\checkpoint_base\\assets\n"
     ]
    },
    {
     "name": "stderr",
     "output_type": "stream",
     "text": [
      "INFO:tensorflow:Assets written to: C:\\Users\\PC\\Desktop\\NN\\Text calssification\\version 3\\checkpoint_base\\assets\n",
      "WARNING:absl:<keras.layers.recurrent.LSTMCell object at 0x0000025AA704FE20> has the same name 'LSTMCell' as a built-in Keras object. Consider renaming <class 'keras.layers.recurrent.LSTMCell'> to avoid naming conflicts when loading with `tf.keras.models.load_model`. If renaming is not possible, pass the object in the `custom_objects` parameter of the load function.\n"
     ]
    },
    {
     "name": "stdout",
     "output_type": "stream",
     "text": [
      "3659/3659 [==============================] - 259s 70ms/step - loss: 1.2162 - acc: 0.4402 - val_loss: 1.0779 - val_acc: 0.5378\n",
      "Epoch 2/15\n",
      "3659/3659 [==============================] - ETA: 0s - loss: 1.0254 - acc: 0.5595"
     ]
    },
    {
     "name": "stderr",
     "output_type": "stream",
     "text": [
      "WARNING:absl:Found untraced functions such as lstm_cell_1_layer_call_fn, lstm_cell_1_layer_call_and_return_conditional_losses while saving (showing 2 of 2). These functions will not be directly callable after loading.\n"
     ]
    },
    {
     "name": "stdout",
     "output_type": "stream",
     "text": [
      "INFO:tensorflow:Assets written to: C:\\Users\\PC\\Desktop\\NN\\Text calssification\\version 3\\checkpoint_base\\assets\n"
     ]
    },
    {
     "name": "stderr",
     "output_type": "stream",
     "text": [
      "INFO:tensorflow:Assets written to: C:\\Users\\PC\\Desktop\\NN\\Text calssification\\version 3\\checkpoint_base\\assets\n",
      "WARNING:absl:<keras.layers.recurrent.LSTMCell object at 0x0000025AA704FE20> has the same name 'LSTMCell' as a built-in Keras object. Consider renaming <class 'keras.layers.recurrent.LSTMCell'> to avoid naming conflicts when loading with `tf.keras.models.load_model`. If renaming is not possible, pass the object in the `custom_objects` parameter of the load function.\n"
     ]
    },
    {
     "name": "stdout",
     "output_type": "stream",
     "text": [
      "3659/3659 [==============================] - 279s 76ms/step - loss: 1.0254 - acc: 0.5595 - val_loss: 1.0330 - val_acc: 0.5600\n",
      "Epoch 3/15\n",
      "3659/3659 [==============================] - ETA: 0s - loss: 0.9627 - acc: 0.5960"
     ]
    },
    {
     "name": "stderr",
     "output_type": "stream",
     "text": [
      "WARNING:absl:Found untraced functions such as lstm_cell_1_layer_call_fn, lstm_cell_1_layer_call_and_return_conditional_losses while saving (showing 2 of 2). These functions will not be directly callable after loading.\n"
     ]
    },
    {
     "name": "stdout",
     "output_type": "stream",
     "text": [
      "INFO:tensorflow:Assets written to: C:\\Users\\PC\\Desktop\\NN\\Text calssification\\version 3\\checkpoint_base\\assets\n"
     ]
    },
    {
     "name": "stderr",
     "output_type": "stream",
     "text": [
      "INFO:tensorflow:Assets written to: C:\\Users\\PC\\Desktop\\NN\\Text calssification\\version 3\\checkpoint_base\\assets\n",
      "WARNING:absl:<keras.layers.recurrent.LSTMCell object at 0x0000025AA704FE20> has the same name 'LSTMCell' as a built-in Keras object. Consider renaming <class 'keras.layers.recurrent.LSTMCell'> to avoid naming conflicts when loading with `tf.keras.models.load_model`. If renaming is not possible, pass the object in the `custom_objects` parameter of the load function.\n"
     ]
    },
    {
     "name": "stdout",
     "output_type": "stream",
     "text": [
      "3659/3659 [==============================] - 303s 83ms/step - loss: 0.9627 - acc: 0.5960 - val_loss: 0.9645 - val_acc: 0.6007\n",
      "Epoch 4/15\n",
      "3659/3659 [==============================] - ETA: 0s - loss: 0.9224 - acc: 0.6149"
     ]
    },
    {
     "name": "stderr",
     "output_type": "stream",
     "text": [
      "WARNING:absl:Found untraced functions such as lstm_cell_1_layer_call_fn, lstm_cell_1_layer_call_and_return_conditional_losses while saving (showing 2 of 2). These functions will not be directly callable after loading.\n"
     ]
    },
    {
     "name": "stdout",
     "output_type": "stream",
     "text": [
      "INFO:tensorflow:Assets written to: C:\\Users\\PC\\Desktop\\NN\\Text calssification\\version 3\\checkpoint_base\\assets\n"
     ]
    },
    {
     "name": "stderr",
     "output_type": "stream",
     "text": [
      "INFO:tensorflow:Assets written to: C:\\Users\\PC\\Desktop\\NN\\Text calssification\\version 3\\checkpoint_base\\assets\n",
      "WARNING:absl:<keras.layers.recurrent.LSTMCell object at 0x0000025AA704FE20> has the same name 'LSTMCell' as a built-in Keras object. Consider renaming <class 'keras.layers.recurrent.LSTMCell'> to avoid naming conflicts when loading with `tf.keras.models.load_model`. If renaming is not possible, pass the object in the `custom_objects` parameter of the load function.\n"
     ]
    },
    {
     "name": "stdout",
     "output_type": "stream",
     "text": [
      "3659/3659 [==============================] - 296s 81ms/step - loss: 0.9224 - acc: 0.6149 - val_loss: 0.9414 - val_acc: 0.6069\n",
      "Epoch 5/15\n",
      "3659/3659 [==============================] - ETA: 0s - loss: 0.8898 - acc: 0.6312"
     ]
    },
    {
     "name": "stderr",
     "output_type": "stream",
     "text": [
      "WARNING:absl:Found untraced functions such as lstm_cell_1_layer_call_fn, lstm_cell_1_layer_call_and_return_conditional_losses while saving (showing 2 of 2). These functions will not be directly callable after loading.\n"
     ]
    },
    {
     "name": "stdout",
     "output_type": "stream",
     "text": [
      "INFO:tensorflow:Assets written to: C:\\Users\\PC\\Desktop\\NN\\Text calssification\\version 3\\checkpoint_base\\assets\n"
     ]
    },
    {
     "name": "stderr",
     "output_type": "stream",
     "text": [
      "INFO:tensorflow:Assets written to: C:\\Users\\PC\\Desktop\\NN\\Text calssification\\version 3\\checkpoint_base\\assets\n",
      "WARNING:absl:<keras.layers.recurrent.LSTMCell object at 0x0000025AA704FE20> has the same name 'LSTMCell' as a built-in Keras object. Consider renaming <class 'keras.layers.recurrent.LSTMCell'> to avoid naming conflicts when loading with `tf.keras.models.load_model`. If renaming is not possible, pass the object in the `custom_objects` parameter of the load function.\n"
     ]
    },
    {
     "name": "stdout",
     "output_type": "stream",
     "text": [
      "3659/3659 [==============================] - 284s 78ms/step - loss: 0.8898 - acc: 0.6312 - val_loss: 0.9365 - val_acc: 0.6135\n",
      "Epoch 6/15\n",
      "3659/3659 [==============================] - ETA: 0s - loss: 0.8643 - acc: 0.6427"
     ]
    },
    {
     "name": "stderr",
     "output_type": "stream",
     "text": [
      "WARNING:absl:Found untraced functions such as lstm_cell_1_layer_call_fn, lstm_cell_1_layer_call_and_return_conditional_losses while saving (showing 2 of 2). These functions will not be directly callable after loading.\n"
     ]
    },
    {
     "name": "stdout",
     "output_type": "stream",
     "text": [
      "INFO:tensorflow:Assets written to: C:\\Users\\PC\\Desktop\\NN\\Text calssification\\version 3\\checkpoint_base\\assets\n"
     ]
    },
    {
     "name": "stderr",
     "output_type": "stream",
     "text": [
      "INFO:tensorflow:Assets written to: C:\\Users\\PC\\Desktop\\NN\\Text calssification\\version 3\\checkpoint_base\\assets\n",
      "WARNING:absl:<keras.layers.recurrent.LSTMCell object at 0x0000025AA704FE20> has the same name 'LSTMCell' as a built-in Keras object. Consider renaming <class 'keras.layers.recurrent.LSTMCell'> to avoid naming conflicts when loading with `tf.keras.models.load_model`. If renaming is not possible, pass the object in the `custom_objects` parameter of the load function.\n"
     ]
    },
    {
     "name": "stdout",
     "output_type": "stream",
     "text": [
      "3659/3659 [==============================] - 312s 85ms/step - loss: 0.8643 - acc: 0.6427 - val_loss: 0.9413 - val_acc: 0.6136\n",
      "Epoch 7/15\n",
      "3659/3659 [==============================] - ETA: 0s - loss: 0.8429 - acc: 0.6522"
     ]
    },
    {
     "name": "stderr",
     "output_type": "stream",
     "text": [
      "WARNING:absl:Found untraced functions such as lstm_cell_1_layer_call_fn, lstm_cell_1_layer_call_and_return_conditional_losses while saving (showing 2 of 2). These functions will not be directly callable after loading.\n"
     ]
    },
    {
     "name": "stdout",
     "output_type": "stream",
     "text": [
      "INFO:tensorflow:Assets written to: C:\\Users\\PC\\Desktop\\NN\\Text calssification\\version 3\\checkpoint_base\\assets\n"
     ]
    },
    {
     "name": "stderr",
     "output_type": "stream",
     "text": [
      "INFO:tensorflow:Assets written to: C:\\Users\\PC\\Desktop\\NN\\Text calssification\\version 3\\checkpoint_base\\assets\n",
      "WARNING:absl:<keras.layers.recurrent.LSTMCell object at 0x0000025AA704FE20> has the same name 'LSTMCell' as a built-in Keras object. Consider renaming <class 'keras.layers.recurrent.LSTMCell'> to avoid naming conflicts when loading with `tf.keras.models.load_model`. If renaming is not possible, pass the object in the `custom_objects` parameter of the load function.\n"
     ]
    },
    {
     "name": "stdout",
     "output_type": "stream",
     "text": [
      "3659/3659 [==============================] - 304s 83ms/step - loss: 0.8429 - acc: 0.6522 - val_loss: 0.9277 - val_acc: 0.6235\n",
      "Epoch 8/15\n",
      "3659/3659 [==============================] - ETA: 0s - loss: 0.8211 - acc: 0.6641"
     ]
    },
    {
     "name": "stderr",
     "output_type": "stream",
     "text": [
      "WARNING:absl:Found untraced functions such as lstm_cell_1_layer_call_fn, lstm_cell_1_layer_call_and_return_conditional_losses while saving (showing 2 of 2). These functions will not be directly callable after loading.\n"
     ]
    },
    {
     "name": "stdout",
     "output_type": "stream",
     "text": [
      "INFO:tensorflow:Assets written to: C:\\Users\\PC\\Desktop\\NN\\Text calssification\\version 3\\checkpoint_base\\assets\n"
     ]
    },
    {
     "name": "stderr",
     "output_type": "stream",
     "text": [
      "INFO:tensorflow:Assets written to: C:\\Users\\PC\\Desktop\\NN\\Text calssification\\version 3\\checkpoint_base\\assets\n",
      "WARNING:absl:<keras.layers.recurrent.LSTMCell object at 0x0000025AA704FE20> has the same name 'LSTMCell' as a built-in Keras object. Consider renaming <class 'keras.layers.recurrent.LSTMCell'> to avoid naming conflicts when loading with `tf.keras.models.load_model`. If renaming is not possible, pass the object in the `custom_objects` parameter of the load function.\n"
     ]
    },
    {
     "name": "stdout",
     "output_type": "stream",
     "text": [
      "3659/3659 [==============================] - 298s 81ms/step - loss: 0.8211 - acc: 0.6641 - val_loss: 0.9507 - val_acc: 0.6115\n",
      "Epoch 9/15\n",
      "3659/3659 [==============================] - ETA: 0s - loss: 0.8021 - acc: 0.6721"
     ]
    },
    {
     "name": "stderr",
     "output_type": "stream",
     "text": [
      "WARNING:absl:Found untraced functions such as lstm_cell_1_layer_call_fn, lstm_cell_1_layer_call_and_return_conditional_losses while saving (showing 2 of 2). These functions will not be directly callable after loading.\n"
     ]
    },
    {
     "name": "stdout",
     "output_type": "stream",
     "text": [
      "INFO:tensorflow:Assets written to: C:\\Users\\PC\\Desktop\\NN\\Text calssification\\version 3\\checkpoint_base\\assets\n"
     ]
    },
    {
     "name": "stderr",
     "output_type": "stream",
     "text": [
      "INFO:tensorflow:Assets written to: C:\\Users\\PC\\Desktop\\NN\\Text calssification\\version 3\\checkpoint_base\\assets\n",
      "WARNING:absl:<keras.layers.recurrent.LSTMCell object at 0x0000025AA704FE20> has the same name 'LSTMCell' as a built-in Keras object. Consider renaming <class 'keras.layers.recurrent.LSTMCell'> to avoid naming conflicts when loading with `tf.keras.models.load_model`. If renaming is not possible, pass the object in the `custom_objects` parameter of the load function.\n"
     ]
    },
    {
     "name": "stdout",
     "output_type": "stream",
     "text": [
      "3659/3659 [==============================] - 305s 83ms/step - loss: 0.8021 - acc: 0.6721 - val_loss: 0.9458 - val_acc: 0.6185\n",
      "Epoch 10/15\n",
      "3659/3659 [==============================] - ETA: 0s - loss: 0.7834 - acc: 0.6820"
     ]
    },
    {
     "name": "stderr",
     "output_type": "stream",
     "text": [
      "WARNING:absl:Found untraced functions such as lstm_cell_1_layer_call_fn, lstm_cell_1_layer_call_and_return_conditional_losses while saving (showing 2 of 2). These functions will not be directly callable after loading.\n"
     ]
    },
    {
     "name": "stdout",
     "output_type": "stream",
     "text": [
      "INFO:tensorflow:Assets written to: C:\\Users\\PC\\Desktop\\NN\\Text calssification\\version 3\\checkpoint_base\\assets\n"
     ]
    },
    {
     "name": "stderr",
     "output_type": "stream",
     "text": [
      "INFO:tensorflow:Assets written to: C:\\Users\\PC\\Desktop\\NN\\Text calssification\\version 3\\checkpoint_base\\assets\n",
      "WARNING:absl:<keras.layers.recurrent.LSTMCell object at 0x0000025AA704FE20> has the same name 'LSTMCell' as a built-in Keras object. Consider renaming <class 'keras.layers.recurrent.LSTMCell'> to avoid naming conflicts when loading with `tf.keras.models.load_model`. If renaming is not possible, pass the object in the `custom_objects` parameter of the load function.\n"
     ]
    },
    {
     "name": "stdout",
     "output_type": "stream",
     "text": [
      "3659/3659 [==============================] - 308s 84ms/step - loss: 0.7834 - acc: 0.6820 - val_loss: 0.9595 - val_acc: 0.6102\n",
      "Epoch 11/15\n",
      "3659/3659 [==============================] - ETA: 0s - loss: 0.7685 - acc: 0.6891"
     ]
    },
    {
     "name": "stderr",
     "output_type": "stream",
     "text": [
      "WARNING:absl:Found untraced functions such as lstm_cell_1_layer_call_fn, lstm_cell_1_layer_call_and_return_conditional_losses while saving (showing 2 of 2). These functions will not be directly callable after loading.\n"
     ]
    },
    {
     "name": "stdout",
     "output_type": "stream",
     "text": [
      "INFO:tensorflow:Assets written to: C:\\Users\\PC\\Desktop\\NN\\Text calssification\\version 3\\checkpoint_base\\assets\n"
     ]
    },
    {
     "name": "stderr",
     "output_type": "stream",
     "text": [
      "INFO:tensorflow:Assets written to: C:\\Users\\PC\\Desktop\\NN\\Text calssification\\version 3\\checkpoint_base\\assets\n",
      "WARNING:absl:<keras.layers.recurrent.LSTMCell object at 0x0000025AA704FE20> has the same name 'LSTMCell' as a built-in Keras object. Consider renaming <class 'keras.layers.recurrent.LSTMCell'> to avoid naming conflicts when loading with `tf.keras.models.load_model`. If renaming is not possible, pass the object in the `custom_objects` parameter of the load function.\n"
     ]
    },
    {
     "name": "stdout",
     "output_type": "stream",
     "text": [
      "3659/3659 [==============================] - 294s 80ms/step - loss: 0.7685 - acc: 0.6891 - val_loss: 0.9552 - val_acc: 0.6193\n",
      "Epoch 12/15\n",
      "3659/3659 [==============================] - ETA: 0s - loss: 0.7475 - acc: 0.6974"
     ]
    },
    {
     "name": "stderr",
     "output_type": "stream",
     "text": [
      "WARNING:absl:Found untraced functions such as lstm_cell_1_layer_call_fn, lstm_cell_1_layer_call_and_return_conditional_losses while saving (showing 2 of 2). These functions will not be directly callable after loading.\n"
     ]
    },
    {
     "name": "stdout",
     "output_type": "stream",
     "text": [
      "INFO:tensorflow:Assets written to: C:\\Users\\PC\\Desktop\\NN\\Text calssification\\version 3\\checkpoint_base\\assets\n"
     ]
    },
    {
     "name": "stderr",
     "output_type": "stream",
     "text": [
      "INFO:tensorflow:Assets written to: C:\\Users\\PC\\Desktop\\NN\\Text calssification\\version 3\\checkpoint_base\\assets\n",
      "WARNING:absl:<keras.layers.recurrent.LSTMCell object at 0x0000025AA704FE20> has the same name 'LSTMCell' as a built-in Keras object. Consider renaming <class 'keras.layers.recurrent.LSTMCell'> to avoid naming conflicts when loading with `tf.keras.models.load_model`. If renaming is not possible, pass the object in the `custom_objects` parameter of the load function.\n"
     ]
    },
    {
     "name": "stdout",
     "output_type": "stream",
     "text": [
      "3659/3659 [==============================] - 299s 82ms/step - loss: 0.7475 - acc: 0.6974 - val_loss: 0.9511 - val_acc: 0.6153\n",
      "Epoch 13/15\n",
      "3659/3659 [==============================] - ETA: 0s - loss: 0.7335 - acc: 0.7052"
     ]
    },
    {
     "name": "stderr",
     "output_type": "stream",
     "text": [
      "WARNING:absl:Found untraced functions such as lstm_cell_1_layer_call_fn, lstm_cell_1_layer_call_and_return_conditional_losses while saving (showing 2 of 2). These functions will not be directly callable after loading.\n"
     ]
    },
    {
     "name": "stdout",
     "output_type": "stream",
     "text": [
      "INFO:tensorflow:Assets written to: C:\\Users\\PC\\Desktop\\NN\\Text calssification\\version 3\\checkpoint_base\\assets\n"
     ]
    },
    {
     "name": "stderr",
     "output_type": "stream",
     "text": [
      "INFO:tensorflow:Assets written to: C:\\Users\\PC\\Desktop\\NN\\Text calssification\\version 3\\checkpoint_base\\assets\n",
      "WARNING:absl:<keras.layers.recurrent.LSTMCell object at 0x0000025AA704FE20> has the same name 'LSTMCell' as a built-in Keras object. Consider renaming <class 'keras.layers.recurrent.LSTMCell'> to avoid naming conflicts when loading with `tf.keras.models.load_model`. If renaming is not possible, pass the object in the `custom_objects` parameter of the load function.\n"
     ]
    },
    {
     "name": "stdout",
     "output_type": "stream",
     "text": [
      "3659/3659 [==============================] - 297s 81ms/step - loss: 0.7335 - acc: 0.7052 - val_loss: 0.9709 - val_acc: 0.6219\n",
      "Epoch 14/15\n",
      "3659/3659 [==============================] - ETA: 0s - loss: 0.7177 - acc: 0.7116"
     ]
    },
    {
     "name": "stderr",
     "output_type": "stream",
     "text": [
      "WARNING:absl:Found untraced functions such as lstm_cell_1_layer_call_fn, lstm_cell_1_layer_call_and_return_conditional_losses while saving (showing 2 of 2). These functions will not be directly callable after loading.\n"
     ]
    },
    {
     "name": "stdout",
     "output_type": "stream",
     "text": [
      "INFO:tensorflow:Assets written to: C:\\Users\\PC\\Desktop\\NN\\Text calssification\\version 3\\checkpoint_base\\assets\n"
     ]
    },
    {
     "name": "stderr",
     "output_type": "stream",
     "text": [
      "INFO:tensorflow:Assets written to: C:\\Users\\PC\\Desktop\\NN\\Text calssification\\version 3\\checkpoint_base\\assets\n",
      "WARNING:absl:<keras.layers.recurrent.LSTMCell object at 0x0000025AA704FE20> has the same name 'LSTMCell' as a built-in Keras object. Consider renaming <class 'keras.layers.recurrent.LSTMCell'> to avoid naming conflicts when loading with `tf.keras.models.load_model`. If renaming is not possible, pass the object in the `custom_objects` parameter of the load function.\n"
     ]
    },
    {
     "name": "stdout",
     "output_type": "stream",
     "text": [
      "3659/3659 [==============================] - 292s 80ms/step - loss: 0.7177 - acc: 0.7116 - val_loss: 0.9811 - val_acc: 0.6172\n",
      "Epoch 15/15\n",
      "3659/3659 [==============================] - ETA: 0s - loss: 0.7029 - acc: 0.7171"
     ]
    },
    {
     "name": "stderr",
     "output_type": "stream",
     "text": [
      "WARNING:absl:Found untraced functions such as lstm_cell_1_layer_call_fn, lstm_cell_1_layer_call_and_return_conditional_losses while saving (showing 2 of 2). These functions will not be directly callable after loading.\n"
     ]
    },
    {
     "name": "stdout",
     "output_type": "stream",
     "text": [
      "INFO:tensorflow:Assets written to: C:\\Users\\PC\\Desktop\\NN\\Text calssification\\version 3\\checkpoint_base\\assets\n"
     ]
    },
    {
     "name": "stderr",
     "output_type": "stream",
     "text": [
      "INFO:tensorflow:Assets written to: C:\\Users\\PC\\Desktop\\NN\\Text calssification\\version 3\\checkpoint_base\\assets\n",
      "WARNING:absl:<keras.layers.recurrent.LSTMCell object at 0x0000025AA704FE20> has the same name 'LSTMCell' as a built-in Keras object. Consider renaming <class 'keras.layers.recurrent.LSTMCell'> to avoid naming conflicts when loading with `tf.keras.models.load_model`. If renaming is not possible, pass the object in the `custom_objects` parameter of the load function.\n"
     ]
    },
    {
     "name": "stdout",
     "output_type": "stream",
     "text": [
      "\b\b\b\b\b\b\b\b\b\b\b\b\b\b\b\b\b\b\b\b\b\b\b\b\b\b\b\b\b\b\b\b\b\b\b\b\b\b\b\b\b\b\b\b\b\b\b\b\b\b\b\b\b\b\b\b\b\b\b\b\b\b\b\b\b\b\b\b\b\b\b\b\b\b\b\b\b\b\b\b\b\r",
      "3659/3659 [==============================] - 309s 84ms/step - loss: 0.7029 - acc: 0.7171 - val_loss: 0.9881 - val_acc: 0.6155\n"
     ]
    }
   ],
   "source": [
    "lstm_history_base_model = lstm_base_model.fit(train_dataset, \n",
    "          validation_data = val_dataset,\n",
    "          epochs = 15,\n",
    "          callbacks=[checkpointer, early_stopping])"
   ]
  },
  {
   "cell_type": "code",
   "execution_count": 91,
   "metadata": {},
   "outputs": [],
   "source": [
    "def plot_loss_accuracy(hist,model):\n",
    "    fig=plt.figure()\n",
    "    plt.plot(hist.history['acc'],'r',linewidth=3.0)\n",
    "    plt.plot(hist.history['val_acc'],'b',linewidth=3.0)\n",
    "    plt.legend(['Training Accuracy', 'Validation Accuracy'],fontsize=18)\n",
    "    plt.xlabel('Epochs ',fontsize=16)\n",
    "    plt.ylabel('Accuracy',fontsize=16)\n",
    "    plt.title(f'Accuracy Curves : {model}',fontsize=16)\n",
    "    #fig.savefig('accuracy_lstm.png')\n",
    "    plt.show()"
   ]
  },
  {
   "cell_type": "code",
   "execution_count": 92,
   "metadata": {},
   "outputs": [
    {
     "data": {
      "image/png": "[encoded data removed]",
      "text/plain": [
       "<Figure size 576x396 with 1 Axes>"
      ]
     },
     "metadata": {},
     "output_type": "display_data"
    }
   ],
   "source": [
    "plot_loss_accuracy(lstm_history_base_model, 'Base LSTM')"
   ]
  },
  {
   "cell_type": "code",
   "execution_count": 35,
   "metadata": {},
   "outputs": [
    {
     "name": "stdout",
     "output_type": "stream",
     "text": [
      "3659/3659 [==============================] - 68s 19ms/step - loss: 0.7957 - acc: 0.6750\n"
     ]
    }
   ],
   "source": [
    "_,val_acc = lstm_base_model.evaluate(train_dataset)"
   ]
  },
  {
   "cell_type": "code",
   "execution_count": 36,
   "metadata": {},
   "outputs": [],
   "source": [
    "hist_1 = pd.DataFrame(lstm_history_base_model.history)\n",
    "hist_1['epoch'] = lstm_history_base_model.epoch"
   ]
  },
  {
   "cell_type": "code",
   "execution_count": 37,
   "metadata": {},
   "outputs": [
    {
     "data": {
      "text/html": [
       "<div>\n",
       "<style scoped>\n",
       "    .dataframe tbody tr th:only-of-type {\n",
       "        vertical-align: middle;\n",
       "    }\n",
       "\n",
       "    .dataframe tbody tr th {\n",
       "        vertical-align: top;\n",
       "    }\n",
       "\n",
       "    .dataframe thead th {\n",
       "        text-align: right;\n",
       "    }\n",
       "</style>\n",
       "<table border=\"1\" class=\"dataframe\">\n",
       "  <thead>\n",
       "    <tr style=\"text-align: right;\">\n",
       "      <th></th>\n",
       "      <th>loss</th>\n",
       "      <th>acc</th>\n",
       "      <th>val_loss</th>\n",
       "      <th>val_acc</th>\n",
       "      <th>epoch</th>\n",
       "    </tr>\n",
       "  </thead>\n",
       "  <tbody>\n",
       "    <tr>\n",
       "      <th>0</th>\n",
       "      <td>1.196290</td>\n",
       "      <td>0.453727</td>\n",
       "      <td>1.074044</td>\n",
       "      <td>0.524908</td>\n",
       "      <td>0</td>\n",
       "    </tr>\n",
       "    <tr>\n",
       "      <th>1</th>\n",
       "      <td>1.014022</td>\n",
       "      <td>0.566224</td>\n",
       "      <td>0.991917</td>\n",
       "      <td>0.583795</td>\n",
       "      <td>1</td>\n",
       "    </tr>\n",
       "    <tr>\n",
       "      <th>2</th>\n",
       "      <td>0.955960</td>\n",
       "      <td>0.599429</td>\n",
       "      <td>1.000997</td>\n",
       "      <td>0.573801</td>\n",
       "      <td>2</td>\n",
       "    </tr>\n",
       "    <tr>\n",
       "      <th>3</th>\n",
       "      <td>0.919800</td>\n",
       "      <td>0.617262</td>\n",
       "      <td>0.949865</td>\n",
       "      <td>0.603321</td>\n",
       "      <td>3</td>\n",
       "    </tr>\n",
       "    <tr>\n",
       "      <th>4</th>\n",
       "      <td>0.890626</td>\n",
       "      <td>0.630244</td>\n",
       "      <td>0.931217</td>\n",
       "      <td>0.612085</td>\n",
       "      <td>4</td>\n",
       "    </tr>\n",
       "    <tr>\n",
       "      <th>5</th>\n",
       "      <td>0.866337</td>\n",
       "      <td>0.642628</td>\n",
       "      <td>0.927732</td>\n",
       "      <td>0.618235</td>\n",
       "      <td>5</td>\n",
       "    </tr>\n",
       "    <tr>\n",
       "      <th>6</th>\n",
       "      <td>0.848021</td>\n",
       "      <td>0.650707</td>\n",
       "      <td>0.922312</td>\n",
       "      <td>0.617159</td>\n",
       "      <td>6</td>\n",
       "    </tr>\n",
       "    <tr>\n",
       "      <th>7</th>\n",
       "      <td>0.827361</td>\n",
       "      <td>0.662083</td>\n",
       "      <td>0.920632</td>\n",
       "      <td>0.623309</td>\n",
       "      <td>7</td>\n",
       "    </tr>\n",
       "    <tr>\n",
       "      <th>8</th>\n",
       "      <td>0.806138</td>\n",
       "      <td>0.671871</td>\n",
       "      <td>0.924501</td>\n",
       "      <td>0.623155</td>\n",
       "      <td>8</td>\n",
       "    </tr>\n",
       "    <tr>\n",
       "      <th>9</th>\n",
       "      <td>0.787073</td>\n",
       "      <td>0.680941</td>\n",
       "      <td>0.951537</td>\n",
       "      <td>0.612854</td>\n",
       "      <td>9</td>\n",
       "    </tr>\n",
       "  </tbody>\n",
       "</table>\n",
       "</div>"
      ],
      "text/plain": [
       "       loss       acc  val_loss   val_acc  epoch\n",
       "0  1.196290  0.453727  1.074044  0.524908      0\n",
       "1  1.014022  0.566224  0.991917  0.583795      1\n",
       "2  0.955960  0.599429  1.000997  0.573801      2\n",
       "3  0.919800  0.617262  0.949865  0.603321      3\n",
       "4  0.890626  0.630244  0.931217  0.612085      4\n",
       "5  0.866337  0.642628  0.927732  0.618235      5\n",
       "6  0.848021  0.650707  0.922312  0.617159      6\n",
       "7  0.827361  0.662083  0.920632  0.623309      7\n",
       "8  0.806138  0.671871  0.924501  0.623155      8\n",
       "9  0.787073  0.680941  0.951537  0.612854      9"
      ]
     },
     "execution_count": 37,
     "metadata": {},
     "output_type": "execute_result"
    }
   ],
   "source": [
    "hist_1"
   ]
  },
  {
   "cell_type": "code",
   "execution_count": 39,
   "metadata": {},
   "outputs": [
    {
     "name": "stdout",
     "output_type": "stream",
     "text": [
      "1/1 [==============================] - 1s 610ms/step\n"
     ]
    },
    {
     "data": {
      "text/plain": [
       "array([[0.01462658, 0.6735971 , 0.0838844 , 0.22789197]], dtype=float32)"
      ]
     },
     "execution_count": 39,
     "metadata": {},
     "output_type": "execute_result"
    }
   ],
   "source": [
    "lstm_base_model.predict([''' \n",
    "It seems you're having some trouble In dealing with these changes Living with these changes (oh no) \n",
    "The world is a scary place Now that you've woken up the demon in me \n",
    "Why can't you just leave here and die Never stick your hand in my face again bitch\n",
    "Fuck you\n",
    "I don't need this shit\n",
    "\n",
    "''' ])\n"
   ]
  },
  {
   "cell_type": "code",
   "execution_count": 40,
   "metadata": {},
   "outputs": [
    {
     "data": {
      "text/plain": [
       "['Jazz', 'Metal', 'Pop', 'Rock']"
      ]
     },
     "execution_count": 40,
     "metadata": {},
     "output_type": "execute_result"
    }
   ],
   "source": [
    "train_dataset.class_names"
   ]
  },
  {
   "cell_type": "code",
   "execution_count": 112,
   "metadata": {},
   "outputs": [
    {
     "name": "stdout",
     "output_type": "stream",
     "text": [
      "250/250 [==============================] - 21s 78ms/step\n"
     ]
    },
    {
     "data": {
      "text/plain": [
       "array([[8.47213209e-01, 1.59461203e-03, 4.54919077e-02, 1.05700254e-01],\n",
       "       [2.83555570e-03, 4.48148131e-01, 5.15938759e-01, 3.30775902e-02],\n",
       "       [1.04240198e-02, 4.39957589e-01, 1.39195517e-01, 4.10422921e-01],\n",
       "       ...,\n",
       "       [9.80169512e-03, 5.39947152e-01, 1.15816474e-01, 3.34434688e-01],\n",
       "       [4.14369881e-01, 6.90737972e-03, 2.98994154e-01, 2.79728621e-01],\n",
       "       [2.07361692e-04, 9.80382085e-01, 3.42025119e-03, 1.59902852e-02]],\n",
       "      dtype=float32)"
      ]
     },
     "execution_count": 112,
     "metadata": {},
     "output_type": "execute_result"
    }
   ],
   "source": [
    "lstm_base_model.predict(test_dataset)"
   ]
  },
  {
   "cell_type": "markdown",
   "metadata": {},
   "source": [
    "## Optimize base LSTM"
   ]
  },
  {
   "cell_type": "code",
   "execution_count": 47,
   "metadata": {},
   "outputs": [],
   "source": [
    "tf.keras.backend.clear_session()"
   ]
  },
  {
   "cell_type": "code",
   "execution_count": 93,
   "metadata": {},
   "outputs": [],
   "source": [
    "model_name = \"optimized lstm model\"\n",
    "checkpointer_opt = ModelCheckpoint(filepath =check_point_opt,\n",
    "                               save_best_only=False, save_weights_only = False, verbose=0,mode='min')\n",
    "early_stopping_opt = EarlyStopping(monitor='val_loss', min_delta=0, patience=10, verbose=0, mode='auto')"
   ]
  },
  {
   "cell_type": "code",
   "execution_count": 94,
   "metadata": {},
   "outputs": [],
   "source": [
    "lstm_opt_model = Sequential([\n",
    "  vectorize_layer,\n",
    "  Embedding(input_dim = vectorize_layer.vocabulary_size()+2, output_dim = EMBEDDING_DIMENSIONS,weights=[embedding_matrix],input_length=MAX_OUTPUT_LENGTH,trainable=False),\n",
    "  LSTM(128,return_sequences=True,dropout=0.2),\n",
    "  tf.keras.layers.GlobalMaxPooling1D(),\n",
    "  Dense(64,activation='relu'),\n",
    "  Dense(N_CLASSES,activation = softmax)])\n",
    "\n",
    "lstm_opt_model.compile(\n",
    "    loss='sparse_categorical_crossentropy',\n",
    "    optimizer = Adam(),\n",
    "    metrics = [\"acc\"]\n",
    "    )"
   ]
  },
  {
   "cell_type": "code",
   "execution_count": 95,
   "metadata": {},
   "outputs": [
    {
     "name": "stdout",
     "output_type": "stream",
     "text": [
      "Model: \"sequential_2\"\n",
      "_________________________________________________________________\n",
      " Layer (type)                Output Shape              Param #   \n",
      "=================================================================\n",
      " text_vectorization (TextVec  (None, 200)              0         \n",
      " torization)                                                     \n",
      "                                                                 \n",
      " embedding_2 (Embedding)     (None, 200, 100)          500200    \n",
      "                                                                 \n",
      " lstm_2 (LSTM)               (None, 200, 128)          117248    \n",
      "                                                                 \n",
      " global_max_pooling1d (Globa  (None, 128)              0         \n",
      " lMaxPooling1D)                                                  \n",
      "                                                                 \n",
      " dense_2 (Dense)             (None, 64)                8256      \n",
      "                                                                 \n",
      " dense_3 (Dense)             (None, 4)                 260       \n",
      "                                                                 \n",
      "=================================================================\n",
      "Total params: 625,964\n",
      "Trainable params: 125,764\n",
      "Non-trainable params: 500,200\n",
      "_________________________________________________________________\n"
     ]
    }
   ],
   "source": [
    "lstm_opt_model.summary()"
   ]
  },
  {
   "cell_type": "code",
   "execution_count": 45,
   "metadata": {},
   "outputs": [],
   "source": []
  },
  {
   "cell_type": "code",
   "execution_count": 96,
   "metadata": {},
   "outputs": [
    {
     "name": "stdout",
     "output_type": "stream",
     "text": [
      "Epoch 1/15\n",
      "3659/3659 [==============================] - ETA: 0s - loss: 1.0075 - acc: 0.5665"
     ]
    },
    {
     "name": "stderr",
     "output_type": "stream",
     "text": [
      "WARNING:absl:Found untraced functions such as lstm_cell_2_layer_call_fn, lstm_cell_2_layer_call_and_return_conditional_losses while saving (showing 2 of 2). These functions will not be directly callable after loading.\n"
     ]
    },
    {
     "name": "stdout",
     "output_type": "stream",
     "text": [
      "INFO:tensorflow:Assets written to: C:\\Users\\PC\\Desktop\\NN\\Text calssification\\version 3\\checkpoint_opt\\assets\n"
     ]
    },
    {
     "name": "stderr",
     "output_type": "stream",
     "text": [
      "INFO:tensorflow:Assets written to: C:\\Users\\PC\\Desktop\\NN\\Text calssification\\version 3\\checkpoint_opt\\assets\n",
      "WARNING:absl:<keras.layers.recurrent.LSTMCell object at 0x0000025ADCB17CA0> has the same name 'LSTMCell' as a built-in Keras object. Consider renaming <class 'keras.layers.recurrent.LSTMCell'> to avoid naming conflicts when loading with `tf.keras.models.load_model`. If renaming is not possible, pass the object in the `custom_objects` parameter of the load function.\n"
     ]
    },
    {
     "name": "stdout",
     "output_type": "stream",
     "text": [
      "3659/3659 [==============================] - 548s 149ms/step - loss: 1.0075 - acc: 0.5665 - val_loss: 0.9562 - val_acc: 0.6042\n",
      "Epoch 2/15\n",
      "3659/3659 [==============================] - ETA: 0s - loss: 0.9165 - acc: 0.6156"
     ]
    },
    {
     "name": "stderr",
     "output_type": "stream",
     "text": [
      "WARNING:absl:Found untraced functions such as lstm_cell_2_layer_call_fn, lstm_cell_2_layer_call_and_return_conditional_losses while saving (showing 2 of 2). These functions will not be directly callable after loading.\n"
     ]
    },
    {
     "name": "stdout",
     "output_type": "stream",
     "text": [
      "INFO:tensorflow:Assets written to: C:\\Users\\PC\\Desktop\\NN\\Text calssification\\version 3\\checkpoint_opt\\assets\n"
     ]
    },
    {
     "name": "stderr",
     "output_type": "stream",
     "text": [
      "INFO:tensorflow:Assets written to: C:\\Users\\PC\\Desktop\\NN\\Text calssification\\version 3\\checkpoint_opt\\assets\n",
      "WARNING:absl:<keras.layers.recurrent.LSTMCell object at 0x0000025ADCB17CA0> has the same name 'LSTMCell' as a built-in Keras object. Consider renaming <class 'keras.layers.recurrent.LSTMCell'> to avoid naming conflicts when loading with `tf.keras.models.load_model`. If renaming is not possible, pass the object in the `custom_objects` parameter of the load function.\n"
     ]
    },
    {
     "name": "stdout",
     "output_type": "stream",
     "text": [
      "3659/3659 [==============================] - 516s 141ms/step - loss: 0.9165 - acc: 0.6156 - val_loss: 0.8993 - val_acc: 0.6270\n",
      "Epoch 3/15\n",
      "3659/3659 [==============================] - ETA: 0s - loss: 0.8791 - acc: 0.6326"
     ]
    },
    {
     "name": "stderr",
     "output_type": "stream",
     "text": [
      "WARNING:absl:Found untraced functions such as lstm_cell_2_layer_call_fn, lstm_cell_2_layer_call_and_return_conditional_losses while saving (showing 2 of 2). These functions will not be directly callable after loading.\n"
     ]
    },
    {
     "name": "stdout",
     "output_type": "stream",
     "text": [
      "INFO:tensorflow:Assets written to: C:\\Users\\PC\\Desktop\\NN\\Text calssification\\version 3\\checkpoint_opt\\assets\n"
     ]
    },
    {
     "name": "stderr",
     "output_type": "stream",
     "text": [
      "INFO:tensorflow:Assets written to: C:\\Users\\PC\\Desktop\\NN\\Text calssification\\version 3\\checkpoint_opt\\assets\n",
      "WARNING:absl:<keras.layers.recurrent.LSTMCell object at 0x0000025ADCB17CA0> has the same name 'LSTMCell' as a built-in Keras object. Consider renaming <class 'keras.layers.recurrent.LSTMCell'> to avoid naming conflicts when loading with `tf.keras.models.load_model`. If renaming is not possible, pass the object in the `custom_objects` parameter of the load function.\n"
     ]
    },
    {
     "name": "stdout",
     "output_type": "stream",
     "text": [
      "3659/3659 [==============================] - 478s 131ms/step - loss: 0.8791 - acc: 0.6326 - val_loss: 0.8815 - val_acc: 0.6407\n",
      "Epoch 4/15\n",
      "3659/3659 [==============================] - ETA: 0s - loss: 0.8511 - acc: 0.6478"
     ]
    },
    {
     "name": "stderr",
     "output_type": "stream",
     "text": [
      "WARNING:absl:Found untraced functions such as lstm_cell_2_layer_call_fn, lstm_cell_2_layer_call_and_return_conditional_losses while saving (showing 2 of 2). These functions will not be directly callable after loading.\n"
     ]
    },
    {
     "name": "stdout",
     "output_type": "stream",
     "text": [
      "INFO:tensorflow:Assets written to: C:\\Users\\PC\\Desktop\\NN\\Text calssification\\version 3\\checkpoint_opt\\assets\n"
     ]
    },
    {
     "name": "stderr",
     "output_type": "stream",
     "text": [
      "INFO:tensorflow:Assets written to: C:\\Users\\PC\\Desktop\\NN\\Text calssification\\version 3\\checkpoint_opt\\assets\n",
      "WARNING:absl:<keras.layers.recurrent.LSTMCell object at 0x0000025ADCB17CA0> has the same name 'LSTMCell' as a built-in Keras object. Consider renaming <class 'keras.layers.recurrent.LSTMCell'> to avoid naming conflicts when loading with `tf.keras.models.load_model`. If renaming is not possible, pass the object in the `custom_objects` parameter of the load function.\n"
     ]
    },
    {
     "name": "stdout",
     "output_type": "stream",
     "text": [
      "3659/3659 [==============================] - 505s 138ms/step - loss: 0.8511 - acc: 0.6478 - val_loss: 0.8684 - val_acc: 0.6445\n",
      "Epoch 5/15\n",
      "3659/3659 [==============================] - ETA: 0s - loss: 0.8304 - acc: 0.6574"
     ]
    },
    {
     "name": "stderr",
     "output_type": "stream",
     "text": [
      "WARNING:absl:Found untraced functions such as lstm_cell_2_layer_call_fn, lstm_cell_2_layer_call_and_return_conditional_losses while saving (showing 2 of 2). These functions will not be directly callable after loading.\n"
     ]
    },
    {
     "name": "stdout",
     "output_type": "stream",
     "text": [
      "INFO:tensorflow:Assets written to: C:\\Users\\PC\\Desktop\\NN\\Text calssification\\version 3\\checkpoint_opt\\assets\n"
     ]
    },
    {
     "name": "stderr",
     "output_type": "stream",
     "text": [
      "INFO:tensorflow:Assets written to: C:\\Users\\PC\\Desktop\\NN\\Text calssification\\version 3\\checkpoint_opt\\assets\n",
      "WARNING:absl:<keras.layers.recurrent.LSTMCell object at 0x0000025ADCB17CA0> has the same name 'LSTMCell' as a built-in Keras object. Consider renaming <class 'keras.layers.recurrent.LSTMCell'> to avoid naming conflicts when loading with `tf.keras.models.load_model`. If renaming is not possible, pass the object in the `custom_objects` parameter of the load function.\n"
     ]
    },
    {
     "name": "stdout",
     "output_type": "stream",
     "text": [
      "3659/3659 [==============================] - 493s 135ms/step - loss: 0.8304 - acc: 0.6574 - val_loss: 0.8833 - val_acc: 0.6370\n",
      "Epoch 6/15\n",
      "3659/3659 [==============================] - ETA: 0s - loss: 0.8135 - acc: 0.6654"
     ]
    },
    {
     "name": "stderr",
     "output_type": "stream",
     "text": [
      "WARNING:absl:Found untraced functions such as lstm_cell_2_layer_call_fn, lstm_cell_2_layer_call_and_return_conditional_losses while saving (showing 2 of 2). These functions will not be directly callable after loading.\n"
     ]
    },
    {
     "name": "stdout",
     "output_type": "stream",
     "text": [
      "INFO:tensorflow:Assets written to: C:\\Users\\PC\\Desktop\\NN\\Text calssification\\version 3\\checkpoint_opt\\assets\n"
     ]
    },
    {
     "name": "stderr",
     "output_type": "stream",
     "text": [
      "INFO:tensorflow:Assets written to: C:\\Users\\PC\\Desktop\\NN\\Text calssification\\version 3\\checkpoint_opt\\assets\n",
      "WARNING:absl:<keras.layers.recurrent.LSTMCell object at 0x0000025ADCB17CA0> has the same name 'LSTMCell' as a built-in Keras object. Consider renaming <class 'keras.layers.recurrent.LSTMCell'> to avoid naming conflicts when loading with `tf.keras.models.load_model`. If renaming is not possible, pass the object in the `custom_objects` parameter of the load function.\n"
     ]
    },
    {
     "name": "stdout",
     "output_type": "stream",
     "text": [
      "3659/3659 [==============================] - 503s 138ms/step - loss: 0.8135 - acc: 0.6654 - val_loss: 0.8794 - val_acc: 0.6442\n",
      "Epoch 7/15\n",
      "3659/3659 [==============================] - ETA: 0s - loss: 0.7976 - acc: 0.6723"
     ]
    },
    {
     "name": "stderr",
     "output_type": "stream",
     "text": [
      "WARNING:absl:Found untraced functions such as lstm_cell_2_layer_call_fn, lstm_cell_2_layer_call_and_return_conditional_losses while saving (showing 2 of 2). These functions will not be directly callable after loading.\n"
     ]
    },
    {
     "name": "stdout",
     "output_type": "stream",
     "text": [
      "INFO:tensorflow:Assets written to: C:\\Users\\PC\\Desktop\\NN\\Text calssification\\version 3\\checkpoint_opt\\assets\n"
     ]
    },
    {
     "name": "stderr",
     "output_type": "stream",
     "text": [
      "INFO:tensorflow:Assets written to: C:\\Users\\PC\\Desktop\\NN\\Text calssification\\version 3\\checkpoint_opt\\assets\n",
      "WARNING:absl:<keras.layers.recurrent.LSTMCell object at 0x0000025ADCB17CA0> has the same name 'LSTMCell' as a built-in Keras object. Consider renaming <class 'keras.layers.recurrent.LSTMCell'> to avoid naming conflicts when loading with `tf.keras.models.load_model`. If renaming is not possible, pass the object in the `custom_objects` parameter of the load function.\n"
     ]
    },
    {
     "name": "stdout",
     "output_type": "stream",
     "text": [
      "3659/3659 [==============================] - 509s 139ms/step - loss: 0.7976 - acc: 0.6723 - val_loss: 0.8808 - val_acc: 0.6404\n",
      "Epoch 8/15\n",
      "3659/3659 [==============================] - ETA: 0s - loss: 0.7853 - acc: 0.6774"
     ]
    },
    {
     "name": "stderr",
     "output_type": "stream",
     "text": [
      "WARNING:absl:Found untraced functions such as lstm_cell_2_layer_call_fn, lstm_cell_2_layer_call_and_return_conditional_losses while saving (showing 2 of 2). These functions will not be directly callable after loading.\n"
     ]
    },
    {
     "name": "stdout",
     "output_type": "stream",
     "text": [
      "INFO:tensorflow:Assets written to: C:\\Users\\PC\\Desktop\\NN\\Text calssification\\version 3\\checkpoint_opt\\assets\n"
     ]
    },
    {
     "name": "stderr",
     "output_type": "stream",
     "text": [
      "INFO:tensorflow:Assets written to: C:\\Users\\PC\\Desktop\\NN\\Text calssification\\version 3\\checkpoint_opt\\assets\n",
      "WARNING:absl:<keras.layers.recurrent.LSTMCell object at 0x0000025ADCB17CA0> has the same name 'LSTMCell' as a built-in Keras object. Consider renaming <class 'keras.layers.recurrent.LSTMCell'> to avoid naming conflicts when loading with `tf.keras.models.load_model`. If renaming is not possible, pass the object in the `custom_objects` parameter of the load function.\n"
     ]
    },
    {
     "name": "stdout",
     "output_type": "stream",
     "text": [
      "3659/3659 [==============================] - 504s 138ms/step - loss: 0.7853 - acc: 0.6774 - val_loss: 0.8790 - val_acc: 0.6408\n",
      "Epoch 9/15\n",
      "3659/3659 [==============================] - ETA: 0s - loss: 0.7715 - acc: 0.6847"
     ]
    },
    {
     "name": "stderr",
     "output_type": "stream",
     "text": [
      "WARNING:absl:Found untraced functions such as lstm_cell_2_layer_call_fn, lstm_cell_2_layer_call_and_return_conditional_losses while saving (showing 2 of 2). These functions will not be directly callable after loading.\n"
     ]
    },
    {
     "name": "stdout",
     "output_type": "stream",
     "text": [
      "INFO:tensorflow:Assets written to: C:\\Users\\PC\\Desktop\\NN\\Text calssification\\version 3\\checkpoint_opt\\assets\n"
     ]
    },
    {
     "name": "stderr",
     "output_type": "stream",
     "text": [
      "INFO:tensorflow:Assets written to: C:\\Users\\PC\\Desktop\\NN\\Text calssification\\version 3\\checkpoint_opt\\assets\n",
      "WARNING:absl:<keras.layers.recurrent.LSTMCell object at 0x0000025ADCB17CA0> has the same name 'LSTMCell' as a built-in Keras object. Consider renaming <class 'keras.layers.recurrent.LSTMCell'> to avoid naming conflicts when loading with `tf.keras.models.load_model`. If renaming is not possible, pass the object in the `custom_objects` parameter of the load function.\n"
     ]
    },
    {
     "name": "stdout",
     "output_type": "stream",
     "text": [
      "3659/3659 [==============================] - 513s 140ms/step - loss: 0.7715 - acc: 0.6847 - val_loss: 0.8725 - val_acc: 0.6542\n",
      "Epoch 10/15\n",
      "3659/3659 [==============================] - ETA: 0s - loss: 0.7579 - acc: 0.6899"
     ]
    },
    {
     "name": "stderr",
     "output_type": "stream",
     "text": [
      "WARNING:absl:Found untraced functions such as lstm_cell_2_layer_call_fn, lstm_cell_2_layer_call_and_return_conditional_losses while saving (showing 2 of 2). These functions will not be directly callable after loading.\n"
     ]
    },
    {
     "name": "stdout",
     "output_type": "stream",
     "text": [
      "INFO:tensorflow:Assets written to: C:\\Users\\PC\\Desktop\\NN\\Text calssification\\version 3\\checkpoint_opt\\assets\n"
     ]
    },
    {
     "name": "stderr",
     "output_type": "stream",
     "text": [
      "INFO:tensorflow:Assets written to: C:\\Users\\PC\\Desktop\\NN\\Text calssification\\version 3\\checkpoint_opt\\assets\n",
      "WARNING:absl:<keras.layers.recurrent.LSTMCell object at 0x0000025ADCB17CA0> has the same name 'LSTMCell' as a built-in Keras object. Consider renaming <class 'keras.layers.recurrent.LSTMCell'> to avoid naming conflicts when loading with `tf.keras.models.load_model`. If renaming is not possible, pass the object in the `custom_objects` parameter of the load function.\n"
     ]
    },
    {
     "name": "stdout",
     "output_type": "stream",
     "text": [
      "3659/3659 [==============================] - 503s 138ms/step - loss: 0.7579 - acc: 0.6899 - val_loss: 0.8709 - val_acc: 0.6499\n",
      "Epoch 11/15\n",
      "3659/3659 [==============================] - ETA: 0s - loss: 0.7458 - acc: 0.6939"
     ]
    },
    {
     "name": "stderr",
     "output_type": "stream",
     "text": [
      "WARNING:absl:Found untraced functions such as lstm_cell_2_layer_call_fn, lstm_cell_2_layer_call_and_return_conditional_losses while saving (showing 2 of 2). These functions will not be directly callable after loading.\n"
     ]
    },
    {
     "name": "stdout",
     "output_type": "stream",
     "text": [
      "INFO:tensorflow:Assets written to: C:\\Users\\PC\\Desktop\\NN\\Text calssification\\version 3\\checkpoint_opt\\assets\n"
     ]
    },
    {
     "name": "stderr",
     "output_type": "stream",
     "text": [
      "INFO:tensorflow:Assets written to: C:\\Users\\PC\\Desktop\\NN\\Text calssification\\version 3\\checkpoint_opt\\assets\n",
      "WARNING:absl:<keras.layers.recurrent.LSTMCell object at 0x0000025ADCB17CA0> has the same name 'LSTMCell' as a built-in Keras object. Consider renaming <class 'keras.layers.recurrent.LSTMCell'> to avoid naming conflicts when loading with `tf.keras.models.load_model`. If renaming is not possible, pass the object in the `custom_objects` parameter of the load function.\n"
     ]
    },
    {
     "name": "stdout",
     "output_type": "stream",
     "text": [
      "3659/3659 [==============================] - 523s 143ms/step - loss: 0.7458 - acc: 0.6939 - val_loss: 0.8753 - val_acc: 0.6548\n",
      "Epoch 12/15\n",
      "3659/3659 [==============================] - ETA: 0s - loss: 0.7382 - acc: 0.6987"
     ]
    },
    {
     "name": "stderr",
     "output_type": "stream",
     "text": [
      "WARNING:absl:Found untraced functions such as lstm_cell_2_layer_call_fn, lstm_cell_2_layer_call_and_return_conditional_losses while saving (showing 2 of 2). These functions will not be directly callable after loading.\n"
     ]
    },
    {
     "name": "stdout",
     "output_type": "stream",
     "text": [
      "INFO:tensorflow:Assets written to: C:\\Users\\PC\\Desktop\\NN\\Text calssification\\version 3\\checkpoint_opt\\assets\n"
     ]
    },
    {
     "name": "stderr",
     "output_type": "stream",
     "text": [
      "INFO:tensorflow:Assets written to: C:\\Users\\PC\\Desktop\\NN\\Text calssification\\version 3\\checkpoint_opt\\assets\n",
      "WARNING:absl:<keras.layers.recurrent.LSTMCell object at 0x0000025ADCB17CA0> has the same name 'LSTMCell' as a built-in Keras object. Consider renaming <class 'keras.layers.recurrent.LSTMCell'> to avoid naming conflicts when loading with `tf.keras.models.load_model`. If renaming is not possible, pass the object in the `custom_objects` parameter of the load function.\n"
     ]
    },
    {
     "name": "stdout",
     "output_type": "stream",
     "text": [
      "3659/3659 [==============================] - 531s 145ms/step - loss: 0.7382 - acc: 0.6987 - val_loss: 0.8855 - val_acc: 0.6508\n",
      "Epoch 13/15\n",
      "3659/3659 [==============================] - ETA: 0s - loss: 0.7470 - acc: 0.6943"
     ]
    },
    {
     "name": "stderr",
     "output_type": "stream",
     "text": [
      "WARNING:absl:Found untraced functions such as lstm_cell_2_layer_call_fn, lstm_cell_2_layer_call_and_return_conditional_losses while saving (showing 2 of 2). These functions will not be directly callable after loading.\n"
     ]
    },
    {
     "name": "stdout",
     "output_type": "stream",
     "text": [
      "INFO:tensorflow:Assets written to: C:\\Users\\PC\\Desktop\\NN\\Text calssification\\version 3\\checkpoint_opt\\assets\n"
     ]
    },
    {
     "name": "stderr",
     "output_type": "stream",
     "text": [
      "INFO:tensorflow:Assets written to: C:\\Users\\PC\\Desktop\\NN\\Text calssification\\version 3\\checkpoint_opt\\assets\n",
      "WARNING:absl:<keras.layers.recurrent.LSTMCell object at 0x0000025ADCB17CA0> has the same name 'LSTMCell' as a built-in Keras object. Consider renaming <class 'keras.layers.recurrent.LSTMCell'> to avoid naming conflicts when loading with `tf.keras.models.load_model`. If renaming is not possible, pass the object in the `custom_objects` parameter of the load function.\n"
     ]
    },
    {
     "name": "stdout",
     "output_type": "stream",
     "text": [
      "3659/3659 [==============================] - 524s 143ms/step - loss: 0.7470 - acc: 0.6943 - val_loss: 0.8928 - val_acc: 0.6439\n",
      "Epoch 14/15\n",
      "3659/3659 [==============================] - ETA: 0s - loss: 0.7212 - acc: 0.7055"
     ]
    },
    {
     "name": "stderr",
     "output_type": "stream",
     "text": [
      "WARNING:absl:Found untraced functions such as lstm_cell_2_layer_call_fn, lstm_cell_2_layer_call_and_return_conditional_losses while saving (showing 2 of 2). These functions will not be directly callable after loading.\n"
     ]
    },
    {
     "name": "stdout",
     "output_type": "stream",
     "text": [
      "INFO:tensorflow:Assets written to: C:\\Users\\PC\\Desktop\\NN\\Text calssification\\version 3\\checkpoint_opt\\assets\n"
     ]
    },
    {
     "name": "stderr",
     "output_type": "stream",
     "text": [
      "INFO:tensorflow:Assets written to: C:\\Users\\PC\\Desktop\\NN\\Text calssification\\version 3\\checkpoint_opt\\assets\n",
      "WARNING:absl:<keras.layers.recurrent.LSTMCell object at 0x0000025ADCB17CA0> has the same name 'LSTMCell' as a built-in Keras object. Consider renaming <class 'keras.layers.recurrent.LSTMCell'> to avoid naming conflicts when loading with `tf.keras.models.load_model`. If renaming is not possible, pass the object in the `custom_objects` parameter of the load function.\n"
     ]
    },
    {
     "name": "stdout",
     "output_type": "stream",
     "text": [
      "\b\b\b\b\b\b\b\b\b\b\b\b\b\b\b\b\b\b\b\b\b\b\b\b\b\b\b\b\b\b\b\b\b\b\b\b\b\b\b\b\b\b\b\b\b\b\b\b\b\b\b\b\b\b\b\b\b\b\b\b\b\b\b\b\b\b\b\b\b\b\b\b\b\b\b\b\b\b\b\b\b\r",
      "3659/3659 [==============================] - 512s 140ms/step - loss: 0.7212 - acc: 0.7055 - val_loss: 0.8935 - val_acc: 0.6435\n"
     ]
    }
   ],
   "source": [
    "lstm_history_opt_model = lstm_opt_model.fit(train_dataset, \n",
    "          validation_data = val_dataset,\n",
    "          epochs = 15,\n",
    "          callbacks=[checkpointer_opt, early_stopping_opt])"
   ]
  },
  {
   "cell_type": "code",
   "execution_count": 67,
   "metadata": {},
   "outputs": [],
   "source": []
  },
  {
   "cell_type": "code",
   "execution_count": 97,
   "metadata": {},
   "outputs": [
    {
     "data": {
      "image/png": "[encoded data removed]",
      "text/plain": [
       "<Figure size 576x396 with 1 Axes>"
      ]
     },
     "metadata": {},
     "output_type": "display_data"
    }
   ],
   "source": [
    "plot_loss_accuracy(lstm_history_opt_model, 'LSTM_Optimized')"
   ]
  },
  {
   "cell_type": "code",
   "execution_count": 132,
   "metadata": {},
   "outputs": [
    {
     "name": "stdout",
     "output_type": "stream",
     "text": [
      "407/407 [==============================] - 28s 67ms/step - loss: 0.8935 - acc: 0.6435\n"
     ]
    }
   ],
   "source": [
    "_,val_acc = lstm_opt_model.evaluate(val_dataset)"
   ]
  },
  {
   "cell_type": "code",
   "execution_count": 98,
   "metadata": {},
   "outputs": [],
   "source": [
    "hist_2 = pd.DataFrame(lstm_history_opt_model.history)\n",
    "hist_2['epoch'] = lstm_history_opt_model.epoch"
   ]
  },
  {
   "cell_type": "code",
   "execution_count": 107,
   "metadata": {},
   "outputs": [
    {
     "data": {
      "text/html": [
       "<div>\n",
       "<style scoped>\n",
       "    .dataframe tbody tr th:only-of-type {\n",
       "        vertical-align: middle;\n",
       "    }\n",
       "\n",
       "    .dataframe tbody tr th {\n",
       "        vertical-align: top;\n",
       "    }\n",
       "\n",
       "    .dataframe thead th {\n",
       "        text-align: right;\n",
       "    }\n",
       "</style>\n",
       "<table border=\"1\" class=\"dataframe\">\n",
       "  <thead>\n",
       "    <tr style=\"text-align: right;\">\n",
       "      <th></th>\n",
       "      <th>loss</th>\n",
       "      <th>acc</th>\n",
       "      <th>val_loss</th>\n",
       "      <th>val_acc</th>\n",
       "      <th>epoch</th>\n",
       "    </tr>\n",
       "  </thead>\n",
       "  <tbody>\n",
       "    <tr>\n",
       "      <th>0</th>\n",
       "      <td>1.007455</td>\n",
       "      <td>0.566531</td>\n",
       "      <td>0.956178</td>\n",
       "      <td>0.604244</td>\n",
       "      <td>0</td>\n",
       "    </tr>\n",
       "    <tr>\n",
       "      <th>1</th>\n",
       "      <td>0.916492</td>\n",
       "      <td>0.615571</td>\n",
       "      <td>0.899266</td>\n",
       "      <td>0.626999</td>\n",
       "      <td>1</td>\n",
       "    </tr>\n",
       "    <tr>\n",
       "      <th>2</th>\n",
       "      <td>0.879054</td>\n",
       "      <td>0.632618</td>\n",
       "      <td>0.881452</td>\n",
       "      <td>0.640683</td>\n",
       "      <td>2</td>\n",
       "    </tr>\n",
       "    <tr>\n",
       "      <th>3</th>\n",
       "      <td>0.851090</td>\n",
       "      <td>0.647769</td>\n",
       "      <td>0.868361</td>\n",
       "      <td>0.644526</td>\n",
       "      <td>3</td>\n",
       "    </tr>\n",
       "    <tr>\n",
       "      <th>4</th>\n",
       "      <td>0.830392</td>\n",
       "      <td>0.657386</td>\n",
       "      <td>0.883321</td>\n",
       "      <td>0.636993</td>\n",
       "      <td>4</td>\n",
       "    </tr>\n",
       "    <tr>\n",
       "      <th>5</th>\n",
       "      <td>0.813452</td>\n",
       "      <td>0.665448</td>\n",
       "      <td>0.879414</td>\n",
       "      <td>0.644219</td>\n",
       "      <td>5</td>\n",
       "    </tr>\n",
       "    <tr>\n",
       "      <th>6</th>\n",
       "      <td>0.797604</td>\n",
       "      <td>0.672332</td>\n",
       "      <td>0.880825</td>\n",
       "      <td>0.640375</td>\n",
       "      <td>6</td>\n",
       "    </tr>\n",
       "    <tr>\n",
       "      <th>7</th>\n",
       "      <td>0.785258</td>\n",
       "      <td>0.677354</td>\n",
       "      <td>0.878960</td>\n",
       "      <td>0.640836</td>\n",
       "      <td>7</td>\n",
       "    </tr>\n",
       "    <tr>\n",
       "      <th>8</th>\n",
       "      <td>0.771479</td>\n",
       "      <td>0.684750</td>\n",
       "      <td>0.872527</td>\n",
       "      <td>0.654213</td>\n",
       "      <td>8</td>\n",
       "    </tr>\n",
       "    <tr>\n",
       "      <th>9</th>\n",
       "      <td>0.757875</td>\n",
       "      <td>0.689926</td>\n",
       "      <td>0.870941</td>\n",
       "      <td>0.649908</td>\n",
       "      <td>9</td>\n",
       "    </tr>\n",
       "    <tr>\n",
       "      <th>10</th>\n",
       "      <td>0.745782</td>\n",
       "      <td>0.693940</td>\n",
       "      <td>0.875342</td>\n",
       "      <td>0.654828</td>\n",
       "      <td>10</td>\n",
       "    </tr>\n",
       "    <tr>\n",
       "      <th>11</th>\n",
       "      <td>0.738207</td>\n",
       "      <td>0.698705</td>\n",
       "      <td>0.885528</td>\n",
       "      <td>0.650830</td>\n",
       "      <td>11</td>\n",
       "    </tr>\n",
       "    <tr>\n",
       "      <th>12</th>\n",
       "      <td>0.747019</td>\n",
       "      <td>0.694264</td>\n",
       "      <td>0.892839</td>\n",
       "      <td>0.643911</td>\n",
       "      <td>12</td>\n",
       "    </tr>\n",
       "    <tr>\n",
       "      <th>13</th>\n",
       "      <td>0.721234</td>\n",
       "      <td>0.705504</td>\n",
       "      <td>0.893487</td>\n",
       "      <td>0.643450</td>\n",
       "      <td>13</td>\n",
       "    </tr>\n",
       "  </tbody>\n",
       "</table>\n",
       "</div>"
      ],
      "text/plain": [
       "        loss       acc  val_loss   val_acc  epoch\n",
       "0   1.007455  0.566531  0.956178  0.604244      0\n",
       "1   0.916492  0.615571  0.899266  0.626999      1\n",
       "2   0.879054  0.632618  0.881452  0.640683      2\n",
       "3   0.851090  0.647769  0.868361  0.644526      3\n",
       "4   0.830392  0.657386  0.883321  0.636993      4\n",
       "5   0.813452  0.665448  0.879414  0.644219      5\n",
       "6   0.797604  0.672332  0.880825  0.640375      6\n",
       "7   0.785258  0.677354  0.878960  0.640836      7\n",
       "8   0.771479  0.684750  0.872527  0.654213      8\n",
       "9   0.757875  0.689926  0.870941  0.649908      9\n",
       "10  0.745782  0.693940  0.875342  0.654828     10\n",
       "11  0.738207  0.698705  0.885528  0.650830     11\n",
       "12  0.747019  0.694264  0.892839  0.643911     12\n",
       "13  0.721234  0.705504  0.893487  0.643450     13"
      ]
     },
     "execution_count": 107,
     "metadata": {},
     "output_type": "execute_result"
    }
   ],
   "source": [
    "hist_2"
   ]
  },
  {
   "cell_type": "code",
   "execution_count": null,
   "metadata": {},
   "outputs": [],
   "source": []
  },
  {
   "cell_type": "markdown",
   "metadata": {},
   "source": [
    "## Bidirectional LSTM"
   ]
  },
  {
   "cell_type": "code",
   "execution_count": 106,
   "metadata": {},
   "outputs": [],
   "source": [
    "tf.keras.backend.clear_session()"
   ]
  },
  {
   "cell_type": "code",
   "execution_count": 87,
   "metadata": {},
   "outputs": [],
   "source": []
  },
  {
   "cell_type": "code",
   "execution_count": 108,
   "metadata": {},
   "outputs": [],
   "source": [
    "lstm_bi_model = Sequential([\n",
    "  vectorize_layer,\n",
    "  Embedding(input_dim = vectorize_layer.vocabulary_size()+2, output_dim = EMBEDDING_DIMENSIONS,weights=[embedding_matrix],input_length=MAX_OUTPUT_LENGTH,trainable=False),\n",
    "  Bidirectional(LSTM(128)),\n",
    "  \n",
    "  Dense(N_CLASSES, activation = softmax)\n",
    "  ])\n",
    "\n",
    "lstm_bi_model.compile(\n",
    "    loss='sparse_categorical_crossentropy',\n",
    "    optimizer = Adam(),\n",
    "    metrics = [\"acc\"]\n",
    "    )"
   ]
  },
  {
   "cell_type": "code",
   "execution_count": 109,
   "metadata": {},
   "outputs": [
    {
     "name": "stdout",
     "output_type": "stream",
     "text": [
      "Model: \"sequential\"\n",
      "_________________________________________________________________\n",
      " Layer (type)                Output Shape              Param #   \n",
      "=================================================================\n",
      " text_vectorization (TextVec  (None, 200)              0         \n",
      " torization)                                                     \n",
      "                                                                 \n",
      " embedding (Embedding)       (None, 200, 100)          500200    \n",
      "                                                                 \n",
      " bidirectional (Bidirectiona  (None, 256)              234496    \n",
      " l)                                                              \n",
      "                                                                 \n",
      " dense (Dense)               (None, 4)                 1028      \n",
      "                                                                 \n",
      "=================================================================\n",
      "Total params: 735,724\n",
      "Trainable params: 235,524\n",
      "Non-trainable params: 500,200\n",
      "_________________________________________________________________\n"
     ]
    }
   ],
   "source": [
    "lstm_bi_model.summary()"
   ]
  },
  {
   "cell_type": "code",
   "execution_count": 110,
   "metadata": {
    "scrolled": true
   },
   "outputs": [
    {
     "name": "stdout",
     "output_type": "stream",
     "text": [
      "Epoch 1/15\n",
      "3659/3659 [==============================] - 1015s 276ms/step - loss: 1.0574 - acc: 0.5476 - val_loss: 0.9817 - val_acc: 0.5789\n",
      "Epoch 2/15\n",
      "3659/3659 [==============================] - 968s 265ms/step - loss: 0.9463 - acc: 0.6032 - val_loss: 0.9455 - val_acc: 0.6050\n",
      "Epoch 3/15\n",
      "3659/3659 [==============================] - 956s 261ms/step - loss: 0.8909 - acc: 0.6277 - val_loss: 0.9259 - val_acc: 0.6150\n",
      "Epoch 4/15\n",
      "3659/3659 [==============================] - 981s 268ms/step - loss: 0.8427 - acc: 0.6517 - val_loss: 0.9375 - val_acc: 0.6173\n",
      "Epoch 5/15\n",
      "3659/3659 [==============================] - 993s 271ms/step - loss: 0.7877 - acc: 0.6770 - val_loss: 0.9384 - val_acc: 0.6164\n",
      "Epoch 6/15\n",
      "3659/3659 [==============================] - 998s 273ms/step - loss: 0.7312 - acc: 0.7016 - val_loss: 0.9655 - val_acc: 0.6127\n",
      "Epoch 7/15\n",
      "3659/3659 [==============================] - 1033s 282ms/step - loss: 0.6703 - acc: 0.7271 - val_loss: 1.0014 - val_acc: 0.6056\n",
      "Epoch 8/15\n",
      "3659/3659 [==============================] - 1021s 279ms/step - loss: 0.6109 - acc: 0.7548 - val_loss: 1.0759 - val_acc: 0.5999\n",
      "Epoch 9/15\n",
      "3659/3659 [==============================] - 1040s 284ms/step - loss: 0.5551 - acc: 0.7806 - val_loss: 1.1366 - val_acc: 0.5939\n",
      "Epoch 10/15\n",
      "3659/3659 [==============================] - 1022s 279ms/step - loss: 0.5032 - acc: 0.8040 - val_loss: 1.1862 - val_acc: 0.5953\n",
      "Epoch 11/15\n",
      "3659/3659 [==============================] - 1033s 282ms/step - loss: 0.4666 - acc: 0.8195 - val_loss: 1.2917 - val_acc: 0.5950\n",
      "Epoch 12/15\n",
      "3659/3659 [==============================] - 1049s 287ms/step - loss: 0.4291 - acc: 0.8337 - val_loss: 1.3484 - val_acc: 0.5949\n",
      "Epoch 13/15\n",
      "3659/3659 [==============================] - 1055s 288ms/step - loss: 0.3949 - acc: 0.8497 - val_loss: 1.4223 - val_acc: 0.5895\n",
      "Epoch 14/15\n",
      "3659/3659 [==============================] - 1068s 292ms/step - loss: 0.3973 - acc: 0.8527 - val_loss: 1.4359 - val_acc: 0.5643\n",
      "Epoch 15/15\n",
      "3659/3659 [==============================] - 1085s 296ms/step - loss: 0.4362 - acc: 0.8330 - val_loss: 1.4634 - val_acc: 0.5863\n"
     ]
    }
   ],
   "source": [
    "lstm_history_bi_model = lstm_bi_model.fit(train_dataset, \n",
    "          validation_data = val_dataset,\n",
    "          epochs = 15,\n",
    "          verbose = 1)"
   ]
  },
  {
   "cell_type": "code",
   "execution_count": 111,
   "metadata": {},
   "outputs": [
    {
     "data": {
      "image/png": "[encoded data removed]",
      "text/plain": [
       "<Figure size 576x396 with 1 Axes>"
      ]
     },
     "metadata": {},
     "output_type": "display_data"
    }
   ],
   "source": [
    "plot_loss_accuracy(lstm_history_bi_model, 'LSTM_Bi-directional')"
   ]
  },
  {
   "cell_type": "code",
   "execution_count": 127,
   "metadata": {},
   "outputs": [
    {
     "name": "stdout",
     "output_type": "stream",
     "text": [
      "407/407 [==============================] - 48s 118ms/step - loss: 1.4634 - acc: 0.5863\n"
     ]
    }
   ],
   "source": [
    "_,val_acc = lstm_bi_model.evaluate(val_dataset)"
   ]
  },
  {
   "cell_type": "markdown",
   "metadata": {},
   "source": []
  },
  {
   "cell_type": "code",
   "execution_count": 71,
   "metadata": {},
   "outputs": [],
   "source": [
    "hist_3 = pd.DataFrame(lstm_history_bi_model.history)\n",
    "hist_3['epoch'] = lstm_history_bi_model.epoch"
   ]
  },
  {
   "cell_type": "code",
   "execution_count": 68,
   "metadata": {
    "scrolled": true
   },
   "outputs": [
    {
     "data": {
      "text/html": [
       "<div>\n",
       "<style scoped>\n",
       "    .dataframe tbody tr th:only-of-type {\n",
       "        vertical-align: middle;\n",
       "    }\n",
       "\n",
       "    .dataframe tbody tr th {\n",
       "        vertical-align: top;\n",
       "    }\n",
       "\n",
       "    .dataframe thead th {\n",
       "        text-align: right;\n",
       "    }\n",
       "</style>\n",
       "<table border=\"1\" class=\"dataframe\">\n",
       "  <thead>\n",
       "    <tr style=\"text-align: right;\">\n",
       "      <th></th>\n",
       "      <th>loss</th>\n",
       "      <th>acc</th>\n",
       "      <th>val_loss</th>\n",
       "      <th>val_acc</th>\n",
       "      <th>epoch</th>\n",
       "    </tr>\n",
       "  </thead>\n",
       "  <tbody>\n",
       "    <tr>\n",
       "      <th>0</th>\n",
       "      <td>1.080597</td>\n",
       "      <td>0.531566</td>\n",
       "      <td>1.005716</td>\n",
       "      <td>0.568573</td>\n",
       "      <td>0</td>\n",
       "    </tr>\n",
       "    <tr>\n",
       "      <th>1</th>\n",
       "      <td>0.987166</td>\n",
       "      <td>0.579957</td>\n",
       "      <td>0.992043</td>\n",
       "      <td>0.573801</td>\n",
       "      <td>1</td>\n",
       "    </tr>\n",
       "    <tr>\n",
       "      <th>2</th>\n",
       "      <td>0.963187</td>\n",
       "      <td>0.592614</td>\n",
       "      <td>0.989545</td>\n",
       "      <td>0.585486</td>\n",
       "      <td>2</td>\n",
       "    </tr>\n",
       "    <tr>\n",
       "      <th>3</th>\n",
       "      <td>0.944030</td>\n",
       "      <td>0.601445</td>\n",
       "      <td>1.013168</td>\n",
       "      <td>0.580873</td>\n",
       "      <td>3</td>\n",
       "    </tr>\n",
       "    <tr>\n",
       "      <th>4</th>\n",
       "      <td>0.934162</td>\n",
       "      <td>0.603409</td>\n",
       "      <td>0.986549</td>\n",
       "      <td>0.585793</td>\n",
       "      <td>4</td>\n",
       "    </tr>\n",
       "    <tr>\n",
       "      <th>5</th>\n",
       "      <td>0.926191</td>\n",
       "      <td>0.607885</td>\n",
       "      <td>1.002506</td>\n",
       "      <td>0.585486</td>\n",
       "      <td>5</td>\n",
       "    </tr>\n",
       "    <tr>\n",
       "      <th>6</th>\n",
       "      <td>0.913488</td>\n",
       "      <td>0.612958</td>\n",
       "      <td>0.992928</td>\n",
       "      <td>0.583795</td>\n",
       "      <td>6</td>\n",
       "    </tr>\n",
       "    <tr>\n",
       "      <th>7</th>\n",
       "      <td>0.908020</td>\n",
       "      <td>0.614410</td>\n",
       "      <td>0.989727</td>\n",
       "      <td>0.582565</td>\n",
       "      <td>7</td>\n",
       "    </tr>\n",
       "    <tr>\n",
       "      <th>8</th>\n",
       "      <td>0.902366</td>\n",
       "      <td>0.620474</td>\n",
       "      <td>0.984594</td>\n",
       "      <td>0.589330</td>\n",
       "      <td>8</td>\n",
       "    </tr>\n",
       "    <tr>\n",
       "      <th>9</th>\n",
       "      <td>0.901851</td>\n",
       "      <td>0.619739</td>\n",
       "      <td>0.974403</td>\n",
       "      <td>0.592866</td>\n",
       "      <td>9</td>\n",
       "    </tr>\n",
       "  </tbody>\n",
       "</table>\n",
       "</div>"
      ],
      "text/plain": [
       "       loss       acc  val_loss   val_acc  epoch\n",
       "0  1.080597  0.531566  1.005716  0.568573      0\n",
       "1  0.987166  0.579957  0.992043  0.573801      1\n",
       "2  0.963187  0.592614  0.989545  0.585486      2\n",
       "3  0.944030  0.601445  1.013168  0.580873      3\n",
       "4  0.934162  0.603409  0.986549  0.585793      4\n",
       "5  0.926191  0.607885  1.002506  0.585486      5\n",
       "6  0.913488  0.612958  0.992928  0.583795      6\n",
       "7  0.908020  0.614410  0.989727  0.582565      7\n",
       "8  0.902366  0.620474  0.984594  0.589330      8\n",
       "9  0.901851  0.619739  0.974403  0.592866      9"
      ]
     },
     "execution_count": 68,
     "metadata": {},
     "output_type": "execute_result"
    }
   ],
   "source": [
    "hist_3"
   ]
  },
  {
   "cell_type": "markdown",
   "metadata": {},
   "source": [
    "Model is overfitting and validation accuracy is not only not improving, but decreasing with each epoch."
   ]
  },
  {
   "cell_type": "markdown",
   "metadata": {},
   "source": [
    "## Denser Bi-directional LSTM"
   ]
  },
  {
   "cell_type": "code",
   "execution_count": null,
   "metadata": {},
   "outputs": [],
   "source": [
    "model_name = \"cnn model\"\n",
    "checkpointer_cnn = ModelCheckpoint(filepath =check_point_cnn,\n",
    "                               save_best_only=False, save_weights_only = False, verbose=0,mode='min')\n",
    "early_stopping_cnn = EarlyStopping(monitor='val_loss', min_delta=0, patience=10, verbose=0, mode='auto')"
   ]
  },
  {
   "cell_type": "code",
   "execution_count": 74,
   "metadata": {},
   "outputs": [],
   "source": [
    "lstm_bi_opt_model = Sequential([\n",
    "  vectorize_layer,\n",
    "  Embedding(input_dim = vectorize_layer.vocabulary_size()+2, output_dim = EMBEDDING_DIMENSIONS,weights=[embedding_matrix],input_length=MAX_OUTPUT_LENGTH,trainable=False),\n",
    "  Bidirectional(LSTM(64, return_sequences = True)),\n",
    "  Bidirectional(LSTM(64)),\n",
    "  \n",
    "  Dense(N_CLASSES, activation = softmax)\n",
    "  ])\n",
    "\n",
    "lstm_bi_opt_model.compile(\n",
    "    loss='sparse_categorical_crossentropy',\n",
    "    optimizer = Adam(learning_rate = LEARNING_RATE),\n",
    "    metrics = [\"acc\"]\n",
    "    )"
   ]
  },
  {
   "cell_type": "code",
   "execution_count": 75,
   "metadata": {},
   "outputs": [
    {
     "name": "stdout",
     "output_type": "stream",
     "text": [
      "Model: \"sequential_1\"\n",
      "_________________________________________________________________\n",
      " Layer (type)                Output Shape              Param #   \n",
      "=================================================================\n",
      " text_vectorization (TextVec  (None, 200)              0         \n",
      " torization)                                                     \n",
      "                                                                 \n",
      " embedding_1 (Embedding)     (None, 200, 100)          500200    \n",
      "                                                                 \n",
      " bidirectional_3 (Bidirectio  (None, 200, 128)         84480     \n",
      " nal)                                                            \n",
      "                                                                 \n",
      " bidirectional_4 (Bidirectio  (None, 128)              98816     \n",
      " nal)                                                            \n",
      "                                                                 \n",
      " dense_1 (Dense)             (None, 4)                 516       \n",
      "                                                                 \n",
      "=================================================================\n",
      "Total params: 684,012\n",
      "Trainable params: 183,812\n",
      "Non-trainable params: 500,200\n",
      "_________________________________________________________________\n"
     ]
    }
   ],
   "source": [
    "lstm_bi_opt_model.summary()"
   ]
  },
  {
   "cell_type": "code",
   "execution_count": 76,
   "metadata": {},
   "outputs": [
    {
     "name": "stdout",
     "output_type": "stream",
     "text": [
      "Epoch 1/10\n",
      "3659/3659 [==============================] - 670s 181ms/step - loss: 1.0620 - acc: 0.5386 - val_loss: 0.9877 - val_acc: 0.5812\n",
      "Epoch 2/10\n",
      "3659/3659 [==============================] - 654s 179ms/step - loss: 0.9602 - acc: 0.5946 - val_loss: 0.9550 - val_acc: 0.6095\n",
      "Epoch 3/10\n",
      "3659/3659 [==============================] - 658s 180ms/step - loss: 0.9284 - acc: 0.6112 - val_loss: 0.9383 - val_acc: 0.6196\n",
      "Epoch 4/10\n",
      "3659/3659 [==============================] - 658s 180ms/step - loss: 0.9231 - acc: 0.6080 - val_loss: 0.9696 - val_acc: 0.5878\n",
      "Epoch 5/10\n",
      "3659/3659 [==============================] - 662s 181ms/step - loss: 0.9103 - acc: 0.6163 - val_loss: 0.9418 - val_acc: 0.6109\n",
      "Epoch 6/10\n",
      "3659/3659 [==============================] - 666s 182ms/step - loss: 0.8921 - acc: 0.6274 - val_loss: 0.9565 - val_acc: 0.6027\n",
      "Epoch 7/10\n",
      "3659/3659 [==============================] - 665s 182ms/step - loss: 0.8798 - acc: 0.6328 - val_loss: 0.9397 - val_acc: 0.6105\n",
      "Epoch 8/10\n",
      "3659/3659 [==============================] - 657s 180ms/step - loss: 0.8720 - acc: 0.6364 - val_loss: 0.9352 - val_acc: 0.6205\n",
      "Epoch 9/10\n",
      "3659/3659 [==============================] - 667s 182ms/step - loss: 0.8625 - acc: 0.6412 - val_loss: 0.9412 - val_acc: 0.6153\n",
      "Epoch 10/10\n",
      "3659/3659 [==============================] - 661s 181ms/step - loss: 0.8615 - acc: 0.6408 - val_loss: 0.9559 - val_acc: 0.6075\n"
     ]
    }
   ],
   "source": [
    "lstm_history_bi__opt_model = lstm_bi_opt_model.fit(train_dataset, \n",
    "          validation_data = val_dataset,\n",
    "          epochs = 10,\n",
    "          verbose = 1)"
   ]
  },
  {
   "cell_type": "code",
   "execution_count": 78,
   "metadata": {
    "scrolled": true
   },
   "outputs": [
    {
     "data": {
      "image/png": "[encoded data removed]",
      "text/plain": [
       "<Figure size 576x396 with 1 Axes>"
      ]
     },
     "metadata": {},
     "output_type": "display_data"
    }
   ],
   "source": [
    "plot_loss_accuracy(lstm_history_bi__opt_model, 'LSTM_Bi-directional_Optimized')"
   ]
  },
  {
   "cell_type": "code",
   "execution_count": 83,
   "metadata": {},
   "outputs": [
    {
     "data": {
      "text/plain": [
       "<keras.callbacks.History at 0x25aa7216f40>"
      ]
     },
     "execution_count": 83,
     "metadata": {},
     "output_type": "execute_result"
    }
   ],
   "source": [
    "lstm_history_bi__opt_model"
   ]
  },
  {
   "cell_type": "code",
   "execution_count": 131,
   "metadata": {},
   "outputs": [
    {
     "name": "stdout",
     "output_type": "stream",
     "text": [
      "407/407 [==============================] - 42s 101ms/step - loss: 0.9559 - acc: 0.6075\n"
     ]
    }
   ],
   "source": [
    "_,val_acc = lstm_bi_opt_model.evaluate(val_dataset)"
   ]
  },
  {
   "cell_type": "code",
   "execution_count": 129,
   "metadata": {},
   "outputs": [],
   "source": [
    "hist_4 = pd.DataFrame(lstm_history_bi__opt_model.history)\n",
    "hist_4['epoch'] = lstm_history_bi__opt_model.epoch"
   ]
  },
  {
   "cell_type": "code",
   "execution_count": 85,
   "metadata": {},
   "outputs": [
    {
     "data": {
      "text/html": [
       "<div>\n",
       "<style scoped>\n",
       "    .dataframe tbody tr th:only-of-type {\n",
       "        vertical-align: middle;\n",
       "    }\n",
       "\n",
       "    .dataframe tbody tr th {\n",
       "        vertical-align: top;\n",
       "    }\n",
       "\n",
       "    .dataframe thead th {\n",
       "        text-align: right;\n",
       "    }\n",
       "</style>\n",
       "<table border=\"1\" class=\"dataframe\">\n",
       "  <thead>\n",
       "    <tr style=\"text-align: right;\">\n",
       "      <th></th>\n",
       "      <th>loss</th>\n",
       "      <th>acc</th>\n",
       "      <th>val_loss</th>\n",
       "      <th>val_acc</th>\n",
       "      <th>epoch</th>\n",
       "    </tr>\n",
       "  </thead>\n",
       "  <tbody>\n",
       "    <tr>\n",
       "      <th>0</th>\n",
       "      <td>1.062027</td>\n",
       "      <td>0.538638</td>\n",
       "      <td>0.987721</td>\n",
       "      <td>0.581181</td>\n",
       "      <td>0</td>\n",
       "    </tr>\n",
       "    <tr>\n",
       "      <th>1</th>\n",
       "      <td>0.960216</td>\n",
       "      <td>0.594595</td>\n",
       "      <td>0.955040</td>\n",
       "      <td>0.609471</td>\n",
       "      <td>1</td>\n",
       "    </tr>\n",
       "    <tr>\n",
       "      <th>2</th>\n",
       "      <td>0.928389</td>\n",
       "      <td>0.611250</td>\n",
       "      <td>0.938325</td>\n",
       "      <td>0.619619</td>\n",
       "      <td>2</td>\n",
       "    </tr>\n",
       "    <tr>\n",
       "      <th>3</th>\n",
       "      <td>0.923080</td>\n",
       "      <td>0.608004</td>\n",
       "      <td>0.969586</td>\n",
       "      <td>0.587792</td>\n",
       "      <td>3</td>\n",
       "    </tr>\n",
       "    <tr>\n",
       "      <th>4</th>\n",
       "      <td>0.910301</td>\n",
       "      <td>0.616289</td>\n",
       "      <td>0.941787</td>\n",
       "      <td>0.610855</td>\n",
       "      <td>4</td>\n",
       "    </tr>\n",
       "    <tr>\n",
       "      <th>5</th>\n",
       "      <td>0.892118</td>\n",
       "      <td>0.627426</td>\n",
       "      <td>0.956469</td>\n",
       "      <td>0.602706</td>\n",
       "      <td>5</td>\n",
       "    </tr>\n",
       "    <tr>\n",
       "      <th>6</th>\n",
       "      <td>0.879768</td>\n",
       "      <td>0.632840</td>\n",
       "      <td>0.939721</td>\n",
       "      <td>0.610547</td>\n",
       "      <td>6</td>\n",
       "    </tr>\n",
       "    <tr>\n",
       "      <th>7</th>\n",
       "      <td>0.871982</td>\n",
       "      <td>0.636393</td>\n",
       "      <td>0.935247</td>\n",
       "      <td>0.620541</td>\n",
       "      <td>7</td>\n",
       "    </tr>\n",
       "    <tr>\n",
       "      <th>8</th>\n",
       "      <td>0.862482</td>\n",
       "      <td>0.641176</td>\n",
       "      <td>0.941177</td>\n",
       "      <td>0.615314</td>\n",
       "      <td>8</td>\n",
       "    </tr>\n",
       "    <tr>\n",
       "      <th>9</th>\n",
       "      <td>0.861530</td>\n",
       "      <td>0.640834</td>\n",
       "      <td>0.955860</td>\n",
       "      <td>0.607472</td>\n",
       "      <td>9</td>\n",
       "    </tr>\n",
       "  </tbody>\n",
       "</table>\n",
       "</div>"
      ],
      "text/plain": [
       "       loss       acc  val_loss   val_acc  epoch\n",
       "0  1.062027  0.538638  0.987721  0.581181      0\n",
       "1  0.960216  0.594595  0.955040  0.609471      1\n",
       "2  0.928389  0.611250  0.938325  0.619619      2\n",
       "3  0.923080  0.608004  0.969586  0.587792      3\n",
       "4  0.910301  0.616289  0.941787  0.610855      4\n",
       "5  0.892118  0.627426  0.956469  0.602706      5\n",
       "6  0.879768  0.632840  0.939721  0.610547      6\n",
       "7  0.871982  0.636393  0.935247  0.620541      7\n",
       "8  0.862482  0.641176  0.941177  0.615314      8\n",
       "9  0.861530  0.640834  0.955860  0.607472      9"
      ]
     },
     "execution_count": 85,
     "metadata": {},
     "output_type": "execute_result"
    }
   ],
   "source": [
    "hist_4"
   ]
  },
  {
   "cell_type": "code",
   "execution_count": null,
   "metadata": {},
   "outputs": [],
   "source": []
  },
  {
   "cell_type": "code",
   "execution_count": null,
   "metadata": {},
   "outputs": [],
   "source": []
  },
  {
   "cell_type": "markdown",
   "metadata": {},
   "source": [
    "## CNN model"
   ]
  },
  {
   "cell_type": "code",
   "execution_count": 119,
   "metadata": {},
   "outputs": [],
   "source": [
    "tf.keras.backend.clear_session()\n",
    "\n",
    "checkpointer_cnn = ModelCheckpoint(filepath =check_point_cnn,\n",
    "                               save_best_only=False, save_weights_only = False, verbose=0,mode='min')\n",
    "early_stopping_cnn = EarlyStopping(monitor='val_loss', min_delta=0, patience=10, verbose=0, mode='auto')"
   ]
  },
  {
   "cell_type": "code",
   "execution_count": 122,
   "metadata": {},
   "outputs": [],
   "source": [
    "cnn_model = Sequential([\n",
    "  vectorize_layer,\n",
    "  Embedding(input_dim = vectorize_layer.vocabulary_size()+2, output_dim = EMBEDDING_DIMENSIONS,weights=[embedding_matrix],input_length=MAX_OUTPUT_LENGTH,trainable=False),\n",
    "  Conv1D(128,3, padding = 'same', activation= 'relu'),\n",
    "  MaxPool1D(),\n",
    " \n",
    "  \n",
    "  Conv1D(128,5, padding = 'same', activation= 'relu'),\n",
    "  MaxPool1D(),\n",
    "  Dropout(0.2),\n",
    "  \n",
    "  \n",
    "  Conv1D(128,5, padding = 'same', activation= 'relu'),\n",
    "  MaxPool1D(),\n",
    "  Dropout(0.2),\n",
    "  \n",
    "  \n",
    "  Flatten(),\n",
    "  Dense(128, activation = 'relu'),\n",
    "  Dense(N_CLASSES, activation = softmax)\n",
    "  ])\n",
    "\n",
    "cnn_model.compile(\n",
    "    loss='sparse_categorical_crossentropy',\n",
    "    optimizer = Adam(learning_rate = LEARNING_RATE),\n",
    "    metrics = [\"acc\"]\n",
    "    )"
   ]
  },
  {
   "cell_type": "code",
   "execution_count": 117,
   "metadata": {},
   "outputs": [
    {
     "name": "stdout",
     "output_type": "stream",
     "text": [
      "Model: \"sequential\"\n",
      "_________________________________________________________________\n",
      " Layer (type)                Output Shape              Param #   \n",
      "=================================================================\n",
      " text_vectorization (TextVec  (None, 200)              0         \n",
      " torization)                                                     \n",
      "                                                                 \n",
      " embedding_1 (Embedding)     (None, 200, 100)          500200    \n",
      "                                                                 \n",
      " conv1d_3 (Conv1D)           (None, 200, 128)          38528     \n",
      "                                                                 \n",
      " max_pooling1d_3 (MaxPooling  (None, 100, 128)         0         \n",
      " 1D)                                                             \n",
      "                                                                 \n",
      " conv1d_4 (Conv1D)           (None, 100, 128)          82048     \n",
      "                                                                 \n",
      " max_pooling1d_4 (MaxPooling  (None, 50, 128)          0         \n",
      " 1D)                                                             \n",
      "                                                                 \n",
      " conv1d_5 (Conv1D)           (None, 50, 128)           82048     \n",
      "                                                                 \n",
      " max_pooling1d_5 (MaxPooling  (None, 25, 128)          0         \n",
      " 1D)                                                             \n",
      "                                                                 \n",
      " flatten (Flatten)           (None, 3200)              0         \n",
      "                                                                 \n",
      " dense (Dense)               (None, 128)               409728    \n",
      "                                                                 \n",
      " dense_1 (Dense)             (None, 4)                 516       \n",
      "                                                                 \n",
      "=================================================================\n",
      "Total params: 1,113,068\n",
      "Trainable params: 612,868\n",
      "Non-trainable params: 500,200\n",
      "_________________________________________________________________\n"
     ]
    }
   ],
   "source": [
    "cnn_model.summary()"
   ]
  },
  {
   "cell_type": "code",
   "execution_count": 123,
   "metadata": {},
   "outputs": [
    {
     "name": "stdout",
     "output_type": "stream",
     "text": [
      "Epoch 1/10\n",
      "3659/3659 [==============================] - ETA: 0s - loss: 1.0431 - acc: 0.5499"
     ]
    },
    {
     "name": "stderr",
     "output_type": "stream",
     "text": [
      "WARNING:absl:Found untraced functions such as _jit_compiled_convolution_op, _jit_compiled_convolution_op, _jit_compiled_convolution_op while saving (showing 3 of 3). These functions will not be directly callable after loading.\n"
     ]
    },
    {
     "name": "stdout",
     "output_type": "stream",
     "text": [
      "INFO:tensorflow:Assets written to: C:\\Users\\PC\\Desktop\\NN\\Text calssification\\version 3\\checkpoint_cnn\\assets\n"
     ]
    },
    {
     "name": "stderr",
     "output_type": "stream",
     "text": [
      "INFO:tensorflow:Assets written to: C:\\Users\\PC\\Desktop\\NN\\Text calssification\\version 3\\checkpoint_cnn\\assets\n"
     ]
    },
    {
     "name": "stdout",
     "output_type": "stream",
     "text": [
      "3659/3659 [==============================] - 159s 43ms/step - loss: 1.0431 - acc: 0.5499 - val_loss: 0.9983 - val_acc: 0.5809\n",
      "Epoch 2/10\n",
      "3659/3659 [==============================] - ETA: 0s - loss: 0.9389 - acc: 0.6068"
     ]
    },
    {
     "name": "stderr",
     "output_type": "stream",
     "text": [
      "WARNING:absl:Found untraced functions such as _jit_compiled_convolution_op, _jit_compiled_convolution_op, _jit_compiled_convolution_op while saving (showing 3 of 3). These functions will not be directly callable after loading.\n"
     ]
    },
    {
     "name": "stdout",
     "output_type": "stream",
     "text": [
      "INFO:tensorflow:Assets written to: C:\\Users\\PC\\Desktop\\NN\\Text calssification\\version 3\\checkpoint_cnn\\assets\n"
     ]
    },
    {
     "name": "stderr",
     "output_type": "stream",
     "text": [
      "INFO:tensorflow:Assets written to: C:\\Users\\PC\\Desktop\\NN\\Text calssification\\version 3\\checkpoint_cnn\\assets\n"
     ]
    },
    {
     "name": "stdout",
     "output_type": "stream",
     "text": [
      "3659/3659 [==============================] - 158s 43ms/step - loss: 0.9389 - acc: 0.6068 - val_loss: 0.9486 - val_acc: 0.6092\n",
      "Epoch 3/10\n",
      "3659/3659 [==============================] - ETA: 0s - loss: 0.8851 - acc: 0.6321"
     ]
    },
    {
     "name": "stderr",
     "output_type": "stream",
     "text": [
      "WARNING:absl:Found untraced functions such as _jit_compiled_convolution_op, _jit_compiled_convolution_op, _jit_compiled_convolution_op while saving (showing 3 of 3). These functions will not be directly callable after loading.\n"
     ]
    },
    {
     "name": "stdout",
     "output_type": "stream",
     "text": [
      "INFO:tensorflow:Assets written to: C:\\Users\\PC\\Desktop\\NN\\Text calssification\\version 3\\checkpoint_cnn\\assets\n"
     ]
    },
    {
     "name": "stderr",
     "output_type": "stream",
     "text": [
      "INFO:tensorflow:Assets written to: C:\\Users\\PC\\Desktop\\NN\\Text calssification\\version 3\\checkpoint_cnn\\assets\n"
     ]
    },
    {
     "name": "stdout",
     "output_type": "stream",
     "text": [
      "3659/3659 [==============================] - 155s 42ms/step - loss: 0.8851 - acc: 0.6321 - val_loss: 0.9361 - val_acc: 0.6145\n",
      "Epoch 4/10\n",
      "3658/3659 [============================>.] - ETA: 0s - loss: 0.8448 - acc: 0.6505"
     ]
    },
    {
     "name": "stderr",
     "output_type": "stream",
     "text": [
      "WARNING:absl:Found untraced functions such as _jit_compiled_convolution_op, _jit_compiled_convolution_op, _jit_compiled_convolution_op while saving (showing 3 of 3). These functions will not be directly callable after loading.\n"
     ]
    },
    {
     "name": "stdout",
     "output_type": "stream",
     "text": [
      "INFO:tensorflow:Assets written to: C:\\Users\\PC\\Desktop\\NN\\Text calssification\\version 3\\checkpoint_cnn\\assets\n"
     ]
    },
    {
     "name": "stderr",
     "output_type": "stream",
     "text": [
      "INFO:tensorflow:Assets written to: C:\\Users\\PC\\Desktop\\NN\\Text calssification\\version 3\\checkpoint_cnn\\assets\n"
     ]
    },
    {
     "name": "stdout",
     "output_type": "stream",
     "text": [
      "3659/3659 [==============================] - 152s 42ms/step - loss: 0.8449 - acc: 0.6504 - val_loss: 0.9317 - val_acc: 0.6212\n",
      "Epoch 5/10\n",
      "3659/3659 [==============================] - ETA: 0s - loss: 0.8038 - acc: 0.6690"
     ]
    },
    {
     "name": "stderr",
     "output_type": "stream",
     "text": [
      "WARNING:absl:Found untraced functions such as _jit_compiled_convolution_op, _jit_compiled_convolution_op, _jit_compiled_convolution_op while saving (showing 3 of 3). These functions will not be directly callable after loading.\n"
     ]
    },
    {
     "name": "stdout",
     "output_type": "stream",
     "text": [
      "INFO:tensorflow:Assets written to: C:\\Users\\PC\\Desktop\\NN\\Text calssification\\version 3\\checkpoint_cnn\\assets\n"
     ]
    },
    {
     "name": "stderr",
     "output_type": "stream",
     "text": [
      "INFO:tensorflow:Assets written to: C:\\Users\\PC\\Desktop\\NN\\Text calssification\\version 3\\checkpoint_cnn\\assets\n"
     ]
    },
    {
     "name": "stdout",
     "output_type": "stream",
     "text": [
      "3659/3659 [==============================] - 154s 42ms/step - loss: 0.8038 - acc: 0.6690 - val_loss: 0.9433 - val_acc: 0.6098\n",
      "Epoch 6/10\n",
      "3658/3659 [============================>.] - ETA: 0s - loss: 0.7689 - acc: 0.6842"
     ]
    },
    {
     "name": "stderr",
     "output_type": "stream",
     "text": [
      "WARNING:absl:Found untraced functions such as _jit_compiled_convolution_op, _jit_compiled_convolution_op, _jit_compiled_convolution_op while saving (showing 3 of 3). These functions will not be directly callable after loading.\n"
     ]
    },
    {
     "name": "stdout",
     "output_type": "stream",
     "text": [
      "INFO:tensorflow:Assets written to: C:\\Users\\PC\\Desktop\\NN\\Text calssification\\version 3\\checkpoint_cnn\\assets\n"
     ]
    },
    {
     "name": "stderr",
     "output_type": "stream",
     "text": [
      "INFO:tensorflow:Assets written to: C:\\Users\\PC\\Desktop\\NN\\Text calssification\\version 3\\checkpoint_cnn\\assets\n"
     ]
    },
    {
     "name": "stdout",
     "output_type": "stream",
     "text": [
      "3659/3659 [==============================] - 155s 42ms/step - loss: 0.7689 - acc: 0.6842 - val_loss: 0.9611 - val_acc: 0.6113\n",
      "Epoch 7/10\n",
      "3658/3659 [============================>.] - ETA: 0s - loss: 0.7365 - acc: 0.6965"
     ]
    },
    {
     "name": "stderr",
     "output_type": "stream",
     "text": [
      "WARNING:absl:Found untraced functions such as _jit_compiled_convolution_op, _jit_compiled_convolution_op, _jit_compiled_convolution_op while saving (showing 3 of 3). These functions will not be directly callable after loading.\n"
     ]
    },
    {
     "name": "stdout",
     "output_type": "stream",
     "text": [
      "INFO:tensorflow:Assets written to: C:\\Users\\PC\\Desktop\\NN\\Text calssification\\version 3\\checkpoint_cnn\\assets\n"
     ]
    },
    {
     "name": "stderr",
     "output_type": "stream",
     "text": [
      "INFO:tensorflow:Assets written to: C:\\Users\\PC\\Desktop\\NN\\Text calssification\\version 3\\checkpoint_cnn\\assets\n"
     ]
    },
    {
     "name": "stdout",
     "output_type": "stream",
     "text": [
      "3659/3659 [==============================] - 156s 43ms/step - loss: 0.7365 - acc: 0.6965 - val_loss: 0.9571 - val_acc: 0.6125\n",
      "Epoch 8/10\n",
      "3658/3659 [============================>.] - ETA: 0s - loss: 0.7093 - acc: 0.7092"
     ]
    },
    {
     "name": "stderr",
     "output_type": "stream",
     "text": [
      "WARNING:absl:Found untraced functions such as _jit_compiled_convolution_op, _jit_compiled_convolution_op, _jit_compiled_convolution_op while saving (showing 3 of 3). These functions will not be directly callable after loading.\n"
     ]
    },
    {
     "name": "stdout",
     "output_type": "stream",
     "text": [
      "INFO:tensorflow:Assets written to: C:\\Users\\PC\\Desktop\\NN\\Text calssification\\version 3\\checkpoint_cnn\\assets\n"
     ]
    },
    {
     "name": "stderr",
     "output_type": "stream",
     "text": [
      "INFO:tensorflow:Assets written to: C:\\Users\\PC\\Desktop\\NN\\Text calssification\\version 3\\checkpoint_cnn\\assets\n"
     ]
    },
    {
     "name": "stdout",
     "output_type": "stream",
     "text": [
      "3659/3659 [==============================] - 157s 43ms/step - loss: 0.7093 - acc: 0.7092 - val_loss: 0.9716 - val_acc: 0.6145\n",
      "Epoch 9/10\n",
      "3658/3659 [============================>.] - ETA: 0s - loss: 0.6775 - acc: 0.7213"
     ]
    },
    {
     "name": "stderr",
     "output_type": "stream",
     "text": [
      "WARNING:absl:Found untraced functions such as _jit_compiled_convolution_op, _jit_compiled_convolution_op, _jit_compiled_convolution_op while saving (showing 3 of 3). These functions will not be directly callable after loading.\n"
     ]
    },
    {
     "name": "stdout",
     "output_type": "stream",
     "text": [
      "INFO:tensorflow:Assets written to: C:\\Users\\PC\\Desktop\\NN\\Text calssification\\version 3\\checkpoint_cnn\\assets\n"
     ]
    },
    {
     "name": "stderr",
     "output_type": "stream",
     "text": [
      "INFO:tensorflow:Assets written to: C:\\Users\\PC\\Desktop\\NN\\Text calssification\\version 3\\checkpoint_cnn\\assets\n"
     ]
    },
    {
     "name": "stdout",
     "output_type": "stream",
     "text": [
      "3659/3659 [==============================] - 157s 43ms/step - loss: 0.6775 - acc: 0.7213 - val_loss: 0.9898 - val_acc: 0.6167\n",
      "Epoch 10/10\n",
      "3658/3659 [============================>.] - ETA: 0s - loss: 0.6563 - acc: 0.7304"
     ]
    },
    {
     "name": "stderr",
     "output_type": "stream",
     "text": [
      "WARNING:absl:Found untraced functions such as _jit_compiled_convolution_op, _jit_compiled_convolution_op, _jit_compiled_convolution_op while saving (showing 3 of 3). These functions will not be directly callable after loading.\n"
     ]
    },
    {
     "name": "stdout",
     "output_type": "stream",
     "text": [
      "INFO:tensorflow:Assets written to: C:\\Users\\PC\\Desktop\\NN\\Text calssification\\version 3\\checkpoint_cnn\\assets\n"
     ]
    },
    {
     "name": "stderr",
     "output_type": "stream",
     "text": [
      "INFO:tensorflow:Assets written to: C:\\Users\\PC\\Desktop\\NN\\Text calssification\\version 3\\checkpoint_cnn\\assets\n"
     ]
    },
    {
     "name": "stdout",
     "output_type": "stream",
     "text": [
      "\b\b\b\b\b\b\b\b\b\b\b\b\b\b\b\b\b\b\b\b\b\b\b\b\b\b\b\b\b\b\b\b\b\b\b\b\b\b\b\b\b\b\b\b\b\b\b\b\b\b\b\b\b\b\b\b\b\b\b\b\b\b\b\b\b\b\b\b\b\b\b\b\b\b\b\b\b\b\b\b\b\r",
      "3659/3659 [==============================] - 163s 45ms/step - loss: 0.6563 - acc: 0.7304 - val_loss: 1.0292 - val_acc: 0.6069\n"
     ]
    }
   ],
   "source": [
    "cnn_history_model = cnn_model.fit(train_dataset, \n",
    "          validation_data = val_dataset,\n",
    "          epochs = 10,\n",
    "          callbacks=[checkpointer_cnn, early_stopping_cnn])"
   ]
  },
  {
   "cell_type": "code",
   "execution_count": 124,
   "metadata": {},
   "outputs": [
    {
     "data": {
      "image/png": "[encoded data removed]",
      "text/plain": [
       "<Figure size 576x396 with 1 Axes>"
      ]
     },
     "metadata": {},
     "output_type": "display_data"
    }
   ],
   "source": [
    "plot_loss_accuracy(cnn_history_model, 'CNN 1D model')"
   ]
  },
  {
   "cell_type": "code",
   "execution_count": null,
   "metadata": {},
   "outputs": [],
   "source": []
  },
  {
   "cell_type": "code",
   "execution_count": 125,
   "metadata": {},
   "outputs": [],
   "source": [
    "hist_5 = pd.DataFrame(cnn_history_model.history)\n",
    "hist_5['epoch'] = cnn_history_model.epoch"
   ]
  },
  {
   "cell_type": "code",
   "execution_count": 126,
   "metadata": {},
   "outputs": [
    {
     "data": {
      "text/html": [
       "<div>\n",
       "<style scoped>\n",
       "    .dataframe tbody tr th:only-of-type {\n",
       "        vertical-align: middle;\n",
       "    }\n",
       "\n",
       "    .dataframe tbody tr th {\n",
       "        vertical-align: top;\n",
       "    }\n",
       "\n",
       "    .dataframe thead th {\n",
       "        text-align: right;\n",
       "    }\n",
       "</style>\n",
       "<table border=\"1\" class=\"dataframe\">\n",
       "  <thead>\n",
       "    <tr style=\"text-align: right;\">\n",
       "      <th></th>\n",
       "      <th>loss</th>\n",
       "      <th>acc</th>\n",
       "      <th>val_loss</th>\n",
       "      <th>val_acc</th>\n",
       "      <th>epoch</th>\n",
       "    </tr>\n",
       "  </thead>\n",
       "  <tbody>\n",
       "    <tr>\n",
       "      <th>0</th>\n",
       "      <td>1.043131</td>\n",
       "      <td>0.549894</td>\n",
       "      <td>0.998291</td>\n",
       "      <td>0.580873</td>\n",
       "      <td>0</td>\n",
       "    </tr>\n",
       "    <tr>\n",
       "      <th>1</th>\n",
       "      <td>0.938856</td>\n",
       "      <td>0.606774</td>\n",
       "      <td>0.948648</td>\n",
       "      <td>0.609164</td>\n",
       "      <td>1</td>\n",
       "    </tr>\n",
       "    <tr>\n",
       "      <th>2</th>\n",
       "      <td>0.885051</td>\n",
       "      <td>0.632089</td>\n",
       "      <td>0.936069</td>\n",
       "      <td>0.614545</td>\n",
       "      <td>2</td>\n",
       "    </tr>\n",
       "    <tr>\n",
       "      <th>3</th>\n",
       "      <td>0.844941</td>\n",
       "      <td>0.650400</td>\n",
       "      <td>0.931686</td>\n",
       "      <td>0.621156</td>\n",
       "      <td>3</td>\n",
       "    </tr>\n",
       "    <tr>\n",
       "      <th>4</th>\n",
       "      <td>0.803813</td>\n",
       "      <td>0.669018</td>\n",
       "      <td>0.943325</td>\n",
       "      <td>0.609779</td>\n",
       "      <td>4</td>\n",
       "    </tr>\n",
       "    <tr>\n",
       "      <th>5</th>\n",
       "      <td>0.768901</td>\n",
       "      <td>0.684169</td>\n",
       "      <td>0.961147</td>\n",
       "      <td>0.611316</td>\n",
       "      <td>5</td>\n",
       "    </tr>\n",
       "    <tr>\n",
       "      <th>6</th>\n",
       "      <td>0.736468</td>\n",
       "      <td>0.696468</td>\n",
       "      <td>0.957059</td>\n",
       "      <td>0.612546</td>\n",
       "      <td>6</td>\n",
       "    </tr>\n",
       "    <tr>\n",
       "      <th>7</th>\n",
       "      <td>0.709331</td>\n",
       "      <td>0.709176</td>\n",
       "      <td>0.971575</td>\n",
       "      <td>0.614545</td>\n",
       "      <td>7</td>\n",
       "    </tr>\n",
       "    <tr>\n",
       "      <th>8</th>\n",
       "      <td>0.677503</td>\n",
       "      <td>0.721269</td>\n",
       "      <td>0.989773</td>\n",
       "      <td>0.616697</td>\n",
       "      <td>8</td>\n",
       "    </tr>\n",
       "    <tr>\n",
       "      <th>9</th>\n",
       "      <td>0.656306</td>\n",
       "      <td>0.730374</td>\n",
       "      <td>1.029151</td>\n",
       "      <td>0.606857</td>\n",
       "      <td>9</td>\n",
       "    </tr>\n",
       "  </tbody>\n",
       "</table>\n",
       "</div>"
      ],
      "text/plain": [
       "       loss       acc  val_loss   val_acc  epoch\n",
       "0  1.043131  0.549894  0.998291  0.580873      0\n",
       "1  0.938856  0.606774  0.948648  0.609164      1\n",
       "2  0.885051  0.632089  0.936069  0.614545      2\n",
       "3  0.844941  0.650400  0.931686  0.621156      3\n",
       "4  0.803813  0.669018  0.943325  0.609779      4\n",
       "5  0.768901  0.684169  0.961147  0.611316      5\n",
       "6  0.736468  0.696468  0.957059  0.612546      6\n",
       "7  0.709331  0.709176  0.971575  0.614545      7\n",
       "8  0.677503  0.721269  0.989773  0.616697      8\n",
       "9  0.656306  0.730374  1.029151  0.606857      9"
      ]
     },
     "execution_count": 126,
     "metadata": {},
     "output_type": "execute_result"
    }
   ],
   "source": [
    "hist_5"
   ]
  }
 ],
 "metadata": {
  "kernelspec": {
   "display_name": "Python 3",
   "language": "python",
   "name": "python3"
  },
  "language_info": {
   "codemirror_mode": {
    "name": "ipython",
    "version": 3
   },
   "file_extension": ".py",
   "mimetype": "text/x-python",
   "name": "python",
   "nbconvert_exporter": "python",
   "pygments_lexer": "ipython3",
   "version": "3.8.5"
  }
 },
 "nbformat": 4,
 "nbformat_minor": 4
}
