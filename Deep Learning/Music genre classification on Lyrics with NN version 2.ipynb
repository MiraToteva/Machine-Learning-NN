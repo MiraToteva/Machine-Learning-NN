{
 "cells": [
  {
   "cell_type": "code",
   "execution_count": 1,
   "metadata": {},
   "outputs": [],
   "source": [
    "%matplotlib inline"
   ]
  },
  {
   "cell_type": "code",
   "execution_count": 93,
   "metadata": {},
   "outputs": [],
   "source": [
    "import numpy as np\n",
    "import pandas as pd\n",
    "import matplotlib.pyplot as plt\n",
    "import pickle \n",
    "\n",
    "import tensorflow as tf\n",
    "from tensorflow import keras\n",
    "from tensorflow.keras import layers\n",
    "from tensorflow.keras.layers.experimental.preprocessing import TextVectorization # how to import text vectorization in tf 2.3.0\n",
    "from tensorflow.keras.layers import Dense, Embedding, GlobalAveragePooling1D\n",
    "import gensim\n",
    "from gensim.models import Word2Vec\n",
    "from keras.models import Model\n",
    "from tensorflow.keras.layers import Embedding,Input,Dropout, Flatten, LSTM, Bidirectional, \\\n",
    "    Conv1D, MaxPool1D, Dense, Attention\n",
    "from tensorflow.keras.models import Sequential\n",
    "\n",
    "from tensorflow.keras.activations import softmax\n",
    "from tensorflow.keras.losses import SparseCategoricalCrossentropy\n",
    "from tensorflow.keras.optimizers import Adam\n",
    "from tensorflow.keras.callbacks import TensorBoard, ModelCheckpoint,EarlyStopping\n",
    "from keras.preprocessing.text import Tokenizer\n",
    "\n",
    "\n",
    "import mlflow\n",
    "plt.style.use('seaborn')"
   ]
  },
  {
   "cell_type": "markdown",
   "metadata": {},
   "source": [
    "## Models hyperparamters version 2"
   ]
  },
  {
   "cell_type": "markdown",
   "metadata": {},
   "source": [
    "* maximum length of the sequences - we will not use the actual maximum length of the sequences as very few songs have 800 words in them. If we choose a maximum length equal to 300, we will cover 94% of the lyrics' actual length, if we choose 250 - we will cover 90%. We can try with 300, if we have a problem with the vanishing gradient - we can decrease it to 250 or even 200 (85%)\n",
    "\n",
    "* maximum vocabulary size (word-based vocabulary) -  The set of unique words used in the text corpus is ~ 50 000. Given the fact that we work with lyrics of songs, even though we selected only English lyrics there is a high probability that there are some words left from Spanish ( typical for pop songs), some typical slang for artists, and other peculiarities. Thus we will use the maximum size of vocabulary 10 000 ( if it is too big, we can drop it to 5000) and keep only the most common words.\n",
    "\n",
    "\n",
    "* BATCH_SIZE = 16 \n",
    "* MAX_VOCABULARY_SIZE = 10000 \n",
    "* MAX_OUTPUT_LENGTH = 300\n",
    "* EMBEDDING_DIMENSIONS = 100 #loaded GloVe trained  with 100d\n",
    "* LEARNING_RATE = 1e-6"
   ]
  },
  {
   "cell_type": "code",
   "execution_count": 190,
   "metadata": {},
   "outputs": [],
   "source": [
    "TRAIN_BASE_DIR = r\"C:\\Users\\PC\\Desktop\\NN\\Text calssification\\train\"\n",
    "TEST_BASE_DIR = r\"C:\\Users\\PC\\Desktop\\NN\\Text calssification\\test\"\n",
    "logs = r\"C:\\Users\\PC\\Desktop\\NN\\Text calssification\\logs\"\n",
    "check_point_base = r\"C:\\Users\\PC\\Desktop\\NN\\Text calssification\\version 2\\checkpoint_base\"\n",
    "check_point_opt = r\"C:\\Users\\PC\\Desktop\\NN\\Text calssification\\version 2\\checkpoint_opt\"\n",
    "check_point_bi = r\"C:\\Users\\PC\\Desktop\\NN\\Text calssification\\version 2\\checkpoint_bi\"\n",
    "check_point_cnn = r\"C:\\Users\\PC\\Desktop\\NN\\Text calssification\\version 2\\checkpoint_cnn\"\n",
    "check_point_cnn_2 = r\"C:\\Users\\PC\\Desktop\\NN\\Text calssification\\version 2\\checkpoint_cnn_2\"\n",
    "\n",
    "N_CLASSES = 4\n",
    "\n",
    "BATCH_SIZE = 16 # 8\n",
    "MAX_VOCABULARY_SIZE = 10000 # change to 5000 if too big\n",
    "MAX_OUTPUT_LENGTH = 300 # 300\n",
    "EMBEDDING_DIMENSIONS = 100 #loaded GloVe trained  with 100d\n",
    "LEARNING_RATE = 1e-6\n",
    "Seed = 42"
   ]
  },
  {
   "cell_type": "code",
   "execution_count": 4,
   "metadata": {
    "scrolled": true
   },
   "outputs": [
    {
     "name": "stdout",
     "output_type": "stream",
     "text": [
      "Found 65048 files belonging to 4 classes.\n",
      "Using 58544 files for training.\n"
     ]
    }
   ],
   "source": [
    "\n",
    "train_dataset = tf.keras.utils.text_dataset_from_directory(TRAIN_BASE_DIR,batch_size = BATCH_SIZE, validation_split=0.1,\n",
    "    subset='training', seed = Seed)\n",
    "   \n",
    "   "
   ]
  },
  {
   "cell_type": "markdown",
   "metadata": {},
   "source": [
    "Found 65048 files belonging to 4 classes.\n",
    "Using 58544 files for training."
   ]
  },
  {
   "cell_type": "code",
   "execution_count": 5,
   "metadata": {},
   "outputs": [
    {
     "name": "stdout",
     "output_type": "stream",
     "text": [
      "3659\n"
     ]
    }
   ],
   "source": [
    "print(train_dataset.cardinality().numpy())"
   ]
  },
  {
   "cell_type": "code",
   "execution_count": 6,
   "metadata": {},
   "outputs": [
    {
     "name": "stdout",
     "output_type": "stream",
     "text": [
      "Found 65048 files belonging to 4 classes.\n",
      "Using 6504 files for validation.\n"
     ]
    }
   ],
   "source": [
    "val_dataset = tf.keras.utils.text_dataset_from_directory(\n",
    "    TRAIN_BASE_DIR, batch_size=BATCH_SIZE, validation_split=0.1,\n",
    "    subset='validation', seed=Seed)"
   ]
  },
  {
   "cell_type": "code",
   "execution_count": 7,
   "metadata": {
    "scrolled": true
   },
   "outputs": [
    {
     "name": "stdout",
     "output_type": "stream",
     "text": [
      "Found 4000 files belonging to 4 classes.\n"
     ]
    }
   ],
   "source": [
    "test_dataset = tf.keras.utils.text_dataset_from_directory(TEST_BASE_DIR,batch_size = BATCH_SIZE, seed = Seed)"
   ]
  },
  {
   "cell_type": "code",
   "execution_count": 8,
   "metadata": {},
   "outputs": [
    {
     "data": {
      "text/plain": [
       "([(0, 'Jazz'), (1, 'Metal'), (2, 'Pop'), (3, 'Rock')],\n",
       " [(0, 'Jazz'), (1, 'Metal'), (2, 'Pop'), (3, 'Rock')])"
      ]
     },
     "execution_count": 8,
     "metadata": {},
     "output_type": "execute_result"
    }
   ],
   "source": [
    "### check the labesl\n",
    "list(enumerate(train_dataset.class_names)), list(enumerate(val_dataset.class_names))"
   ]
  },
  {
   "cell_type": "code",
   "execution_count": 9,
   "metadata": {
    "scrolled": true
   },
   "outputs": [
    {
     "data": {
      "text/plain": [
       "(1, 'Metal')"
      ]
     },
     "execution_count": 9,
     "metadata": {},
     "output_type": "execute_result"
    }
   ],
   "source": [
    "list(enumerate(train_dataset.class_names))[1]"
   ]
  },
  {
   "cell_type": "markdown",
   "metadata": {},
   "source": [
    ".shape method in keras gives the lenght of a sequence"
   ]
  },
  {
   "cell_type": "markdown",
   "metadata": {},
   "source": [
    "## Vectorizing the text\n",
    "\n",
    "This layer has basic options for managing text in a Keras model. It transforms a batch of strings (one sample = one string) into either a list of token indices (one sample = 1D tensor of integer token indices) or a dense representation (one sample = 1D tensor of float values representing data about the sample's tokens)."
   ]
  },
  {
   "cell_type": "code",
   "execution_count": 10,
   "metadata": {},
   "outputs": [],
   "source": [
    "vectorize_layer = TextVectorization(\n",
    "    max_tokens = MAX_VOCABULARY_SIZE, \n",
    "    output_sequence_length=MAX_OUTPUT_LENGTH)"
   ]
  },
  {
   "cell_type": "code",
   "execution_count": 11,
   "metadata": {},
   "outputs": [],
   "source": [
    "text_ds = train_dataset.map(lambda x, y: x)\n",
    "vectorize_layer.adapt(text_ds)"
   ]
  },
  {
   "cell_type": "code",
   "execution_count": 12,
   "metadata": {},
   "outputs": [],
   "source": [
    "### 76952 vocabulary size without limiting the vocabulary size to max size"
   ]
  },
  {
   "cell_type": "code",
   "execution_count": 13,
   "metadata": {},
   "outputs": [],
   "source": [
    "#text_ds"
   ]
  },
  {
   "cell_type": "code",
   "execution_count": 14,
   "metadata": {
    "scrolled": false
   },
   "outputs": [
    {
     "data": {
      "text/plain": [
       "10000"
      ]
     },
     "execution_count": 14,
     "metadata": {},
     "output_type": "execute_result"
    }
   ],
   "source": [
    "vectorize_layer.vocabulary_size()"
   ]
  },
  {
   "cell_type": "code",
   "execution_count": 15,
   "metadata": {},
   "outputs": [],
   "source": [
    "## 1 is unkown"
   ]
  },
  {
   "cell_type": "code",
   "execution_count": 16,
   "metadata": {
    "scrolled": true
   },
   "outputs": [],
   "source": [
    "#vectorize_layer([\"something nigga money where love queen king boy girl\"])"
   ]
  },
  {
   "cell_type": "code",
   "execution_count": 17,
   "metadata": {
    "scrolled": true
   },
   "outputs": [
    {
     "data": {
      "text/plain": [
       "['rang',\n",
       " 'liberate',\n",
       " 'imitation',\n",
       " 'harvest',\n",
       " 'frail',\n",
       " 'eminem',\n",
       " 'ditch',\n",
       " 'crucify',\n",
       " 'carter',\n",
       " 'carol',\n",
       " 'canvas',\n",
       " 'brief',\n",
       " 'yelling',\n",
       " 'village',\n",
       " 'stunna',\n",
       " 'slut',\n",
       " 'rocker',\n",
       " 'relation',\n",
       " 'oooo',\n",
       " 'moonlit',\n",
       " 'max',\n",
       " 'loco',\n",
       " 'league',\n",
       " 'kelly',\n",
       " 'incomplete',\n",
       " 'grinding',\n",
       " 'donna',\n",
       " 'diggin',\n",
       " 'decline',\n",
       " 'coulda',\n",
       " 'argue',\n",
       " 'tuck',\n",
       " 'spiral',\n",
       " 'raped',\n",
       " 'poster',\n",
       " 'pitter',\n",
       " 'marie',\n",
       " 'lucifer',\n",
       " 'lettin',\n",
       " 'howling',\n",
       " 'gyal',\n",
       " 'farmer',\n",
       " 'crunk',\n",
       " 'countin',\n",
       " 'assume',\n",
       " 'aisle',\n",
       " 'actor',\n",
       " 'yow',\n",
       " 'western',\n",
       " 'upstairs',\n",
       " 'twerk',\n",
       " 'tipsy',\n",
       " 'tic',\n",
       " 'suffocate',\n",
       " 'stash',\n",
       " 'stairway',\n",
       " 'sideways',\n",
       " 'ruler',\n",
       " 'rooftop',\n",
       " 'retreat',\n",
       " 'permanent',\n",
       " 'nurse',\n",
       " 'jury',\n",
       " 'fu',\n",
       " 'finna',\n",
       " 'dreamy',\n",
       " 'declare',\n",
       " 'daze',\n",
       " 'collapse',\n",
       " 'boyz',\n",
       " 'asshole',\n",
       " 'worldwide',\n",
       " 'wage',\n",
       " 'vibration',\n",
       " 'sweetness',\n",
       " 'strut',\n",
       " 'snatch',\n",
       " 'rail',\n",
       " 'purse',\n",
       " 'nameless',\n",
       " 'mysterious',\n",
       " 'melancholy',\n",
       " 'meanwhile',\n",
       " 'laura',\n",
       " 'jo',\n",
       " 'hustlin',\n",
       " 'feature',\n",
       " 'coin',\n",
       " 'blondie',\n",
       " 'beyonce',\n",
       " 'roman',\n",
       " 'rod',\n",
       " 'madonna',\n",
       " 'interest',\n",
       " 'ideal',\n",
       " 'heals',\n",
       " 'headlight',\n",
       " 'hallway',\n",
       " 'foul',\n",
       " 'dressing',\n",
       " 'dixie',\n",
       " 'discovered',\n",
       " 'def',\n",
       " 'creator',\n",
       " 'countless',\n",
       " 'clique',\n",
       " 'clack',\n",
       " 'armageddon',\n",
       " 'waiter',\n",
       " 'task',\n",
       " 'sparkling',\n",
       " 'snitch',\n",
       " 'smith',\n",
       " 'rodeo',\n",
       " 'philosophy',\n",
       " 'mint',\n",
       " 'lorraine',\n",
       " 'indigo',\n",
       " 'hypnotic',\n",
       " 'hunting',\n",
       " 'happenin',\n",
       " 'guru',\n",
       " 'genocide',\n",
       " 'gained',\n",
       " 'flock',\n",
       " 'flipped',\n",
       " 'expensive',\n",
       " 'drake',\n",
       " 'device',\n",
       " 'current',\n",
       " 'curl',\n",
       " 'corruption',\n",
       " 'closest',\n",
       " 'capital',\n",
       " 'breathin',\n",
       " 'belle',\n",
       " 'barbie',\n",
       " 'wid',\n",
       " 'tit',\n",
       " 'soothing',\n",
       " 'rug',\n",
       " 'punishment',\n",
       " 'package',\n",
       " 'nae',\n",
       " 'mony',\n",
       " 'lifestyle',\n",
       " 'jewelry',\n",
       " 'infected',\n",
       " 'et',\n",
       " 'droppin',\n",
       " 'detroit',\n",
       " 'delay',\n",
       " 'cunt',\n",
       " 'cu',\n",
       " 'anxiety',\n",
       " 'anew',\n",
       " 'zip',\n",
       " 'testify',\n",
       " 'sanctuary',\n",
       " 'rearrange',\n",
       " 'pyramid',\n",
       " 'paved',\n",
       " 'oxygen',\n",
       " 'nearer',\n",
       " 'nd',\n",
       " 'mustve',\n",
       " 'hesitation',\n",
       " 'galaxy',\n",
       " 'fails',\n",
       " 'diving',\n",
       " 'digital',\n",
       " 'delicious',\n",
       " 'contagious',\n",
       " 'bud',\n",
       " 'atlanta',\n",
       " 'appeal',\n",
       " 'apocalypse',\n",
       " 'yearn',\n",
       " 'vanity',\n",
       " 'trend',\n",
       " 'tighter',\n",
       " 'shooter',\n",
       " 'peach',\n",
       " 'lou',\n",
       " 'landed',\n",
       " 'idiot',\n",
       " 'failing',\n",
       " 'expected',\n",
       " 'entered',\n",
       " 'cuddle',\n",
       " 'confuse',\n",
       " 'chuck',\n",
       " 'caring',\n",
       " 'amends',\n",
       " 'abide',\n",
       " 'whoop',\n",
       " 'unleash',\n",
       " 'tyrant',\n",
       " 'sighing',\n",
       " 'seize',\n",
       " 'resurrection',\n",
       " 'necessary',\n",
       " 'logic',\n",
       " 'lemonade',\n",
       " 'jaded',\n",
       " 'hut',\n",
       " 'hitting',\n",
       " 'disorder',\n",
       " 'difficult',\n",
       " 'delusion',\n",
       " 'crossroad',\n",
       " 'chart',\n",
       " 'ben',\n",
       " 'address',\n",
       " 'wastin',\n",
       " 'trusting',\n",
       " 'travelling',\n",
       " 'talent',\n",
       " 'suicidal',\n",
       " 'spendin',\n",
       " 'shoo',\n",
       " 'politician',\n",
       " 'playground',\n",
       " 'now',\n",
       " 'nearness',\n",
       " 'mutha',\n",
       " 'muddy',\n",
       " 'kite',\n",
       " 'jerk',\n",
       " 'isolation',\n",
       " 'intent',\n",
       " 'infinite',\n",
       " 'grieve',\n",
       " 'goon',\n",
       " 'destroying',\n",
       " 'dealt',\n",
       " 'dave',\n",
       " 'crucified',\n",
       " 'convince',\n",
       " 'chump',\n",
       " 'basket',\n",
       " 'undertow',\n",
       " 'ugh',\n",
       " 'tossin',\n",
       " 'stall',\n",
       " 'shred',\n",
       " 'settled',\n",
       " 'scarlet',\n",
       " 'runner',\n",
       " 'robbed',\n",
       " 'ripple',\n",
       " 'pedal',\n",
       " 'pawn',\n",
       " 'maniac',\n",
       " 'football',\n",
       " 'faggot',\n",
       " 'dump',\n",
       " 'descend',\n",
       " 'dancefloor',\n",
       " 'cult',\n",
       " 'crook',\n",
       " 'communication',\n",
       " 'bom',\n",
       " 'boil',\n",
       " 'blazin',\n",
       " 'biz',\n",
       " 'behavior',\n",
       " 'badly',\n",
       " 'axe',\n",
       " 'yayo',\n",
       " 'tax',\n",
       " 'steer',\n",
       " 'reminisce',\n",
       " 'rank',\n",
       " 'nailed',\n",
       " 'murdered',\n",
       " 'motel',\n",
       " 'mere',\n",
       " 'member',\n",
       " 'listenin',\n",
       " 'kansa',\n",
       " 'hella',\n",
       " 'heh',\n",
       " 'headline',\n",
       " 'gga',\n",
       " 'designed',\n",
       " 'curb',\n",
       " 'soda',\n",
       " 'shaped',\n",
       " 'shack',\n",
       " 'ringin',\n",
       " 'method',\n",
       " 'loop',\n",
       " 'isle',\n",
       " 'inviting',\n",
       " 'impress',\n",
       " 'identity',\n",
       " 'goddess',\n",
       " 'gloomy',\n",
       " 'consolation',\n",
       " 'carousel',\n",
       " 'blush',\n",
       " 'whirl',\n",
       " 'unusual',\n",
       " 'tempt',\n",
       " 'taylor',\n",
       " 'stripper',\n",
       " 'slit',\n",
       " 'reminding',\n",
       " 'reel',\n",
       " 'possessed',\n",
       " 'playboy',\n",
       " 'petal',\n",
       " 'leaning',\n",
       " 'janet',\n",
       " 'insecurity',\n",
       " 'homeboy',\n",
       " 'evermore',\n",
       " 'copy',\n",
       " 'controlling',\n",
       " 'brotha',\n",
       " 'brightest',\n",
       " 'woulda',\n",
       " 'unbelievable',\n",
       " 'sweetie',\n",
       " 'sucked',\n",
       " 'spilling',\n",
       " 'seventh',\n",
       " 'scenery',\n",
       " 'revealing',\n",
       " 'remix',\n",
       " 'q',\n",
       " 'pledge',\n",
       " 'patron',\n",
       " 'oer',\n",
       " 'japan',\n",
       " 'goo',\n",
       " 'firm',\n",
       " 'event',\n",
       " 'enchanted',\n",
       " 'ella',\n",
       " 'dusty',\n",
       " 'cruising',\n",
       " 'chant',\n",
       " 'bonnie',\n",
       " 'bin',\n",
       " 'whistling',\n",
       " 'warmer',\n",
       " 'unity',\n",
       " 'underwater',\n",
       " 'touchdown',\n",
       " 'strollin',\n",
       " 'splendor',\n",
       " 'spice',\n",
       " 'rendezvous',\n",
       " 'object',\n",
       " 'murderer',\n",
       " 'lifeline',\n",
       " 'jeff',\n",
       " 'hottest',\n",
       " 'groupie',\n",
       " 'groovy',\n",
       " 'gosh',\n",
       " 'crumbling',\n",
       " 'cinderella',\n",
       " 'ciara',\n",
       " 'ching',\n",
       " 'cheated',\n",
       " 'chased',\n",
       " 'carve',\n",
       " 'canyon',\n",
       " 'yeahh',\n",
       " 'yap',\n",
       " 'writer',\n",
       " 'wiz',\n",
       " 'vote',\n",
       " 'virginia',\n",
       " 'survived',\n",
       " 'stared',\n",
       " 'sounding',\n",
       " 'slack',\n",
       " 'secure',\n",
       " 'sacrificed',\n",
       " 'parted',\n",
       " 'newborn',\n",
       " 'luv',\n",
       " 'kentucky',\n",
       " 'homicide',\n",
       " 'groovin',\n",
       " 'fortress',\n",
       " 'flippin',\n",
       " 'era',\n",
       " 'education',\n",
       " 'delivered',\n",
       " 'causing',\n",
       " 'awe',\n",
       " 'anguish',\n",
       " 'addict',\n",
       " 'tum',\n",
       " 'tucked',\n",
       " 'towel',\n",
       " 'tempting',\n",
       " 'tainted',\n",
       " 'sweater',\n",
       " 'sprung',\n",
       " 'slang',\n",
       " 'routine',\n",
       " 'print',\n",
       " 'pirate',\n",
       " 'limousine',\n",
       " 'lethal',\n",
       " 'joker',\n",
       " 'hitch',\n",
       " 'gospel',\n",
       " 'gathering',\n",
       " 'framed',\n",
       " 'exchange',\n",
       " 'effort',\n",
       " 'dealin',\n",
       " 'chi',\n",
       " 'catchin',\n",
       " 'buyin',\n",
       " 'adrenaline',\n",
       " 'why',\n",
       " 'undo',\n",
       " 'turkey',\n",
       " 'tommy',\n",
       " 'term',\n",
       " 'sweating',\n",
       " 'stressed',\n",
       " 'spittin',\n",
       " 'sadly',\n",
       " 'risin',\n",
       " 'reject',\n",
       " 'realest',\n",
       " 'possibly',\n",
       " 'pitiful',\n",
       " 'pitbull',\n",
       " 'patter',\n",
       " 'overload',\n",
       " 'oom',\n",
       " 'noble',\n",
       " 'lighting',\n",
       " 'juicy',\n",
       " 'inspired',\n",
       " 'headache',\n",
       " 'fairytale',\n",
       " 'example',\n",
       " 'dose',\n",
       " 'disappears',\n",
       " 'charles',\n",
       " 'bleek',\n",
       " 'beggar',\n",
       " 'anyhow',\n",
       " 'vile',\n",
       " 'vanish',\n",
       " 'usa',\n",
       " 'trained',\n",
       " 'timing',\n",
       " 'stripe',\n",
       " 'strictly',\n",
       " 'sparrow',\n",
       " 'sounded',\n",
       " 'shuffle',\n",
       " 'sew',\n",
       " 'several',\n",
       " 'secrecy',\n",
       " 'sample',\n",
       " 'process',\n",
       " 'popular',\n",
       " 'overtime',\n",
       " 'myth',\n",
       " 'martin',\n",
       " 'jukebox',\n",
       " 'ivy',\n",
       " 'heartbreaker',\n",
       " 'function',\n",
       " 'dock',\n",
       " 'dame',\n",
       " 'correct',\n",
       " 'comb',\n",
       " 'bursting',\n",
       " 'area',\n",
       " 'anti',\n",
       " 'adam',\n",
       " 'unstoppable',\n",
       " 'sundown',\n",
       " 'stealin',\n",
       " 'rowdy',\n",
       " 'polka',\n",
       " 'oops',\n",
       " 'oohh',\n",
       " 'milky',\n",
       " 'mil',\n",
       " 'loneliest',\n",
       " 'khaled',\n",
       " 'jerry',\n",
       " 'insect',\n",
       " 'impression',\n",
       " 'fling',\n",
       " 'expectation',\n",
       " 'drill',\n",
       " 'countdown',\n",
       " 'committed',\n",
       " 'cindy',\n",
       " 'biting',\n",
       " 'birdman',\n",
       " 'bewildered',\n",
       " 'beloved',\n",
       " 'believin',\n",
       " 'willie',\n",
       " 'wallet',\n",
       " 'taunt',\n",
       " 'subway',\n",
       " 'spilled',\n",
       " 'scratching',\n",
       " 'scheming',\n",
       " 'remove',\n",
       " 'perspective',\n",
       " 'obviously',\n",
       " 'loyalty',\n",
       " 'kim',\n",
       " 'je',\n",
       " 'hypocrite',\n",
       " 'hardcore',\n",
       " 'flashin',\n",
       " 'elvis',\n",
       " 'earthquake',\n",
       " 'cracker',\n",
       " 'comprehend',\n",
       " 'cable',\n",
       " 'buffalo',\n",
       " 'booze',\n",
       " 'bizarre',\n",
       " 'bending',\n",
       " 'applause',\n",
       " 'anchor',\n",
       " 'abandon',\n",
       " 'wooo',\n",
       " 'unlock',\n",
       " 'tightly',\n",
       " 'terribly',\n",
       " 'temper',\n",
       " 'stutter',\n",
       " 'straw',\n",
       " 'shocked',\n",
       " 'rocked',\n",
       " 'random',\n",
       " 'peak',\n",
       " 'obie',\n",
       " 'oath',\n",
       " 'kong',\n",
       " 'healthy',\n",
       " 'gloria',\n",
       " 'globe',\n",
       " 'gleaming',\n",
       " 'frankie',\n",
       " 'ford',\n",
       " 'detail',\n",
       " 'deeply',\n",
       " 'daytime',\n",
       " 'dagger',\n",
       " 'cannibal',\n",
       " 'brutal',\n",
       " 'bleak',\n",
       " 'bewitched',\n",
       " 'vocal',\n",
       " 'uniform',\n",
       " 'twinkle',\n",
       " 'thus',\n",
       " 'steeple',\n",
       " 'standard',\n",
       " 'stabbed',\n",
       " 'reflect',\n",
       " 'react',\n",
       " 'punish',\n",
       " 'philly',\n",
       " 'passenger',\n",
       " 'male',\n",
       " 'licking',\n",
       " 'liberation',\n",
       " 'lad',\n",
       " 'joined',\n",
       " 'jammin',\n",
       " 'international',\n",
       " 'intense',\n",
       " 'huggin',\n",
       " 'hospital',\n",
       " 'ham',\n",
       " 'ggas',\n",
       " 'drunken',\n",
       " 'damaged',\n",
       " 'caution',\n",
       " 'alot',\n",
       " 'virus',\n",
       " 'unaware',\n",
       " 'studio',\n",
       " 'slower',\n",
       " 'skate',\n",
       " 'senseless',\n",
       " 'poke',\n",
       " 'pointed',\n",
       " 'oi',\n",
       " 'offered',\n",
       " 'obscene',\n",
       " 'motivation',\n",
       " 'ka',\n",
       " 'iced',\n",
       " 'grim',\n",
       " 'dismiss',\n",
       " 'choo',\n",
       " 'cheatin',\n",
       " 'blooded',\n",
       " 'blasphemy',\n",
       " 'attached',\n",
       " 'zz',\n",
       " 'twista',\n",
       " 'touchin',\n",
       " 'stiff',\n",
       " 'status',\n",
       " 'spitting',\n",
       " 'smaller',\n",
       " 'renegade',\n",
       " 'quicker',\n",
       " 'minor',\n",
       " 'lime',\n",
       " 'junk',\n",
       " 'juliet',\n",
       " 'herb',\n",
       " 'francisco',\n",
       " 'flop',\n",
       " 'element',\n",
       " 'eighteen',\n",
       " 'critic',\n",
       " 'clone',\n",
       " 'childrens',\n",
       " 'brink',\n",
       " 'wizard',\n",
       " 'vacant',\n",
       " 'tingle',\n",
       " 'spaceship',\n",
       " 'seldom',\n",
       " 'nate',\n",
       " 'madman',\n",
       " 'log',\n",
       " 'infection',\n",
       " 'hooray',\n",
       " 'hahaha',\n",
       " 'fork',\n",
       " 'evrything',\n",
       " 'england',\n",
       " 'drained',\n",
       " 'dedicate',\n",
       " 'curious',\n",
       " 'controlled',\n",
       " 'clarity',\n",
       " 'brian',\n",
       " 'birdland',\n",
       " 'auld',\n",
       " 'yellin',\n",
       " 'tech',\n",
       " 'spike',\n",
       " 'snowflake',\n",
       " 'sauce',\n",
       " 'reflecting',\n",
       " 'rebellion',\n",
       " 'ragged',\n",
       " 'olden',\n",
       " 'o',\n",
       " 'musical',\n",
       " 'mon',\n",
       " 'louisiana',\n",
       " 'knuckle',\n",
       " 'inna',\n",
       " 'infernal',\n",
       " 'frog',\n",
       " 'fee',\n",
       " 'expecting',\n",
       " 'duh',\n",
       " 'doot',\n",
       " 'dolla',\n",
       " 'distress',\n",
       " 'dearly',\n",
       " 'curly',\n",
       " 'cooking',\n",
       " 'berry',\n",
       " 'award',\n",
       " 'unleashed',\n",
       " 'undress',\n",
       " 'troop',\n",
       " 'tote',\n",
       " 'sucka',\n",
       " 'strive',\n",
       " 'soak',\n",
       " 'sever',\n",
       " 'scorn',\n",
       " 'roaring',\n",
       " 'rebound',\n",
       " 'prop',\n",
       " 'prettiest',\n",
       " 'official',\n",
       " 'lifting',\n",
       " 'entertainment',\n",
       " 'desperately',\n",
       " 'designer',\n",
       " 'conquered',\n",
       " 'conclusion',\n",
       " 'con',\n",
       " 'certainly',\n",
       " 'boiling',\n",
       " 'aloud',\n",
       " 'windy',\n",
       " 'triumph',\n",
       " 'travelin',\n",
       " 'thrilling',\n",
       " 'suckin',\n",
       " 'strawberry',\n",
       " 'steak',\n",
       " 'slightly',\n",
       " 'reeling',\n",
       " 'potion',\n",
       " 'planted',\n",
       " 'moses',\n",
       " 'mindless',\n",
       " 'meaningless',\n",
       " 'judy',\n",
       " 'hippy',\n",
       " 'hidin',\n",
       " 'hawk',\n",
       " 'happily',\n",
       " 'gamble',\n",
       " 'feared',\n",
       " 'exposed',\n",
       " 'endure',\n",
       " 'daffodil',\n",
       " 'cuff',\n",
       " 'conscious',\n",
       " 'coaster',\n",
       " 'balling',\n",
       " 'ape',\n",
       " 'wreckage',\n",
       " 'wop',\n",
       " 'wooden',\n",
       " 'voyage',\n",
       " 'title',\n",
       " 'ross',\n",
       " 'richard',\n",
       " 'religious',\n",
       " 'poured',\n",
       " 'pointing',\n",
       " 'noel',\n",
       " 'nana',\n",
       " 'midst',\n",
       " 'luckiest',\n",
       " 'loot',\n",
       " 'jigga',\n",
       " 'hearse',\n",
       " 'flirt',\n",
       " 'exotic',\n",
       " 'embraced',\n",
       " 'elton',\n",
       " 'eastside',\n",
       " 'drippin',\n",
       " 'cigar',\n",
       " 'chemistry',\n",
       " 'bun',\n",
       " 'brook',\n",
       " 'breaker',\n",
       " 'bella',\n",
       " 'adored',\n",
       " 'thriller',\n",
       " 'suspicion',\n",
       " 'suffered',\n",
       " 'snowman',\n",
       " 'shimmy',\n",
       " 'repeated',\n",
       " 'proceed',\n",
       " 'phoenix',\n",
       " 'oficial',\n",
       " 'november',\n",
       " 'nineteen',\n",
       " 'nike',\n",
       " 'massacre',\n",
       " 'lite',\n",
       " 'hmmm',\n",
       " 'handful',\n",
       " 'greener',\n",
       " 'forgiving',\n",
       " 'doorstep',\n",
       " 'donkey',\n",
       " 'diva',\n",
       " 'distraction',\n",
       " 'disguised',\n",
       " 'diana',\n",
       " 'cuckoo',\n",
       " 'criticize',\n",
       " 'counter',\n",
       " 'cough',\n",
       " 'corps',\n",
       " 'cord',\n",
       " 'cooked',\n",
       " 'coloured',\n",
       " 'closely',\n",
       " 'claimed',\n",
       " 'checked',\n",
       " 'cape',\n",
       " 'candlelight',\n",
       " 'burner',\n",
       " 'bracelet',\n",
       " 'begged',\n",
       " 'zoo',\n",
       " 'yacht',\n",
       " 'wither',\n",
       " 'upper',\n",
       " 'unique',\n",
       " 'traded',\n",
       " 'tonk',\n",
       " 'strangest',\n",
       " 'spree',\n",
       " 'softer',\n",
       " 'serum',\n",
       " 'serenity',\n",
       " 'quarrel',\n",
       " 'parked',\n",
       " 'og',\n",
       " 'meek',\n",
       " 'manhattan',\n",
       " 'maggot',\n",
       " 'lined',\n",
       " 'lightly',\n",
       " 'leak',\n",
       " 'flocka',\n",
       " 'flea',\n",
       " 'escaping',\n",
       " 'entire',\n",
       " 'drifted',\n",
       " 'descends',\n",
       " 'descending',\n",
       " 'departed',\n",
       " 'custom',\n",
       " 'clash',\n",
       " 'central',\n",
       " 'bronx',\n",
       " 'battery',\n",
       " 'angle',\n",
       " 'anarchy',\n",
       " 'worthwhile',\n",
       " 'wat',\n",
       " 'trice',\n",
       " 'spinner',\n",
       " 'sole',\n",
       " 'slowing',\n",
       " 'shalt',\n",
       " 'ridiculous',\n",
       " 'reachin',\n",
       " 'penetrate',\n",
       " 'parasite',\n",
       " 'officer',\n",
       " 'mojo',\n",
       " 'minaj',\n",
       " 'mek',\n",
       " 'marilyn',\n",
       " 'lunatic',\n",
       " 'longest',\n",
       " 'lalala',\n",
       " 'julie',\n",
       " 'instant',\n",
       " 'hoop',\n",
       " 'fragment',\n",
       " 'fonte',\n",
       " 'florida',\n",
       " 'explosion',\n",
       " 'explore',\n",
       " 'dm',\n",
       " 'computer',\n",
       " 'alter',\n",
       " 'alligator',\n",
       " 'unborn',\n",
       " 'unable',\n",
       " 'study',\n",
       " 'speeding',\n",
       " 'sly',\n",
       " 'shackle',\n",
       " 'responsible',\n",
       " 'reminded',\n",
       " 'rapping',\n",
       " 'parting',\n",
       " 'paranoia',\n",
       " 'pad',\n",
       " 'packin',\n",
       " 'owned',\n",
       " 'necklace',\n",
       " 'mostly',\n",
       " 'mistreated',\n",
       " 'miserable',\n",
       " 'merrily',\n",
       " 'learnin',\n",
       " 'interlude',\n",
       " 'hov',\n",
       " 'heroin',\n",
       " 'grenade',\n",
       " 'execution',\n",
       " 'duke',\n",
       " 'draggin',\n",
       " 'disbelief',\n",
       " 'creating',\n",
       " 'contradiction',\n",
       " 'coldest',\n",
       " 'charade',\n",
       " 'bunny',\n",
       " 'brace',\n",
       " 'blackout',\n",
       " 'bitterness',\n",
       " 'bait',\n",
       " 'angeles',\n",
       " 'ala',\n",
       " 'wooh',\n",
       " 'unfolds',\n",
       " 'treason',\n",
       " 'technology',\n",
       " 'spoiled',\n",
       " 'speechless',\n",
       " 'semi',\n",
       " 'rihanna',\n",
       " 'prowl',\n",
       " 'obsessed',\n",
       " 'mink',\n",
       " 'mild',\n",
       " 'layer',\n",
       " 'landing',\n",
       " 'israel',\n",
       " 'inspire',\n",
       " 'impressed',\n",
       " 'ignorant',\n",
       " 'idle',\n",
       " 'horny',\n",
       " 'hometown',\n",
       " 'harbor',\n",
       " 'fluid',\n",
       " 'flowin',\n",
       " 'fitted',\n",
       " 'entrancing',\n",
       " 'elbow',\n",
       " 'drought',\n",
       " 'dolly',\n",
       " 'deo',\n",
       " 'cheetah',\n",
       " 'butcher',\n",
       " 'borrowed',\n",
       " 'bearing',\n",
       " 'bayou',\n",
       " 'aunt',\n",
       " 'audience',\n",
       " 'apathy',\n",
       " 'xzibit',\n",
       " 'wantin',\n",
       " 'uuh',\n",
       " 'toxic',\n",
       " 'tot',\n",
       " 'tch',\n",
       " 'strolling',\n",
       " 'stamp',\n",
       " 'stalk',\n",
       " 'speakin',\n",
       " 'shovel',\n",
       " 'roaming',\n",
       " 'ripe',\n",
       " 'report',\n",
       " 'porn',\n",
       " 'petty',\n",
       " 'percent',\n",
       " 'packing',\n",
       " 'juvenile',\n",
       " 'julep',\n",
       " 'freed',\n",
       " 'freakin',\n",
       " 'fe',\n",
       " 'expose',\n",
       " 'detour',\n",
       " 'crisis',\n",
       " 'compete',\n",
       " 'civil',\n",
       " 'chalk',\n",
       " 'carefully',\n",
       " 'breakaway',\n",
       " 'ave',\n",
       " 'arizona',\n",
       " 'ar',\n",
       " 'alike',\n",
       " 'yuletide',\n",
       " 'weaker',\n",
       " 'waka',\n",
       " 'vodka',\n",
       " 'violet',\n",
       " 'tube',\n",
       " 'supplied',\n",
       " 'structure',\n",
       " 'southside',\n",
       " 'retire',\n",
       " 'resolve',\n",
       " ...]"
      ]
     },
     "execution_count": 17,
     "metadata": {},
     "output_type": "execute_result"
    }
   ],
   "source": [
    "### test\n",
    "vectorize_layer.get_vocabulary()[4000:]\n"
   ]
  },
  {
   "cell_type": "code",
   "execution_count": 18,
   "metadata": {},
   "outputs": [],
   "source": [
    "### test \n",
    "#output = vectorize_layer([[\"the cat sat on the mat\"]])\n",
    "#output.numpy()[0, :11]\n"
   ]
  },
  {
   "cell_type": "code",
   "execution_count": null,
   "metadata": {},
   "outputs": [],
   "source": [
    "\n"
   ]
  },
  {
   "cell_type": "code",
   "execution_count": 139,
   "metadata": {},
   "outputs": [
    {
     "data": {
      "text/plain": [
       "10000"
      ]
     },
     "execution_count": 139,
     "metadata": {},
     "output_type": "execute_result"
    }
   ],
   "source": [
    "# Here's a dict mapping words to their indices:\n",
    "voc = vectorize_layer.get_vocabulary()\n",
    "word_index = dict(zip(voc, range(len(voc))))\n",
    "len(voc)"
   ]
  },
  {
   "cell_type": "code",
   "execution_count": 20,
   "metadata": {
    "scrolled": false
   },
   "outputs": [
    {
     "data": {
      "text/plain": [
       "['',\n",
       " '[UNK]',\n",
       " 'im',\n",
       " 'love',\n",
       " 'know',\n",
       " 'dont',\n",
       " 'like',\n",
       " 'oh',\n",
       " 'get',\n",
       " 'got',\n",
       " 'go',\n",
       " 'one',\n",
       " 'time',\n",
       " 'youre',\n",
       " 'never',\n",
       " 'see',\n",
       " 'let',\n",
       " 'come',\n",
       " 'cant',\n",
       " 'baby']"
      ]
     },
     "execution_count": 20,
     "metadata": {},
     "output_type": "execute_result"
    }
   ],
   "source": [
    "list(word_index.keys())[:20]"
   ]
  },
  {
   "cell_type": "code",
   "execution_count": 21,
   "metadata": {},
   "outputs": [],
   "source": [
    "tf.keras.backend.clear_session()"
   ]
  },
  {
   "cell_type": "markdown",
   "metadata": {},
   "source": [
    "### Load Pretrained Glove Word Embedding\n",
    "\n",
    "#Jeffrey Pennington, Richard Socher, and Christopher D. Manning. 2014. GloVe: Global Vectors for Word Representation.\n",
    "\n",
    "\n",
    "GloVe is an unsupervised learning algorithm for obtaining vector representations for words. Training is performed on aggregated global word-word co-occurrence statistics from a corpus, and the resulting representations showcase interesting linear substructures of the word vector space.\n",
    "\n",
    "\n",
    "The GloVe model is trained on the non-zero entries of a global word-word co-occurrence matrix, which tabulates how frequently words co-occur with one another in a given corpus. Populating this matrix requires a single pass through the entire corpus to collect the statistics. For large corpora, this pass can be computationally expensive, but it is a one-time up-front cost. Subsequent training iterations are much faster because the number of non-zero matrix entries is typically much smaller than the total number of words in the corpus."
   ]
  },
  {
   "cell_type": "code",
   "execution_count": null,
   "metadata": {},
   "outputs": [],
   "source": []
  },
  {
   "cell_type": "code",
   "execution_count": 159,
   "metadata": {},
   "outputs": [
    {
     "data": {
      "text/plain": [
       "10000"
      ]
     },
     "execution_count": 159,
     "metadata": {},
     "output_type": "execute_result"
    }
   ],
   "source": [
    "vectorize_layer.vocabulary_size()"
   ]
  },
  {
   "cell_type": "code",
   "execution_count": 23,
   "metadata": {},
   "outputs": [],
   "source": [
    "path_glove = (r'C:\\Users\\PC\\Desktop\\NN\\NN Project\\glove\\glove.6B.100d.txt')"
   ]
  },
  {
   "cell_type": "code",
   "execution_count": 24,
   "metadata": {},
   "outputs": [
    {
     "name": "stdout",
     "output_type": "stream",
     "text": [
      "Total 400000 word vectors in Glove 6B 100d.\n"
     ]
    }
   ],
   "source": [
    "embeddings_index = {}\n",
    "f = open(path_glove,encoding='utf8')\n",
    "for line in f:\n",
    "    values = line.split()\n",
    "    word = values[0]\n",
    "    coefs = np.asarray(values[1:], dtype='float32')\n",
    "    embeddings_index[word] = coefs\n",
    "f.close()\n",
    "\n",
    "print('Total %s word vectors in Glove 6B 100d.' % len(embeddings_index))"
   ]
  },
  {
   "cell_type": "code",
   "execution_count": null,
   "metadata": {},
   "outputs": [],
   "source": []
  },
  {
   "cell_type": "code",
   "execution_count": 25,
   "metadata": {},
   "outputs": [],
   "source": [
    "#embeddings_index"
   ]
  },
  {
   "cell_type": "markdown",
   "metadata": {},
   "source": [
    "#### Creating a weight matrix for words in training docs"
   ]
  },
  {
   "cell_type": "code",
   "execution_count": 26,
   "metadata": {},
   "outputs": [
    {
     "name": "stdout",
     "output_type": "stream",
     "text": [
      "Converted 9679 words (321 misses)\n"
     ]
    }
   ],
   "source": [
    "### note to self \n",
    "\n",
    "#index 0 is reserved for padding and index 1 is reserved for \"out of vocabulary\" tokens.\n",
    "num_tokens = len(voc) + 2\n",
    "embedding_dim = EMBEDDING_DIMENSIONS\n",
    "hits = 0\n",
    "misses = 0\n",
    "\n",
    "# Prepare embedding matrix\n",
    "embedding_matrix = np.zeros((num_tokens, embedding_dim))\n",
    "for word, i in word_index.items():\n",
    "    embedding_vector = embeddings_index.get(word)\n",
    "    if embedding_vector is not None:\n",
    "        # Words not found in embedding index will be all-zeros.\n",
    "        # This includes the representation for \"padding\" and \"OOV\"\n",
    "        embedding_matrix[i] = embedding_vector\n",
    "        hits += 1\n",
    "    else:\n",
    "        misses += 1\n",
    "print(\"Converted %d words (%d misses)\" % (hits, misses))"
   ]
  },
  {
   "cell_type": "code",
   "execution_count": 27,
   "metadata": {},
   "outputs": [
    {
     "data": {
      "text/plain": [
       "array([[ 0.        ,  0.        ,  0.        , ...,  0.        ,\n",
       "         0.        ,  0.        ],\n",
       "       [ 0.        ,  0.        ,  0.        , ...,  0.        ,\n",
       "         0.        ,  0.        ],\n",
       "       [ 0.41711   , -0.10176   ,  0.058147  , ..., -0.29444   ,\n",
       "        -0.039114  ,  0.39534   ],\n",
       "       ...,\n",
       "       [ 0.63734001, -0.086567  ,  0.61628997, ..., -0.22788   ,\n",
       "        -0.13654999,  0.01734   ],\n",
       "       [ 0.        ,  0.        ,  0.        , ...,  0.        ,\n",
       "         0.        ,  0.        ],\n",
       "       [ 0.        ,  0.        ,  0.        , ...,  0.        ,\n",
       "         0.        ,  0.        ]])"
      ]
     },
     "execution_count": 27,
     "metadata": {},
     "output_type": "execute_result"
    }
   ],
   "source": [
    "embedding_matrix"
   ]
  },
  {
   "cell_type": "markdown",
   "metadata": {},
   "source": [
    "## Base LSTM Model"
   ]
  },
  {
   "cell_type": "code",
   "execution_count": 142,
   "metadata": {},
   "outputs": [],
   "source": [
    "tf.keras.backend.clear_session()\n",
    "model_name = \"base lstm model\"\n",
    "checkpointer = ModelCheckpoint(filepath =check_point_base,\n",
    "                               save_best_only=False, save_weights_only = False, verbose=0,mode='min')\n",
    "early_stopping = EarlyStopping(monitor='val_loss', min_delta=0, patience=10, verbose=0, mode='auto')"
   ]
  },
  {
   "cell_type": "code",
   "execution_count": 144,
   "metadata": {},
   "outputs": [],
   "source": [
    "lstm_base_model = Sequential([\n",
    "  vectorize_layer,\n",
    "  Embedding(input_dim = vectorize_layer.vocabulary_size()+2, output_dim = EMBEDDING_DIMENSIONS,weights=[embedding_matrix],input_length=MAX_OUTPUT_LENGTH,trainable=False),\n",
    "  LSTM(128),\n",
    "  Dense(N_CLASSES,activation = softmax)])\n",
    "\n",
    "lstm_base_model.compile(\n",
    "    loss = tf.keras.losses.SparseCategoricalCrossentropy(),\n",
    "    optimizer = Adam(learning_rate = LEARNING_RATE),\n",
    "    metrics = [\"acc\"]\n",
    "    )"
   ]
  },
  {
   "cell_type": "code",
   "execution_count": 145,
   "metadata": {
    "scrolled": true
   },
   "outputs": [
    {
     "name": "stdout",
     "output_type": "stream",
     "text": [
      "Model: \"sequential_1\"\n",
      "_________________________________________________________________\n",
      " Layer (type)                Output Shape              Param #   \n",
      "=================================================================\n",
      " text_vectorization (TextVec  (None, 300)              0         \n",
      " torization)                                                     \n",
      "                                                                 \n",
      " embedding_1 (Embedding)     (None, 300, 100)          1000200   \n",
      "                                                                 \n",
      " lstm_1 (LSTM)               (None, 128)               117248    \n",
      "                                                                 \n",
      " dense_1 (Dense)             (None, 4)                 516       \n",
      "                                                                 \n",
      "=================================================================\n",
      "Total params: 1,117,964\n",
      "Trainable params: 117,764\n",
      "Non-trainable params: 1,000,200\n",
      "_________________________________________________________________\n"
     ]
    }
   ],
   "source": [
    "lstm_base_model.summary()"
   ]
  },
  {
   "cell_type": "code",
   "execution_count": 33,
   "metadata": {},
   "outputs": [],
   "source": []
  },
  {
   "cell_type": "code",
   "execution_count": null,
   "metadata": {},
   "outputs": [],
   "source": []
  },
  {
   "cell_type": "code",
   "execution_count": 146,
   "metadata": {
    "scrolled": true
   },
   "outputs": [
    {
     "name": "stdout",
     "output_type": "stream",
     "text": [
      "Epoch 1/10\n",
      "3659/3659 [==============================] - ETA: 0s - loss: 1.3729 - acc: 0.3166"
     ]
    },
    {
     "name": "stderr",
     "output_type": "stream",
     "text": [
      "WARNING:absl:Found untraced functions such as lstm_cell_1_layer_call_fn, lstm_cell_1_layer_call_and_return_conditional_losses while saving (showing 2 of 2). These functions will not be directly callable after loading.\n"
     ]
    },
    {
     "name": "stdout",
     "output_type": "stream",
     "text": [
      "INFO:tensorflow:Assets written to: C:\\Users\\PC\\Desktop\\NN\\Text calssification\\version 2\\checkpoint_base\\assets\n"
     ]
    },
    {
     "name": "stderr",
     "output_type": "stream",
     "text": [
      "INFO:tensorflow:Assets written to: C:\\Users\\PC\\Desktop\\NN\\Text calssification\\version 2\\checkpoint_base\\assets\n",
      "WARNING:absl:<keras.layers.recurrent.LSTMCell object at 0x0000020EDE9B3A30> has the same name 'LSTMCell' as a built-in Keras object. Consider renaming <class 'keras.layers.recurrent.LSTMCell'> to avoid naming conflicts when loading with `tf.keras.models.load_model`. If renaming is not possible, pass the object in the `custom_objects` parameter of the load function.\n"
     ]
    },
    {
     "name": "stdout",
     "output_type": "stream",
     "text": [
      "3659/3659 [==============================] - 546s 149ms/step - loss: 1.3729 - acc: 0.3166 - val_loss: 1.3675 - val_acc: 0.3295\n",
      "Epoch 2/10\n",
      "3659/3659 [==============================] - ETA: 0s - loss: 1.3582 - acc: 0.3362"
     ]
    },
    {
     "name": "stderr",
     "output_type": "stream",
     "text": [
      "WARNING:absl:Found untraced functions such as lstm_cell_1_layer_call_fn, lstm_cell_1_layer_call_and_return_conditional_losses while saving (showing 2 of 2). These functions will not be directly callable after loading.\n"
     ]
    },
    {
     "name": "stdout",
     "output_type": "stream",
     "text": [
      "INFO:tensorflow:Assets written to: C:\\Users\\PC\\Desktop\\NN\\Text calssification\\version 2\\checkpoint_base\\assets\n"
     ]
    },
    {
     "name": "stderr",
     "output_type": "stream",
     "text": [
      "INFO:tensorflow:Assets written to: C:\\Users\\PC\\Desktop\\NN\\Text calssification\\version 2\\checkpoint_base\\assets\n",
      "WARNING:absl:<keras.layers.recurrent.LSTMCell object at 0x0000020EDE9B3A30> has the same name 'LSTMCell' as a built-in Keras object. Consider renaming <class 'keras.layers.recurrent.LSTMCell'> to avoid naming conflicts when loading with `tf.keras.models.load_model`. If renaming is not possible, pass the object in the `custom_objects` parameter of the load function.\n"
     ]
    },
    {
     "name": "stdout",
     "output_type": "stream",
     "text": [
      "3659/3659 [==============================] - 523s 143ms/step - loss: 1.3582 - acc: 0.3362 - val_loss: 1.3579 - val_acc: 0.3341\n",
      "Epoch 3/10\n",
      "3659/3659 [==============================] - ETA: 0s - loss: 1.3498 - acc: 0.3430"
     ]
    },
    {
     "name": "stderr",
     "output_type": "stream",
     "text": [
      "WARNING:absl:Found untraced functions such as lstm_cell_1_layer_call_fn, lstm_cell_1_layer_call_and_return_conditional_losses while saving (showing 2 of 2). These functions will not be directly callable after loading.\n"
     ]
    },
    {
     "name": "stdout",
     "output_type": "stream",
     "text": [
      "INFO:tensorflow:Assets written to: C:\\Users\\PC\\Desktop\\NN\\Text calssification\\version 2\\checkpoint_base\\assets\n"
     ]
    },
    {
     "name": "stderr",
     "output_type": "stream",
     "text": [
      "INFO:tensorflow:Assets written to: C:\\Users\\PC\\Desktop\\NN\\Text calssification\\version 2\\checkpoint_base\\assets\n",
      "WARNING:absl:<keras.layers.recurrent.LSTMCell object at 0x0000020EDE9B3A30> has the same name 'LSTMCell' as a built-in Keras object. Consider renaming <class 'keras.layers.recurrent.LSTMCell'> to avoid naming conflicts when loading with `tf.keras.models.load_model`. If renaming is not possible, pass the object in the `custom_objects` parameter of the load function.\n"
     ]
    },
    {
     "name": "stdout",
     "output_type": "stream",
     "text": [
      "3659/3659 [==============================] - 512s 140ms/step - loss: 1.3498 - acc: 0.3430 - val_loss: 1.3530 - val_acc: 0.3429\n",
      "Epoch 4/10\n",
      "3659/3659 [==============================] - ETA: 0s - loss: 1.3450 - acc: 0.3106"
     ]
    },
    {
     "name": "stderr",
     "output_type": "stream",
     "text": [
      "WARNING:absl:Found untraced functions such as lstm_cell_1_layer_call_fn, lstm_cell_1_layer_call_and_return_conditional_losses while saving (showing 2 of 2). These functions will not be directly callable after loading.\n"
     ]
    },
    {
     "name": "stdout",
     "output_type": "stream",
     "text": [
      "INFO:tensorflow:Assets written to: C:\\Users\\PC\\Desktop\\NN\\Text calssification\\version 2\\checkpoint_base\\assets\n"
     ]
    },
    {
     "name": "stderr",
     "output_type": "stream",
     "text": [
      "INFO:tensorflow:Assets written to: C:\\Users\\PC\\Desktop\\NN\\Text calssification\\version 2\\checkpoint_base\\assets\n",
      "WARNING:absl:<keras.layers.recurrent.LSTMCell object at 0x0000020EDE9B3A30> has the same name 'LSTMCell' as a built-in Keras object. Consider renaming <class 'keras.layers.recurrent.LSTMCell'> to avoid naming conflicts when loading with `tf.keras.models.load_model`. If renaming is not possible, pass the object in the `custom_objects` parameter of the load function.\n"
     ]
    },
    {
     "name": "stdout",
     "output_type": "stream",
     "text": [
      "3659/3659 [==============================] - 522s 143ms/step - loss: 1.3450 - acc: 0.3106 - val_loss: 1.3495 - val_acc: 0.2841\n",
      "Epoch 5/10\n",
      "3659/3659 [==============================] - ETA: 0s - loss: 1.3400 - acc: 0.2930"
     ]
    },
    {
     "name": "stderr",
     "output_type": "stream",
     "text": [
      "WARNING:absl:Found untraced functions such as lstm_cell_1_layer_call_fn, lstm_cell_1_layer_call_and_return_conditional_losses while saving (showing 2 of 2). These functions will not be directly callable after loading.\n"
     ]
    },
    {
     "name": "stdout",
     "output_type": "stream",
     "text": [
      "INFO:tensorflow:Assets written to: C:\\Users\\PC\\Desktop\\NN\\Text calssification\\version 2\\checkpoint_base\\assets\n"
     ]
    },
    {
     "name": "stderr",
     "output_type": "stream",
     "text": [
      "INFO:tensorflow:Assets written to: C:\\Users\\PC\\Desktop\\NN\\Text calssification\\version 2\\checkpoint_base\\assets\n",
      "WARNING:absl:<keras.layers.recurrent.LSTMCell object at 0x0000020EDE9B3A30> has the same name 'LSTMCell' as a built-in Keras object. Consider renaming <class 'keras.layers.recurrent.LSTMCell'> to avoid naming conflicts when loading with `tf.keras.models.load_model`. If renaming is not possible, pass the object in the `custom_objects` parameter of the load function.\n"
     ]
    },
    {
     "name": "stdout",
     "output_type": "stream",
     "text": [
      "3659/3659 [==============================] - 518s 142ms/step - loss: 1.3400 - acc: 0.2930 - val_loss: 1.3426 - val_acc: 0.2841\n",
      "Epoch 6/10\n",
      "3659/3659 [==============================] - ETA: 0s - loss: 1.3233 - acc: 0.2980"
     ]
    },
    {
     "name": "stderr",
     "output_type": "stream",
     "text": [
      "WARNING:absl:Found untraced functions such as lstm_cell_1_layer_call_fn, lstm_cell_1_layer_call_and_return_conditional_losses while saving (showing 2 of 2). These functions will not be directly callable after loading.\n"
     ]
    },
    {
     "name": "stdout",
     "output_type": "stream",
     "text": [
      "INFO:tensorflow:Assets written to: C:\\Users\\PC\\Desktop\\NN\\Text calssification\\version 2\\checkpoint_base\\assets\n"
     ]
    },
    {
     "name": "stderr",
     "output_type": "stream",
     "text": [
      "INFO:tensorflow:Assets written to: C:\\Users\\PC\\Desktop\\NN\\Text calssification\\version 2\\checkpoint_base\\assets\n",
      "WARNING:absl:<keras.layers.recurrent.LSTMCell object at 0x0000020EDE9B3A30> has the same name 'LSTMCell' as a built-in Keras object. Consider renaming <class 'keras.layers.recurrent.LSTMCell'> to avoid naming conflicts when loading with `tf.keras.models.load_model`. If renaming is not possible, pass the object in the `custom_objects` parameter of the load function.\n"
     ]
    },
    {
     "name": "stdout",
     "output_type": "stream",
     "text": [
      "3659/3659 [==============================] - 525s 144ms/step - loss: 1.3233 - acc: 0.2980 - val_loss: 1.3246 - val_acc: 0.3163\n",
      "Epoch 7/10\n",
      "3659/3659 [==============================] - ETA: 0s - loss: 1.3116 - acc: 0.3497"
     ]
    },
    {
     "name": "stderr",
     "output_type": "stream",
     "text": [
      "WARNING:absl:Found untraced functions such as lstm_cell_1_layer_call_fn, lstm_cell_1_layer_call_and_return_conditional_losses while saving (showing 2 of 2). These functions will not be directly callable after loading.\n"
     ]
    },
    {
     "name": "stdout",
     "output_type": "stream",
     "text": [
      "INFO:tensorflow:Assets written to: C:\\Users\\PC\\Desktop\\NN\\Text calssification\\version 2\\checkpoint_base\\assets\n"
     ]
    },
    {
     "name": "stderr",
     "output_type": "stream",
     "text": [
      "INFO:tensorflow:Assets written to: C:\\Users\\PC\\Desktop\\NN\\Text calssification\\version 2\\checkpoint_base\\assets\n",
      "WARNING:absl:<keras.layers.recurrent.LSTMCell object at 0x0000020EDE9B3A30> has the same name 'LSTMCell' as a built-in Keras object. Consider renaming <class 'keras.layers.recurrent.LSTMCell'> to avoid naming conflicts when loading with `tf.keras.models.load_model`. If renaming is not possible, pass the object in the `custom_objects` parameter of the load function.\n"
     ]
    },
    {
     "name": "stdout",
     "output_type": "stream",
     "text": [
      "3659/3659 [==============================] - 519s 142ms/step - loss: 1.3116 - acc: 0.3497 - val_loss: 1.3176 - val_acc: 0.3567\n",
      "Epoch 8/10\n",
      "3659/3659 [==============================] - ETA: 0s - loss: 1.3057 - acc: 0.3665"
     ]
    },
    {
     "name": "stderr",
     "output_type": "stream",
     "text": [
      "WARNING:absl:Found untraced functions such as lstm_cell_1_layer_call_fn, lstm_cell_1_layer_call_and_return_conditional_losses while saving (showing 2 of 2). These functions will not be directly callable after loading.\n"
     ]
    },
    {
     "name": "stdout",
     "output_type": "stream",
     "text": [
      "INFO:tensorflow:Assets written to: C:\\Users\\PC\\Desktop\\NN\\Text calssification\\version 2\\checkpoint_base\\assets\n"
     ]
    },
    {
     "name": "stderr",
     "output_type": "stream",
     "text": [
      "INFO:tensorflow:Assets written to: C:\\Users\\PC\\Desktop\\NN\\Text calssification\\version 2\\checkpoint_base\\assets\n",
      "WARNING:absl:<keras.layers.recurrent.LSTMCell object at 0x0000020EDE9B3A30> has the same name 'LSTMCell' as a built-in Keras object. Consider renaming <class 'keras.layers.recurrent.LSTMCell'> to avoid naming conflicts when loading with `tf.keras.models.load_model`. If renaming is not possible, pass the object in the `custom_objects` parameter of the load function.\n"
     ]
    },
    {
     "name": "stdout",
     "output_type": "stream",
     "text": [
      "3659/3659 [==============================] - 518s 141ms/step - loss: 1.3057 - acc: 0.3665 - val_loss: 1.3126 - val_acc: 0.3652\n",
      "Epoch 9/10\n",
      "3659/3659 [==============================] - ETA: 0s - loss: 1.3011 - acc: 0.3708"
     ]
    },
    {
     "name": "stderr",
     "output_type": "stream",
     "text": [
      "WARNING:absl:Found untraced functions such as lstm_cell_1_layer_call_fn, lstm_cell_1_layer_call_and_return_conditional_losses while saving (showing 2 of 2). These functions will not be directly callable after loading.\n"
     ]
    },
    {
     "name": "stdout",
     "output_type": "stream",
     "text": [
      "INFO:tensorflow:Assets written to: C:\\Users\\PC\\Desktop\\NN\\Text calssification\\version 2\\checkpoint_base\\assets\n"
     ]
    },
    {
     "name": "stderr",
     "output_type": "stream",
     "text": [
      "INFO:tensorflow:Assets written to: C:\\Users\\PC\\Desktop\\NN\\Text calssification\\version 2\\checkpoint_base\\assets\n",
      "WARNING:absl:<keras.layers.recurrent.LSTMCell object at 0x0000020EDE9B3A30> has the same name 'LSTMCell' as a built-in Keras object. Consider renaming <class 'keras.layers.recurrent.LSTMCell'> to avoid naming conflicts when loading with `tf.keras.models.load_model`. If renaming is not possible, pass the object in the `custom_objects` parameter of the load function.\n"
     ]
    },
    {
     "name": "stdout",
     "output_type": "stream",
     "text": [
      "3659/3659 [==============================] - 516s 141ms/step - loss: 1.3011 - acc: 0.3708 - val_loss: 1.3084 - val_acc: 0.3676\n",
      "Epoch 10/10\n",
      "3659/3659 [==============================] - ETA: 0s - loss: 1.2971 - acc: 0.3730"
     ]
    },
    {
     "name": "stderr",
     "output_type": "stream",
     "text": [
      "WARNING:absl:Found untraced functions such as lstm_cell_1_layer_call_fn, lstm_cell_1_layer_call_and_return_conditional_losses while saving (showing 2 of 2). These functions will not be directly callable after loading.\n"
     ]
    },
    {
     "name": "stdout",
     "output_type": "stream",
     "text": [
      "INFO:tensorflow:Assets written to: C:\\Users\\PC\\Desktop\\NN\\Text calssification\\version 2\\checkpoint_base\\assets\n"
     ]
    },
    {
     "name": "stderr",
     "output_type": "stream",
     "text": [
      "INFO:tensorflow:Assets written to: C:\\Users\\PC\\Desktop\\NN\\Text calssification\\version 2\\checkpoint_base\\assets\n",
      "WARNING:absl:<keras.layers.recurrent.LSTMCell object at 0x0000020EDE9B3A30> has the same name 'LSTMCell' as a built-in Keras object. Consider renaming <class 'keras.layers.recurrent.LSTMCell'> to avoid naming conflicts when loading with `tf.keras.models.load_model`. If renaming is not possible, pass the object in the `custom_objects` parameter of the load function.\n"
     ]
    },
    {
     "name": "stdout",
     "output_type": "stream",
     "text": [
      "\b\b\b\b\b\b\b\b\b\b\b\b\b\b\b\b\b\b\b\b\b\b\b\b\b\b\b\b\b\b\b\b\b\b\b\b\b\b\b\b\b\b\b\b\b\b\b\b\b\b\b\b\b\b\b\b\b\b\b\b\b\b\b\b\b\b\b\b\b\b\b\b\b\b\b\b\b\b\b\b\b\r",
      "3659/3659 [==============================] - 519s 142ms/step - loss: 1.2971 - acc: 0.3730 - val_loss: 1.3042 - val_acc: 0.3685\n"
     ]
    }
   ],
   "source": [
    "lstm_history_base_model = lstm_base_model.fit(train_dataset, \n",
    "          validation_data = val_dataset,\n",
    "          epochs = 10,\n",
    "          callbacks=[checkpointer, early_stopping])"
   ]
  },
  {
   "cell_type": "code",
   "execution_count": 35,
   "metadata": {},
   "outputs": [],
   "source": [
    "def plot_loss_accuracy(hist,model):\n",
    "    fig=plt.figure()\n",
    "    plt.plot(hist.history['acc'],'r',linewidth=3.0)\n",
    "    plt.plot(hist.history['val_acc'],'b',linewidth=3.0)\n",
    "    plt.legend(['Training Accuracy', 'Validation Accuracy'],fontsize=18)\n",
    "    plt.xlabel('Epochs ',fontsize=16)\n",
    "    plt.ylabel('Accuracy',fontsize=16)\n",
    "    plt.title(f'Accuracy Curves : {model}',fontsize=16)\n",
    "    #fig.savefig('accuracy_lstm.png')\n",
    "    plt.show()"
   ]
  },
  {
   "cell_type": "code",
   "execution_count": 147,
   "metadata": {},
   "outputs": [
    {
     "data": {
      "image/png": "[encoded data removed]",
      "text/plain": [
       "<Figure size 576x396 with 1 Axes>"
      ]
     },
     "metadata": {},
     "output_type": "display_data"
    }
   ],
   "source": [
    "plot_loss_accuracy(lstm_history_base_model, 'Base LSTM')"
   ]
  },
  {
   "cell_type": "code",
   "execution_count": 148,
   "metadata": {},
   "outputs": [
    {
     "name": "stdout",
     "output_type": "stream",
     "text": [
      "407/407 [==============================] - 21s 52ms/step - loss: 1.3042 - acc: 0.3685\n"
     ]
    }
   ],
   "source": [
    "_,val_acc = lstm_base_model.evaluate(val_dataset)"
   ]
  },
  {
   "cell_type": "code",
   "execution_count": 149,
   "metadata": {},
   "outputs": [],
   "source": [
    "hist_1 = pd.DataFrame(lstm_history_base_model.history)\n",
    "hist_1['epoch'] = lstm_history_base_model.epoch"
   ]
  },
  {
   "cell_type": "code",
   "execution_count": 150,
   "metadata": {},
   "outputs": [
    {
     "data": {
      "text/html": [
       "<div>\n",
       "<style scoped>\n",
       "    .dataframe tbody tr th:only-of-type {\n",
       "        vertical-align: middle;\n",
       "    }\n",
       "\n",
       "    .dataframe tbody tr th {\n",
       "        vertical-align: top;\n",
       "    }\n",
       "\n",
       "    .dataframe thead th {\n",
       "        text-align: right;\n",
       "    }\n",
       "</style>\n",
       "<table border=\"1\" class=\"dataframe\">\n",
       "  <thead>\n",
       "    <tr style=\"text-align: right;\">\n",
       "      <th></th>\n",
       "      <th>loss</th>\n",
       "      <th>acc</th>\n",
       "      <th>val_loss</th>\n",
       "      <th>val_acc</th>\n",
       "      <th>epoch</th>\n",
       "    </tr>\n",
       "  </thead>\n",
       "  <tbody>\n",
       "    <tr>\n",
       "      <th>0</th>\n",
       "      <td>1.372920</td>\n",
       "      <td>0.316617</td>\n",
       "      <td>1.367484</td>\n",
       "      <td>0.329490</td>\n",
       "      <td>0</td>\n",
       "    </tr>\n",
       "    <tr>\n",
       "      <th>1</th>\n",
       "      <td>1.358162</td>\n",
       "      <td>0.336243</td>\n",
       "      <td>1.357880</td>\n",
       "      <td>0.334102</td>\n",
       "      <td>1</td>\n",
       "    </tr>\n",
       "    <tr>\n",
       "      <th>2</th>\n",
       "      <td>1.349757</td>\n",
       "      <td>0.342973</td>\n",
       "      <td>1.353011</td>\n",
       "      <td>0.342866</td>\n",
       "      <td>2</td>\n",
       "    </tr>\n",
       "    <tr>\n",
       "      <th>3</th>\n",
       "      <td>1.345010</td>\n",
       "      <td>0.310553</td>\n",
       "      <td>1.349515</td>\n",
       "      <td>0.284133</td>\n",
       "      <td>3</td>\n",
       "    </tr>\n",
       "    <tr>\n",
       "      <th>4</th>\n",
       "      <td>1.339978</td>\n",
       "      <td>0.292959</td>\n",
       "      <td>1.342627</td>\n",
       "      <td>0.284133</td>\n",
       "      <td>4</td>\n",
       "    </tr>\n",
       "    <tr>\n",
       "      <th>5</th>\n",
       "      <td>1.323324</td>\n",
       "      <td>0.297964</td>\n",
       "      <td>1.324612</td>\n",
       "      <td>0.316267</td>\n",
       "      <td>5</td>\n",
       "    </tr>\n",
       "    <tr>\n",
       "      <th>6</th>\n",
       "      <td>1.311611</td>\n",
       "      <td>0.349652</td>\n",
       "      <td>1.317608</td>\n",
       "      <td>0.356704</td>\n",
       "      <td>6</td>\n",
       "    </tr>\n",
       "    <tr>\n",
       "      <th>7</th>\n",
       "      <td>1.305658</td>\n",
       "      <td>0.366528</td>\n",
       "      <td>1.312590</td>\n",
       "      <td>0.365160</td>\n",
       "      <td>7</td>\n",
       "    </tr>\n",
       "    <tr>\n",
       "      <th>8</th>\n",
       "      <td>1.301124</td>\n",
       "      <td>0.370849</td>\n",
       "      <td>1.308378</td>\n",
       "      <td>0.367620</td>\n",
       "      <td>8</td>\n",
       "    </tr>\n",
       "    <tr>\n",
       "      <th>9</th>\n",
       "      <td>1.297090</td>\n",
       "      <td>0.372950</td>\n",
       "      <td>1.304216</td>\n",
       "      <td>0.368542</td>\n",
       "      <td>9</td>\n",
       "    </tr>\n",
       "  </tbody>\n",
       "</table>\n",
       "</div>"
      ],
      "text/plain": [
       "       loss       acc  val_loss   val_acc  epoch\n",
       "0  1.372920  0.316617  1.367484  0.329490      0\n",
       "1  1.358162  0.336243  1.357880  0.334102      1\n",
       "2  1.349757  0.342973  1.353011  0.342866      2\n",
       "3  1.345010  0.310553  1.349515  0.284133      3\n",
       "4  1.339978  0.292959  1.342627  0.284133      4\n",
       "5  1.323324  0.297964  1.324612  0.316267      5\n",
       "6  1.311611  0.349652  1.317608  0.356704      6\n",
       "7  1.305658  0.366528  1.312590  0.365160      7\n",
       "8  1.301124  0.370849  1.308378  0.367620      8\n",
       "9  1.297090  0.372950  1.304216  0.368542      9"
      ]
     },
     "execution_count": 150,
     "metadata": {},
     "output_type": "execute_result"
    }
   ],
   "source": [
    "hist_1"
   ]
  },
  {
   "cell_type": "code",
   "execution_count": 42,
   "metadata": {},
   "outputs": [
    {
     "name": "stdout",
     "output_type": "stream",
     "text": [
      "1/1 [==============================] - 1s 572ms/step\n"
     ]
    },
    {
     "data": {
      "text/plain": [
       "array([[0.72133315, 0.02181528, 0.12567149, 0.13118008]], dtype=float32)"
      ]
     },
     "execution_count": 42,
     "metadata": {},
     "output_type": "execute_result"
    }
   ],
   "source": [
    "lstm_base_model.predict([''' \n",
    "It seems you're having some trouble In dealing with these changes Living with these changes (oh no) \n",
    "The world is a scary place Now that you've woken up the demon in me \n",
    "Why can't you just leave here and die Never stick your hand in my face again bitch\n",
    "Fuck you\n",
    "I don't need this shit\n",
    "\n",
    "''' ])\n"
   ]
  },
  {
   "cell_type": "code",
   "execution_count": 43,
   "metadata": {},
   "outputs": [
    {
     "data": {
      "text/plain": [
       "['Jazz', 'Metal', 'Pop', 'Rock']"
      ]
     },
     "execution_count": 43,
     "metadata": {},
     "output_type": "execute_result"
    }
   ],
   "source": [
    "train_dataset.class_names"
   ]
  },
  {
   "cell_type": "markdown",
   "metadata": {},
   "source": [
    "## Optimize base LSTM"
   ]
  },
  {
   "cell_type": "code",
   "execution_count": 152,
   "metadata": {},
   "outputs": [],
   "source": [
    "tf.keras.backend.clear_session()"
   ]
  },
  {
   "cell_type": "code",
   "execution_count": 153,
   "metadata": {},
   "outputs": [],
   "source": [
    "model_name = \"optimized lstm model\"\n",
    "checkpointer_opt = ModelCheckpoint(filepath =check_point_opt,\n",
    "                               save_best_only=False, save_weights_only = False, verbose=0,mode='min')\n",
    "early_stopping_opt = EarlyStopping(monitor='val_loss', min_delta=0, patience=10, verbose=0, mode='auto')"
   ]
  },
  {
   "cell_type": "code",
   "execution_count": 154,
   "metadata": {},
   "outputs": [],
   "source": [
    "lstm_opt_model = Sequential([\n",
    "  vectorize_layer,\n",
    "  Embedding(input_dim = vectorize_layer.vocabulary_size()+2, output_dim = EMBEDDING_DIMENSIONS,weights=[embedding_matrix],input_length=MAX_OUTPUT_LENGTH,trainable=False),\n",
    "  LSTM(64,return_sequences=True,dropout=0.2),\n",
    "  tf.keras.layers.GlobalMaxPooling1D(),\n",
    "  Dense(64,activation='relu'),\n",
    "  Dense(N_CLASSES,activation = softmax)])\n",
    "\n",
    "lstm_opt_model.compile(\n",
    "    loss='sparse_categorical_crossentropy',\n",
    "    optimizer = Adam(learning_rate = LEARNING_RATE),\n",
    "    metrics = [\"acc\"]\n",
    "    )"
   ]
  },
  {
   "cell_type": "code",
   "execution_count": 155,
   "metadata": {},
   "outputs": [
    {
     "name": "stdout",
     "output_type": "stream",
     "text": [
      "Model: \"sequential\"\n",
      "_________________________________________________________________\n",
      " Layer (type)                Output Shape              Param #   \n",
      "=================================================================\n",
      " text_vectorization (TextVec  (None, 300)              0         \n",
      " torization)                                                     \n",
      "                                                                 \n",
      " embedding (Embedding)       (None, 300, 100)          1000200   \n",
      "                                                                 \n",
      " lstm (LSTM)                 (None, 300, 64)           42240     \n",
      "                                                                 \n",
      " global_max_pooling1d (Globa  (None, 64)               0         \n",
      " lMaxPooling1D)                                                  \n",
      "                                                                 \n",
      " dense (Dense)               (None, 64)                4160      \n",
      "                                                                 \n",
      " dense_1 (Dense)             (None, 4)                 260       \n",
      "                                                                 \n",
      "=================================================================\n",
      "Total params: 1,046,860\n",
      "Trainable params: 46,660\n",
      "Non-trainable params: 1,000,200\n",
      "_________________________________________________________________\n"
     ]
    }
   ],
   "source": [
    "lstm_opt_model.summary()"
   ]
  },
  {
   "cell_type": "code",
   "execution_count": 48,
   "metadata": {},
   "outputs": [],
   "source": []
  },
  {
   "cell_type": "code",
   "execution_count": 156,
   "metadata": {},
   "outputs": [
    {
     "name": "stdout",
     "output_type": "stream",
     "text": [
      "Epoch 1/10\n",
      "3659/3659 [==============================] - ETA: 0s - loss: 1.3828 - acc: 0.2724"
     ]
    },
    {
     "name": "stderr",
     "output_type": "stream",
     "text": [
      "WARNING:absl:Found untraced functions such as lstm_cell_layer_call_fn, lstm_cell_layer_call_and_return_conditional_losses while saving (showing 2 of 2). These functions will not be directly callable after loading.\n"
     ]
    },
    {
     "name": "stdout",
     "output_type": "stream",
     "text": [
      "INFO:tensorflow:Assets written to: C:\\Users\\PC\\Desktop\\NN\\Text calssification\\version 2\\checkpoint_opt\\assets\n"
     ]
    },
    {
     "name": "stderr",
     "output_type": "stream",
     "text": [
      "INFO:tensorflow:Assets written to: C:\\Users\\PC\\Desktop\\NN\\Text calssification\\version 2\\checkpoint_opt\\assets\n",
      "WARNING:absl:<keras.layers.recurrent.LSTMCell object at 0x0000020EE1021430> has the same name 'LSTMCell' as a built-in Keras object. Consider renaming <class 'keras.layers.recurrent.LSTMCell'> to avoid naming conflicts when loading with `tf.keras.models.load_model`. If renaming is not possible, pass the object in the `custom_objects` parameter of the load function.\n"
     ]
    },
    {
     "name": "stdout",
     "output_type": "stream",
     "text": [
      "3659/3659 [==============================] - 371s 101ms/step - loss: 1.3828 - acc: 0.2724 - val_loss: 1.3682 - val_acc: 0.2947\n",
      "Epoch 2/10\n",
      "3659/3659 [==============================] - ETA: 0s - loss: 1.3620 - acc: 0.2958"
     ]
    },
    {
     "name": "stderr",
     "output_type": "stream",
     "text": [
      "WARNING:absl:Found untraced functions such as lstm_cell_layer_call_fn, lstm_cell_layer_call_and_return_conditional_losses while saving (showing 2 of 2). These functions will not be directly callable after loading.\n"
     ]
    },
    {
     "name": "stdout",
     "output_type": "stream",
     "text": [
      "INFO:tensorflow:Assets written to: C:\\Users\\PC\\Desktop\\NN\\Text calssification\\version 2\\checkpoint_opt\\assets\n"
     ]
    },
    {
     "name": "stderr",
     "output_type": "stream",
     "text": [
      "INFO:tensorflow:Assets written to: C:\\Users\\PC\\Desktop\\NN\\Text calssification\\version 2\\checkpoint_opt\\assets\n",
      "WARNING:absl:<keras.layers.recurrent.LSTMCell object at 0x0000020EE1021430> has the same name 'LSTMCell' as a built-in Keras object. Consider renaming <class 'keras.layers.recurrent.LSTMCell'> to avoid naming conflicts when loading with `tf.keras.models.load_model`. If renaming is not possible, pass the object in the `custom_objects` parameter of the load function.\n"
     ]
    },
    {
     "name": "stdout",
     "output_type": "stream",
     "text": [
      "3659/3659 [==============================] - 426s 117ms/step - loss: 1.3620 - acc: 0.2958 - val_loss: 1.3578 - val_acc: 0.3063\n",
      "Epoch 3/10\n",
      "3659/3659 [==============================] - ETA: 0s - loss: 1.3532 - acc: 0.3159"
     ]
    },
    {
     "name": "stderr",
     "output_type": "stream",
     "text": [
      "WARNING:absl:Found untraced functions such as lstm_cell_layer_call_fn, lstm_cell_layer_call_and_return_conditional_losses while saving (showing 2 of 2). These functions will not be directly callable after loading.\n"
     ]
    },
    {
     "name": "stdout",
     "output_type": "stream",
     "text": [
      "INFO:tensorflow:Assets written to: C:\\Users\\PC\\Desktop\\NN\\Text calssification\\version 2\\checkpoint_opt\\assets\n"
     ]
    },
    {
     "name": "stderr",
     "output_type": "stream",
     "text": [
      "INFO:tensorflow:Assets written to: C:\\Users\\PC\\Desktop\\NN\\Text calssification\\version 2\\checkpoint_opt\\assets\n",
      "WARNING:absl:<keras.layers.recurrent.LSTMCell object at 0x0000020EE1021430> has the same name 'LSTMCell' as a built-in Keras object. Consider renaming <class 'keras.layers.recurrent.LSTMCell'> to avoid naming conflicts when loading with `tf.keras.models.load_model`. If renaming is not possible, pass the object in the `custom_objects` parameter of the load function.\n"
     ]
    },
    {
     "name": "stdout",
     "output_type": "stream",
     "text": [
      "3659/3659 [==============================] - 429s 117ms/step - loss: 1.3532 - acc: 0.3159 - val_loss: 1.3506 - val_acc: 0.3315\n",
      "Epoch 4/10\n",
      "3659/3659 [==============================] - ETA: 0s - loss: 1.3463 - acc: 0.3356"
     ]
    },
    {
     "name": "stderr",
     "output_type": "stream",
     "text": [
      "WARNING:absl:Found untraced functions such as lstm_cell_layer_call_fn, lstm_cell_layer_call_and_return_conditional_losses while saving (showing 2 of 2). These functions will not be directly callable after loading.\n"
     ]
    },
    {
     "name": "stdout",
     "output_type": "stream",
     "text": [
      "INFO:tensorflow:Assets written to: C:\\Users\\PC\\Desktop\\NN\\Text calssification\\version 2\\checkpoint_opt\\assets\n"
     ]
    },
    {
     "name": "stderr",
     "output_type": "stream",
     "text": [
      "INFO:tensorflow:Assets written to: C:\\Users\\PC\\Desktop\\NN\\Text calssification\\version 2\\checkpoint_opt\\assets\n",
      "WARNING:absl:<keras.layers.recurrent.LSTMCell object at 0x0000020EE1021430> has the same name 'LSTMCell' as a built-in Keras object. Consider renaming <class 'keras.layers.recurrent.LSTMCell'> to avoid naming conflicts when loading with `tf.keras.models.load_model`. If renaming is not possible, pass the object in the `custom_objects` parameter of the load function.\n"
     ]
    },
    {
     "name": "stdout",
     "output_type": "stream",
     "text": [
      "3659/3659 [==============================] - 438s 120ms/step - loss: 1.3463 - acc: 0.3356 - val_loss: 1.3435 - val_acc: 0.3438\n",
      "Epoch 5/10\n",
      "3659/3659 [==============================] - ETA: 0s - loss: 1.3394 - acc: 0.3481"
     ]
    },
    {
     "name": "stderr",
     "output_type": "stream",
     "text": [
      "WARNING:absl:Found untraced functions such as lstm_cell_layer_call_fn, lstm_cell_layer_call_and_return_conditional_losses while saving (showing 2 of 2). These functions will not be directly callable after loading.\n"
     ]
    },
    {
     "name": "stdout",
     "output_type": "stream",
     "text": [
      "INFO:tensorflow:Assets written to: C:\\Users\\PC\\Desktop\\NN\\Text calssification\\version 2\\checkpoint_opt\\assets\n"
     ]
    },
    {
     "name": "stderr",
     "output_type": "stream",
     "text": [
      "INFO:tensorflow:Assets written to: C:\\Users\\PC\\Desktop\\NN\\Text calssification\\version 2\\checkpoint_opt\\assets\n",
      "WARNING:absl:<keras.layers.recurrent.LSTMCell object at 0x0000020EE1021430> has the same name 'LSTMCell' as a built-in Keras object. Consider renaming <class 'keras.layers.recurrent.LSTMCell'> to avoid naming conflicts when loading with `tf.keras.models.load_model`. If renaming is not possible, pass the object in the `custom_objects` parameter of the load function.\n"
     ]
    },
    {
     "name": "stdout",
     "output_type": "stream",
     "text": [
      "3659/3659 [==============================] - 423s 116ms/step - loss: 1.3394 - acc: 0.3481 - val_loss: 1.3365 - val_acc: 0.3532\n",
      "Epoch 6/10\n",
      "3659/3659 [==============================] - ETA: 0s - loss: 1.3327 - acc: 0.3546"
     ]
    },
    {
     "name": "stderr",
     "output_type": "stream",
     "text": [
      "WARNING:absl:Found untraced functions such as lstm_cell_layer_call_fn, lstm_cell_layer_call_and_return_conditional_losses while saving (showing 2 of 2). These functions will not be directly callable after loading.\n"
     ]
    },
    {
     "name": "stdout",
     "output_type": "stream",
     "text": [
      "INFO:tensorflow:Assets written to: C:\\Users\\PC\\Desktop\\NN\\Text calssification\\version 2\\checkpoint_opt\\assets\n"
     ]
    },
    {
     "name": "stderr",
     "output_type": "stream",
     "text": [
      "INFO:tensorflow:Assets written to: C:\\Users\\PC\\Desktop\\NN\\Text calssification\\version 2\\checkpoint_opt\\assets\n",
      "WARNING:absl:<keras.layers.recurrent.LSTMCell object at 0x0000020EE1021430> has the same name 'LSTMCell' as a built-in Keras object. Consider renaming <class 'keras.layers.recurrent.LSTMCell'> to avoid naming conflicts when loading with `tf.keras.models.load_model`. If renaming is not possible, pass the object in the `custom_objects` parameter of the load function.\n"
     ]
    },
    {
     "name": "stdout",
     "output_type": "stream",
     "text": [
      "3659/3659 [==============================] - 427s 117ms/step - loss: 1.3327 - acc: 0.3546 - val_loss: 1.3295 - val_acc: 0.3619\n",
      "Epoch 7/10\n",
      "3659/3659 [==============================] - ETA: 0s - loss: 1.3260 - acc: 0.3617"
     ]
    },
    {
     "name": "stderr",
     "output_type": "stream",
     "text": [
      "WARNING:absl:Found untraced functions such as lstm_cell_layer_call_fn, lstm_cell_layer_call_and_return_conditional_losses while saving (showing 2 of 2). These functions will not be directly callable after loading.\n"
     ]
    },
    {
     "name": "stdout",
     "output_type": "stream",
     "text": [
      "INFO:tensorflow:Assets written to: C:\\Users\\PC\\Desktop\\NN\\Text calssification\\version 2\\checkpoint_opt\\assets\n"
     ]
    },
    {
     "name": "stderr",
     "output_type": "stream",
     "text": [
      "INFO:tensorflow:Assets written to: C:\\Users\\PC\\Desktop\\NN\\Text calssification\\version 2\\checkpoint_opt\\assets\n",
      "WARNING:absl:<keras.layers.recurrent.LSTMCell object at 0x0000020EE1021430> has the same name 'LSTMCell' as a built-in Keras object. Consider renaming <class 'keras.layers.recurrent.LSTMCell'> to avoid naming conflicts when loading with `tf.keras.models.load_model`. If renaming is not possible, pass the object in the `custom_objects` parameter of the load function.\n"
     ]
    },
    {
     "name": "stdout",
     "output_type": "stream",
     "text": [
      "3659/3659 [==============================] - 425s 116ms/step - loss: 1.3260 - acc: 0.3617 - val_loss: 1.3221 - val_acc: 0.3793\n",
      "Epoch 8/10\n",
      "3659/3659 [==============================] - ETA: 0s - loss: 1.3188 - acc: 0.3742"
     ]
    },
    {
     "name": "stderr",
     "output_type": "stream",
     "text": [
      "WARNING:absl:Found untraced functions such as lstm_cell_layer_call_fn, lstm_cell_layer_call_and_return_conditional_losses while saving (showing 2 of 2). These functions will not be directly callable after loading.\n"
     ]
    },
    {
     "name": "stdout",
     "output_type": "stream",
     "text": [
      "INFO:tensorflow:Assets written to: C:\\Users\\PC\\Desktop\\NN\\Text calssification\\version 2\\checkpoint_opt\\assets\n"
     ]
    },
    {
     "name": "stderr",
     "output_type": "stream",
     "text": [
      "INFO:tensorflow:Assets written to: C:\\Users\\PC\\Desktop\\NN\\Text calssification\\version 2\\checkpoint_opt\\assets\n",
      "WARNING:absl:<keras.layers.recurrent.LSTMCell object at 0x0000020EE1021430> has the same name 'LSTMCell' as a built-in Keras object. Consider renaming <class 'keras.layers.recurrent.LSTMCell'> to avoid naming conflicts when loading with `tf.keras.models.load_model`. If renaming is not possible, pass the object in the `custom_objects` parameter of the load function.\n"
     ]
    },
    {
     "name": "stdout",
     "output_type": "stream",
     "text": [
      "3659/3659 [==============================] - 416s 114ms/step - loss: 1.3188 - acc: 0.3742 - val_loss: 1.3142 - val_acc: 0.3950\n",
      "Epoch 9/10\n",
      "3659/3659 [==============================] - ETA: 0s - loss: 1.3115 - acc: 0.3840"
     ]
    },
    {
     "name": "stderr",
     "output_type": "stream",
     "text": [
      "WARNING:absl:Found untraced functions such as lstm_cell_layer_call_fn, lstm_cell_layer_call_and_return_conditional_losses while saving (showing 2 of 2). These functions will not be directly callable after loading.\n"
     ]
    },
    {
     "name": "stdout",
     "output_type": "stream",
     "text": [
      "INFO:tensorflow:Assets written to: C:\\Users\\PC\\Desktop\\NN\\Text calssification\\version 2\\checkpoint_opt\\assets\n"
     ]
    },
    {
     "name": "stderr",
     "output_type": "stream",
     "text": [
      "INFO:tensorflow:Assets written to: C:\\Users\\PC\\Desktop\\NN\\Text calssification\\version 2\\checkpoint_opt\\assets\n",
      "WARNING:absl:<keras.layers.recurrent.LSTMCell object at 0x0000020EE1021430> has the same name 'LSTMCell' as a built-in Keras object. Consider renaming <class 'keras.layers.recurrent.LSTMCell'> to avoid naming conflicts when loading with `tf.keras.models.load_model`. If renaming is not possible, pass the object in the `custom_objects` parameter of the load function.\n"
     ]
    },
    {
     "name": "stdout",
     "output_type": "stream",
     "text": [
      "3659/3659 [==============================] - 416s 114ms/step - loss: 1.3115 - acc: 0.3840 - val_loss: 1.3058 - val_acc: 0.4067\n",
      "Epoch 10/10\n",
      "3659/3659 [==============================] - ETA: 0s - loss: 1.3038 - acc: 0.3972"
     ]
    },
    {
     "name": "stderr",
     "output_type": "stream",
     "text": [
      "WARNING:absl:Found untraced functions such as lstm_cell_layer_call_fn, lstm_cell_layer_call_and_return_conditional_losses while saving (showing 2 of 2). These functions will not be directly callable after loading.\n"
     ]
    },
    {
     "name": "stdout",
     "output_type": "stream",
     "text": [
      "INFO:tensorflow:Assets written to: C:\\Users\\PC\\Desktop\\NN\\Text calssification\\version 2\\checkpoint_opt\\assets\n"
     ]
    },
    {
     "name": "stderr",
     "output_type": "stream",
     "text": [
      "INFO:tensorflow:Assets written to: C:\\Users\\PC\\Desktop\\NN\\Text calssification\\version 2\\checkpoint_opt\\assets\n",
      "WARNING:absl:<keras.layers.recurrent.LSTMCell object at 0x0000020EE1021430> has the same name 'LSTMCell' as a built-in Keras object. Consider renaming <class 'keras.layers.recurrent.LSTMCell'> to avoid naming conflicts when loading with `tf.keras.models.load_model`. If renaming is not possible, pass the object in the `custom_objects` parameter of the load function.\n"
     ]
    },
    {
     "name": "stdout",
     "output_type": "stream",
     "text": [
      "\b\b\b\b\b\b\b\b\b\b\b\b\b\b\b\b\b\b\b\b\b\b\b\b\b\b\b\b\b\b\b\b\b\b\b\b\b\b\b\b\b\b\b\b\b\b\b\b\b\b\b\b\b\b\b\b\b\b\b\b\b\b\b\b\b\b\b\b\b\b\b\b\b\b\b\b\b\b\b\b\b\r",
      "3659/3659 [==============================] - 421s 115ms/step - loss: 1.3038 - acc: 0.3972 - val_loss: 1.2968 - val_acc: 0.4156\n"
     ]
    }
   ],
   "source": [
    "lstm_history_opt_model = lstm_opt_model.fit(train_dataset, \n",
    "          validation_data = val_dataset,\n",
    "          epochs = 10,\n",
    "          callbacks=[checkpointer_opt, early_stopping_opt])"
   ]
  },
  {
   "cell_type": "code",
   "execution_count": 67,
   "metadata": {},
   "outputs": [],
   "source": []
  },
  {
   "cell_type": "code",
   "execution_count": 157,
   "metadata": {},
   "outputs": [
    {
     "data": {
      "image/png": "[encoded data removed]",
      "text/plain": [
       "<Figure size 576x396 with 1 Axes>"
      ]
     },
     "metadata": {},
     "output_type": "display_data"
    }
   ],
   "source": [
    "plot_loss_accuracy(lstm_history_opt_model, 'LSTM_Optimized')"
   ]
  },
  {
   "cell_type": "code",
   "execution_count": 158,
   "metadata": {},
   "outputs": [
    {
     "name": "stdout",
     "output_type": "stream",
     "text": [
      "407/407 [==============================] - 17s 41ms/step - loss: 1.2968 - acc: 0.4156\n"
     ]
    }
   ],
   "source": [
    "_,val_acc = lstm_opt_model.evaluate(val_dataset)"
   ]
  },
  {
   "cell_type": "code",
   "execution_count": 160,
   "metadata": {},
   "outputs": [],
   "source": [
    "hist_2 = pd.DataFrame(lstm_history_opt_model.history)\n",
    "hist_2['epoch'] = lstm_history_opt_model.epoch"
   ]
  },
  {
   "cell_type": "code",
   "execution_count": 161,
   "metadata": {},
   "outputs": [
    {
     "data": {
      "text/html": [
       "<div>\n",
       "<style scoped>\n",
       "    .dataframe tbody tr th:only-of-type {\n",
       "        vertical-align: middle;\n",
       "    }\n",
       "\n",
       "    .dataframe tbody tr th {\n",
       "        vertical-align: top;\n",
       "    }\n",
       "\n",
       "    .dataframe thead th {\n",
       "        text-align: right;\n",
       "    }\n",
       "</style>\n",
       "<table border=\"1\" class=\"dataframe\">\n",
       "  <thead>\n",
       "    <tr style=\"text-align: right;\">\n",
       "      <th></th>\n",
       "      <th>loss</th>\n",
       "      <th>acc</th>\n",
       "      <th>val_loss</th>\n",
       "      <th>val_acc</th>\n",
       "      <th>epoch</th>\n",
       "    </tr>\n",
       "  </thead>\n",
       "  <tbody>\n",
       "    <tr>\n",
       "      <th>0</th>\n",
       "      <td>1.382796</td>\n",
       "      <td>0.272376</td>\n",
       "      <td>1.368215</td>\n",
       "      <td>0.294742</td>\n",
       "      <td>0</td>\n",
       "    </tr>\n",
       "    <tr>\n",
       "      <th>1</th>\n",
       "      <td>1.361954</td>\n",
       "      <td>0.295846</td>\n",
       "      <td>1.357780</td>\n",
       "      <td>0.306273</td>\n",
       "      <td>1</td>\n",
       "    </tr>\n",
       "    <tr>\n",
       "      <th>2</th>\n",
       "      <td>1.353200</td>\n",
       "      <td>0.315916</td>\n",
       "      <td>1.350612</td>\n",
       "      <td>0.331488</td>\n",
       "      <td>2</td>\n",
       "    </tr>\n",
       "    <tr>\n",
       "      <th>3</th>\n",
       "      <td>1.346282</td>\n",
       "      <td>0.335560</td>\n",
       "      <td>1.343549</td>\n",
       "      <td>0.343788</td>\n",
       "      <td>3</td>\n",
       "    </tr>\n",
       "    <tr>\n",
       "      <th>4</th>\n",
       "      <td>1.339414</td>\n",
       "      <td>0.348080</td>\n",
       "      <td>1.336522</td>\n",
       "      <td>0.353167</td>\n",
       "      <td>4</td>\n",
       "    </tr>\n",
       "    <tr>\n",
       "      <th>5</th>\n",
       "      <td>1.332666</td>\n",
       "      <td>0.354605</td>\n",
       "      <td>1.329454</td>\n",
       "      <td>0.361931</td>\n",
       "      <td>5</td>\n",
       "    </tr>\n",
       "    <tr>\n",
       "      <th>6</th>\n",
       "      <td>1.326007</td>\n",
       "      <td>0.361677</td>\n",
       "      <td>1.322074</td>\n",
       "      <td>0.379305</td>\n",
       "      <td>6</td>\n",
       "    </tr>\n",
       "    <tr>\n",
       "      <th>7</th>\n",
       "      <td>1.318779</td>\n",
       "      <td>0.374214</td>\n",
       "      <td>1.314193</td>\n",
       "      <td>0.394988</td>\n",
       "      <td>7</td>\n",
       "    </tr>\n",
       "    <tr>\n",
       "      <th>8</th>\n",
       "      <td>1.311515</td>\n",
       "      <td>0.384002</td>\n",
       "      <td>1.305840</td>\n",
       "      <td>0.406673</td>\n",
       "      <td>8</td>\n",
       "    </tr>\n",
       "    <tr>\n",
       "      <th>9</th>\n",
       "      <td>1.303776</td>\n",
       "      <td>0.397171</td>\n",
       "      <td>1.296843</td>\n",
       "      <td>0.415590</td>\n",
       "      <td>9</td>\n",
       "    </tr>\n",
       "  </tbody>\n",
       "</table>\n",
       "</div>"
      ],
      "text/plain": [
       "       loss       acc  val_loss   val_acc  epoch\n",
       "0  1.382796  0.272376  1.368215  0.294742      0\n",
       "1  1.361954  0.295846  1.357780  0.306273      1\n",
       "2  1.353200  0.315916  1.350612  0.331488      2\n",
       "3  1.346282  0.335560  1.343549  0.343788      3\n",
       "4  1.339414  0.348080  1.336522  0.353167      4\n",
       "5  1.332666  0.354605  1.329454  0.361931      5\n",
       "6  1.326007  0.361677  1.322074  0.379305      6\n",
       "7  1.318779  0.374214  1.314193  0.394988      7\n",
       "8  1.311515  0.384002  1.305840  0.406673      8\n",
       "9  1.303776  0.397171  1.296843  0.415590      9"
      ]
     },
     "execution_count": 161,
     "metadata": {},
     "output_type": "execute_result"
    }
   ],
   "source": [
    "hist_2"
   ]
  },
  {
   "cell_type": "code",
   "execution_count": null,
   "metadata": {},
   "outputs": [],
   "source": []
  },
  {
   "cell_type": "markdown",
   "metadata": {},
   "source": [
    "## Bidirectional LSTM"
   ]
  },
  {
   "cell_type": "code",
   "execution_count": 168,
   "metadata": {},
   "outputs": [],
   "source": [
    "tf.keras.backend.clear_session()"
   ]
  },
  {
   "cell_type": "code",
   "execution_count": 169,
   "metadata": {},
   "outputs": [],
   "source": [
    "model_name = \"bi-directional model\"\n",
    "checkpointer_bi = ModelCheckpoint(filepath =check_point_cnn,\n",
    "                               save_best_only=False, save_weights_only = False, verbose=0,mode='min')\n",
    "early_stopping_bi = EarlyStopping(monitor='val_loss', min_delta=0, patience=10, verbose=0, mode='auto')"
   ]
  },
  {
   "cell_type": "code",
   "execution_count": 170,
   "metadata": {},
   "outputs": [],
   "source": [
    "lstm_bi_model = Sequential([\n",
    "  vectorize_layer,\n",
    "  Embedding(input_dim = vectorize_layer.vocabulary_size()+2, output_dim = EMBEDDING_DIMENSIONS,weights=[embedding_matrix],input_length=MAX_OUTPUT_LENGTH,trainable=False),\n",
    "  Bidirectional(LSTM(128)),\n",
    "  \n",
    "  Dense(N_CLASSES, activation = softmax)\n",
    "  ])\n",
    "\n",
    "\n",
    "lstm_bi_model.compile(\n",
    "    loss='sparse_categorical_crossentropy',\n",
    "    optimizer = Adam(learning_rate = LEARNING_RATE),\n",
    "    metrics = [\"acc\"]\n",
    "    )"
   ]
  },
  {
   "cell_type": "code",
   "execution_count": 171,
   "metadata": {},
   "outputs": [
    {
     "name": "stdout",
     "output_type": "stream",
     "text": [
      "Model: \"sequential\"\n",
      "_________________________________________________________________\n",
      " Layer (type)                Output Shape              Param #   \n",
      "=================================================================\n",
      " text_vectorization (TextVec  (None, 300)              0         \n",
      " torization)                                                     \n",
      "                                                                 \n",
      " embedding (Embedding)       (None, 300, 100)          1000200   \n",
      "                                                                 \n",
      " bidirectional (Bidirectiona  (None, 256)              234496    \n",
      " l)                                                              \n",
      "                                                                 \n",
      " dense (Dense)               (None, 4)                 1028      \n",
      "                                                                 \n",
      "=================================================================\n",
      "Total params: 1,235,724\n",
      "Trainable params: 235,524\n",
      "Non-trainable params: 1,000,200\n",
      "_________________________________________________________________\n"
     ]
    }
   ],
   "source": [
    "lstm_bi_model.summary()"
   ]
  },
  {
   "cell_type": "code",
   "execution_count": 72,
   "metadata": {},
   "outputs": [],
   "source": []
  },
  {
   "cell_type": "code",
   "execution_count": 172,
   "metadata": {
    "scrolled": true
   },
   "outputs": [
    {
     "name": "stdout",
     "output_type": "stream",
     "text": [
      "Epoch 1/5\n",
      "3659/3659 [==============================] - ETA: 0s - loss: 1.3731 - acc: 0.2923"
     ]
    },
    {
     "name": "stderr",
     "output_type": "stream",
     "text": [
      "WARNING:absl:Found untraced functions such as lstm_cell_1_layer_call_fn, lstm_cell_1_layer_call_and_return_conditional_losses, lstm_cell_2_layer_call_fn, lstm_cell_2_layer_call_and_return_conditional_losses while saving (showing 4 of 4). These functions will not be directly callable after loading.\n"
     ]
    },
    {
     "name": "stdout",
     "output_type": "stream",
     "text": [
      "INFO:tensorflow:Assets written to: C:\\Users\\PC\\Desktop\\NN\\Text calssification\\version 2\\checkpoint_cnn\\assets\n"
     ]
    },
    {
     "name": "stderr",
     "output_type": "stream",
     "text": [
      "INFO:tensorflow:Assets written to: C:\\Users\\PC\\Desktop\\NN\\Text calssification\\version 2\\checkpoint_cnn\\assets\n",
      "WARNING:absl:<keras.layers.recurrent.LSTMCell object at 0x0000020E84FA6AC0> has the same name 'LSTMCell' as a built-in Keras object. Consider renaming <class 'keras.layers.recurrent.LSTMCell'> to avoid naming conflicts when loading with `tf.keras.models.load_model`. If renaming is not possible, pass the object in the `custom_objects` parameter of the load function.\n",
      "WARNING:absl:<keras.layers.recurrent.LSTMCell object at 0x0000020E84FA6880> has the same name 'LSTMCell' as a built-in Keras object. Consider renaming <class 'keras.layers.recurrent.LSTMCell'> to avoid naming conflicts when loading with `tf.keras.models.load_model`. If renaming is not possible, pass the object in the `custom_objects` parameter of the load function.\n"
     ]
    },
    {
     "name": "stdout",
     "output_type": "stream",
     "text": [
      "3659/3659 [==============================] - 1064s 289ms/step - loss: 1.3731 - acc: 0.2923 - val_loss: 1.3576 - val_acc: 0.3160\n",
      "Epoch 2/5\n",
      "3659/3659 [==============================] - ETA: 0s - loss: 1.3437 - acc: 0.3231"
     ]
    },
    {
     "name": "stderr",
     "output_type": "stream",
     "text": [
      "WARNING:absl:Found untraced functions such as lstm_cell_1_layer_call_fn, lstm_cell_1_layer_call_and_return_conditional_losses, lstm_cell_2_layer_call_fn, lstm_cell_2_layer_call_and_return_conditional_losses while saving (showing 4 of 4). These functions will not be directly callable after loading.\n"
     ]
    },
    {
     "name": "stdout",
     "output_type": "stream",
     "text": [
      "INFO:tensorflow:Assets written to: C:\\Users\\PC\\Desktop\\NN\\Text calssification\\version 2\\checkpoint_cnn\\assets\n"
     ]
    },
    {
     "name": "stderr",
     "output_type": "stream",
     "text": [
      "INFO:tensorflow:Assets written to: C:\\Users\\PC\\Desktop\\NN\\Text calssification\\version 2\\checkpoint_cnn\\assets\n",
      "WARNING:absl:<keras.layers.recurrent.LSTMCell object at 0x0000020E84FA6AC0> has the same name 'LSTMCell' as a built-in Keras object. Consider renaming <class 'keras.layers.recurrent.LSTMCell'> to avoid naming conflicts when loading with `tf.keras.models.load_model`. If renaming is not possible, pass the object in the `custom_objects` parameter of the load function.\n",
      "WARNING:absl:<keras.layers.recurrent.LSTMCell object at 0x0000020E84FA6880> has the same name 'LSTMCell' as a built-in Keras object. Consider renaming <class 'keras.layers.recurrent.LSTMCell'> to avoid naming conflicts when loading with `tf.keras.models.load_model`. If renaming is not possible, pass the object in the `custom_objects` parameter of the load function.\n"
     ]
    },
    {
     "name": "stdout",
     "output_type": "stream",
     "text": [
      "3659/3659 [==============================] - 1087s 297ms/step - loss: 1.3437 - acc: 0.3231 - val_loss: 1.3383 - val_acc: 0.3309\n",
      "Epoch 3/5\n",
      "3659/3659 [==============================] - ETA: 0s - loss: 1.3260 - acc: 0.3408"
     ]
    },
    {
     "name": "stderr",
     "output_type": "stream",
     "text": [
      "WARNING:absl:Found untraced functions such as lstm_cell_1_layer_call_fn, lstm_cell_1_layer_call_and_return_conditional_losses, lstm_cell_2_layer_call_fn, lstm_cell_2_layer_call_and_return_conditional_losses while saving (showing 4 of 4). These functions will not be directly callable after loading.\n"
     ]
    },
    {
     "name": "stdout",
     "output_type": "stream",
     "text": [
      "INFO:tensorflow:Assets written to: C:\\Users\\PC\\Desktop\\NN\\Text calssification\\version 2\\checkpoint_cnn\\assets\n"
     ]
    },
    {
     "name": "stderr",
     "output_type": "stream",
     "text": [
      "INFO:tensorflow:Assets written to: C:\\Users\\PC\\Desktop\\NN\\Text calssification\\version 2\\checkpoint_cnn\\assets\n",
      "WARNING:absl:<keras.layers.recurrent.LSTMCell object at 0x0000020E84FA6AC0> has the same name 'LSTMCell' as a built-in Keras object. Consider renaming <class 'keras.layers.recurrent.LSTMCell'> to avoid naming conflicts when loading with `tf.keras.models.load_model`. If renaming is not possible, pass the object in the `custom_objects` parameter of the load function.\n",
      "WARNING:absl:<keras.layers.recurrent.LSTMCell object at 0x0000020E84FA6880> has the same name 'LSTMCell' as a built-in Keras object. Consider renaming <class 'keras.layers.recurrent.LSTMCell'> to avoid naming conflicts when loading with `tf.keras.models.load_model`. If renaming is not possible, pass the object in the `custom_objects` parameter of the load function.\n"
     ]
    },
    {
     "name": "stdout",
     "output_type": "stream",
     "text": [
      "3659/3659 [==============================] - 1221s 334ms/step - loss: 1.3260 - acc: 0.3408 - val_loss: 1.3241 - val_acc: 0.3452\n",
      "Epoch 4/5\n",
      "3659/3659 [==============================] - ETA: 0s - loss: 1.3119 - acc: 0.3573"
     ]
    },
    {
     "name": "stderr",
     "output_type": "stream",
     "text": [
      "WARNING:absl:Found untraced functions such as lstm_cell_1_layer_call_fn, lstm_cell_1_layer_call_and_return_conditional_losses, lstm_cell_2_layer_call_fn, lstm_cell_2_layer_call_and_return_conditional_losses while saving (showing 4 of 4). These functions will not be directly callable after loading.\n"
     ]
    },
    {
     "name": "stdout",
     "output_type": "stream",
     "text": [
      "INFO:tensorflow:Assets written to: C:\\Users\\PC\\Desktop\\NN\\Text calssification\\version 2\\checkpoint_cnn\\assets\n"
     ]
    },
    {
     "name": "stderr",
     "output_type": "stream",
     "text": [
      "INFO:tensorflow:Assets written to: C:\\Users\\PC\\Desktop\\NN\\Text calssification\\version 2\\checkpoint_cnn\\assets\n",
      "WARNING:absl:<keras.layers.recurrent.LSTMCell object at 0x0000020E84FA6AC0> has the same name 'LSTMCell' as a built-in Keras object. Consider renaming <class 'keras.layers.recurrent.LSTMCell'> to avoid naming conflicts when loading with `tf.keras.models.load_model`. If renaming is not possible, pass the object in the `custom_objects` parameter of the load function.\n",
      "WARNING:absl:<keras.layers.recurrent.LSTMCell object at 0x0000020E84FA6880> has the same name 'LSTMCell' as a built-in Keras object. Consider renaming <class 'keras.layers.recurrent.LSTMCell'> to avoid naming conflicts when loading with `tf.keras.models.load_model`. If renaming is not possible, pass the object in the `custom_objects` parameter of the load function.\n"
     ]
    },
    {
     "name": "stdout",
     "output_type": "stream",
     "text": [
      "3659/3659 [==============================] - 1312s 359ms/step - loss: 1.3119 - acc: 0.3573 - val_loss: 1.3101 - val_acc: 0.3687\n",
      "Epoch 5/5\n",
      "3659/3659 [==============================] - ETA: 0s - loss: 1.2861 - acc: 0.3915"
     ]
    },
    {
     "name": "stderr",
     "output_type": "stream",
     "text": [
      "WARNING:absl:Found untraced functions such as lstm_cell_1_layer_call_fn, lstm_cell_1_layer_call_and_return_conditional_losses, lstm_cell_2_layer_call_fn, lstm_cell_2_layer_call_and_return_conditional_losses while saving (showing 4 of 4). These functions will not be directly callable after loading.\n"
     ]
    },
    {
     "name": "stdout",
     "output_type": "stream",
     "text": [
      "INFO:tensorflow:Assets written to: C:\\Users\\PC\\Desktop\\NN\\Text calssification\\version 2\\checkpoint_cnn\\assets\n"
     ]
    },
    {
     "name": "stderr",
     "output_type": "stream",
     "text": [
      "INFO:tensorflow:Assets written to: C:\\Users\\PC\\Desktop\\NN\\Text calssification\\version 2\\checkpoint_cnn\\assets\n",
      "WARNING:absl:<keras.layers.recurrent.LSTMCell object at 0x0000020E84FA6AC0> has the same name 'LSTMCell' as a built-in Keras object. Consider renaming <class 'keras.layers.recurrent.LSTMCell'> to avoid naming conflicts when loading with `tf.keras.models.load_model`. If renaming is not possible, pass the object in the `custom_objects` parameter of the load function.\n",
      "WARNING:absl:<keras.layers.recurrent.LSTMCell object at 0x0000020E84FA6880> has the same name 'LSTMCell' as a built-in Keras object. Consider renaming <class 'keras.layers.recurrent.LSTMCell'> to avoid naming conflicts when loading with `tf.keras.models.load_model`. If renaming is not possible, pass the object in the `custom_objects` parameter of the load function.\n"
     ]
    },
    {
     "name": "stdout",
     "output_type": "stream",
     "text": [
      "\b\b\b\b\b\b\b\b\b\b\b\b\b\b\b\b\b\b\b\b\b\b\b\b\b\b\b\b\b\b\b\b\b\b\b\b\b\b\b\b\b\b\b\b\b\b\b\b\b\b\b\b\b\b\b\b\b\b\b\b\b\b\b\b\b\b\b\b\b\b\b\b\b\b\b\b\b\b\b\b\b\r",
      "3659/3659 [==============================] - 1499s 410ms/step - loss: 1.2861 - acc: 0.3915 - val_loss: 1.2758 - val_acc: 0.4062\n"
     ]
    }
   ],
   "source": [
    "lstm_history_bi_model = lstm_bi_model.fit(train_dataset, \n",
    "          validation_data = val_dataset,\n",
    "          epochs = 5,\n",
    "          callbacks=[checkpointer_bi, early_stopping_bi])"
   ]
  },
  {
   "cell_type": "code",
   "execution_count": 173,
   "metadata": {},
   "outputs": [
    {
     "data": {
      "image/png": "[encoded data removed]",
      "text/plain": [
       "<Figure size 576x396 with 1 Axes>"
      ]
     },
     "metadata": {},
     "output_type": "display_data"
    }
   ],
   "source": [
    "plot_loss_accuracy(lstm_history_bi_model, 'LSTM_Bi - directional')"
   ]
  },
  {
   "cell_type": "code",
   "execution_count": 197,
   "metadata": {},
   "outputs": [
    {
     "name": "stdout",
     "output_type": "stream",
     "text": [
      "407/407 [==============================] - 110s 269ms/step - loss: 1.2758 - acc: 0.4062\n"
     ]
    }
   ],
   "source": [
    "_,val_acc = lstm_bi_model.evaluate(val_dataset)"
   ]
  },
  {
   "cell_type": "markdown",
   "metadata": {},
   "source": []
  },
  {
   "cell_type": "code",
   "execution_count": 174,
   "metadata": {},
   "outputs": [],
   "source": [
    "hist_3 = pd.DataFrame(lstm_history_bi_model.history)\n",
    "hist_3['epoch'] = lstm_history_bi_model.epoch"
   ]
  },
  {
   "cell_type": "code",
   "execution_count": 175,
   "metadata": {},
   "outputs": [
    {
     "data": {
      "text/html": [
       "<div>\n",
       "<style scoped>\n",
       "    .dataframe tbody tr th:only-of-type {\n",
       "        vertical-align: middle;\n",
       "    }\n",
       "\n",
       "    .dataframe tbody tr th {\n",
       "        vertical-align: top;\n",
       "    }\n",
       "\n",
       "    .dataframe thead th {\n",
       "        text-align: right;\n",
       "    }\n",
       "</style>\n",
       "<table border=\"1\" class=\"dataframe\">\n",
       "  <thead>\n",
       "    <tr style=\"text-align: right;\">\n",
       "      <th></th>\n",
       "      <th>loss</th>\n",
       "      <th>acc</th>\n",
       "      <th>val_loss</th>\n",
       "      <th>val_acc</th>\n",
       "      <th>epoch</th>\n",
       "    </tr>\n",
       "  </thead>\n",
       "  <tbody>\n",
       "    <tr>\n",
       "      <th>0</th>\n",
       "      <td>1.373083</td>\n",
       "      <td>0.292344</td>\n",
       "      <td>1.357639</td>\n",
       "      <td>0.315959</td>\n",
       "      <td>0</td>\n",
       "    </tr>\n",
       "    <tr>\n",
       "      <th>1</th>\n",
       "      <td>1.343723</td>\n",
       "      <td>0.323073</td>\n",
       "      <td>1.338346</td>\n",
       "      <td>0.330873</td>\n",
       "      <td>1</td>\n",
       "    </tr>\n",
       "    <tr>\n",
       "      <th>2</th>\n",
       "      <td>1.325992</td>\n",
       "      <td>0.340821</td>\n",
       "      <td>1.324068</td>\n",
       "      <td>0.345172</td>\n",
       "      <td>2</td>\n",
       "    </tr>\n",
       "    <tr>\n",
       "      <th>3</th>\n",
       "      <td>1.311932</td>\n",
       "      <td>0.357270</td>\n",
       "      <td>1.310093</td>\n",
       "      <td>0.368696</td>\n",
       "      <td>3</td>\n",
       "    </tr>\n",
       "    <tr>\n",
       "      <th>4</th>\n",
       "      <td>1.286054</td>\n",
       "      <td>0.391466</td>\n",
       "      <td>1.275828</td>\n",
       "      <td>0.406212</td>\n",
       "      <td>4</td>\n",
       "    </tr>\n",
       "  </tbody>\n",
       "</table>\n",
       "</div>"
      ],
      "text/plain": [
       "       loss       acc  val_loss   val_acc  epoch\n",
       "0  1.373083  0.292344  1.357639  0.315959      0\n",
       "1  1.343723  0.323073  1.338346  0.330873      1\n",
       "2  1.325992  0.340821  1.324068  0.345172      2\n",
       "3  1.311932  0.357270  1.310093  0.368696      3\n",
       "4  1.286054  0.391466  1.275828  0.406212      4"
      ]
     },
     "execution_count": 175,
     "metadata": {},
     "output_type": "execute_result"
    }
   ],
   "source": [
    "hist_3"
   ]
  },
  {
   "cell_type": "markdown",
   "metadata": {},
   "source": [
    "## CNN model"
   ]
  },
  {
   "cell_type": "code",
   "execution_count": 192,
   "metadata": {},
   "outputs": [],
   "source": [
    "tf.keras.backend.clear_session()"
   ]
  },
  {
   "cell_type": "code",
   "execution_count": 177,
   "metadata": {},
   "outputs": [],
   "source": [
    "\n",
    "checkpointer_cnn = ModelCheckpoint(filepath =check_point_cnn,\n",
    "                               save_best_only=False, save_weights_only = False, verbose=0,mode='min')\n",
    "early_stopping_cnn = EarlyStopping(monitor='val_loss', min_delta=0, patience=10, verbose=0, mode='auto')"
   ]
  },
  {
   "cell_type": "code",
   "execution_count": 178,
   "metadata": {},
   "outputs": [],
   "source": [
    "cnn_model = Sequential([\n",
    "  vectorize_layer,\n",
    "  Embedding(input_dim = vectorize_layer.vocabulary_size()+2, output_dim = EMBEDDING_DIMENSIONS,weights=[embedding_matrix],input_length=MAX_OUTPUT_LENGTH,trainable=False),\n",
    "  Conv1D(128,3, padding = 'same', activation= 'relu'),\n",
    "  MaxPool1D(),\n",
    " \n",
    "  \n",
    "  Conv1D(128,5, padding = 'same', activation= 'relu'),\n",
    "  MaxPool1D(),\n",
    "  \n",
    "  \n",
    "  Conv1D(128,5, padding = 'same', activation= 'relu'),\n",
    "  MaxPool1D(),\n",
    "  \n",
    "  \n",
    "  Flatten(),\n",
    "  Dense(128, activation = 'relu'),\n",
    "  Dense(N_CLASSES, activation = softmax)\n",
    "  ])\n",
    "\n",
    "cnn_model.compile(\n",
    "    loss='sparse_categorical_crossentropy',\n",
    "    optimizer = Adam(learning_rate = LEARNING_RATE),\n",
    "    metrics = [\"acc\"]\n",
    "    )"
   ]
  },
  {
   "cell_type": "code",
   "execution_count": 179,
   "metadata": {},
   "outputs": [
    {
     "name": "stdout",
     "output_type": "stream",
     "text": [
      "Model: \"sequential\"\n",
      "_________________________________________________________________\n",
      " Layer (type)                Output Shape              Param #   \n",
      "=================================================================\n",
      " text_vectorization (TextVec  (None, 300)              0         \n",
      " torization)                                                     \n",
      "                                                                 \n",
      " embedding (Embedding)       (None, 300, 100)          1000200   \n",
      "                                                                 \n",
      " conv1d (Conv1D)             (None, 300, 128)          38528     \n",
      "                                                                 \n",
      " max_pooling1d (MaxPooling1D  (None, 150, 128)         0         \n",
      " )                                                               \n",
      "                                                                 \n",
      " conv1d_1 (Conv1D)           (None, 150, 128)          82048     \n",
      "                                                                 \n",
      " max_pooling1d_1 (MaxPooling  (None, 75, 128)          0         \n",
      " 1D)                                                             \n",
      "                                                                 \n",
      " conv1d_2 (Conv1D)           (None, 75, 128)           82048     \n",
      "                                                                 \n",
      " max_pooling1d_2 (MaxPooling  (None, 37, 128)          0         \n",
      " 1D)                                                             \n",
      "                                                                 \n",
      " flatten (Flatten)           (None, 4736)              0         \n",
      "                                                                 \n",
      " dense (Dense)               (None, 128)               606336    \n",
      "                                                                 \n",
      " dense_1 (Dense)             (None, 4)                 516       \n",
      "                                                                 \n",
      "=================================================================\n",
      "Total params: 1,809,676\n",
      "Trainable params: 809,476\n",
      "Non-trainable params: 1,000,200\n",
      "_________________________________________________________________\n"
     ]
    }
   ],
   "source": [
    "cnn_model.summary()"
   ]
  },
  {
   "cell_type": "code",
   "execution_count": 180,
   "metadata": {},
   "outputs": [
    {
     "name": "stdout",
     "output_type": "stream",
     "text": [
      "Epoch 1/60\n",
      "3659/3659 [==============================] - ETA: 0s - loss: 1.2975 - acc: 0.3645"
     ]
    },
    {
     "name": "stderr",
     "output_type": "stream",
     "text": [
      "WARNING:absl:Found untraced functions such as _jit_compiled_convolution_op, _jit_compiled_convolution_op, _jit_compiled_convolution_op while saving (showing 3 of 3). These functions will not be directly callable after loading.\n"
     ]
    },
    {
     "name": "stdout",
     "output_type": "stream",
     "text": [
      "INFO:tensorflow:Assets written to: C:\\Users\\PC\\Desktop\\NN\\Text calssification\\version 2\\checkpoint_cnn\\assets\n"
     ]
    },
    {
     "name": "stderr",
     "output_type": "stream",
     "text": [
      "INFO:tensorflow:Assets written to: C:\\Users\\PC\\Desktop\\NN\\Text calssification\\version 2\\checkpoint_cnn\\assets\n"
     ]
    },
    {
     "name": "stdout",
     "output_type": "stream",
     "text": [
      "3659/3659 [==============================] - 214s 58ms/step - loss: 1.2975 - acc: 0.3645 - val_loss: 1.2789 - val_acc: 0.3921\n",
      "Epoch 2/60\n",
      "3658/3659 [============================>.] - ETA: 0s - loss: 1.2581 - acc: 0.4146"
     ]
    },
    {
     "name": "stderr",
     "output_type": "stream",
     "text": [
      "WARNING:absl:Found untraced functions such as _jit_compiled_convolution_op, _jit_compiled_convolution_op, _jit_compiled_convolution_op while saving (showing 3 of 3). These functions will not be directly callable after loading.\n"
     ]
    },
    {
     "name": "stdout",
     "output_type": "stream",
     "text": [
      "INFO:tensorflow:Assets written to: C:\\Users\\PC\\Desktop\\NN\\Text calssification\\version 2\\checkpoint_cnn\\assets\n"
     ]
    },
    {
     "name": "stderr",
     "output_type": "stream",
     "text": [
      "INFO:tensorflow:Assets written to: C:\\Users\\PC\\Desktop\\NN\\Text calssification\\version 2\\checkpoint_cnn\\assets\n"
     ]
    },
    {
     "name": "stdout",
     "output_type": "stream",
     "text": [
      "3659/3659 [==============================] - 215s 59ms/step - loss: 1.2581 - acc: 0.4146 - val_loss: 1.2547 - val_acc: 0.4227\n",
      "Epoch 3/60\n",
      "3658/3659 [============================>.] - ETA: 0s - loss: 1.2311 - acc: 0.4462"
     ]
    },
    {
     "name": "stderr",
     "output_type": "stream",
     "text": [
      "WARNING:absl:Found untraced functions such as _jit_compiled_convolution_op, _jit_compiled_convolution_op, _jit_compiled_convolution_op while saving (showing 3 of 3). These functions will not be directly callable after loading.\n"
     ]
    },
    {
     "name": "stdout",
     "output_type": "stream",
     "text": [
      "INFO:tensorflow:Assets written to: C:\\Users\\PC\\Desktop\\NN\\Text calssification\\version 2\\checkpoint_cnn\\assets\n"
     ]
    },
    {
     "name": "stderr",
     "output_type": "stream",
     "text": [
      "INFO:tensorflow:Assets written to: C:\\Users\\PC\\Desktop\\NN\\Text calssification\\version 2\\checkpoint_cnn\\assets\n"
     ]
    },
    {
     "name": "stdout",
     "output_type": "stream",
     "text": [
      "3659/3659 [==============================] - 194s 53ms/step - loss: 1.2310 - acc: 0.4462 - val_loss: 1.2209 - val_acc: 0.4582\n",
      "Epoch 4/60\n",
      "3659/3659 [==============================] - ETA: 0s - loss: 1.1979 - acc: 0.4730"
     ]
    },
    {
     "name": "stderr",
     "output_type": "stream",
     "text": [
      "WARNING:absl:Found untraced functions such as _jit_compiled_convolution_op, _jit_compiled_convolution_op, _jit_compiled_convolution_op while saving (showing 3 of 3). These functions will not be directly callable after loading.\n"
     ]
    },
    {
     "name": "stdout",
     "output_type": "stream",
     "text": [
      "INFO:tensorflow:Assets written to: C:\\Users\\PC\\Desktop\\NN\\Text calssification\\version 2\\checkpoint_cnn\\assets\n"
     ]
    },
    {
     "name": "stderr",
     "output_type": "stream",
     "text": [
      "INFO:tensorflow:Assets written to: C:\\Users\\PC\\Desktop\\NN\\Text calssification\\version 2\\checkpoint_cnn\\assets\n"
     ]
    },
    {
     "name": "stdout",
     "output_type": "stream",
     "text": [
      "3659/3659 [==============================] - 194s 53ms/step - loss: 1.1979 - acc: 0.4730 - val_loss: 1.1866 - val_acc: 0.4811\n",
      "Epoch 5/60\n",
      "3658/3659 [============================>.] - ETA: 0s - loss: 1.1686 - acc: 0.4865"
     ]
    },
    {
     "name": "stderr",
     "output_type": "stream",
     "text": [
      "WARNING:absl:Found untraced functions such as _jit_compiled_convolution_op, _jit_compiled_convolution_op, _jit_compiled_convolution_op while saving (showing 3 of 3). These functions will not be directly callable after loading.\n"
     ]
    },
    {
     "name": "stdout",
     "output_type": "stream",
     "text": [
      "INFO:tensorflow:Assets written to: C:\\Users\\PC\\Desktop\\NN\\Text calssification\\version 2\\checkpoint_cnn\\assets\n"
     ]
    },
    {
     "name": "stderr",
     "output_type": "stream",
     "text": [
      "INFO:tensorflow:Assets written to: C:\\Users\\PC\\Desktop\\NN\\Text calssification\\version 2\\checkpoint_cnn\\assets\n"
     ]
    },
    {
     "name": "stdout",
     "output_type": "stream",
     "text": [
      "3659/3659 [==============================] - 190s 52ms/step - loss: 1.1685 - acc: 0.4865 - val_loss: 1.1593 - val_acc: 0.4985\n",
      "Epoch 6/60\n",
      "3659/3659 [==============================] - ETA: 0s - loss: 1.1464 - acc: 0.4962"
     ]
    },
    {
     "name": "stderr",
     "output_type": "stream",
     "text": [
      "WARNING:absl:Found untraced functions such as _jit_compiled_convolution_op, _jit_compiled_convolution_op, _jit_compiled_convolution_op while saving (showing 3 of 3). These functions will not be directly callable after loading.\n"
     ]
    },
    {
     "name": "stdout",
     "output_type": "stream",
     "text": [
      "INFO:tensorflow:Assets written to: C:\\Users\\PC\\Desktop\\NN\\Text calssification\\version 2\\checkpoint_cnn\\assets\n"
     ]
    },
    {
     "name": "stderr",
     "output_type": "stream",
     "text": [
      "INFO:tensorflow:Assets written to: C:\\Users\\PC\\Desktop\\NN\\Text calssification\\version 2\\checkpoint_cnn\\assets\n"
     ]
    },
    {
     "name": "stdout",
     "output_type": "stream",
     "text": [
      "3659/3659 [==============================] - 183s 50ms/step - loss: 1.1464 - acc: 0.4962 - val_loss: 1.1406 - val_acc: 0.5074\n",
      "Epoch 7/60\n",
      "3658/3659 [============================>.] - ETA: 0s - loss: 1.1302 - acc: 0.5041"
     ]
    },
    {
     "name": "stderr",
     "output_type": "stream",
     "text": [
      "WARNING:absl:Found untraced functions such as _jit_compiled_convolution_op, _jit_compiled_convolution_op, _jit_compiled_convolution_op while saving (showing 3 of 3). These functions will not be directly callable after loading.\n"
     ]
    },
    {
     "name": "stdout",
     "output_type": "stream",
     "text": [
      "INFO:tensorflow:Assets written to: C:\\Users\\PC\\Desktop\\NN\\Text calssification\\version 2\\checkpoint_cnn\\assets\n"
     ]
    },
    {
     "name": "stderr",
     "output_type": "stream",
     "text": [
      "INFO:tensorflow:Assets written to: C:\\Users\\PC\\Desktop\\NN\\Text calssification\\version 2\\checkpoint_cnn\\assets\n"
     ]
    },
    {
     "name": "stdout",
     "output_type": "stream",
     "text": [
      "3659/3659 [==============================] - 193s 53ms/step - loss: 1.1302 - acc: 0.5041 - val_loss: 1.1266 - val_acc: 0.5129\n",
      "Epoch 8/60\n",
      "3659/3659 [==============================] - ETA: 0s - loss: 1.1174 - acc: 0.5113"
     ]
    },
    {
     "name": "stderr",
     "output_type": "stream",
     "text": [
      "WARNING:absl:Found untraced functions such as _jit_compiled_convolution_op, _jit_compiled_convolution_op, _jit_compiled_convolution_op while saving (showing 3 of 3). These functions will not be directly callable after loading.\n"
     ]
    },
    {
     "name": "stdout",
     "output_type": "stream",
     "text": [
      "INFO:tensorflow:Assets written to: C:\\Users\\PC\\Desktop\\NN\\Text calssification\\version 2\\checkpoint_cnn\\assets\n"
     ]
    },
    {
     "name": "stderr",
     "output_type": "stream",
     "text": [
      "INFO:tensorflow:Assets written to: C:\\Users\\PC\\Desktop\\NN\\Text calssification\\version 2\\checkpoint_cnn\\assets\n"
     ]
    },
    {
     "name": "stdout",
     "output_type": "stream",
     "text": [
      "3659/3659 [==============================] - 192s 53ms/step - loss: 1.1174 - acc: 0.5113 - val_loss: 1.1151 - val_acc: 0.5212\n",
      "Epoch 9/60\n",
      "3658/3659 [============================>.] - ETA: 0s - loss: 1.1068 - acc: 0.5186"
     ]
    },
    {
     "name": "stderr",
     "output_type": "stream",
     "text": [
      "WARNING:absl:Found untraced functions such as _jit_compiled_convolution_op, _jit_compiled_convolution_op, _jit_compiled_convolution_op while saving (showing 3 of 3). These functions will not be directly callable after loading.\n"
     ]
    },
    {
     "name": "stdout",
     "output_type": "stream",
     "text": [
      "INFO:tensorflow:Assets written to: C:\\Users\\PC\\Desktop\\NN\\Text calssification\\version 2\\checkpoint_cnn\\assets\n"
     ]
    },
    {
     "name": "stderr",
     "output_type": "stream",
     "text": [
      "INFO:tensorflow:Assets written to: C:\\Users\\PC\\Desktop\\NN\\Text calssification\\version 2\\checkpoint_cnn\\assets\n"
     ]
    },
    {
     "name": "stdout",
     "output_type": "stream",
     "text": [
      "3659/3659 [==============================] - 190s 52ms/step - loss: 1.1068 - acc: 0.5186 - val_loss: 1.1060 - val_acc: 0.5228\n",
      "Epoch 10/60\n",
      "3659/3659 [==============================] - ETA: 0s - loss: 1.0977 - acc: 0.5233"
     ]
    },
    {
     "name": "stderr",
     "output_type": "stream",
     "text": [
      "WARNING:absl:Found untraced functions such as _jit_compiled_convolution_op, _jit_compiled_convolution_op, _jit_compiled_convolution_op while saving (showing 3 of 3). These functions will not be directly callable after loading.\n"
     ]
    },
    {
     "name": "stdout",
     "output_type": "stream",
     "text": [
      "INFO:tensorflow:Assets written to: C:\\Users\\PC\\Desktop\\NN\\Text calssification\\version 2\\checkpoint_cnn\\assets\n"
     ]
    },
    {
     "name": "stderr",
     "output_type": "stream",
     "text": [
      "INFO:tensorflow:Assets written to: C:\\Users\\PC\\Desktop\\NN\\Text calssification\\version 2\\checkpoint_cnn\\assets\n"
     ]
    },
    {
     "name": "stdout",
     "output_type": "stream",
     "text": [
      "3659/3659 [==============================] - 190s 52ms/step - loss: 1.0977 - acc: 0.5233 - val_loss: 1.0982 - val_acc: 0.5258\n",
      "Epoch 11/60\n",
      "3658/3659 [============================>.] - ETA: 0s - loss: 1.0898 - acc: 0.5275"
     ]
    },
    {
     "name": "stderr",
     "output_type": "stream",
     "text": [
      "WARNING:absl:Found untraced functions such as _jit_compiled_convolution_op, _jit_compiled_convolution_op, _jit_compiled_convolution_op while saving (showing 3 of 3). These functions will not be directly callable after loading.\n"
     ]
    },
    {
     "name": "stdout",
     "output_type": "stream",
     "text": [
      "INFO:tensorflow:Assets written to: C:\\Users\\PC\\Desktop\\NN\\Text calssification\\version 2\\checkpoint_cnn\\assets\n"
     ]
    },
    {
     "name": "stderr",
     "output_type": "stream",
     "text": [
      "INFO:tensorflow:Assets written to: C:\\Users\\PC\\Desktop\\NN\\Text calssification\\version 2\\checkpoint_cnn\\assets\n"
     ]
    },
    {
     "name": "stdout",
     "output_type": "stream",
     "text": [
      "3659/3659 [==============================] - 184s 50ms/step - loss: 1.0898 - acc: 0.5275 - val_loss: 1.0919 - val_acc: 0.5304\n",
      "Epoch 12/60\n",
      "3659/3659 [==============================] - ETA: 0s - loss: 1.0828 - acc: 0.5328"
     ]
    },
    {
     "name": "stderr",
     "output_type": "stream",
     "text": [
      "WARNING:absl:Found untraced functions such as _jit_compiled_convolution_op, _jit_compiled_convolution_op, _jit_compiled_convolution_op while saving (showing 3 of 3). These functions will not be directly callable after loading.\n"
     ]
    },
    {
     "name": "stdout",
     "output_type": "stream",
     "text": [
      "INFO:tensorflow:Assets written to: C:\\Users\\PC\\Desktop\\NN\\Text calssification\\version 2\\checkpoint_cnn\\assets\n"
     ]
    },
    {
     "name": "stderr",
     "output_type": "stream",
     "text": [
      "INFO:tensorflow:Assets written to: C:\\Users\\PC\\Desktop\\NN\\Text calssification\\version 2\\checkpoint_cnn\\assets\n"
     ]
    },
    {
     "name": "stdout",
     "output_type": "stream",
     "text": [
      "3659/3659 [==============================] - 190s 52ms/step - loss: 1.0828 - acc: 0.5328 - val_loss: 1.0860 - val_acc: 0.5383\n",
      "Epoch 13/60\n",
      "3659/3659 [==============================] - ETA: 0s - loss: 1.0765 - acc: 0.5368"
     ]
    },
    {
     "name": "stderr",
     "output_type": "stream",
     "text": [
      "WARNING:absl:Found untraced functions such as _jit_compiled_convolution_op, _jit_compiled_convolution_op, _jit_compiled_convolution_op while saving (showing 3 of 3). These functions will not be directly callable after loading.\n"
     ]
    },
    {
     "name": "stdout",
     "output_type": "stream",
     "text": [
      "INFO:tensorflow:Assets written to: C:\\Users\\PC\\Desktop\\NN\\Text calssification\\version 2\\checkpoint_cnn\\assets\n"
     ]
    },
    {
     "name": "stderr",
     "output_type": "stream",
     "text": [
      "INFO:tensorflow:Assets written to: C:\\Users\\PC\\Desktop\\NN\\Text calssification\\version 2\\checkpoint_cnn\\assets\n"
     ]
    },
    {
     "name": "stdout",
     "output_type": "stream",
     "text": [
      "3659/3659 [==============================] - 190s 52ms/step - loss: 1.0765 - acc: 0.5368 - val_loss: 1.0808 - val_acc: 0.5426\n",
      "Epoch 14/60\n",
      "3659/3659 [==============================] - ETA: 0s - loss: 1.0708 - acc: 0.5402"
     ]
    },
    {
     "name": "stderr",
     "output_type": "stream",
     "text": [
      "WARNING:absl:Found untraced functions such as _jit_compiled_convolution_op, _jit_compiled_convolution_op, _jit_compiled_convolution_op while saving (showing 3 of 3). These functions will not be directly callable after loading.\n"
     ]
    },
    {
     "name": "stdout",
     "output_type": "stream",
     "text": [
      "INFO:tensorflow:Assets written to: C:\\Users\\PC\\Desktop\\NN\\Text calssification\\version 2\\checkpoint_cnn\\assets\n"
     ]
    },
    {
     "name": "stderr",
     "output_type": "stream",
     "text": [
      "INFO:tensorflow:Assets written to: C:\\Users\\PC\\Desktop\\NN\\Text calssification\\version 2\\checkpoint_cnn\\assets\n"
     ]
    },
    {
     "name": "stdout",
     "output_type": "stream",
     "text": [
      "3659/3659 [==============================] - 190s 52ms/step - loss: 1.0708 - acc: 0.5402 - val_loss: 1.0762 - val_acc: 0.5440\n",
      "Epoch 15/60\n",
      "3658/3659 [============================>.] - ETA: 0s - loss: 1.0655 - acc: 0.5425"
     ]
    },
    {
     "name": "stderr",
     "output_type": "stream",
     "text": [
      "WARNING:absl:Found untraced functions such as _jit_compiled_convolution_op, _jit_compiled_convolution_op, _jit_compiled_convolution_op while saving (showing 3 of 3). These functions will not be directly callable after loading.\n"
     ]
    },
    {
     "name": "stdout",
     "output_type": "stream",
     "text": [
      "INFO:tensorflow:Assets written to: C:\\Users\\PC\\Desktop\\NN\\Text calssification\\version 2\\checkpoint_cnn\\assets\n"
     ]
    },
    {
     "name": "stderr",
     "output_type": "stream",
     "text": [
      "INFO:tensorflow:Assets written to: C:\\Users\\PC\\Desktop\\NN\\Text calssification\\version 2\\checkpoint_cnn\\assets\n"
     ]
    },
    {
     "name": "stdout",
     "output_type": "stream",
     "text": [
      "3659/3659 [==============================] - 190s 52ms/step - loss: 1.0655 - acc: 0.5425 - val_loss: 1.0720 - val_acc: 0.5470\n",
      "Epoch 16/60\n",
      "3658/3659 [============================>.] - ETA: 0s - loss: 1.0607 - acc: 0.5445"
     ]
    },
    {
     "name": "stderr",
     "output_type": "stream",
     "text": [
      "WARNING:absl:Found untraced functions such as _jit_compiled_convolution_op, _jit_compiled_convolution_op, _jit_compiled_convolution_op while saving (showing 3 of 3). These functions will not be directly callable after loading.\n"
     ]
    },
    {
     "name": "stdout",
     "output_type": "stream",
     "text": [
      "INFO:tensorflow:Assets written to: C:\\Users\\PC\\Desktop\\NN\\Text calssification\\version 2\\checkpoint_cnn\\assets\n"
     ]
    },
    {
     "name": "stderr",
     "output_type": "stream",
     "text": [
      "INFO:tensorflow:Assets written to: C:\\Users\\PC\\Desktop\\NN\\Text calssification\\version 2\\checkpoint_cnn\\assets\n"
     ]
    },
    {
     "name": "stdout",
     "output_type": "stream",
     "text": [
      "3659/3659 [==============================] - 189s 52ms/step - loss: 1.0607 - acc: 0.5446 - val_loss: 1.0679 - val_acc: 0.5492\n",
      "Epoch 17/60\n",
      "3658/3659 [============================>.] - ETA: 0s - loss: 1.0561 - acc: 0.5472"
     ]
    },
    {
     "name": "stderr",
     "output_type": "stream",
     "text": [
      "WARNING:absl:Found untraced functions such as _jit_compiled_convolution_op, _jit_compiled_convolution_op, _jit_compiled_convolution_op while saving (showing 3 of 3). These functions will not be directly callable after loading.\n"
     ]
    },
    {
     "name": "stdout",
     "output_type": "stream",
     "text": [
      "INFO:tensorflow:Assets written to: C:\\Users\\PC\\Desktop\\NN\\Text calssification\\version 2\\checkpoint_cnn\\assets\n"
     ]
    },
    {
     "name": "stderr",
     "output_type": "stream",
     "text": [
      "INFO:tensorflow:Assets written to: C:\\Users\\PC\\Desktop\\NN\\Text calssification\\version 2\\checkpoint_cnn\\assets\n"
     ]
    },
    {
     "name": "stdout",
     "output_type": "stream",
     "text": [
      "3659/3659 [==============================] - 188s 51ms/step - loss: 1.0562 - acc: 0.5472 - val_loss: 1.0644 - val_acc: 0.5523\n",
      "Epoch 18/60\n",
      "3659/3659 [==============================] - ETA: 0s - loss: 1.0519 - acc: 0.5507"
     ]
    },
    {
     "name": "stderr",
     "output_type": "stream",
     "text": [
      "WARNING:absl:Found untraced functions such as _jit_compiled_convolution_op, _jit_compiled_convolution_op, _jit_compiled_convolution_op while saving (showing 3 of 3). These functions will not be directly callable after loading.\n"
     ]
    },
    {
     "name": "stdout",
     "output_type": "stream",
     "text": [
      "INFO:tensorflow:Assets written to: C:\\Users\\PC\\Desktop\\NN\\Text calssification\\version 2\\checkpoint_cnn\\assets\n"
     ]
    },
    {
     "name": "stderr",
     "output_type": "stream",
     "text": [
      "INFO:tensorflow:Assets written to: C:\\Users\\PC\\Desktop\\NN\\Text calssification\\version 2\\checkpoint_cnn\\assets\n"
     ]
    },
    {
     "name": "stdout",
     "output_type": "stream",
     "text": [
      "3659/3659 [==============================] - 188s 51ms/step - loss: 1.0519 - acc: 0.5507 - val_loss: 1.0609 - val_acc: 0.5549\n",
      "Epoch 19/60\n",
      "3659/3659 [==============================] - ETA: 0s - loss: 1.0479 - acc: 0.5527"
     ]
    },
    {
     "name": "stderr",
     "output_type": "stream",
     "text": [
      "WARNING:absl:Found untraced functions such as _jit_compiled_convolution_op, _jit_compiled_convolution_op, _jit_compiled_convolution_op while saving (showing 3 of 3). These functions will not be directly callable after loading.\n"
     ]
    },
    {
     "name": "stdout",
     "output_type": "stream",
     "text": [
      "INFO:tensorflow:Assets written to: C:\\Users\\PC\\Desktop\\NN\\Text calssification\\version 2\\checkpoint_cnn\\assets\n"
     ]
    },
    {
     "name": "stderr",
     "output_type": "stream",
     "text": [
      "INFO:tensorflow:Assets written to: C:\\Users\\PC\\Desktop\\NN\\Text calssification\\version 2\\checkpoint_cnn\\assets\n"
     ]
    },
    {
     "name": "stdout",
     "output_type": "stream",
     "text": [
      "3659/3659 [==============================] - 189s 52ms/step - loss: 1.0479 - acc: 0.5527 - val_loss: 1.0578 - val_acc: 0.5557\n",
      "Epoch 20/60\n",
      "3658/3659 [============================>.] - ETA: 0s - loss: 1.0442 - acc: 0.5552"
     ]
    },
    {
     "name": "stderr",
     "output_type": "stream",
     "text": [
      "WARNING:absl:Found untraced functions such as _jit_compiled_convolution_op, _jit_compiled_convolution_op, _jit_compiled_convolution_op while saving (showing 3 of 3). These functions will not be directly callable after loading.\n"
     ]
    },
    {
     "name": "stdout",
     "output_type": "stream",
     "text": [
      "INFO:tensorflow:Assets written to: C:\\Users\\PC\\Desktop\\NN\\Text calssification\\version 2\\checkpoint_cnn\\assets\n"
     ]
    },
    {
     "name": "stderr",
     "output_type": "stream",
     "text": [
      "INFO:tensorflow:Assets written to: C:\\Users\\PC\\Desktop\\NN\\Text calssification\\version 2\\checkpoint_cnn\\assets\n"
     ]
    },
    {
     "name": "stdout",
     "output_type": "stream",
     "text": [
      "3659/3659 [==============================] - 189s 52ms/step - loss: 1.0441 - acc: 0.5552 - val_loss: 1.0548 - val_acc: 0.5587\n",
      "Epoch 21/60\n",
      "3658/3659 [============================>.] - ETA: 0s - loss: 1.0406 - acc: 0.5577"
     ]
    },
    {
     "name": "stderr",
     "output_type": "stream",
     "text": [
      "WARNING:absl:Found untraced functions such as _jit_compiled_convolution_op, _jit_compiled_convolution_op, _jit_compiled_convolution_op while saving (showing 3 of 3). These functions will not be directly callable after loading.\n"
     ]
    },
    {
     "name": "stdout",
     "output_type": "stream",
     "text": [
      "INFO:tensorflow:Assets written to: C:\\Users\\PC\\Desktop\\NN\\Text calssification\\version 2\\checkpoint_cnn\\assets\n"
     ]
    },
    {
     "name": "stderr",
     "output_type": "stream",
     "text": [
      "INFO:tensorflow:Assets written to: C:\\Users\\PC\\Desktop\\NN\\Text calssification\\version 2\\checkpoint_cnn\\assets\n"
     ]
    },
    {
     "name": "stdout",
     "output_type": "stream",
     "text": [
      "3659/3659 [==============================] - 189s 52ms/step - loss: 1.0405 - acc: 0.5577 - val_loss: 1.0522 - val_acc: 0.5601\n",
      "Epoch 22/60\n",
      "3659/3659 [==============================] - ETA: 0s - loss: 1.0371 - acc: 0.5605"
     ]
    },
    {
     "name": "stderr",
     "output_type": "stream",
     "text": [
      "WARNING:absl:Found untraced functions such as _jit_compiled_convolution_op, _jit_compiled_convolution_op, _jit_compiled_convolution_op while saving (showing 3 of 3). These functions will not be directly callable after loading.\n"
     ]
    },
    {
     "name": "stdout",
     "output_type": "stream",
     "text": [
      "INFO:tensorflow:Assets written to: C:\\Users\\PC\\Desktop\\NN\\Text calssification\\version 2\\checkpoint_cnn\\assets\n"
     ]
    },
    {
     "name": "stderr",
     "output_type": "stream",
     "text": [
      "INFO:tensorflow:Assets written to: C:\\Users\\PC\\Desktop\\NN\\Text calssification\\version 2\\checkpoint_cnn\\assets\n"
     ]
    },
    {
     "name": "stdout",
     "output_type": "stream",
     "text": [
      "3659/3659 [==============================] - 190s 52ms/step - loss: 1.0371 - acc: 0.5605 - val_loss: 1.0495 - val_acc: 0.5637\n",
      "Epoch 23/60\n",
      "3658/3659 [============================>.] - ETA: 0s - loss: 1.0338 - acc: 0.5622"
     ]
    },
    {
     "name": "stderr",
     "output_type": "stream",
     "text": [
      "WARNING:absl:Found untraced functions such as _jit_compiled_convolution_op, _jit_compiled_convolution_op, _jit_compiled_convolution_op while saving (showing 3 of 3). These functions will not be directly callable after loading.\n"
     ]
    },
    {
     "name": "stdout",
     "output_type": "stream",
     "text": [
      "INFO:tensorflow:Assets written to: C:\\Users\\PC\\Desktop\\NN\\Text calssification\\version 2\\checkpoint_cnn\\assets\n"
     ]
    },
    {
     "name": "stderr",
     "output_type": "stream",
     "text": [
      "INFO:tensorflow:Assets written to: C:\\Users\\PC\\Desktop\\NN\\Text calssification\\version 2\\checkpoint_cnn\\assets\n"
     ]
    },
    {
     "name": "stdout",
     "output_type": "stream",
     "text": [
      "3659/3659 [==============================] - 182s 50ms/step - loss: 1.0338 - acc: 0.5622 - val_loss: 1.0471 - val_acc: 0.5638\n",
      "Epoch 24/60\n",
      "3659/3659 [==============================] - ETA: 0s - loss: 1.0307 - acc: 0.5641"
     ]
    },
    {
     "name": "stderr",
     "output_type": "stream",
     "text": [
      "WARNING:absl:Found untraced functions such as _jit_compiled_convolution_op, _jit_compiled_convolution_op, _jit_compiled_convolution_op while saving (showing 3 of 3). These functions will not be directly callable after loading.\n"
     ]
    },
    {
     "name": "stdout",
     "output_type": "stream",
     "text": [
      "INFO:tensorflow:Assets written to: C:\\Users\\PC\\Desktop\\NN\\Text calssification\\version 2\\checkpoint_cnn\\assets\n"
     ]
    },
    {
     "name": "stderr",
     "output_type": "stream",
     "text": [
      "INFO:tensorflow:Assets written to: C:\\Users\\PC\\Desktop\\NN\\Text calssification\\version 2\\checkpoint_cnn\\assets\n"
     ]
    },
    {
     "name": "stdout",
     "output_type": "stream",
     "text": [
      "3659/3659 [==============================] - 188s 51ms/step - loss: 1.0307 - acc: 0.5641 - val_loss: 1.0447 - val_acc: 0.5633\n",
      "Epoch 25/60\n",
      "3659/3659 [==============================] - ETA: 0s - loss: 1.0277 - acc: 0.5661"
     ]
    },
    {
     "name": "stderr",
     "output_type": "stream",
     "text": [
      "WARNING:absl:Found untraced functions such as _jit_compiled_convolution_op, _jit_compiled_convolution_op, _jit_compiled_convolution_op while saving (showing 3 of 3). These functions will not be directly callable after loading.\n"
     ]
    },
    {
     "name": "stdout",
     "output_type": "stream",
     "text": [
      "INFO:tensorflow:Assets written to: C:\\Users\\PC\\Desktop\\NN\\Text calssification\\version 2\\checkpoint_cnn\\assets\n"
     ]
    },
    {
     "name": "stderr",
     "output_type": "stream",
     "text": [
      "INFO:tensorflow:Assets written to: C:\\Users\\PC\\Desktop\\NN\\Text calssification\\version 2\\checkpoint_cnn\\assets\n"
     ]
    },
    {
     "name": "stdout",
     "output_type": "stream",
     "text": [
      "3659/3659 [==============================] - 189s 52ms/step - loss: 1.0277 - acc: 0.5661 - val_loss: 1.0427 - val_acc: 0.5661\n",
      "Epoch 26/60\n",
      "3659/3659 [==============================] - ETA: 0s - loss: 1.0247 - acc: 0.5680"
     ]
    },
    {
     "name": "stderr",
     "output_type": "stream",
     "text": [
      "WARNING:absl:Found untraced functions such as _jit_compiled_convolution_op, _jit_compiled_convolution_op, _jit_compiled_convolution_op while saving (showing 3 of 3). These functions will not be directly callable after loading.\n"
     ]
    },
    {
     "name": "stdout",
     "output_type": "stream",
     "text": [
      "INFO:tensorflow:Assets written to: C:\\Users\\PC\\Desktop\\NN\\Text calssification\\version 2\\checkpoint_cnn\\assets\n"
     ]
    },
    {
     "name": "stderr",
     "output_type": "stream",
     "text": [
      "INFO:tensorflow:Assets written to: C:\\Users\\PC\\Desktop\\NN\\Text calssification\\version 2\\checkpoint_cnn\\assets\n"
     ]
    },
    {
     "name": "stdout",
     "output_type": "stream",
     "text": [
      "3659/3659 [==============================] - 189s 52ms/step - loss: 1.0247 - acc: 0.5680 - val_loss: 1.0409 - val_acc: 0.5644\n",
      "Epoch 27/60\n",
      "3659/3659 [==============================] - ETA: 0s - loss: 1.0219 - acc: 0.5692"
     ]
    },
    {
     "name": "stderr",
     "output_type": "stream",
     "text": [
      "WARNING:absl:Found untraced functions such as _jit_compiled_convolution_op, _jit_compiled_convolution_op, _jit_compiled_convolution_op while saving (showing 3 of 3). These functions will not be directly callable after loading.\n"
     ]
    },
    {
     "name": "stdout",
     "output_type": "stream",
     "text": [
      "INFO:tensorflow:Assets written to: C:\\Users\\PC\\Desktop\\NN\\Text calssification\\version 2\\checkpoint_cnn\\assets\n"
     ]
    },
    {
     "name": "stderr",
     "output_type": "stream",
     "text": [
      "INFO:tensorflow:Assets written to: C:\\Users\\PC\\Desktop\\NN\\Text calssification\\version 2\\checkpoint_cnn\\assets\n"
     ]
    },
    {
     "name": "stdout",
     "output_type": "stream",
     "text": [
      "3659/3659 [==============================] - 189s 52ms/step - loss: 1.0219 - acc: 0.5692 - val_loss: 1.0387 - val_acc: 0.5652\n",
      "Epoch 28/60\n",
      "3659/3659 [==============================] - ETA: 0s - loss: 1.0191 - acc: 0.5711"
     ]
    },
    {
     "name": "stderr",
     "output_type": "stream",
     "text": [
      "WARNING:absl:Found untraced functions such as _jit_compiled_convolution_op, _jit_compiled_convolution_op, _jit_compiled_convolution_op while saving (showing 3 of 3). These functions will not be directly callable after loading.\n"
     ]
    },
    {
     "name": "stdout",
     "output_type": "stream",
     "text": [
      "INFO:tensorflow:Assets written to: C:\\Users\\PC\\Desktop\\NN\\Text calssification\\version 2\\checkpoint_cnn\\assets\n"
     ]
    },
    {
     "name": "stderr",
     "output_type": "stream",
     "text": [
      "INFO:tensorflow:Assets written to: C:\\Users\\PC\\Desktop\\NN\\Text calssification\\version 2\\checkpoint_cnn\\assets\n"
     ]
    },
    {
     "name": "stdout",
     "output_type": "stream",
     "text": [
      "3659/3659 [==============================] - 188s 51ms/step - loss: 1.0191 - acc: 0.5711 - val_loss: 1.0368 - val_acc: 0.5664\n",
      "Epoch 29/60\n",
      "3659/3659 [==============================] - ETA: 0s - loss: 1.0166 - acc: 0.5724"
     ]
    },
    {
     "name": "stderr",
     "output_type": "stream",
     "text": [
      "WARNING:absl:Found untraced functions such as _jit_compiled_convolution_op, _jit_compiled_convolution_op, _jit_compiled_convolution_op while saving (showing 3 of 3). These functions will not be directly callable after loading.\n"
     ]
    },
    {
     "name": "stdout",
     "output_type": "stream",
     "text": [
      "INFO:tensorflow:Assets written to: C:\\Users\\PC\\Desktop\\NN\\Text calssification\\version 2\\checkpoint_cnn\\assets\n"
     ]
    },
    {
     "name": "stderr",
     "output_type": "stream",
     "text": [
      "INFO:tensorflow:Assets written to: C:\\Users\\PC\\Desktop\\NN\\Text calssification\\version 2\\checkpoint_cnn\\assets\n"
     ]
    },
    {
     "name": "stdout",
     "output_type": "stream",
     "text": [
      "3659/3659 [==============================] - 188s 51ms/step - loss: 1.0166 - acc: 0.5724 - val_loss: 1.0350 - val_acc: 0.5681\n",
      "Epoch 30/60\n",
      "3659/3659 [==============================] - ETA: 0s - loss: 1.0140 - acc: 0.5738"
     ]
    },
    {
     "name": "stderr",
     "output_type": "stream",
     "text": [
      "WARNING:absl:Found untraced functions such as _jit_compiled_convolution_op, _jit_compiled_convolution_op, _jit_compiled_convolution_op while saving (showing 3 of 3). These functions will not be directly callable after loading.\n"
     ]
    },
    {
     "name": "stdout",
     "output_type": "stream",
     "text": [
      "INFO:tensorflow:Assets written to: C:\\Users\\PC\\Desktop\\NN\\Text calssification\\version 2\\checkpoint_cnn\\assets\n"
     ]
    },
    {
     "name": "stderr",
     "output_type": "stream",
     "text": [
      "INFO:tensorflow:Assets written to: C:\\Users\\PC\\Desktop\\NN\\Text calssification\\version 2\\checkpoint_cnn\\assets\n"
     ]
    },
    {
     "name": "stdout",
     "output_type": "stream",
     "text": [
      "3659/3659 [==============================] - 189s 52ms/step - loss: 1.0140 - acc: 0.5738 - val_loss: 1.0331 - val_acc: 0.5695\n",
      "Epoch 31/60\n",
      "3658/3659 [============================>.] - ETA: 0s - loss: 1.0116 - acc: 0.5754"
     ]
    },
    {
     "name": "stderr",
     "output_type": "stream",
     "text": [
      "WARNING:absl:Found untraced functions such as _jit_compiled_convolution_op, _jit_compiled_convolution_op, _jit_compiled_convolution_op while saving (showing 3 of 3). These functions will not be directly callable after loading.\n"
     ]
    },
    {
     "name": "stdout",
     "output_type": "stream",
     "text": [
      "INFO:tensorflow:Assets written to: C:\\Users\\PC\\Desktop\\NN\\Text calssification\\version 2\\checkpoint_cnn\\assets\n"
     ]
    },
    {
     "name": "stderr",
     "output_type": "stream",
     "text": [
      "INFO:tensorflow:Assets written to: C:\\Users\\PC\\Desktop\\NN\\Text calssification\\version 2\\checkpoint_cnn\\assets\n"
     ]
    },
    {
     "name": "stdout",
     "output_type": "stream",
     "text": [
      "3659/3659 [==============================] - 189s 52ms/step - loss: 1.0116 - acc: 0.5754 - val_loss: 1.0316 - val_acc: 0.5710\n",
      "Epoch 32/60\n",
      "3659/3659 [==============================] - ETA: 0s - loss: 1.0092 - acc: 0.5765"
     ]
    },
    {
     "name": "stderr",
     "output_type": "stream",
     "text": [
      "WARNING:absl:Found untraced functions such as _jit_compiled_convolution_op, _jit_compiled_convolution_op, _jit_compiled_convolution_op while saving (showing 3 of 3). These functions will not be directly callable after loading.\n"
     ]
    },
    {
     "name": "stdout",
     "output_type": "stream",
     "text": [
      "INFO:tensorflow:Assets written to: C:\\Users\\PC\\Desktop\\NN\\Text calssification\\version 2\\checkpoint_cnn\\assets\n"
     ]
    },
    {
     "name": "stderr",
     "output_type": "stream",
     "text": [
      "INFO:tensorflow:Assets written to: C:\\Users\\PC\\Desktop\\NN\\Text calssification\\version 2\\checkpoint_cnn\\assets\n"
     ]
    },
    {
     "name": "stdout",
     "output_type": "stream",
     "text": [
      "3659/3659 [==============================] - 188s 51ms/step - loss: 1.0092 - acc: 0.5765 - val_loss: 1.0301 - val_acc: 0.5706\n",
      "Epoch 33/60\n",
      "3658/3659 [============================>.] - ETA: 0s - loss: 1.0069 - acc: 0.5785"
     ]
    },
    {
     "name": "stderr",
     "output_type": "stream",
     "text": [
      "WARNING:absl:Found untraced functions such as _jit_compiled_convolution_op, _jit_compiled_convolution_op, _jit_compiled_convolution_op while saving (showing 3 of 3). These functions will not be directly callable after loading.\n"
     ]
    },
    {
     "name": "stdout",
     "output_type": "stream",
     "text": [
      "INFO:tensorflow:Assets written to: C:\\Users\\PC\\Desktop\\NN\\Text calssification\\version 2\\checkpoint_cnn\\assets\n"
     ]
    },
    {
     "name": "stderr",
     "output_type": "stream",
     "text": [
      "INFO:tensorflow:Assets written to: C:\\Users\\PC\\Desktop\\NN\\Text calssification\\version 2\\checkpoint_cnn\\assets\n"
     ]
    },
    {
     "name": "stdout",
     "output_type": "stream",
     "text": [
      "3659/3659 [==============================] - 188s 51ms/step - loss: 1.0069 - acc: 0.5785 - val_loss: 1.0289 - val_acc: 0.5712\n",
      "Epoch 34/60\n",
      "3658/3659 [============================>.] - ETA: 0s - loss: 1.0047 - acc: 0.5795"
     ]
    },
    {
     "name": "stderr",
     "output_type": "stream",
     "text": [
      "WARNING:absl:Found untraced functions such as _jit_compiled_convolution_op, _jit_compiled_convolution_op, _jit_compiled_convolution_op while saving (showing 3 of 3). These functions will not be directly callable after loading.\n"
     ]
    },
    {
     "name": "stdout",
     "output_type": "stream",
     "text": [
      "INFO:tensorflow:Assets written to: C:\\Users\\PC\\Desktop\\NN\\Text calssification\\version 2\\checkpoint_cnn\\assets\n"
     ]
    },
    {
     "name": "stderr",
     "output_type": "stream",
     "text": [
      "INFO:tensorflow:Assets written to: C:\\Users\\PC\\Desktop\\NN\\Text calssification\\version 2\\checkpoint_cnn\\assets\n"
     ]
    },
    {
     "name": "stdout",
     "output_type": "stream",
     "text": [
      "3659/3659 [==============================] - 185s 50ms/step - loss: 1.0046 - acc: 0.5796 - val_loss: 1.0270 - val_acc: 0.5733\n",
      "Epoch 35/60\n",
      "3658/3659 [============================>.] - ETA: 0s - loss: 1.0024 - acc: 0.5807"
     ]
    },
    {
     "name": "stderr",
     "output_type": "stream",
     "text": [
      "WARNING:absl:Found untraced functions such as _jit_compiled_convolution_op, _jit_compiled_convolution_op, _jit_compiled_convolution_op while saving (showing 3 of 3). These functions will not be directly callable after loading.\n"
     ]
    },
    {
     "name": "stdout",
     "output_type": "stream",
     "text": [
      "INFO:tensorflow:Assets written to: C:\\Users\\PC\\Desktop\\NN\\Text calssification\\version 2\\checkpoint_cnn\\assets\n"
     ]
    },
    {
     "name": "stderr",
     "output_type": "stream",
     "text": [
      "INFO:tensorflow:Assets written to: C:\\Users\\PC\\Desktop\\NN\\Text calssification\\version 2\\checkpoint_cnn\\assets\n"
     ]
    },
    {
     "name": "stdout",
     "output_type": "stream",
     "text": [
      "3659/3659 [==============================] - 173s 47ms/step - loss: 1.0024 - acc: 0.5807 - val_loss: 1.0257 - val_acc: 0.5740\n",
      "Epoch 36/60\n",
      "3658/3659 [============================>.] - ETA: 0s - loss: 1.0002 - acc: 0.5818"
     ]
    },
    {
     "name": "stderr",
     "output_type": "stream",
     "text": [
      "WARNING:absl:Found untraced functions such as _jit_compiled_convolution_op, _jit_compiled_convolution_op, _jit_compiled_convolution_op while saving (showing 3 of 3). These functions will not be directly callable after loading.\n"
     ]
    },
    {
     "name": "stdout",
     "output_type": "stream",
     "text": [
      "INFO:tensorflow:Assets written to: C:\\Users\\PC\\Desktop\\NN\\Text calssification\\version 2\\checkpoint_cnn\\assets\n"
     ]
    },
    {
     "name": "stderr",
     "output_type": "stream",
     "text": [
      "INFO:tensorflow:Assets written to: C:\\Users\\PC\\Desktop\\NN\\Text calssification\\version 2\\checkpoint_cnn\\assets\n"
     ]
    },
    {
     "name": "stdout",
     "output_type": "stream",
     "text": [
      "3659/3659 [==============================] - 180s 49ms/step - loss: 1.0002 - acc: 0.5817 - val_loss: 1.0246 - val_acc: 0.5750\n",
      "Epoch 37/60\n",
      "3659/3659 [==============================] - ETA: 0s - loss: 0.9981 - acc: 0.5828"
     ]
    },
    {
     "name": "stderr",
     "output_type": "stream",
     "text": [
      "WARNING:absl:Found untraced functions such as _jit_compiled_convolution_op, _jit_compiled_convolution_op, _jit_compiled_convolution_op while saving (showing 3 of 3). These functions will not be directly callable after loading.\n"
     ]
    },
    {
     "name": "stdout",
     "output_type": "stream",
     "text": [
      "INFO:tensorflow:Assets written to: C:\\Users\\PC\\Desktop\\NN\\Text calssification\\version 2\\checkpoint_cnn\\assets\n"
     ]
    },
    {
     "name": "stderr",
     "output_type": "stream",
     "text": [
      "INFO:tensorflow:Assets written to: C:\\Users\\PC\\Desktop\\NN\\Text calssification\\version 2\\checkpoint_cnn\\assets\n"
     ]
    },
    {
     "name": "stdout",
     "output_type": "stream",
     "text": [
      "3659/3659 [==============================] - 180s 49ms/step - loss: 0.9981 - acc: 0.5828 - val_loss: 1.0231 - val_acc: 0.5747\n",
      "Epoch 38/60\n",
      "3659/3659 [==============================] - ETA: 0s - loss: 0.9961 - acc: 0.5837"
     ]
    },
    {
     "name": "stderr",
     "output_type": "stream",
     "text": [
      "WARNING:absl:Found untraced functions such as _jit_compiled_convolution_op, _jit_compiled_convolution_op, _jit_compiled_convolution_op while saving (showing 3 of 3). These functions will not be directly callable after loading.\n"
     ]
    },
    {
     "name": "stdout",
     "output_type": "stream",
     "text": [
      "INFO:tensorflow:Assets written to: C:\\Users\\PC\\Desktop\\NN\\Text calssification\\version 2\\checkpoint_cnn\\assets\n"
     ]
    },
    {
     "name": "stderr",
     "output_type": "stream",
     "text": [
      "INFO:tensorflow:Assets written to: C:\\Users\\PC\\Desktop\\NN\\Text calssification\\version 2\\checkpoint_cnn\\assets\n"
     ]
    },
    {
     "name": "stdout",
     "output_type": "stream",
     "text": [
      "3659/3659 [==============================] - 179s 49ms/step - loss: 0.9961 - acc: 0.5837 - val_loss: 1.0218 - val_acc: 0.5760\n",
      "Epoch 39/60\n",
      "3658/3659 [============================>.] - ETA: 0s - loss: 0.9939 - acc: 0.5849"
     ]
    },
    {
     "name": "stderr",
     "output_type": "stream",
     "text": [
      "WARNING:absl:Found untraced functions such as _jit_compiled_convolution_op, _jit_compiled_convolution_op, _jit_compiled_convolution_op while saving (showing 3 of 3). These functions will not be directly callable after loading.\n"
     ]
    },
    {
     "name": "stdout",
     "output_type": "stream",
     "text": [
      "INFO:tensorflow:Assets written to: C:\\Users\\PC\\Desktop\\NN\\Text calssification\\version 2\\checkpoint_cnn\\assets\n"
     ]
    },
    {
     "name": "stderr",
     "output_type": "stream",
     "text": [
      "INFO:tensorflow:Assets written to: C:\\Users\\PC\\Desktop\\NN\\Text calssification\\version 2\\checkpoint_cnn\\assets\n"
     ]
    },
    {
     "name": "stdout",
     "output_type": "stream",
     "text": [
      "3659/3659 [==============================] - 179s 49ms/step - loss: 0.9939 - acc: 0.5849 - val_loss: 1.0208 - val_acc: 0.5749\n",
      "Epoch 40/60\n",
      "3659/3659 [==============================] - ETA: 0s - loss: 0.9920 - acc: 0.5858"
     ]
    },
    {
     "name": "stderr",
     "output_type": "stream",
     "text": [
      "WARNING:absl:Found untraced functions such as _jit_compiled_convolution_op, _jit_compiled_convolution_op, _jit_compiled_convolution_op while saving (showing 3 of 3). These functions will not be directly callable after loading.\n"
     ]
    },
    {
     "name": "stdout",
     "output_type": "stream",
     "text": [
      "INFO:tensorflow:Assets written to: C:\\Users\\PC\\Desktop\\NN\\Text calssification\\version 2\\checkpoint_cnn\\assets\n"
     ]
    },
    {
     "name": "stderr",
     "output_type": "stream",
     "text": [
      "INFO:tensorflow:Assets written to: C:\\Users\\PC\\Desktop\\NN\\Text calssification\\version 2\\checkpoint_cnn\\assets\n"
     ]
    },
    {
     "name": "stdout",
     "output_type": "stream",
     "text": [
      "3659/3659 [==============================] - 180s 49ms/step - loss: 0.9920 - acc: 0.5858 - val_loss: 1.0196 - val_acc: 0.5756\n",
      "Epoch 41/60\n",
      "3659/3659 [==============================] - ETA: 0s - loss: 0.9901 - acc: 0.5862"
     ]
    },
    {
     "name": "stderr",
     "output_type": "stream",
     "text": [
      "WARNING:absl:Found untraced functions such as _jit_compiled_convolution_op, _jit_compiled_convolution_op, _jit_compiled_convolution_op while saving (showing 3 of 3). These functions will not be directly callable after loading.\n"
     ]
    },
    {
     "name": "stdout",
     "output_type": "stream",
     "text": [
      "INFO:tensorflow:Assets written to: C:\\Users\\PC\\Desktop\\NN\\Text calssification\\version 2\\checkpoint_cnn\\assets\n"
     ]
    },
    {
     "name": "stderr",
     "output_type": "stream",
     "text": [
      "INFO:tensorflow:Assets written to: C:\\Users\\PC\\Desktop\\NN\\Text calssification\\version 2\\checkpoint_cnn\\assets\n"
     ]
    },
    {
     "name": "stdout",
     "output_type": "stream",
     "text": [
      "3659/3659 [==============================] - 183s 50ms/step - loss: 0.9901 - acc: 0.5862 - val_loss: 1.0184 - val_acc: 0.5767\n",
      "Epoch 42/60\n",
      "3658/3659 [============================>.] - ETA: 0s - loss: 0.9882 - acc: 0.5870"
     ]
    },
    {
     "name": "stderr",
     "output_type": "stream",
     "text": [
      "WARNING:absl:Found untraced functions such as _jit_compiled_convolution_op, _jit_compiled_convolution_op, _jit_compiled_convolution_op while saving (showing 3 of 3). These functions will not be directly callable after loading.\n"
     ]
    },
    {
     "name": "stdout",
     "output_type": "stream",
     "text": [
      "INFO:tensorflow:Assets written to: C:\\Users\\PC\\Desktop\\NN\\Text calssification\\version 2\\checkpoint_cnn\\assets\n"
     ]
    },
    {
     "name": "stderr",
     "output_type": "stream",
     "text": [
      "INFO:tensorflow:Assets written to: C:\\Users\\PC\\Desktop\\NN\\Text calssification\\version 2\\checkpoint_cnn\\assets\n"
     ]
    },
    {
     "name": "stdout",
     "output_type": "stream",
     "text": [
      "3659/3659 [==============================] - 184s 50ms/step - loss: 0.9881 - acc: 0.5870 - val_loss: 1.0174 - val_acc: 0.5784\n",
      "Epoch 43/60\n",
      "3659/3659 [==============================] - ETA: 0s - loss: 0.9862 - acc: 0.5884"
     ]
    },
    {
     "name": "stderr",
     "output_type": "stream",
     "text": [
      "WARNING:absl:Found untraced functions such as _jit_compiled_convolution_op, _jit_compiled_convolution_op, _jit_compiled_convolution_op while saving (showing 3 of 3). These functions will not be directly callable after loading.\n"
     ]
    },
    {
     "name": "stdout",
     "output_type": "stream",
     "text": [
      "INFO:tensorflow:Assets written to: C:\\Users\\PC\\Desktop\\NN\\Text calssification\\version 2\\checkpoint_cnn\\assets\n"
     ]
    },
    {
     "name": "stderr",
     "output_type": "stream",
     "text": [
      "INFO:tensorflow:Assets written to: C:\\Users\\PC\\Desktop\\NN\\Text calssification\\version 2\\checkpoint_cnn\\assets\n"
     ]
    },
    {
     "name": "stdout",
     "output_type": "stream",
     "text": [
      "3659/3659 [==============================] - 176s 48ms/step - loss: 0.9862 - acc: 0.5884 - val_loss: 1.0160 - val_acc: 0.5790\n",
      "Epoch 44/60\n",
      "3659/3659 [==============================] - ETA: 0s - loss: 0.9844 - acc: 0.5899"
     ]
    },
    {
     "name": "stderr",
     "output_type": "stream",
     "text": [
      "WARNING:absl:Found untraced functions such as _jit_compiled_convolution_op, _jit_compiled_convolution_op, _jit_compiled_convolution_op while saving (showing 3 of 3). These functions will not be directly callable after loading.\n"
     ]
    },
    {
     "name": "stdout",
     "output_type": "stream",
     "text": [
      "INFO:tensorflow:Assets written to: C:\\Users\\PC\\Desktop\\NN\\Text calssification\\version 2\\checkpoint_cnn\\assets\n"
     ]
    },
    {
     "name": "stderr",
     "output_type": "stream",
     "text": [
      "INFO:tensorflow:Assets written to: C:\\Users\\PC\\Desktop\\NN\\Text calssification\\version 2\\checkpoint_cnn\\assets\n"
     ]
    },
    {
     "name": "stdout",
     "output_type": "stream",
     "text": [
      "3659/3659 [==============================] - 183s 50ms/step - loss: 0.9844 - acc: 0.5899 - val_loss: 1.0153 - val_acc: 0.5801\n",
      "Epoch 45/60\n",
      "3658/3659 [============================>.] - ETA: 0s - loss: 0.9823 - acc: 0.5911"
     ]
    },
    {
     "name": "stderr",
     "output_type": "stream",
     "text": [
      "WARNING:absl:Found untraced functions such as _jit_compiled_convolution_op, _jit_compiled_convolution_op, _jit_compiled_convolution_op while saving (showing 3 of 3). These functions will not be directly callable after loading.\n"
     ]
    },
    {
     "name": "stdout",
     "output_type": "stream",
     "text": [
      "INFO:tensorflow:Assets written to: C:\\Users\\PC\\Desktop\\NN\\Text calssification\\version 2\\checkpoint_cnn\\assets\n"
     ]
    },
    {
     "name": "stderr",
     "output_type": "stream",
     "text": [
      "INFO:tensorflow:Assets written to: C:\\Users\\PC\\Desktop\\NN\\Text calssification\\version 2\\checkpoint_cnn\\assets\n"
     ]
    },
    {
     "name": "stdout",
     "output_type": "stream",
     "text": [
      "3659/3659 [==============================] - 183s 50ms/step - loss: 0.9824 - acc: 0.5911 - val_loss: 1.0143 - val_acc: 0.5796\n",
      "Epoch 46/60\n",
      "3659/3659 [==============================] - ETA: 0s - loss: 0.9806 - acc: 0.5920"
     ]
    },
    {
     "name": "stderr",
     "output_type": "stream",
     "text": [
      "WARNING:absl:Found untraced functions such as _jit_compiled_convolution_op, _jit_compiled_convolution_op, _jit_compiled_convolution_op while saving (showing 3 of 3). These functions will not be directly callable after loading.\n"
     ]
    },
    {
     "name": "stdout",
     "output_type": "stream",
     "text": [
      "INFO:tensorflow:Assets written to: C:\\Users\\PC\\Desktop\\NN\\Text calssification\\version 2\\checkpoint_cnn\\assets\n"
     ]
    },
    {
     "name": "stderr",
     "output_type": "stream",
     "text": [
      "INFO:tensorflow:Assets written to: C:\\Users\\PC\\Desktop\\NN\\Text calssification\\version 2\\checkpoint_cnn\\assets\n"
     ]
    },
    {
     "name": "stdout",
     "output_type": "stream",
     "text": [
      "3659/3659 [==============================] - 183s 50ms/step - loss: 0.9806 - acc: 0.5920 - val_loss: 1.0132 - val_acc: 0.5812\n",
      "Epoch 47/60\n",
      "3658/3659 [============================>.] - ETA: 0s - loss: 0.9788 - acc: 0.5928"
     ]
    },
    {
     "name": "stderr",
     "output_type": "stream",
     "text": [
      "WARNING:absl:Found untraced functions such as _jit_compiled_convolution_op, _jit_compiled_convolution_op, _jit_compiled_convolution_op while saving (showing 3 of 3). These functions will not be directly callable after loading.\n"
     ]
    },
    {
     "name": "stdout",
     "output_type": "stream",
     "text": [
      "INFO:tensorflow:Assets written to: C:\\Users\\PC\\Desktop\\NN\\Text calssification\\version 2\\checkpoint_cnn\\assets\n"
     ]
    },
    {
     "name": "stderr",
     "output_type": "stream",
     "text": [
      "INFO:tensorflow:Assets written to: C:\\Users\\PC\\Desktop\\NN\\Text calssification\\version 2\\checkpoint_cnn\\assets\n"
     ]
    },
    {
     "name": "stdout",
     "output_type": "stream",
     "text": [
      "3659/3659 [==============================] - 186s 51ms/step - loss: 0.9788 - acc: 0.5927 - val_loss: 1.0125 - val_acc: 0.5809\n",
      "Epoch 48/60\n",
      "3659/3659 [==============================] - ETA: 0s - loss: 0.9771 - acc: 0.5933"
     ]
    },
    {
     "name": "stderr",
     "output_type": "stream",
     "text": [
      "WARNING:absl:Found untraced functions such as _jit_compiled_convolution_op, _jit_compiled_convolution_op, _jit_compiled_convolution_op while saving (showing 3 of 3). These functions will not be directly callable after loading.\n"
     ]
    },
    {
     "name": "stdout",
     "output_type": "stream",
     "text": [
      "INFO:tensorflow:Assets written to: C:\\Users\\PC\\Desktop\\NN\\Text calssification\\version 2\\checkpoint_cnn\\assets\n"
     ]
    },
    {
     "name": "stderr",
     "output_type": "stream",
     "text": [
      "INFO:tensorflow:Assets written to: C:\\Users\\PC\\Desktop\\NN\\Text calssification\\version 2\\checkpoint_cnn\\assets\n"
     ]
    },
    {
     "name": "stdout",
     "output_type": "stream",
     "text": [
      "3659/3659 [==============================] - 202s 55ms/step - loss: 0.9771 - acc: 0.5933 - val_loss: 1.0115 - val_acc: 0.5804\n",
      "Epoch 49/60\n",
      "3658/3659 [============================>.] - ETA: 0s - loss: 0.9753 - acc: 0.5945"
     ]
    },
    {
     "name": "stderr",
     "output_type": "stream",
     "text": [
      "WARNING:absl:Found untraced functions such as _jit_compiled_convolution_op, _jit_compiled_convolution_op, _jit_compiled_convolution_op while saving (showing 3 of 3). These functions will not be directly callable after loading.\n"
     ]
    },
    {
     "name": "stdout",
     "output_type": "stream",
     "text": [
      "INFO:tensorflow:Assets written to: C:\\Users\\PC\\Desktop\\NN\\Text calssification\\version 2\\checkpoint_cnn\\assets\n"
     ]
    },
    {
     "name": "stderr",
     "output_type": "stream",
     "text": [
      "INFO:tensorflow:Assets written to: C:\\Users\\PC\\Desktop\\NN\\Text calssification\\version 2\\checkpoint_cnn\\assets\n"
     ]
    },
    {
     "name": "stdout",
     "output_type": "stream",
     "text": [
      "3659/3659 [==============================] - 193s 53ms/step - loss: 0.9753 - acc: 0.5945 - val_loss: 1.0105 - val_acc: 0.5806\n",
      "Epoch 50/60\n",
      "3658/3659 [============================>.] - ETA: 0s - loss: 0.9736 - acc: 0.5956"
     ]
    },
    {
     "name": "stderr",
     "output_type": "stream",
     "text": [
      "WARNING:absl:Found untraced functions such as _jit_compiled_convolution_op, _jit_compiled_convolution_op, _jit_compiled_convolution_op while saving (showing 3 of 3). These functions will not be directly callable after loading.\n"
     ]
    },
    {
     "name": "stdout",
     "output_type": "stream",
     "text": [
      "INFO:tensorflow:Assets written to: C:\\Users\\PC\\Desktop\\NN\\Text calssification\\version 2\\checkpoint_cnn\\assets\n"
     ]
    },
    {
     "name": "stderr",
     "output_type": "stream",
     "text": [
      "INFO:tensorflow:Assets written to: C:\\Users\\PC\\Desktop\\NN\\Text calssification\\version 2\\checkpoint_cnn\\assets\n"
     ]
    },
    {
     "name": "stdout",
     "output_type": "stream",
     "text": [
      "3659/3659 [==============================] - 191s 52ms/step - loss: 0.9736 - acc: 0.5956 - val_loss: 1.0095 - val_acc: 0.5815\n",
      "Epoch 51/60\n",
      "3658/3659 [============================>.] - ETA: 0s - loss: 0.9719 - acc: 0.5970"
     ]
    },
    {
     "name": "stderr",
     "output_type": "stream",
     "text": [
      "WARNING:absl:Found untraced functions such as _jit_compiled_convolution_op, _jit_compiled_convolution_op, _jit_compiled_convolution_op while saving (showing 3 of 3). These functions will not be directly callable after loading.\n"
     ]
    },
    {
     "name": "stdout",
     "output_type": "stream",
     "text": [
      "INFO:tensorflow:Assets written to: C:\\Users\\PC\\Desktop\\NN\\Text calssification\\version 2\\checkpoint_cnn\\assets\n"
     ]
    },
    {
     "name": "stderr",
     "output_type": "stream",
     "text": [
      "INFO:tensorflow:Assets written to: C:\\Users\\PC\\Desktop\\NN\\Text calssification\\version 2\\checkpoint_cnn\\assets\n"
     ]
    },
    {
     "name": "stdout",
     "output_type": "stream",
     "text": [
      "3659/3659 [==============================] - 191s 52ms/step - loss: 0.9719 - acc: 0.5970 - val_loss: 1.0086 - val_acc: 0.5813\n",
      "Epoch 52/60\n",
      "3659/3659 [==============================] - ETA: 0s - loss: 0.9701 - acc: 0.5974"
     ]
    },
    {
     "name": "stderr",
     "output_type": "stream",
     "text": [
      "WARNING:absl:Found untraced functions such as _jit_compiled_convolution_op, _jit_compiled_convolution_op, _jit_compiled_convolution_op while saving (showing 3 of 3). These functions will not be directly callable after loading.\n"
     ]
    },
    {
     "name": "stdout",
     "output_type": "stream",
     "text": [
      "INFO:tensorflow:Assets written to: C:\\Users\\PC\\Desktop\\NN\\Text calssification\\version 2\\checkpoint_cnn\\assets\n"
     ]
    },
    {
     "name": "stderr",
     "output_type": "stream",
     "text": [
      "INFO:tensorflow:Assets written to: C:\\Users\\PC\\Desktop\\NN\\Text calssification\\version 2\\checkpoint_cnn\\assets\n"
     ]
    },
    {
     "name": "stdout",
     "output_type": "stream",
     "text": [
      "3659/3659 [==============================] - 194s 53ms/step - loss: 0.9701 - acc: 0.5974 - val_loss: 1.0080 - val_acc: 0.5815\n",
      "Epoch 53/60\n",
      "3659/3659 [==============================] - ETA: 0s - loss: 0.9685 - acc: 0.5987"
     ]
    },
    {
     "name": "stderr",
     "output_type": "stream",
     "text": [
      "WARNING:absl:Found untraced functions such as _jit_compiled_convolution_op, _jit_compiled_convolution_op, _jit_compiled_convolution_op while saving (showing 3 of 3). These functions will not be directly callable after loading.\n"
     ]
    },
    {
     "name": "stdout",
     "output_type": "stream",
     "text": [
      "INFO:tensorflow:Assets written to: C:\\Users\\PC\\Desktop\\NN\\Text calssification\\version 2\\checkpoint_cnn\\assets\n"
     ]
    },
    {
     "name": "stderr",
     "output_type": "stream",
     "text": [
      "INFO:tensorflow:Assets written to: C:\\Users\\PC\\Desktop\\NN\\Text calssification\\version 2\\checkpoint_cnn\\assets\n"
     ]
    },
    {
     "name": "stdout",
     "output_type": "stream",
     "text": [
      "3659/3659 [==============================] - 193s 53ms/step - loss: 0.9685 - acc: 0.5987 - val_loss: 1.0068 - val_acc: 0.5827\n",
      "Epoch 54/60\n",
      "3659/3659 [==============================] - ETA: 0s - loss: 0.9669 - acc: 0.5991"
     ]
    },
    {
     "name": "stderr",
     "output_type": "stream",
     "text": [
      "WARNING:absl:Found untraced functions such as _jit_compiled_convolution_op, _jit_compiled_convolution_op, _jit_compiled_convolution_op while saving (showing 3 of 3). These functions will not be directly callable after loading.\n"
     ]
    },
    {
     "name": "stdout",
     "output_type": "stream",
     "text": [
      "INFO:tensorflow:Assets written to: C:\\Users\\PC\\Desktop\\NN\\Text calssification\\version 2\\checkpoint_cnn\\assets\n"
     ]
    },
    {
     "name": "stderr",
     "output_type": "stream",
     "text": [
      "INFO:tensorflow:Assets written to: C:\\Users\\PC\\Desktop\\NN\\Text calssification\\version 2\\checkpoint_cnn\\assets\n"
     ]
    },
    {
     "name": "stdout",
     "output_type": "stream",
     "text": [
      "3659/3659 [==============================] - 205s 56ms/step - loss: 0.9669 - acc: 0.5991 - val_loss: 1.0061 - val_acc: 0.5818\n",
      "Epoch 55/60\n",
      "3659/3659 [==============================] - ETA: 0s - loss: 0.9653 - acc: 0.5993"
     ]
    },
    {
     "name": "stderr",
     "output_type": "stream",
     "text": [
      "WARNING:absl:Found untraced functions such as _jit_compiled_convolution_op, _jit_compiled_convolution_op, _jit_compiled_convolution_op while saving (showing 3 of 3). These functions will not be directly callable after loading.\n"
     ]
    },
    {
     "name": "stdout",
     "output_type": "stream",
     "text": [
      "INFO:tensorflow:Assets written to: C:\\Users\\PC\\Desktop\\NN\\Text calssification\\version 2\\checkpoint_cnn\\assets\n"
     ]
    },
    {
     "name": "stderr",
     "output_type": "stream",
     "text": [
      "INFO:tensorflow:Assets written to: C:\\Users\\PC\\Desktop\\NN\\Text calssification\\version 2\\checkpoint_cnn\\assets\n"
     ]
    },
    {
     "name": "stdout",
     "output_type": "stream",
     "text": [
      "3659/3659 [==============================] - 200s 55ms/step - loss: 0.9653 - acc: 0.5993 - val_loss: 1.0052 - val_acc: 0.5838\n",
      "Epoch 56/60\n",
      "3658/3659 [============================>.] - ETA: 0s - loss: 0.9636 - acc: 0.6003"
     ]
    },
    {
     "name": "stderr",
     "output_type": "stream",
     "text": [
      "WARNING:absl:Found untraced functions such as _jit_compiled_convolution_op, _jit_compiled_convolution_op, _jit_compiled_convolution_op while saving (showing 3 of 3). These functions will not be directly callable after loading.\n"
     ]
    },
    {
     "name": "stdout",
     "output_type": "stream",
     "text": [
      "INFO:tensorflow:Assets written to: C:\\Users\\PC\\Desktop\\NN\\Text calssification\\version 2\\checkpoint_cnn\\assets\n"
     ]
    },
    {
     "name": "stderr",
     "output_type": "stream",
     "text": [
      "INFO:tensorflow:Assets written to: C:\\Users\\PC\\Desktop\\NN\\Text calssification\\version 2\\checkpoint_cnn\\assets\n"
     ]
    },
    {
     "name": "stdout",
     "output_type": "stream",
     "text": [
      "3659/3659 [==============================] - 196s 54ms/step - loss: 0.9636 - acc: 0.6004 - val_loss: 1.0047 - val_acc: 0.5846\n",
      "Epoch 57/60\n",
      "3658/3659 [============================>.] - ETA: 0s - loss: 0.9620 - acc: 0.6017"
     ]
    },
    {
     "name": "stderr",
     "output_type": "stream",
     "text": [
      "WARNING:absl:Found untraced functions such as _jit_compiled_convolution_op, _jit_compiled_convolution_op, _jit_compiled_convolution_op while saving (showing 3 of 3). These functions will not be directly callable after loading.\n"
     ]
    },
    {
     "name": "stdout",
     "output_type": "stream",
     "text": [
      "INFO:tensorflow:Assets written to: C:\\Users\\PC\\Desktop\\NN\\Text calssification\\version 2\\checkpoint_cnn\\assets\n"
     ]
    },
    {
     "name": "stderr",
     "output_type": "stream",
     "text": [
      "INFO:tensorflow:Assets written to: C:\\Users\\PC\\Desktop\\NN\\Text calssification\\version 2\\checkpoint_cnn\\assets\n"
     ]
    },
    {
     "name": "stdout",
     "output_type": "stream",
     "text": [
      "3659/3659 [==============================] - 186s 51ms/step - loss: 0.9620 - acc: 0.6018 - val_loss: 1.0042 - val_acc: 0.5843\n",
      "Epoch 58/60\n",
      "3658/3659 [============================>.] - ETA: 0s - loss: 0.9604 - acc: 0.6024"
     ]
    },
    {
     "name": "stderr",
     "output_type": "stream",
     "text": [
      "WARNING:absl:Found untraced functions such as _jit_compiled_convolution_op, _jit_compiled_convolution_op, _jit_compiled_convolution_op while saving (showing 3 of 3). These functions will not be directly callable after loading.\n"
     ]
    },
    {
     "name": "stdout",
     "output_type": "stream",
     "text": [
      "INFO:tensorflow:Assets written to: C:\\Users\\PC\\Desktop\\NN\\Text calssification\\version 2\\checkpoint_cnn\\assets\n"
     ]
    },
    {
     "name": "stderr",
     "output_type": "stream",
     "text": [
      "INFO:tensorflow:Assets written to: C:\\Users\\PC\\Desktop\\NN\\Text calssification\\version 2\\checkpoint_cnn\\assets\n"
     ]
    },
    {
     "name": "stdout",
     "output_type": "stream",
     "text": [
      "3659/3659 [==============================] - 198s 54ms/step - loss: 0.9604 - acc: 0.6024 - val_loss: 1.0032 - val_acc: 0.5855\n",
      "Epoch 59/60\n",
      "3659/3659 [==============================] - ETA: 0s - loss: 0.9588 - acc: 0.6027"
     ]
    },
    {
     "name": "stderr",
     "output_type": "stream",
     "text": [
      "WARNING:absl:Found untraced functions such as _jit_compiled_convolution_op, _jit_compiled_convolution_op, _jit_compiled_convolution_op while saving (showing 3 of 3). These functions will not be directly callable after loading.\n"
     ]
    },
    {
     "name": "stdout",
     "output_type": "stream",
     "text": [
      "INFO:tensorflow:Assets written to: C:\\Users\\PC\\Desktop\\NN\\Text calssification\\version 2\\checkpoint_cnn\\assets\n"
     ]
    },
    {
     "name": "stderr",
     "output_type": "stream",
     "text": [
      "INFO:tensorflow:Assets written to: C:\\Users\\PC\\Desktop\\NN\\Text calssification\\version 2\\checkpoint_cnn\\assets\n"
     ]
    },
    {
     "name": "stdout",
     "output_type": "stream",
     "text": [
      "3659/3659 [==============================] - 202s 55ms/step - loss: 0.9588 - acc: 0.6027 - val_loss: 1.0026 - val_acc: 0.5849\n",
      "Epoch 60/60\n",
      "3659/3659 [==============================] - ETA: 0s - loss: 0.9573 - acc: 0.6040"
     ]
    },
    {
     "name": "stderr",
     "output_type": "stream",
     "text": [
      "WARNING:absl:Found untraced functions such as _jit_compiled_convolution_op, _jit_compiled_convolution_op, _jit_compiled_convolution_op while saving (showing 3 of 3). These functions will not be directly callable after loading.\n"
     ]
    },
    {
     "name": "stdout",
     "output_type": "stream",
     "text": [
      "INFO:tensorflow:Assets written to: C:\\Users\\PC\\Desktop\\NN\\Text calssification\\version 2\\checkpoint_cnn\\assets\n"
     ]
    },
    {
     "name": "stderr",
     "output_type": "stream",
     "text": [
      "INFO:tensorflow:Assets written to: C:\\Users\\PC\\Desktop\\NN\\Text calssification\\version 2\\checkpoint_cnn\\assets\n"
     ]
    },
    {
     "name": "stdout",
     "output_type": "stream",
     "text": [
      "\b\b\b\b\b\b\b\b\b\b\b\b\b\b\b\b\b\b\b\b\b\b\b\b\b\b\b\b\b\b\b\b\b\b\b\b\b\b\b\b\b\b\b\b\b\b\b\b\b\b\b\b\b\b\b\b\b\b\b\b\b\b\b\b\b\b\b\b\b\b\b\b\b\b\b\b\b\b\b\b\b\r",
      "3659/3659 [==============================] - 199s 54ms/step - loss: 0.9573 - acc: 0.6040 - val_loss: 1.0020 - val_acc: 0.5846\n"
     ]
    }
   ],
   "source": [
    "cnn_history_model = cnn_model.fit(train_dataset, \n",
    "          validation_data = val_dataset,\n",
    "          epochs = 60,\n",
    "          callbacks=[checkpointer_cnn, early_stopping_cnn])"
   ]
  },
  {
   "cell_type": "code",
   "execution_count": 181,
   "metadata": {},
   "outputs": [
    {
     "data": {
      "image/png": "[encoded data removed]",
      "text/plain": [
       "<Figure size 576x396 with 1 Axes>"
      ]
     },
     "metadata": {},
     "output_type": "display_data"
    }
   ],
   "source": [
    "plot_loss_accuracy(cnn_history_model, 'CNN 1D model')"
   ]
  },
  {
   "cell_type": "code",
   "execution_count": 182,
   "metadata": {},
   "outputs": [],
   "source": [
    "hist_4 = pd.DataFrame(cnn_history_model.history)\n",
    "hist_4['epoch'] = cnn_history_model.epoch"
   ]
  },
  {
   "cell_type": "code",
   "execution_count": 202,
   "metadata": {},
   "outputs": [
    {
     "data": {
      "text/plain": [
       "0.5854858756065369"
      ]
     },
     "execution_count": 202,
     "metadata": {},
     "output_type": "execute_result"
    }
   ],
   "source": [
    "hist_4.val_acc.max()"
   ]
  },
  {
   "cell_type": "code",
   "execution_count": 184,
   "metadata": {},
   "outputs": [
    {
     "name": "stdout",
     "output_type": "stream",
     "text": [
      "407/407 [==============================] - 9s 21ms/step - loss: 1.0020 - acc: 0.5846\n"
     ]
    }
   ],
   "source": [
    "_,val_acc = cnn_model.evaluate(val_dataset)"
   ]
  },
  {
   "cell_type": "markdown",
   "metadata": {},
   "source": [
    "### CNN model with drop-out"
   ]
  },
  {
   "cell_type": "code",
   "execution_count": 191,
   "metadata": {},
   "outputs": [],
   "source": [
    "\n",
    "checkpointer_cnn_2 = ModelCheckpoint(filepath =check_point_cnn_2,\n",
    "                               save_best_only=False, save_weights_only = False, verbose=0,mode='min')\n",
    "early_stopping_cnn_2 = EarlyStopping(monitor='val_loss', min_delta=0, patience=10, verbose=0, mode='auto')"
   ]
  },
  {
   "cell_type": "code",
   "execution_count": 193,
   "metadata": {},
   "outputs": [],
   "source": [
    "cnn_model_2 = Sequential([\n",
    "  vectorize_layer,\n",
    "  Embedding(input_dim = vectorize_layer.vocabulary_size()+2, output_dim = EMBEDDING_DIMENSIONS,weights=[embedding_matrix],input_length=MAX_OUTPUT_LENGTH,trainable=False),\n",
    "  Conv1D(128,3, padding = 'same', activation= 'relu'),\n",
    "  MaxPool1D(),\n",
    "  \n",
    " \n",
    "  \n",
    "  Conv1D(128,5, padding = 'same', activation= 'relu'),\n",
    "  MaxPool1D(),\n",
    "  Dropout(0.2),\n",
    "  \n",
    "  Conv1D(128,5, padding = 'same', activation= 'relu'),\n",
    "  MaxPool1D(),\n",
    "  Dropout(0.2),\n",
    "  \n",
    "  Flatten(),\n",
    "  Dense(128, activation = 'relu'),\n",
    "  Dense(N_CLASSES, activation = softmax)\n",
    "  ])\n",
    "\n",
    "cnn_model_2.compile(\n",
    "    loss='sparse_categorical_crossentropy',\n",
    "    optimizer = Adam(learning_rate = LEARNING_RATE),\n",
    "    metrics = [\"acc\"]\n",
    "    )"
   ]
  },
  {
   "cell_type": "code",
   "execution_count": 196,
   "metadata": {
    "scrolled": true
   },
   "outputs": [
    {
     "name": "stdout",
     "output_type": "stream",
     "text": [
      "Model: \"sequential\"\n",
      "_________________________________________________________________\n",
      " Layer (type)                Output Shape              Param #   \n",
      "=================================================================\n",
      " text_vectorization (TextVec  (None, 300)              0         \n",
      " torization)                                                     \n",
      "                                                                 \n",
      " embedding (Embedding)       (None, 300, 100)          1000200   \n",
      "                                                                 \n",
      " conv1d (Conv1D)             (None, 300, 128)          38528     \n",
      "                                                                 \n",
      " max_pooling1d (MaxPooling1D  (None, 150, 128)         0         \n",
      " )                                                               \n",
      "                                                                 \n",
      " conv1d_1 (Conv1D)           (None, 150, 128)          82048     \n",
      "                                                                 \n",
      " max_pooling1d_1 (MaxPooling  (None, 75, 128)          0         \n",
      " 1D)                                                             \n",
      "                                                                 \n",
      " dropout (Dropout)           (None, 75, 128)           0         \n",
      "                                                                 \n",
      " conv1d_2 (Conv1D)           (None, 75, 128)           82048     \n",
      "                                                                 \n",
      " max_pooling1d_2 (MaxPooling  (None, 37, 128)          0         \n",
      " 1D)                                                             \n",
      "                                                                 \n",
      " dropout_1 (Dropout)         (None, 37, 128)           0         \n",
      "                                                                 \n",
      " flatten (Flatten)           (None, 4736)              0         \n",
      "                                                                 \n",
      " dense (Dense)               (None, 128)               606336    \n",
      "                                                                 \n",
      " dense_1 (Dense)             (None, 4)                 516       \n",
      "                                                                 \n",
      "=================================================================\n",
      "Total params: 1,809,676\n",
      "Trainable params: 809,476\n",
      "Non-trainable params: 1,000,200\n",
      "_________________________________________________________________\n"
     ]
    }
   ],
   "source": [
    "cnn_model_2.summary()"
   ]
  },
  {
   "cell_type": "code",
   "execution_count": 195,
   "metadata": {},
   "outputs": [
    {
     "name": "stdout",
     "output_type": "stream",
     "text": [
      "Epoch 1/20\n",
      "3659/3659 [==============================] - ETA: 0s - loss: 1.3133 - acc: 0.3488"
     ]
    },
    {
     "name": "stderr",
     "output_type": "stream",
     "text": [
      "WARNING:absl:Found untraced functions such as _jit_compiled_convolution_op, _jit_compiled_convolution_op, _jit_compiled_convolution_op while saving (showing 3 of 3). These functions will not be directly callable after loading.\n"
     ]
    },
    {
     "name": "stdout",
     "output_type": "stream",
     "text": [
      "INFO:tensorflow:Assets written to: C:\\Users\\PC\\Desktop\\NN\\Text calssification\\version 2\\checkpoint_cnn\\assets\n"
     ]
    },
    {
     "name": "stderr",
     "output_type": "stream",
     "text": [
      "INFO:tensorflow:Assets written to: C:\\Users\\PC\\Desktop\\NN\\Text calssification\\version 2\\checkpoint_cnn\\assets\n"
     ]
    },
    {
     "name": "stdout",
     "output_type": "stream",
     "text": [
      "3659/3659 [==============================] - 213s 58ms/step - loss: 1.3133 - acc: 0.3488 - val_loss: 1.2848 - val_acc: 0.3879\n",
      "Epoch 2/20\n",
      "3659/3659 [==============================] - ETA: 0s - loss: 1.2798 - acc: 0.3843"
     ]
    },
    {
     "name": "stderr",
     "output_type": "stream",
     "text": [
      "WARNING:absl:Found untraced functions such as _jit_compiled_convolution_op, _jit_compiled_convolution_op, _jit_compiled_convolution_op while saving (showing 3 of 3). These functions will not be directly callable after loading.\n"
     ]
    },
    {
     "name": "stdout",
     "output_type": "stream",
     "text": [
      "INFO:tensorflow:Assets written to: C:\\Users\\PC\\Desktop\\NN\\Text calssification\\version 2\\checkpoint_cnn\\assets\n"
     ]
    },
    {
     "name": "stderr",
     "output_type": "stream",
     "text": [
      "INFO:tensorflow:Assets written to: C:\\Users\\PC\\Desktop\\NN\\Text calssification\\version 2\\checkpoint_cnn\\assets\n"
     ]
    },
    {
     "name": "stdout",
     "output_type": "stream",
     "text": [
      "3659/3659 [==============================] - 212s 58ms/step - loss: 1.2798 - acc: 0.3843 - val_loss: 1.2713 - val_acc: 0.4039\n",
      "Epoch 3/20\n",
      "3659/3659 [==============================] - ETA: 0s - loss: 1.2663 - acc: 0.4051"
     ]
    },
    {
     "name": "stderr",
     "output_type": "stream",
     "text": [
      "WARNING:absl:Found untraced functions such as _jit_compiled_convolution_op, _jit_compiled_convolution_op, _jit_compiled_convolution_op while saving (showing 3 of 3). These functions will not be directly callable after loading.\n"
     ]
    },
    {
     "name": "stdout",
     "output_type": "stream",
     "text": [
      "INFO:tensorflow:Assets written to: C:\\Users\\PC\\Desktop\\NN\\Text calssification\\version 2\\checkpoint_cnn\\assets\n"
     ]
    },
    {
     "name": "stderr",
     "output_type": "stream",
     "text": [
      "INFO:tensorflow:Assets written to: C:\\Users\\PC\\Desktop\\NN\\Text calssification\\version 2\\checkpoint_cnn\\assets\n"
     ]
    },
    {
     "name": "stdout",
     "output_type": "stream",
     "text": [
      "3659/3659 [==============================] - 207s 56ms/step - loss: 1.2663 - acc: 0.4051 - val_loss: 1.2565 - val_acc: 0.4210\n",
      "Epoch 4/20\n",
      "3658/3659 [============================>.] - ETA: 0s - loss: 1.2516 - acc: 0.4236"
     ]
    },
    {
     "name": "stderr",
     "output_type": "stream",
     "text": [
      "WARNING:absl:Found untraced functions such as _jit_compiled_convolution_op, _jit_compiled_convolution_op, _jit_compiled_convolution_op while saving (showing 3 of 3). These functions will not be directly callable after loading.\n"
     ]
    },
    {
     "name": "stdout",
     "output_type": "stream",
     "text": [
      "INFO:tensorflow:Assets written to: C:\\Users\\PC\\Desktop\\NN\\Text calssification\\version 2\\checkpoint_cnn\\assets\n"
     ]
    },
    {
     "name": "stderr",
     "output_type": "stream",
     "text": [
      "INFO:tensorflow:Assets written to: C:\\Users\\PC\\Desktop\\NN\\Text calssification\\version 2\\checkpoint_cnn\\assets\n"
     ]
    },
    {
     "name": "stdout",
     "output_type": "stream",
     "text": [
      "3659/3659 [==============================] - 202s 55ms/step - loss: 1.2515 - acc: 0.4237 - val_loss: 1.2349 - val_acc: 0.4448\n",
      "Epoch 5/20\n",
      "3658/3659 [============================>.] - ETA: 0s - loss: 1.2299 - acc: 0.4446"
     ]
    },
    {
     "name": "stderr",
     "output_type": "stream",
     "text": [
      "WARNING:absl:Found untraced functions such as _jit_compiled_convolution_op, _jit_compiled_convolution_op, _jit_compiled_convolution_op while saving (showing 3 of 3). These functions will not be directly callable after loading.\n"
     ]
    },
    {
     "name": "stdout",
     "output_type": "stream",
     "text": [
      "INFO:tensorflow:Assets written to: C:\\Users\\PC\\Desktop\\NN\\Text calssification\\version 2\\checkpoint_cnn\\assets\n"
     ]
    },
    {
     "name": "stderr",
     "output_type": "stream",
     "text": [
      "INFO:tensorflow:Assets written to: C:\\Users\\PC\\Desktop\\NN\\Text calssification\\version 2\\checkpoint_cnn\\assets\n"
     ]
    },
    {
     "name": "stdout",
     "output_type": "stream",
     "text": [
      "3659/3659 [==============================] - 209s 57ms/step - loss: 1.2299 - acc: 0.4445 - val_loss: 1.2056 - val_acc: 0.4706\n",
      "Epoch 6/20\n",
      "3659/3659 [==============================] - ETA: 0s - loss: 1.2019 - acc: 0.4662"
     ]
    },
    {
     "name": "stderr",
     "output_type": "stream",
     "text": [
      "WARNING:absl:Found untraced functions such as _jit_compiled_convolution_op, _jit_compiled_convolution_op, _jit_compiled_convolution_op while saving (showing 3 of 3). These functions will not be directly callable after loading.\n"
     ]
    },
    {
     "name": "stdout",
     "output_type": "stream",
     "text": [
      "INFO:tensorflow:Assets written to: C:\\Users\\PC\\Desktop\\NN\\Text calssification\\version 2\\checkpoint_cnn\\assets\n"
     ]
    },
    {
     "name": "stderr",
     "output_type": "stream",
     "text": [
      "INFO:tensorflow:Assets written to: C:\\Users\\PC\\Desktop\\NN\\Text calssification\\version 2\\checkpoint_cnn\\assets\n"
     ]
    },
    {
     "name": "stdout",
     "output_type": "stream",
     "text": [
      "3659/3659 [==============================] - 205s 56ms/step - loss: 1.2019 - acc: 0.4662 - val_loss: 1.1746 - val_acc: 0.4871\n",
      "Epoch 7/20\n",
      "3658/3659 [============================>.] - ETA: 0s - loss: 1.1764 - acc: 0.4798"
     ]
    },
    {
     "name": "stderr",
     "output_type": "stream",
     "text": [
      "WARNING:absl:Found untraced functions such as _jit_compiled_convolution_op, _jit_compiled_convolution_op, _jit_compiled_convolution_op while saving (showing 3 of 3). These functions will not be directly callable after loading.\n"
     ]
    },
    {
     "name": "stdout",
     "output_type": "stream",
     "text": [
      "INFO:tensorflow:Assets written to: C:\\Users\\PC\\Desktop\\NN\\Text calssification\\version 2\\checkpoint_cnn\\assets\n"
     ]
    },
    {
     "name": "stderr",
     "output_type": "stream",
     "text": [
      "INFO:tensorflow:Assets written to: C:\\Users\\PC\\Desktop\\NN\\Text calssification\\version 2\\checkpoint_cnn\\assets\n"
     ]
    },
    {
     "name": "stdout",
     "output_type": "stream",
     "text": [
      "3659/3659 [==============================] - 202s 55ms/step - loss: 1.1764 - acc: 0.4797 - val_loss: 1.1499 - val_acc: 0.5008\n",
      "Epoch 8/20\n",
      "3659/3659 [==============================] - ETA: 0s - loss: 1.1550 - acc: 0.4886"
     ]
    },
    {
     "name": "stderr",
     "output_type": "stream",
     "text": [
      "WARNING:absl:Found untraced functions such as _jit_compiled_convolution_op, _jit_compiled_convolution_op, _jit_compiled_convolution_op while saving (showing 3 of 3). These functions will not be directly callable after loading.\n"
     ]
    },
    {
     "name": "stdout",
     "output_type": "stream",
     "text": [
      "INFO:tensorflow:Assets written to: C:\\Users\\PC\\Desktop\\NN\\Text calssification\\version 2\\checkpoint_cnn\\assets\n"
     ]
    },
    {
     "name": "stderr",
     "output_type": "stream",
     "text": [
      "INFO:tensorflow:Assets written to: C:\\Users\\PC\\Desktop\\NN\\Text calssification\\version 2\\checkpoint_cnn\\assets\n"
     ]
    },
    {
     "name": "stdout",
     "output_type": "stream",
     "text": [
      "3659/3659 [==============================] - 205s 56ms/step - loss: 1.1550 - acc: 0.4886 - val_loss: 1.1307 - val_acc: 0.5100\n",
      "Epoch 9/20\n",
      "3659/3659 [==============================] - ETA: 0s - loss: 1.1396 - acc: 0.4971"
     ]
    },
    {
     "name": "stderr",
     "output_type": "stream",
     "text": [
      "WARNING:absl:Found untraced functions such as _jit_compiled_convolution_op, _jit_compiled_convolution_op, _jit_compiled_convolution_op while saving (showing 3 of 3). These functions will not be directly callable after loading.\n"
     ]
    },
    {
     "name": "stdout",
     "output_type": "stream",
     "text": [
      "INFO:tensorflow:Assets written to: C:\\Users\\PC\\Desktop\\NN\\Text calssification\\version 2\\checkpoint_cnn\\assets\n"
     ]
    },
    {
     "name": "stderr",
     "output_type": "stream",
     "text": [
      "INFO:tensorflow:Assets written to: C:\\Users\\PC\\Desktop\\NN\\Text calssification\\version 2\\checkpoint_cnn\\assets\n"
     ]
    },
    {
     "name": "stdout",
     "output_type": "stream",
     "text": [
      "3659/3659 [==============================] - 192s 52ms/step - loss: 1.1396 - acc: 0.4971 - val_loss: 1.1167 - val_acc: 0.5180\n",
      "Epoch 10/20\n",
      "3659/3659 [==============================] - ETA: 0s - loss: 1.1259 - acc: 0.5031"
     ]
    },
    {
     "name": "stderr",
     "output_type": "stream",
     "text": [
      "WARNING:absl:Found untraced functions such as _jit_compiled_convolution_op, _jit_compiled_convolution_op, _jit_compiled_convolution_op while saving (showing 3 of 3). These functions will not be directly callable after loading.\n"
     ]
    },
    {
     "name": "stdout",
     "output_type": "stream",
     "text": [
      "INFO:tensorflow:Assets written to: C:\\Users\\PC\\Desktop\\NN\\Text calssification\\version 2\\checkpoint_cnn\\assets\n"
     ]
    },
    {
     "name": "stderr",
     "output_type": "stream",
     "text": [
      "INFO:tensorflow:Assets written to: C:\\Users\\PC\\Desktop\\NN\\Text calssification\\version 2\\checkpoint_cnn\\assets\n"
     ]
    },
    {
     "name": "stdout",
     "output_type": "stream",
     "text": [
      "3659/3659 [==============================] - 205s 56ms/step - loss: 1.1259 - acc: 0.5031 - val_loss: 1.1058 - val_acc: 0.5228\n",
      "Epoch 11/20\n",
      "3658/3659 [============================>.] - ETA: 0s - loss: 1.1164 - acc: 0.5084"
     ]
    },
    {
     "name": "stderr",
     "output_type": "stream",
     "text": [
      "WARNING:absl:Found untraced functions such as _jit_compiled_convolution_op, _jit_compiled_convolution_op, _jit_compiled_convolution_op while saving (showing 3 of 3). These functions will not be directly callable after loading.\n"
     ]
    },
    {
     "name": "stdout",
     "output_type": "stream",
     "text": [
      "INFO:tensorflow:Assets written to: C:\\Users\\PC\\Desktop\\NN\\Text calssification\\version 2\\checkpoint_cnn\\assets\n"
     ]
    },
    {
     "name": "stderr",
     "output_type": "stream",
     "text": [
      "INFO:tensorflow:Assets written to: C:\\Users\\PC\\Desktop\\NN\\Text calssification\\version 2\\checkpoint_cnn\\assets\n"
     ]
    },
    {
     "name": "stdout",
     "output_type": "stream",
     "text": [
      "3659/3659 [==============================] - 204s 56ms/step - loss: 1.1164 - acc: 0.5084 - val_loss: 1.0980 - val_acc: 0.5298\n",
      "Epoch 12/20\n",
      "3658/3659 [============================>.] - ETA: 0s - loss: 1.1076 - acc: 0.5126"
     ]
    },
    {
     "name": "stderr",
     "output_type": "stream",
     "text": [
      "WARNING:absl:Found untraced functions such as _jit_compiled_convolution_op, _jit_compiled_convolution_op, _jit_compiled_convolution_op while saving (showing 3 of 3). These functions will not be directly callable after loading.\n"
     ]
    },
    {
     "name": "stdout",
     "output_type": "stream",
     "text": [
      "INFO:tensorflow:Assets written to: C:\\Users\\PC\\Desktop\\NN\\Text calssification\\version 2\\checkpoint_cnn\\assets\n"
     ]
    },
    {
     "name": "stderr",
     "output_type": "stream",
     "text": [
      "INFO:tensorflow:Assets written to: C:\\Users\\PC\\Desktop\\NN\\Text calssification\\version 2\\checkpoint_cnn\\assets\n"
     ]
    },
    {
     "name": "stdout",
     "output_type": "stream",
     "text": [
      "3659/3659 [==============================] - 215s 59ms/step - loss: 1.1077 - acc: 0.5126 - val_loss: 1.0914 - val_acc: 0.5324\n",
      "Epoch 13/20\n",
      "3659/3659 [==============================] - ETA: 0s - loss: 1.1013 - acc: 0.5157"
     ]
    },
    {
     "name": "stderr",
     "output_type": "stream",
     "text": [
      "WARNING:absl:Found untraced functions such as _jit_compiled_convolution_op, _jit_compiled_convolution_op, _jit_compiled_convolution_op while saving (showing 3 of 3). These functions will not be directly callable after loading.\n"
     ]
    },
    {
     "name": "stdout",
     "output_type": "stream",
     "text": [
      "INFO:tensorflow:Assets written to: C:\\Users\\PC\\Desktop\\NN\\Text calssification\\version 2\\checkpoint_cnn\\assets\n"
     ]
    },
    {
     "name": "stderr",
     "output_type": "stream",
     "text": [
      "INFO:tensorflow:Assets written to: C:\\Users\\PC\\Desktop\\NN\\Text calssification\\version 2\\checkpoint_cnn\\assets\n"
     ]
    },
    {
     "name": "stdout",
     "output_type": "stream",
     "text": [
      "3659/3659 [==============================] - 208s 57ms/step - loss: 1.1013 - acc: 0.5157 - val_loss: 1.0858 - val_acc: 0.5318\n",
      "Epoch 14/20\n",
      "3659/3659 [==============================] - ETA: 0s - loss: 1.0963 - acc: 0.5200"
     ]
    },
    {
     "name": "stderr",
     "output_type": "stream",
     "text": [
      "WARNING:absl:Found untraced functions such as _jit_compiled_convolution_op, _jit_compiled_convolution_op, _jit_compiled_convolution_op while saving (showing 3 of 3). These functions will not be directly callable after loading.\n"
     ]
    },
    {
     "name": "stdout",
     "output_type": "stream",
     "text": [
      "INFO:tensorflow:Assets written to: C:\\Users\\PC\\Desktop\\NN\\Text calssification\\version 2\\checkpoint_cnn\\assets\n"
     ]
    },
    {
     "name": "stderr",
     "output_type": "stream",
     "text": [
      "INFO:tensorflow:Assets written to: C:\\Users\\PC\\Desktop\\NN\\Text calssification\\version 2\\checkpoint_cnn\\assets\n"
     ]
    },
    {
     "name": "stdout",
     "output_type": "stream",
     "text": [
      "3659/3659 [==============================] - 209s 57ms/step - loss: 1.0963 - acc: 0.5200 - val_loss: 1.0810 - val_acc: 0.5360\n",
      "Epoch 15/20\n",
      "3659/3659 [==============================] - ETA: 0s - loss: 1.0903 - acc: 0.5228"
     ]
    },
    {
     "name": "stderr",
     "output_type": "stream",
     "text": [
      "WARNING:absl:Found untraced functions such as _jit_compiled_convolution_op, _jit_compiled_convolution_op, _jit_compiled_convolution_op while saving (showing 3 of 3). These functions will not be directly callable after loading.\n"
     ]
    },
    {
     "name": "stdout",
     "output_type": "stream",
     "text": [
      "INFO:tensorflow:Assets written to: C:\\Users\\PC\\Desktop\\NN\\Text calssification\\version 2\\checkpoint_cnn\\assets\n"
     ]
    },
    {
     "name": "stderr",
     "output_type": "stream",
     "text": [
      "INFO:tensorflow:Assets written to: C:\\Users\\PC\\Desktop\\NN\\Text calssification\\version 2\\checkpoint_cnn\\assets\n"
     ]
    },
    {
     "name": "stdout",
     "output_type": "stream",
     "text": [
      "3659/3659 [==============================] - 202s 55ms/step - loss: 1.0903 - acc: 0.5228 - val_loss: 1.0774 - val_acc: 0.5387\n",
      "Epoch 16/20\n",
      "3658/3659 [============================>.] - ETA: 0s - loss: 1.0862 - acc: 0.5261"
     ]
    },
    {
     "name": "stderr",
     "output_type": "stream",
     "text": [
      "WARNING:absl:Found untraced functions such as _jit_compiled_convolution_op, _jit_compiled_convolution_op, _jit_compiled_convolution_op while saving (showing 3 of 3). These functions will not be directly callable after loading.\n"
     ]
    },
    {
     "name": "stdout",
     "output_type": "stream",
     "text": [
      "INFO:tensorflow:Assets written to: C:\\Users\\PC\\Desktop\\NN\\Text calssification\\version 2\\checkpoint_cnn\\assets\n"
     ]
    },
    {
     "name": "stderr",
     "output_type": "stream",
     "text": [
      "INFO:tensorflow:Assets written to: C:\\Users\\PC\\Desktop\\NN\\Text calssification\\version 2\\checkpoint_cnn\\assets\n"
     ]
    },
    {
     "name": "stdout",
     "output_type": "stream",
     "text": [
      "3659/3659 [==============================] - 202s 55ms/step - loss: 1.0862 - acc: 0.5260 - val_loss: 1.0735 - val_acc: 0.5398\n",
      "Epoch 17/20\n",
      "3659/3659 [==============================] - ETA: 0s - loss: 1.0818 - acc: 0.5293"
     ]
    },
    {
     "name": "stderr",
     "output_type": "stream",
     "text": [
      "WARNING:absl:Found untraced functions such as _jit_compiled_convolution_op, _jit_compiled_convolution_op, _jit_compiled_convolution_op while saving (showing 3 of 3). These functions will not be directly callable after loading.\n"
     ]
    },
    {
     "name": "stdout",
     "output_type": "stream",
     "text": [
      "INFO:tensorflow:Assets written to: C:\\Users\\PC\\Desktop\\NN\\Text calssification\\version 2\\checkpoint_cnn\\assets\n"
     ]
    },
    {
     "name": "stderr",
     "output_type": "stream",
     "text": [
      "INFO:tensorflow:Assets written to: C:\\Users\\PC\\Desktop\\NN\\Text calssification\\version 2\\checkpoint_cnn\\assets\n"
     ]
    },
    {
     "name": "stdout",
     "output_type": "stream",
     "text": [
      "3659/3659 [==============================] - 204s 56ms/step - loss: 1.0818 - acc: 0.5293 - val_loss: 1.0707 - val_acc: 0.5412\n",
      "Epoch 18/20\n",
      "3659/3659 [==============================] - ETA: 0s - loss: 1.0777 - acc: 0.5309"
     ]
    },
    {
     "name": "stderr",
     "output_type": "stream",
     "text": [
      "WARNING:absl:Found untraced functions such as _jit_compiled_convolution_op, _jit_compiled_convolution_op, _jit_compiled_convolution_op while saving (showing 3 of 3). These functions will not be directly callable after loading.\n"
     ]
    },
    {
     "name": "stdout",
     "output_type": "stream",
     "text": [
      "INFO:tensorflow:Assets written to: C:\\Users\\PC\\Desktop\\NN\\Text calssification\\version 2\\checkpoint_cnn\\assets\n"
     ]
    },
    {
     "name": "stderr",
     "output_type": "stream",
     "text": [
      "INFO:tensorflow:Assets written to: C:\\Users\\PC\\Desktop\\NN\\Text calssification\\version 2\\checkpoint_cnn\\assets\n"
     ]
    },
    {
     "name": "stdout",
     "output_type": "stream",
     "text": [
      "3659/3659 [==============================] - 200s 55ms/step - loss: 1.0777 - acc: 0.5309 - val_loss: 1.0676 - val_acc: 0.5455\n",
      "Epoch 19/20\n",
      "3658/3659 [============================>.] - ETA: 0s - loss: 1.0735 - acc: 0.5341"
     ]
    },
    {
     "name": "stderr",
     "output_type": "stream",
     "text": [
      "WARNING:absl:Found untraced functions such as _jit_compiled_convolution_op, _jit_compiled_convolution_op, _jit_compiled_convolution_op while saving (showing 3 of 3). These functions will not be directly callable after loading.\n"
     ]
    },
    {
     "name": "stdout",
     "output_type": "stream",
     "text": [
      "INFO:tensorflow:Assets written to: C:\\Users\\PC\\Desktop\\NN\\Text calssification\\version 2\\checkpoint_cnn\\assets\n"
     ]
    },
    {
     "name": "stderr",
     "output_type": "stream",
     "text": [
      "INFO:tensorflow:Assets written to: C:\\Users\\PC\\Desktop\\NN\\Text calssification\\version 2\\checkpoint_cnn\\assets\n"
     ]
    },
    {
     "name": "stdout",
     "output_type": "stream",
     "text": [
      "3659/3659 [==============================] - 207s 57ms/step - loss: 1.0735 - acc: 0.5341 - val_loss: 1.0644 - val_acc: 0.5480\n",
      "Epoch 20/20\n",
      "3659/3659 [==============================] - ETA: 0s - loss: 1.0709 - acc: 0.5354"
     ]
    },
    {
     "name": "stderr",
     "output_type": "stream",
     "text": [
      "WARNING:absl:Found untraced functions such as _jit_compiled_convolution_op, _jit_compiled_convolution_op, _jit_compiled_convolution_op while saving (showing 3 of 3). These functions will not be directly callable after loading.\n"
     ]
    },
    {
     "name": "stdout",
     "output_type": "stream",
     "text": [
      "INFO:tensorflow:Assets written to: C:\\Users\\PC\\Desktop\\NN\\Text calssification\\version 2\\checkpoint_cnn\\assets\n"
     ]
    },
    {
     "name": "stderr",
     "output_type": "stream",
     "text": [
      "INFO:tensorflow:Assets written to: C:\\Users\\PC\\Desktop\\NN\\Text calssification\\version 2\\checkpoint_cnn\\assets\n"
     ]
    },
    {
     "name": "stdout",
     "output_type": "stream",
     "text": [
      "\b\b\b\b\b\b\b\b\b\b\b\b\b\b\b\b\b\b\b\b\b\b\b\b\b\b\b\b\b\b\b\b\b\b\b\b\b\b\b\b\b\b\b\b\b\b\b\b\b\b\b\b\b\b\b\b\b\b\b\b\b\b\b\b\b\b\b\b\b\b\b\b\b\b\b\b\b\b\b\b\b\r",
      "3659/3659 [==============================] - 207s 56ms/step - loss: 1.0709 - acc: 0.5354 - val_loss: 1.0619 - val_acc: 0.5487\n"
     ]
    }
   ],
   "source": [
    "cnn_history_model_2 = cnn_model_2.fit(train_dataset, \n",
    "          validation_data = val_dataset,\n",
    "          epochs = 20,\n",
    "          callbacks=[checkpointer_cnn, early_stopping_cnn])"
   ]
  },
  {
   "cell_type": "code",
   "execution_count": 199,
   "metadata": {},
   "outputs": [
    {
     "data": {
      "image/png": "[encoded data removed]",
      "text/plain": [
       "<Figure size 576x396 with 1 Axes>"
      ]
     },
     "metadata": {},
     "output_type": "display_data"
    }
   ],
   "source": [
    "plot_loss_accuracy(cnn_history_model_2, 'CNN 1D model_2')"
   ]
  },
  {
   "cell_type": "code",
   "execution_count": 200,
   "metadata": {},
   "outputs": [],
   "source": [
    "hist_5 = pd.DataFrame(cnn_history_model_2.history)\n",
    "hist_5['epoch'] = cnn_history_model_2.epoch"
   ]
  },
  {
   "cell_type": "code",
   "execution_count": 201,
   "metadata": {},
   "outputs": [
    {
     "name": "stdout",
     "output_type": "stream",
     "text": [
      "407/407 [==============================] - 9s 21ms/step - loss: 1.0619 - acc: 0.5487\n"
     ]
    }
   ],
   "source": [
    "_,val_acc = cnn_model_2.evaluate(val_dataset)"
   ]
  }
 ],
 "metadata": {
  "kernelspec": {
   "display_name": "Python 3 (ipykernel)",
   "language": "python",
   "name": "python3"
  },
  "language_info": {
   "codemirror_mode": {
    "name": "ipython",
    "version": 3
   },
   "file_extension": ".py",
   "mimetype": "text/x-python",
   "name": "python",
   "nbconvert_exporter": "python",
   "pygments_lexer": "ipython3",
   "version": "3.9.7"
  }
 },
 "nbformat": 4,
 "nbformat_minor": 4
}
