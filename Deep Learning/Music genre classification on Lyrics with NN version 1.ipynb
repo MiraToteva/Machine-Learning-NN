{
 "cells": [
  {
   "cell_type": "code",
   "execution_count": 1,
   "metadata": {},
   "outputs": [],
   "source": [
    "%matplotlib inline"
   ]
  },
  {
   "cell_type": "code",
   "execution_count": 2,
   "metadata": {},
   "outputs": [],
   "source": [
    "import numpy as np\n",
    "import pandas as pd\n",
    "import matplotlib.pyplot as plt\n",
    "import pickle \n",
    "\n",
    "import tensorflow as tf\n",
    "from tensorflow import keras\n",
    "from tensorflow.keras import layers\n",
    "from tensorflow.keras.layers.experimental.preprocessing import TextVectorization # how to import text vectorization in tf 2.3.0\n",
    "from tensorflow.keras.layers import Dense, Embedding, GlobalAveragePooling1D\n",
    "import gensim\n",
    "from gensim.models import Word2Vec\n",
    "from keras.models import Model\n",
    "from tensorflow.keras.layers import Embedding,Input,Dropout, LSTM, Bidirectional, \\\n",
    "    Conv1D, MaxPool1D, Dense, Attention\n",
    "from tensorflow.keras.models import Sequential\n",
    "\n",
    "from tensorflow.keras.activations import softmax\n",
    "from tensorflow.keras.losses import SparseCategoricalCrossentropy\n",
    "from tensorflow.keras.optimizers import Adam\n",
    "from tensorflow.keras.callbacks import TensorBoard, ModelCheckpoint,EarlyStopping\n",
    "from keras.preprocessing.text import Tokenizer\n",
    "\n",
    "\n",
    "import mlflow\n",
    "plt.style.use('seaborn')"
   ]
  },
  {
   "cell_type": "markdown",
   "metadata": {},
   "source": [
    "\n"
   ]
  },
  {
   "cell_type": "markdown",
   "metadata": {},
   "source": [
    "## Models hyperparamters version 1"
   ]
  },
  {
   "cell_type": "markdown",
   "metadata": {},
   "source": [
    "* maximum length of the sequences - we will not use the actual maximum length of the sequences as very few songs have 800 words in them. If we choose a maximum length equal to 300, we will cover 94% of the lyrics' actual length, if we choose 250 - we will cover 90%. We can try with 300, if we have a problem with the vanishing gradient - we can decrease it to 250 or even 200 (85%)\n",
    "\n",
    "\n",
    "\n",
    "* maximum vocabulary size (word-based vocabulary) -  The set of unique words used in the text corpus is ~ 50 000. Given the fact that we work with lyrics of songs, even though we selected only English lyrics there is a high probability that there are some words left from Spanish ( typical for pop songs), some typical slang for artists, and other peculiarities. Thus we will use the maximum size of vocabulary 10 000 ( if it is too big, we can drop it to 5000) and keep only the most common words.\n",
    "\n",
    "\n",
    "\n",
    "* BATCH_SIZE = 16 \n",
    "* MAX_VOCABULARY_SIZE = 10000 \n",
    "* MAX_OUTPUT_LENGTH = 250 # 300\n",
    "* EMBEDDING_DIMENSIONS = 100 #loaded GloVe trained  with 100d\n",
    "* LEARNING_RATE = 1e-2\n"
   ]
  },
  {
   "cell_type": "code",
   "execution_count": 126,
   "metadata": {},
   "outputs": [],
   "source": [
    "### Bookkeeping\n",
    "\n",
    "\n",
    "TRAIN_BASE_DIR = r\"C:\\Users\\PC\\Desktop\\NN\\Text calssification\\train\"\n",
    "TEST_BASE_DIR = r\"C:\\Users\\PC\\Desktop\\NN\\Text calssification\\test\"\n",
    "logs = r\"C:\\Users\\PC\\Desktop\\NN\\Text calssification\\logs\"\n",
    "check_point = r\"C:\\Users\\PC\\Desktop\\NN\\Text calssification\\checkpoint\"\n",
    "check_point_opt = r\"C:\\Users\\PC\\Desktop\\NN\\Text calssification\\checkpoint_opt\"\n",
    "check_point_bi = r\"C:\\Users\\PC\\Desktop\\NN\\Text calssification\\checkpoint_bi\"\n",
    "N_CLASSES = 4\n",
    "\n",
    "BATCH_SIZE = 16 # 8\n",
    "MAX_VOCABULARY_SIZE = 10000 # change to 5000 if too big\n",
    "MAX_OUTPUT_LENGTH = 250 # 300\n",
    "EMBEDDING_DIMENSIONS = 100 #loaded GloVe trained  with 100d\n",
    "LEARNING_RATE = 1e-2\n",
    "Seed = 42"
   ]
  },
  {
   "cell_type": "code",
   "execution_count": 127,
   "metadata": {
    "scrolled": true
   },
   "outputs": [
    {
     "name": "stdout",
     "output_type": "stream",
     "text": [
      "Found 65048 files belonging to 4 classes.\n",
      "Using 58544 files for training.\n"
     ]
    }
   ],
   "source": [
    "\n",
    "train_dataset = tf.keras.utils.text_dataset_from_directory(TRAIN_BASE_DIR,batch_size = BATCH_SIZE, validation_split=0.1,\n",
    "    subset='training', seed = Seed)\n",
    "   \n",
    "   "
   ]
  },
  {
   "cell_type": "markdown",
   "metadata": {},
   "source": [
    "Found 65048 files belonging to 4 classes.\n",
    "Using 58544 files for training."
   ]
  },
  {
   "cell_type": "code",
   "execution_count": 128,
   "metadata": {},
   "outputs": [
    {
     "name": "stdout",
     "output_type": "stream",
     "text": [
      "3659\n"
     ]
    }
   ],
   "source": [
    "print(train_dataset.cardinality().numpy())"
   ]
  },
  {
   "cell_type": "code",
   "execution_count": 130,
   "metadata": {},
   "outputs": [
    {
     "name": "stdout",
     "output_type": "stream",
     "text": [
      "Found 65048 files belonging to 4 classes.\n",
      "Using 6504 files for validation.\n"
     ]
    }
   ],
   "source": [
    "val_dataset = tf.keras.utils.text_dataset_from_directory(\n",
    "    TRAIN_BASE_DIR, batch_size=BATCH_SIZE, validation_split=0.1,\n",
    "    subset='validation', seed=Seed)"
   ]
  },
  {
   "cell_type": "code",
   "execution_count": 131,
   "metadata": {
    "scrolled": true
   },
   "outputs": [
    {
     "name": "stdout",
     "output_type": "stream",
     "text": [
      "Found 4000 files belonging to 4 classes.\n"
     ]
    }
   ],
   "source": [
    "test_dataset = tf.keras.utils.text_dataset_from_directory(TEST_BASE_DIR,batch_size = BATCH_SIZE, seed = Seed)"
   ]
  },
  {
   "cell_type": "code",
   "execution_count": 132,
   "metadata": {},
   "outputs": [
    {
     "data": {
      "text/plain": [
       "([(0, 'Jazz'), (1, 'Metal'), (2, 'Pop'), (3, 'Rock')],\n",
       " [(0, 'Jazz'), (1, 'Metal'), (2, 'Pop'), (3, 'Rock')])"
      ]
     },
     "execution_count": 132,
     "metadata": {},
     "output_type": "execute_result"
    }
   ],
   "source": [
    "### check the labesl\n",
    "list(enumerate(train_dataset.class_names)), list(enumerate(val_dataset.class_names))"
   ]
  },
  {
   "cell_type": "code",
   "execution_count": 133,
   "metadata": {
    "scrolled": true
   },
   "outputs": [
    {
     "data": {
      "text/plain": [
       "(1, 'Metal')"
      ]
     },
     "execution_count": 133,
     "metadata": {},
     "output_type": "execute_result"
    }
   ],
   "source": [
    "list(enumerate(train_dataset.class_names))[1]"
   ]
  },
  {
   "cell_type": "markdown",
   "metadata": {},
   "source": [
    "## Vectorizing the text\n",
    "\n",
    "This layer has basic options for managing text in a Keras model. It transforms a batch of strings (one sample = one string) into either a list of token indices (one sample = 1D tensor of integer token indices) or a dense representation (one sample = 1D tensor of float values representing data about the sample's tokens)."
   ]
  },
  {
   "cell_type": "code",
   "execution_count": 135,
   "metadata": {},
   "outputs": [],
   "source": [
    "vectorize_layer = TextVectorization(\n",
    "    max_tokens = MAX_VOCABULARY_SIZE, \n",
    "    output_sequence_length=MAX_OUTPUT_LENGTH)"
   ]
  },
  {
   "cell_type": "code",
   "execution_count": 136,
   "metadata": {},
   "outputs": [],
   "source": [
    "text_ds = train_dataset.map(lambda x, y: x)\n",
    "vectorize_layer.adapt(text_ds)"
   ]
  },
  {
   "cell_type": "code",
   "execution_count": 137,
   "metadata": {},
   "outputs": [],
   "source": [
    "### 76952 vocabulary size without limiting the vocabulary size to max size"
   ]
  },
  {
   "cell_type": "code",
   "execution_count": 138,
   "metadata": {},
   "outputs": [],
   "source": [
    "#text_ds"
   ]
  },
  {
   "cell_type": "code",
   "execution_count": 139,
   "metadata": {
    "scrolled": false
   },
   "outputs": [
    {
     "data": {
      "text/plain": [
       "10000"
      ]
     },
     "execution_count": 139,
     "metadata": {},
     "output_type": "execute_result"
    }
   ],
   "source": [
    "vectorize_layer.vocabulary_size()"
   ]
  },
  {
   "cell_type": "code",
   "execution_count": 140,
   "metadata": {},
   "outputs": [],
   "source": [
    "## 1 is unkown"
   ]
  },
  {
   "cell_type": "code",
   "execution_count": 141,
   "metadata": {
    "scrolled": true
   },
   "outputs": [],
   "source": [
    "#vectorize_layer([\"something nigga money where love queen king boy girl\"])"
   ]
  },
  {
   "cell_type": "code",
   "execution_count": 142,
   "metadata": {
    "scrolled": true
   },
   "outputs": [
    {
     "data": {
      "text/plain": [
       "['rang',\n",
       " 'liberate',\n",
       " 'imitation',\n",
       " 'harvest',\n",
       " 'frail',\n",
       " 'eminem',\n",
       " 'ditch',\n",
       " 'crucify',\n",
       " 'carter',\n",
       " 'carol',\n",
       " 'canvas',\n",
       " 'brief',\n",
       " 'yelling',\n",
       " 'village',\n",
       " 'stunna',\n",
       " 'slut',\n",
       " 'rocker',\n",
       " 'relation',\n",
       " 'oooo',\n",
       " 'moonlit',\n",
       " 'max',\n",
       " 'loco',\n",
       " 'league',\n",
       " 'kelly',\n",
       " 'incomplete',\n",
       " 'grinding',\n",
       " 'donna',\n",
       " 'diggin',\n",
       " 'decline',\n",
       " 'coulda',\n",
       " 'argue',\n",
       " 'tuck',\n",
       " 'spiral',\n",
       " 'raped',\n",
       " 'poster',\n",
       " 'pitter',\n",
       " 'marie',\n",
       " 'lucifer',\n",
       " 'lettin',\n",
       " 'howling',\n",
       " 'gyal',\n",
       " 'farmer',\n",
       " 'crunk',\n",
       " 'countin',\n",
       " 'assume',\n",
       " 'aisle',\n",
       " 'actor',\n",
       " 'yow',\n",
       " 'western',\n",
       " 'upstairs',\n",
       " 'twerk',\n",
       " 'tipsy',\n",
       " 'tic',\n",
       " 'suffocate',\n",
       " 'stash',\n",
       " 'stairway',\n",
       " 'sideways',\n",
       " 'ruler',\n",
       " 'rooftop',\n",
       " 'retreat',\n",
       " 'permanent',\n",
       " 'nurse',\n",
       " 'jury',\n",
       " 'fu',\n",
       " 'finna',\n",
       " 'dreamy',\n",
       " 'declare',\n",
       " 'daze',\n",
       " 'collapse',\n",
       " 'boyz',\n",
       " 'asshole',\n",
       " 'worldwide',\n",
       " 'wage',\n",
       " 'vibration',\n",
       " 'sweetness',\n",
       " 'strut',\n",
       " 'snatch',\n",
       " 'rail',\n",
       " 'purse',\n",
       " 'nameless',\n",
       " 'mysterious',\n",
       " 'melancholy',\n",
       " 'meanwhile',\n",
       " 'laura',\n",
       " 'jo',\n",
       " 'hustlin',\n",
       " 'feature',\n",
       " 'coin',\n",
       " 'blondie',\n",
       " 'beyonce',\n",
       " 'roman',\n",
       " 'rod',\n",
       " 'madonna',\n",
       " 'interest',\n",
       " 'ideal',\n",
       " 'heals',\n",
       " 'headlight',\n",
       " 'hallway',\n",
       " 'foul',\n",
       " 'dressing',\n",
       " 'dixie',\n",
       " 'discovered',\n",
       " 'def',\n",
       " 'creator',\n",
       " 'countless',\n",
       " 'clique',\n",
       " 'clack',\n",
       " 'armageddon',\n",
       " 'waiter',\n",
       " 'task',\n",
       " 'sparkling',\n",
       " 'snitch',\n",
       " 'smith',\n",
       " 'rodeo',\n",
       " 'philosophy',\n",
       " 'mint',\n",
       " 'lorraine',\n",
       " 'indigo',\n",
       " 'hypnotic',\n",
       " 'hunting',\n",
       " 'happenin',\n",
       " 'guru',\n",
       " 'genocide',\n",
       " 'gained',\n",
       " 'flock',\n",
       " 'flipped',\n",
       " 'expensive',\n",
       " 'drake',\n",
       " 'device',\n",
       " 'current',\n",
       " 'curl',\n",
       " 'corruption',\n",
       " 'closest',\n",
       " 'capital',\n",
       " 'breathin',\n",
       " 'belle',\n",
       " 'barbie',\n",
       " 'wid',\n",
       " 'tit',\n",
       " 'soothing',\n",
       " 'rug',\n",
       " 'punishment',\n",
       " 'package',\n",
       " 'nae',\n",
       " 'mony',\n",
       " 'lifestyle',\n",
       " 'jewelry',\n",
       " 'infected',\n",
       " 'et',\n",
       " 'droppin',\n",
       " 'detroit',\n",
       " 'delay',\n",
       " 'cunt',\n",
       " 'cu',\n",
       " 'anxiety',\n",
       " 'anew',\n",
       " 'zip',\n",
       " 'testify',\n",
       " 'sanctuary',\n",
       " 'rearrange',\n",
       " 'pyramid',\n",
       " 'paved',\n",
       " 'oxygen',\n",
       " 'nearer',\n",
       " 'nd',\n",
       " 'mustve',\n",
       " 'hesitation',\n",
       " 'galaxy',\n",
       " 'fails',\n",
       " 'diving',\n",
       " 'digital',\n",
       " 'delicious',\n",
       " 'contagious',\n",
       " 'bud',\n",
       " 'atlanta',\n",
       " 'appeal',\n",
       " 'apocalypse',\n",
       " 'yearn',\n",
       " 'vanity',\n",
       " 'trend',\n",
       " 'tighter',\n",
       " 'shooter',\n",
       " 'peach',\n",
       " 'lou',\n",
       " 'landed',\n",
       " 'idiot',\n",
       " 'failing',\n",
       " 'expected',\n",
       " 'entered',\n",
       " 'cuddle',\n",
       " 'confuse',\n",
       " 'chuck',\n",
       " 'caring',\n",
       " 'amends',\n",
       " 'abide',\n",
       " 'whoop',\n",
       " 'unleash',\n",
       " 'tyrant',\n",
       " 'sighing',\n",
       " 'seize',\n",
       " 'resurrection',\n",
       " 'necessary',\n",
       " 'logic',\n",
       " 'lemonade',\n",
       " 'jaded',\n",
       " 'hut',\n",
       " 'hitting',\n",
       " 'disorder',\n",
       " 'difficult',\n",
       " 'delusion',\n",
       " 'crossroad',\n",
       " 'chart',\n",
       " 'ben',\n",
       " 'address',\n",
       " 'wastin',\n",
       " 'trusting',\n",
       " 'travelling',\n",
       " 'talent',\n",
       " 'suicidal',\n",
       " 'spendin',\n",
       " 'shoo',\n",
       " 'politician',\n",
       " 'playground',\n",
       " 'now',\n",
       " 'nearness',\n",
       " 'mutha',\n",
       " 'muddy',\n",
       " 'kite',\n",
       " 'jerk',\n",
       " 'isolation',\n",
       " 'intent',\n",
       " 'infinite',\n",
       " 'grieve',\n",
       " 'goon',\n",
       " 'destroying',\n",
       " 'dealt',\n",
       " 'dave',\n",
       " 'crucified',\n",
       " 'convince',\n",
       " 'chump',\n",
       " 'basket',\n",
       " 'undertow',\n",
       " 'ugh',\n",
       " 'tossin',\n",
       " 'stall',\n",
       " 'shred',\n",
       " 'settled',\n",
       " 'scarlet',\n",
       " 'runner',\n",
       " 'robbed',\n",
       " 'ripple',\n",
       " 'pedal',\n",
       " 'pawn',\n",
       " 'maniac',\n",
       " 'football',\n",
       " 'faggot',\n",
       " 'dump',\n",
       " 'descend',\n",
       " 'dancefloor',\n",
       " 'cult',\n",
       " 'crook',\n",
       " 'communication',\n",
       " 'bom',\n",
       " 'boil',\n",
       " 'blazin',\n",
       " 'biz',\n",
       " 'behavior',\n",
       " 'badly',\n",
       " 'axe',\n",
       " 'yayo',\n",
       " 'tax',\n",
       " 'steer',\n",
       " 'reminisce',\n",
       " 'rank',\n",
       " 'nailed',\n",
       " 'murdered',\n",
       " 'motel',\n",
       " 'mere',\n",
       " 'member',\n",
       " 'listenin',\n",
       " 'kansa',\n",
       " 'hella',\n",
       " 'heh',\n",
       " 'headline',\n",
       " 'gga',\n",
       " 'designed',\n",
       " 'curb',\n",
       " 'soda',\n",
       " 'shaped',\n",
       " 'shack',\n",
       " 'ringin',\n",
       " 'method',\n",
       " 'loop',\n",
       " 'isle',\n",
       " 'inviting',\n",
       " 'impress',\n",
       " 'identity',\n",
       " 'goddess',\n",
       " 'gloomy',\n",
       " 'consolation',\n",
       " 'carousel',\n",
       " 'blush',\n",
       " 'whirl',\n",
       " 'unusual',\n",
       " 'tempt',\n",
       " 'taylor',\n",
       " 'stripper',\n",
       " 'slit',\n",
       " 'reminding',\n",
       " 'reel',\n",
       " 'possessed',\n",
       " 'playboy',\n",
       " 'petal',\n",
       " 'leaning',\n",
       " 'janet',\n",
       " 'insecurity',\n",
       " 'homeboy',\n",
       " 'evermore',\n",
       " 'copy',\n",
       " 'controlling',\n",
       " 'brotha',\n",
       " 'brightest',\n",
       " 'woulda',\n",
       " 'unbelievable',\n",
       " 'sweetie',\n",
       " 'sucked',\n",
       " 'spilling',\n",
       " 'seventh',\n",
       " 'scenery',\n",
       " 'revealing',\n",
       " 'remix',\n",
       " 'q',\n",
       " 'pledge',\n",
       " 'patron',\n",
       " 'oer',\n",
       " 'japan',\n",
       " 'goo',\n",
       " 'firm',\n",
       " 'event',\n",
       " 'enchanted',\n",
       " 'ella',\n",
       " 'dusty',\n",
       " 'cruising',\n",
       " 'chant',\n",
       " 'bonnie',\n",
       " 'bin',\n",
       " 'whistling',\n",
       " 'warmer',\n",
       " 'unity',\n",
       " 'underwater',\n",
       " 'touchdown',\n",
       " 'strollin',\n",
       " 'splendor',\n",
       " 'spice',\n",
       " 'rendezvous',\n",
       " 'object',\n",
       " 'murderer',\n",
       " 'lifeline',\n",
       " 'jeff',\n",
       " 'hottest',\n",
       " 'groupie',\n",
       " 'groovy',\n",
       " 'gosh',\n",
       " 'crumbling',\n",
       " 'cinderella',\n",
       " 'ciara',\n",
       " 'ching',\n",
       " 'cheated',\n",
       " 'chased',\n",
       " 'carve',\n",
       " 'canyon',\n",
       " 'yeahh',\n",
       " 'yap',\n",
       " 'writer',\n",
       " 'wiz',\n",
       " 'vote',\n",
       " 'virginia',\n",
       " 'survived',\n",
       " 'stared',\n",
       " 'sounding',\n",
       " 'slack',\n",
       " 'secure',\n",
       " 'sacrificed',\n",
       " 'parted',\n",
       " 'newborn',\n",
       " 'luv',\n",
       " 'kentucky',\n",
       " 'homicide',\n",
       " 'groovin',\n",
       " 'fortress',\n",
       " 'flippin',\n",
       " 'era',\n",
       " 'education',\n",
       " 'delivered',\n",
       " 'causing',\n",
       " 'awe',\n",
       " 'anguish',\n",
       " 'addict',\n",
       " 'tum',\n",
       " 'tucked',\n",
       " 'towel',\n",
       " 'tempting',\n",
       " 'tainted',\n",
       " 'sweater',\n",
       " 'sprung',\n",
       " 'slang',\n",
       " 'routine',\n",
       " 'print',\n",
       " 'pirate',\n",
       " 'limousine',\n",
       " 'lethal',\n",
       " 'joker',\n",
       " 'hitch',\n",
       " 'gospel',\n",
       " 'gathering',\n",
       " 'framed',\n",
       " 'exchange',\n",
       " 'effort',\n",
       " 'dealin',\n",
       " 'chi',\n",
       " 'catchin',\n",
       " 'buyin',\n",
       " 'adrenaline',\n",
       " 'why',\n",
       " 'undo',\n",
       " 'turkey',\n",
       " 'tommy',\n",
       " 'term',\n",
       " 'sweating',\n",
       " 'stressed',\n",
       " 'spittin',\n",
       " 'sadly',\n",
       " 'risin',\n",
       " 'reject',\n",
       " 'realest',\n",
       " 'possibly',\n",
       " 'pitiful',\n",
       " 'pitbull',\n",
       " 'patter',\n",
       " 'overload',\n",
       " 'oom',\n",
       " 'noble',\n",
       " 'lighting',\n",
       " 'juicy',\n",
       " 'inspired',\n",
       " 'headache',\n",
       " 'fairytale',\n",
       " 'example',\n",
       " 'dose',\n",
       " 'disappears',\n",
       " 'charles',\n",
       " 'bleek',\n",
       " 'beggar',\n",
       " 'anyhow',\n",
       " 'vile',\n",
       " 'vanish',\n",
       " 'usa',\n",
       " 'trained',\n",
       " 'timing',\n",
       " 'stripe',\n",
       " 'strictly',\n",
       " 'sparrow',\n",
       " 'sounded',\n",
       " 'shuffle',\n",
       " 'sew',\n",
       " 'several',\n",
       " 'secrecy',\n",
       " 'sample',\n",
       " 'process',\n",
       " 'popular',\n",
       " 'overtime',\n",
       " 'myth',\n",
       " 'martin',\n",
       " 'jukebox',\n",
       " 'ivy',\n",
       " 'heartbreaker',\n",
       " 'function',\n",
       " 'dock',\n",
       " 'dame',\n",
       " 'correct',\n",
       " 'comb',\n",
       " 'bursting',\n",
       " 'area',\n",
       " 'anti',\n",
       " 'adam',\n",
       " 'unstoppable',\n",
       " 'sundown',\n",
       " 'stealin',\n",
       " 'rowdy',\n",
       " 'polka',\n",
       " 'oops',\n",
       " 'oohh',\n",
       " 'milky',\n",
       " 'mil',\n",
       " 'loneliest',\n",
       " 'khaled',\n",
       " 'jerry',\n",
       " 'insect',\n",
       " 'impression',\n",
       " 'fling',\n",
       " 'expectation',\n",
       " 'drill',\n",
       " 'countdown',\n",
       " 'committed',\n",
       " 'cindy',\n",
       " 'biting',\n",
       " 'birdman',\n",
       " 'bewildered',\n",
       " 'beloved',\n",
       " 'believin',\n",
       " 'willie',\n",
       " 'wallet',\n",
       " 'taunt',\n",
       " 'subway',\n",
       " 'spilled',\n",
       " 'scratching',\n",
       " 'scheming',\n",
       " 'remove',\n",
       " 'perspective',\n",
       " 'obviously',\n",
       " 'loyalty',\n",
       " 'kim',\n",
       " 'je',\n",
       " 'hypocrite',\n",
       " 'hardcore',\n",
       " 'flashin',\n",
       " 'elvis',\n",
       " 'earthquake',\n",
       " 'cracker',\n",
       " 'comprehend',\n",
       " 'cable',\n",
       " 'buffalo',\n",
       " 'booze',\n",
       " 'bizarre',\n",
       " 'bending',\n",
       " 'applause',\n",
       " 'anchor',\n",
       " 'abandon',\n",
       " 'wooo',\n",
       " 'unlock',\n",
       " 'tightly',\n",
       " 'terribly',\n",
       " 'temper',\n",
       " 'stutter',\n",
       " 'straw',\n",
       " 'shocked',\n",
       " 'rocked',\n",
       " 'random',\n",
       " 'peak',\n",
       " 'obie',\n",
       " 'oath',\n",
       " 'kong',\n",
       " 'healthy',\n",
       " 'gloria',\n",
       " 'globe',\n",
       " 'gleaming',\n",
       " 'frankie',\n",
       " 'ford',\n",
       " 'detail',\n",
       " 'deeply',\n",
       " 'daytime',\n",
       " 'dagger',\n",
       " 'cannibal',\n",
       " 'brutal',\n",
       " 'bleak',\n",
       " 'bewitched',\n",
       " 'vocal',\n",
       " 'uniform',\n",
       " 'twinkle',\n",
       " 'thus',\n",
       " 'steeple',\n",
       " 'standard',\n",
       " 'stabbed',\n",
       " 'reflect',\n",
       " 'react',\n",
       " 'punish',\n",
       " 'philly',\n",
       " 'passenger',\n",
       " 'male',\n",
       " 'licking',\n",
       " 'liberation',\n",
       " 'lad',\n",
       " 'joined',\n",
       " 'jammin',\n",
       " 'international',\n",
       " 'intense',\n",
       " 'huggin',\n",
       " 'hospital',\n",
       " 'ham',\n",
       " 'ggas',\n",
       " 'drunken',\n",
       " 'damaged',\n",
       " 'caution',\n",
       " 'alot',\n",
       " 'virus',\n",
       " 'unaware',\n",
       " 'studio',\n",
       " 'slower',\n",
       " 'skate',\n",
       " 'senseless',\n",
       " 'poke',\n",
       " 'pointed',\n",
       " 'oi',\n",
       " 'offered',\n",
       " 'obscene',\n",
       " 'motivation',\n",
       " 'ka',\n",
       " 'iced',\n",
       " 'grim',\n",
       " 'dismiss',\n",
       " 'choo',\n",
       " 'cheatin',\n",
       " 'blooded',\n",
       " 'blasphemy',\n",
       " 'attached',\n",
       " 'zz',\n",
       " 'twista',\n",
       " 'touchin',\n",
       " 'stiff',\n",
       " 'status',\n",
       " 'spitting',\n",
       " 'smaller',\n",
       " 'renegade',\n",
       " 'quicker',\n",
       " 'minor',\n",
       " 'lime',\n",
       " 'junk',\n",
       " 'juliet',\n",
       " 'herb',\n",
       " 'francisco',\n",
       " 'flop',\n",
       " 'element',\n",
       " 'eighteen',\n",
       " 'critic',\n",
       " 'clone',\n",
       " 'childrens',\n",
       " 'brink',\n",
       " 'wizard',\n",
       " 'vacant',\n",
       " 'tingle',\n",
       " 'spaceship',\n",
       " 'seldom',\n",
       " 'nate',\n",
       " 'madman',\n",
       " 'log',\n",
       " 'infection',\n",
       " 'hooray',\n",
       " 'hahaha',\n",
       " 'fork',\n",
       " 'evrything',\n",
       " 'england',\n",
       " 'drained',\n",
       " 'dedicate',\n",
       " 'curious',\n",
       " 'controlled',\n",
       " 'clarity',\n",
       " 'brian',\n",
       " 'birdland',\n",
       " 'auld',\n",
       " 'yellin',\n",
       " 'tech',\n",
       " 'spike',\n",
       " 'snowflake',\n",
       " 'sauce',\n",
       " 'reflecting',\n",
       " 'rebellion',\n",
       " 'ragged',\n",
       " 'olden',\n",
       " 'o',\n",
       " 'musical',\n",
       " 'mon',\n",
       " 'louisiana',\n",
       " 'knuckle',\n",
       " 'inna',\n",
       " 'infernal',\n",
       " 'frog',\n",
       " 'fee',\n",
       " 'expecting',\n",
       " 'duh',\n",
       " 'doot',\n",
       " 'dolla',\n",
       " 'distress',\n",
       " 'dearly',\n",
       " 'curly',\n",
       " 'cooking',\n",
       " 'berry',\n",
       " 'award',\n",
       " 'unleashed',\n",
       " 'undress',\n",
       " 'troop',\n",
       " 'tote',\n",
       " 'sucka',\n",
       " 'strive',\n",
       " 'soak',\n",
       " 'sever',\n",
       " 'scorn',\n",
       " 'roaring',\n",
       " 'rebound',\n",
       " 'prop',\n",
       " 'prettiest',\n",
       " 'official',\n",
       " 'lifting',\n",
       " 'entertainment',\n",
       " 'desperately',\n",
       " 'designer',\n",
       " 'conquered',\n",
       " 'conclusion',\n",
       " 'con',\n",
       " 'certainly',\n",
       " 'boiling',\n",
       " 'aloud',\n",
       " 'windy',\n",
       " 'triumph',\n",
       " 'travelin',\n",
       " 'thrilling',\n",
       " 'suckin',\n",
       " 'strawberry',\n",
       " 'steak',\n",
       " 'slightly',\n",
       " 'reeling',\n",
       " 'potion',\n",
       " 'planted',\n",
       " 'moses',\n",
       " 'mindless',\n",
       " 'meaningless',\n",
       " 'judy',\n",
       " 'hippy',\n",
       " 'hidin',\n",
       " 'hawk',\n",
       " 'happily',\n",
       " 'gamble',\n",
       " 'feared',\n",
       " 'exposed',\n",
       " 'endure',\n",
       " 'daffodil',\n",
       " 'cuff',\n",
       " 'conscious',\n",
       " 'coaster',\n",
       " 'balling',\n",
       " 'ape',\n",
       " 'wreckage',\n",
       " 'wop',\n",
       " 'wooden',\n",
       " 'voyage',\n",
       " 'title',\n",
       " 'ross',\n",
       " 'richard',\n",
       " 'religious',\n",
       " 'poured',\n",
       " 'pointing',\n",
       " 'noel',\n",
       " 'nana',\n",
       " 'midst',\n",
       " 'luckiest',\n",
       " 'loot',\n",
       " 'jigga',\n",
       " 'hearse',\n",
       " 'flirt',\n",
       " 'exotic',\n",
       " 'embraced',\n",
       " 'elton',\n",
       " 'eastside',\n",
       " 'drippin',\n",
       " 'cigar',\n",
       " 'chemistry',\n",
       " 'bun',\n",
       " 'brook',\n",
       " 'breaker',\n",
       " 'bella',\n",
       " 'adored',\n",
       " 'thriller',\n",
       " 'suspicion',\n",
       " 'suffered',\n",
       " 'snowman',\n",
       " 'shimmy',\n",
       " 'repeated',\n",
       " 'proceed',\n",
       " 'phoenix',\n",
       " 'oficial',\n",
       " 'november',\n",
       " 'nineteen',\n",
       " 'nike',\n",
       " 'massacre',\n",
       " 'lite',\n",
       " 'hmmm',\n",
       " 'handful',\n",
       " 'greener',\n",
       " 'forgiving',\n",
       " 'doorstep',\n",
       " 'donkey',\n",
       " 'diva',\n",
       " 'distraction',\n",
       " 'disguised',\n",
       " 'diana',\n",
       " 'cuckoo',\n",
       " 'criticize',\n",
       " 'counter',\n",
       " 'cough',\n",
       " 'corps',\n",
       " 'cord',\n",
       " 'cooked',\n",
       " 'coloured',\n",
       " 'closely',\n",
       " 'claimed',\n",
       " 'checked',\n",
       " 'cape',\n",
       " 'candlelight',\n",
       " 'burner',\n",
       " 'bracelet',\n",
       " 'begged',\n",
       " 'zoo',\n",
       " 'yacht',\n",
       " 'wither',\n",
       " 'upper',\n",
       " 'unique',\n",
       " 'traded',\n",
       " 'tonk',\n",
       " 'strangest',\n",
       " 'spree',\n",
       " 'softer',\n",
       " 'serum',\n",
       " 'serenity',\n",
       " 'quarrel',\n",
       " 'parked',\n",
       " 'og',\n",
       " 'meek',\n",
       " 'manhattan',\n",
       " 'maggot',\n",
       " 'lined',\n",
       " 'lightly',\n",
       " 'leak',\n",
       " 'flocka',\n",
       " 'flea',\n",
       " 'escaping',\n",
       " 'entire',\n",
       " 'drifted',\n",
       " 'descends',\n",
       " 'descending',\n",
       " 'departed',\n",
       " 'custom',\n",
       " 'clash',\n",
       " 'central',\n",
       " 'bronx',\n",
       " 'battery',\n",
       " 'angle',\n",
       " 'anarchy',\n",
       " 'worthwhile',\n",
       " 'wat',\n",
       " 'trice',\n",
       " 'spinner',\n",
       " 'sole',\n",
       " 'slowing',\n",
       " 'shalt',\n",
       " 'ridiculous',\n",
       " 'reachin',\n",
       " 'penetrate',\n",
       " 'parasite',\n",
       " 'officer',\n",
       " 'mojo',\n",
       " 'minaj',\n",
       " 'mek',\n",
       " 'marilyn',\n",
       " 'lunatic',\n",
       " 'longest',\n",
       " 'lalala',\n",
       " 'julie',\n",
       " 'instant',\n",
       " 'hoop',\n",
       " 'fragment',\n",
       " 'fonte',\n",
       " 'florida',\n",
       " 'explosion',\n",
       " 'explore',\n",
       " 'dm',\n",
       " 'computer',\n",
       " 'alter',\n",
       " 'alligator',\n",
       " 'unborn',\n",
       " 'unable',\n",
       " 'study',\n",
       " 'speeding',\n",
       " 'sly',\n",
       " 'shackle',\n",
       " 'responsible',\n",
       " 'reminded',\n",
       " 'rapping',\n",
       " 'parting',\n",
       " 'paranoia',\n",
       " 'pad',\n",
       " 'packin',\n",
       " 'owned',\n",
       " 'necklace',\n",
       " 'mostly',\n",
       " 'mistreated',\n",
       " 'miserable',\n",
       " 'merrily',\n",
       " 'learnin',\n",
       " 'interlude',\n",
       " 'hov',\n",
       " 'heroin',\n",
       " 'grenade',\n",
       " 'execution',\n",
       " 'duke',\n",
       " 'draggin',\n",
       " 'disbelief',\n",
       " 'creating',\n",
       " 'contradiction',\n",
       " 'coldest',\n",
       " 'charade',\n",
       " 'bunny',\n",
       " 'brace',\n",
       " 'blackout',\n",
       " 'bitterness',\n",
       " 'bait',\n",
       " 'angeles',\n",
       " 'ala',\n",
       " 'wooh',\n",
       " 'unfolds',\n",
       " 'treason',\n",
       " 'technology',\n",
       " 'spoiled',\n",
       " 'speechless',\n",
       " 'semi',\n",
       " 'rihanna',\n",
       " 'prowl',\n",
       " 'obsessed',\n",
       " 'mink',\n",
       " 'mild',\n",
       " 'layer',\n",
       " 'landing',\n",
       " 'israel',\n",
       " 'inspire',\n",
       " 'impressed',\n",
       " 'ignorant',\n",
       " 'idle',\n",
       " 'horny',\n",
       " 'hometown',\n",
       " 'harbor',\n",
       " 'fluid',\n",
       " 'flowin',\n",
       " 'fitted',\n",
       " 'entrancing',\n",
       " 'elbow',\n",
       " 'drought',\n",
       " 'dolly',\n",
       " 'deo',\n",
       " 'cheetah',\n",
       " 'butcher',\n",
       " 'borrowed',\n",
       " 'bearing',\n",
       " 'bayou',\n",
       " 'aunt',\n",
       " 'audience',\n",
       " 'apathy',\n",
       " 'xzibit',\n",
       " 'wantin',\n",
       " 'uuh',\n",
       " 'toxic',\n",
       " 'tot',\n",
       " 'tch',\n",
       " 'strolling',\n",
       " 'stamp',\n",
       " 'stalk',\n",
       " 'speakin',\n",
       " 'shovel',\n",
       " 'roaming',\n",
       " 'ripe',\n",
       " 'report',\n",
       " 'porn',\n",
       " 'petty',\n",
       " 'percent',\n",
       " 'packing',\n",
       " 'juvenile',\n",
       " 'julep',\n",
       " 'freed',\n",
       " 'freakin',\n",
       " 'fe',\n",
       " 'expose',\n",
       " 'detour',\n",
       " 'crisis',\n",
       " 'compete',\n",
       " 'civil',\n",
       " 'chalk',\n",
       " 'carefully',\n",
       " 'breakaway',\n",
       " 'ave',\n",
       " 'arizona',\n",
       " 'ar',\n",
       " 'alike',\n",
       " 'yuletide',\n",
       " 'weaker',\n",
       " 'waka',\n",
       " 'vodka',\n",
       " 'violet',\n",
       " 'tube',\n",
       " 'supplied',\n",
       " 'structure',\n",
       " 'southside',\n",
       " 'retire',\n",
       " 'resolve',\n",
       " ...]"
      ]
     },
     "execution_count": 142,
     "metadata": {},
     "output_type": "execute_result"
    }
   ],
   "source": [
    "### test\n",
    "vectorize_layer.get_vocabulary()[4000:]\n"
   ]
  },
  {
   "cell_type": "code",
   "execution_count": 143,
   "metadata": {},
   "outputs": [],
   "source": [
    "### test \n",
    "#output = vectorize_layer([[\"the cat sat on the mat\"]])\n",
    "#output.numpy()[0, :11]\n"
   ]
  },
  {
   "cell_type": "code",
   "execution_count": null,
   "metadata": {},
   "outputs": [],
   "source": [
    "\n"
   ]
  },
  {
   "cell_type": "code",
   "execution_count": 144,
   "metadata": {},
   "outputs": [
    {
     "data": {
      "text/plain": [
       "10000"
      ]
     },
     "execution_count": 144,
     "metadata": {},
     "output_type": "execute_result"
    }
   ],
   "source": [
    "# Here's a dict mapping words to their indices:\n",
    "voc = vectorize_layer.get_vocabulary()\n",
    "word_index = dict(zip(voc, range(len(voc))))\n",
    "len(voc)"
   ]
  },
  {
   "cell_type": "code",
   "execution_count": 145,
   "metadata": {
    "scrolled": false
   },
   "outputs": [
    {
     "data": {
      "text/plain": [
       "['',\n",
       " '[UNK]',\n",
       " 'im',\n",
       " 'love',\n",
       " 'know',\n",
       " 'dont',\n",
       " 'like',\n",
       " 'oh',\n",
       " 'get',\n",
       " 'got',\n",
       " 'go',\n",
       " 'one',\n",
       " 'time',\n",
       " 'youre',\n",
       " 'never',\n",
       " 'see',\n",
       " 'let',\n",
       " 'come',\n",
       " 'cant',\n",
       " 'baby']"
      ]
     },
     "execution_count": 145,
     "metadata": {},
     "output_type": "execute_result"
    }
   ],
   "source": [
    "list(word_index.keys())[:20]"
   ]
  },
  {
   "cell_type": "code",
   "execution_count": 146,
   "metadata": {},
   "outputs": [],
   "source": [
    "tf.keras.backend.clear_session()"
   ]
  },
  {
   "cell_type": "markdown",
   "metadata": {},
   "source": [
    "### Load Pretrained Glove Word Embedding\n",
    "\n",
    "Jeffrey Pennington, Richard Socher, and Christopher D. Manning. 2014. GloVe: Global Vectors for Word Representation.\n",
    "\n",
    "\n",
    "GloVe is an unsupervised learning algorithm for obtaining vector representations for words. Training is performed on aggregated global word-word co-occurrence statistics from a corpus, and the resulting representations showcase interesting linear substructures of the word vector space.\n",
    "\n",
    "\n",
    "The GloVe model is trained on the non-zero entries of a global word-word co-occurrence matrix, which tabulates how frequently words co-occur with one another in a given corpus. Populating this matrix requires a single pass through the entire corpus to collect the statistics. For large corpora, this pass can be computationally expensive, but it is a one-time up-front cost. Subsequent training iterations are much faster because the number of non-zero matrix entries is typically much smaller than the total number of words in the corpus.\n",
    "\n"
   ]
  },
  {
   "cell_type": "code",
   "execution_count": null,
   "metadata": {},
   "outputs": [],
   "source": []
  },
  {
   "cell_type": "code",
   "execution_count": 147,
   "metadata": {},
   "outputs": [
    {
     "data": {
      "text/plain": [
       "10000"
      ]
     },
     "execution_count": 147,
     "metadata": {},
     "output_type": "execute_result"
    }
   ],
   "source": [
    "vectorize_layer.vocabulary_size()"
   ]
  },
  {
   "cell_type": "code",
   "execution_count": 148,
   "metadata": {},
   "outputs": [],
   "source": [
    "path_glove = (r'C:\\Users\\PC\\Desktop\\NN\\NN Project\\glove\\glove.6B.100d.txt')"
   ]
  },
  {
   "cell_type": "code",
   "execution_count": 149,
   "metadata": {},
   "outputs": [
    {
     "name": "stdout",
     "output_type": "stream",
     "text": [
      "Total 400000 word vectors in Glove 6B 100d.\n"
     ]
    }
   ],
   "source": [
    "embeddings_index = {}\n",
    "f = open(path_glove,encoding='utf8')\n",
    "for line in f:\n",
    "    values = line.split()\n",
    "    word = values[0]\n",
    "    coefs = np.asarray(values[1:], dtype='float32')\n",
    "    embeddings_index[word] = coefs\n",
    "f.close()\n",
    "\n",
    "print('Total %s word vectors in Glove 6B 100d.' % len(embeddings_index))"
   ]
  },
  {
   "cell_type": "code",
   "execution_count": 150,
   "metadata": {},
   "outputs": [],
   "source": [
    "#embeddings_index"
   ]
  },
  {
   "cell_type": "markdown",
   "metadata": {},
   "source": [
    "#### Creating a weight matrix for words in training docs"
   ]
  },
  {
   "cell_type": "code",
   "execution_count": 151,
   "metadata": {},
   "outputs": [
    {
     "name": "stdout",
     "output_type": "stream",
     "text": [
      "Converted 9679 words (321 misses)\n"
     ]
    }
   ],
   "source": [
    "### note to self \n",
    "\n",
    "#index 0 is reserved for padding and index 1 is reserved for \"out of vocabulary\" tokens.\n",
    "num_tokens = len(voc) + 2\n",
    "embedding_dim = EMBEDDING_DIMENSIONS\n",
    "hits = 0\n",
    "misses = 0\n",
    "\n",
    "# Prepare embedding matrix\n",
    "embedding_matrix = np.zeros((num_tokens, embedding_dim))\n",
    "for word, i in word_index.items():\n",
    "    embedding_vector = embeddings_index.get(word)\n",
    "    if embedding_vector is not None:\n",
    "        # Words not found in embedding index will be all-zeros.\n",
    "        # This includes the representation for \"padding\" and \"OOV\"\n",
    "        embedding_matrix[i] = embedding_vector\n",
    "        hits += 1\n",
    "    else:\n",
    "        misses += 1\n",
    "print(\"Converted %d words (%d misses)\" % (hits, misses))"
   ]
  },
  {
   "cell_type": "code",
   "execution_count": 152,
   "metadata": {},
   "outputs": [
    {
     "data": {
      "text/plain": [
       "array([[ 0.        ,  0.        ,  0.        , ...,  0.        ,\n",
       "         0.        ,  0.        ],\n",
       "       [ 0.        ,  0.        ,  0.        , ...,  0.        ,\n",
       "         0.        ,  0.        ],\n",
       "       [ 0.41711   , -0.10176   ,  0.058147  , ..., -0.29444   ,\n",
       "        -0.039114  ,  0.39534   ],\n",
       "       ...,\n",
       "       [ 0.63734001, -0.086567  ,  0.61628997, ..., -0.22788   ,\n",
       "        -0.13654999,  0.01734   ],\n",
       "       [ 0.        ,  0.        ,  0.        , ...,  0.        ,\n",
       "         0.        ,  0.        ],\n",
       "       [ 0.        ,  0.        ,  0.        , ...,  0.        ,\n",
       "         0.        ,  0.        ]])"
      ]
     },
     "execution_count": 152,
     "metadata": {},
     "output_type": "execute_result"
    }
   ],
   "source": [
    "embedding_matrix"
   ]
  },
  {
   "cell_type": "markdown",
   "metadata": {},
   "source": [
    "## Base LSTM Model"
   ]
  },
  {
   "cell_type": "code",
   "execution_count": 159,
   "metadata": {},
   "outputs": [],
   "source": [
    "tf.keras.backend.clear_session()\n",
    "model_name = \"base lstm model\"\n",
    "checkpointer = ModelCheckpoint(filepath =check_point,\n",
    "                               save_best_only=False, save_weights_only = False, verbose=0,mode='min')\n",
    "early_stopping = EarlyStopping(monitor='val_loss', min_delta=0, patience=10, verbose=0, mode='auto')"
   ]
  },
  {
   "cell_type": "code",
   "execution_count": 160,
   "metadata": {},
   "outputs": [],
   "source": [
    "lstm_base_model = Sequential([\n",
    "  vectorize_layer,\n",
    "  Embedding(input_dim = vectorize_layer.vocabulary_size()+2, output_dim = EMBEDDING_DIMENSIONS,weights=[embedding_matrix],input_length=MAX_OUTPUT_LENGTH,trainable=False),\n",
    "  LSTM(64),\n",
    "  Dense(N_CLASSES,activation = softmax)])"
   ]
  },
  {
   "cell_type": "code",
   "execution_count": 161,
   "metadata": {
    "scrolled": true
   },
   "outputs": [
    {
     "name": "stdout",
     "output_type": "stream",
     "text": [
      "Model: \"sequential\"\n",
      "_________________________________________________________________\n",
      " Layer (type)                Output Shape              Param #   \n",
      "=================================================================\n",
      " text_vectorization_1 (TextV  (None, 250)              0         \n",
      " ectorization)                                                   \n",
      "                                                                 \n",
      " embedding (Embedding)       (None, 250, 100)          1000200   \n",
      "                                                                 \n",
      " lstm (LSTM)                 (None, 64)                42240     \n",
      "                                                                 \n",
      " dense (Dense)               (None, 4)                 260       \n",
      "                                                                 \n",
      "=================================================================\n",
      "Total params: 1,042,700\n",
      "Trainable params: 42,500\n",
      "Non-trainable params: 1,000,200\n",
      "_________________________________________________________________\n"
     ]
    }
   ],
   "source": [
    "lstm_base_model.summary()"
   ]
  },
  {
   "cell_type": "code",
   "execution_count": 162,
   "metadata": {},
   "outputs": [],
   "source": [
    "lstm_base_model.compile(\n",
    "    loss = tf.keras.losses.SparseCategoricalCrossentropy(),\n",
    "    optimizer = Adam(learning_rate = LEARNING_RATE),\n",
    "    metrics = [\"acc\"]\n",
    "    )"
   ]
  },
  {
   "cell_type": "code",
   "execution_count": null,
   "metadata": {},
   "outputs": [],
   "source": []
  },
  {
   "cell_type": "code",
   "execution_count": 163,
   "metadata": {
    "scrolled": true
   },
   "outputs": [
    {
     "name": "stdout",
     "output_type": "stream",
     "text": [
      "Epoch 1/10\n",
      "3659/3659 [==============================] - ETA: 0s - loss: 1.2018 - acc: 0.4533"
     ]
    },
    {
     "name": "stderr",
     "output_type": "stream",
     "text": [
      "WARNING:absl:Found untraced functions such as lstm_cell_layer_call_fn, lstm_cell_layer_call_and_return_conditional_losses while saving (showing 2 of 2). These functions will not be directly callable after loading.\n"
     ]
    },
    {
     "name": "stdout",
     "output_type": "stream",
     "text": [
      "INFO:tensorflow:Assets written to: C:\\Users\\PC\\Desktop\\NN\\Text calssification\\checkpoint\\assets\n"
     ]
    },
    {
     "name": "stderr",
     "output_type": "stream",
     "text": [
      "INFO:tensorflow:Assets written to: C:\\Users\\PC\\Desktop\\NN\\Text calssification\\checkpoint\\assets\n",
      "WARNING:absl:<keras.layers.recurrent.LSTMCell object at 0x00000140C9CBEDC0> has the same name 'LSTMCell' as a built-in Keras object. Consider renaming <class 'keras.layers.recurrent.LSTMCell'> to avoid naming conflicts when loading with `tf.keras.models.load_model`. If renaming is not possible, pass the object in the `custom_objects` parameter of the load function.\n"
     ]
    },
    {
     "name": "stdout",
     "output_type": "stream",
     "text": [
      "3659/3659 [==============================] - 502s 137ms/step - loss: 1.2018 - acc: 0.4533 - val_loss: 1.1187 - val_acc: 0.5128\n",
      "Epoch 2/10\n",
      "3659/3659 [==============================] - ETA: 0s - loss: 1.0601 - acc: 0.5443"
     ]
    },
    {
     "name": "stderr",
     "output_type": "stream",
     "text": [
      "WARNING:absl:Found untraced functions such as lstm_cell_layer_call_fn, lstm_cell_layer_call_and_return_conditional_losses while saving (showing 2 of 2). These functions will not be directly callable after loading.\n"
     ]
    },
    {
     "name": "stdout",
     "output_type": "stream",
     "text": [
      "INFO:tensorflow:Assets written to: C:\\Users\\PC\\Desktop\\NN\\Text calssification\\checkpoint\\assets\n"
     ]
    },
    {
     "name": "stderr",
     "output_type": "stream",
     "text": [
      "INFO:tensorflow:Assets written to: C:\\Users\\PC\\Desktop\\NN\\Text calssification\\checkpoint\\assets\n",
      "WARNING:absl:<keras.layers.recurrent.LSTMCell object at 0x00000140C9CBEDC0> has the same name 'LSTMCell' as a built-in Keras object. Consider renaming <class 'keras.layers.recurrent.LSTMCell'> to avoid naming conflicts when loading with `tf.keras.models.load_model`. If renaming is not possible, pass the object in the `custom_objects` parameter of the load function.\n"
     ]
    },
    {
     "name": "stdout",
     "output_type": "stream",
     "text": [
      "3659/3659 [==============================] - 532s 145ms/step - loss: 1.0601 - acc: 0.5443 - val_loss: 1.0838 - val_acc: 0.5292\n",
      "Epoch 3/10\n",
      "3659/3659 [==============================] - ETA: 0s - loss: 1.0274 - acc: 0.5609"
     ]
    },
    {
     "name": "stderr",
     "output_type": "stream",
     "text": [
      "WARNING:absl:Found untraced functions such as lstm_cell_layer_call_fn, lstm_cell_layer_call_and_return_conditional_losses while saving (showing 2 of 2). These functions will not be directly callable after loading.\n"
     ]
    },
    {
     "name": "stdout",
     "output_type": "stream",
     "text": [
      "INFO:tensorflow:Assets written to: C:\\Users\\PC\\Desktop\\NN\\Text calssification\\checkpoint\\assets\n"
     ]
    },
    {
     "name": "stderr",
     "output_type": "stream",
     "text": [
      "INFO:tensorflow:Assets written to: C:\\Users\\PC\\Desktop\\NN\\Text calssification\\checkpoint\\assets\n",
      "WARNING:absl:<keras.layers.recurrent.LSTMCell object at 0x00000140C9CBEDC0> has the same name 'LSTMCell' as a built-in Keras object. Consider renaming <class 'keras.layers.recurrent.LSTMCell'> to avoid naming conflicts when loading with `tf.keras.models.load_model`. If renaming is not possible, pass the object in the `custom_objects` parameter of the load function.\n"
     ]
    },
    {
     "name": "stdout",
     "output_type": "stream",
     "text": [
      "3659/3659 [==============================] - 530s 145ms/step - loss: 1.0274 - acc: 0.5609 - val_loss: 1.0621 - val_acc: 0.5397\n",
      "Epoch 4/10\n",
      "3659/3659 [==============================] - ETA: 0s - loss: 1.0097 - acc: 0.5689"
     ]
    },
    {
     "name": "stderr",
     "output_type": "stream",
     "text": [
      "WARNING:absl:Found untraced functions such as lstm_cell_layer_call_fn, lstm_cell_layer_call_and_return_conditional_losses while saving (showing 2 of 2). These functions will not be directly callable after loading.\n"
     ]
    },
    {
     "name": "stdout",
     "output_type": "stream",
     "text": [
      "INFO:tensorflow:Assets written to: C:\\Users\\PC\\Desktop\\NN\\Text calssification\\checkpoint\\assets\n"
     ]
    },
    {
     "name": "stderr",
     "output_type": "stream",
     "text": [
      "INFO:tensorflow:Assets written to: C:\\Users\\PC\\Desktop\\NN\\Text calssification\\checkpoint\\assets\n",
      "WARNING:absl:<keras.layers.recurrent.LSTMCell object at 0x00000140C9CBEDC0> has the same name 'LSTMCell' as a built-in Keras object. Consider renaming <class 'keras.layers.recurrent.LSTMCell'> to avoid naming conflicts when loading with `tf.keras.models.load_model`. If renaming is not possible, pass the object in the `custom_objects` parameter of the load function.\n"
     ]
    },
    {
     "name": "stdout",
     "output_type": "stream",
     "text": [
      "3659/3659 [==============================] - 531s 145ms/step - loss: 1.0097 - acc: 0.5689 - val_loss: 1.0079 - val_acc: 0.5667\n",
      "Epoch 5/10\n",
      "3659/3659 [==============================] - ETA: 0s - loss: 0.9889 - acc: 0.5796"
     ]
    },
    {
     "name": "stderr",
     "output_type": "stream",
     "text": [
      "WARNING:absl:Found untraced functions such as lstm_cell_layer_call_fn, lstm_cell_layer_call_and_return_conditional_losses while saving (showing 2 of 2). These functions will not be directly callable after loading.\n"
     ]
    },
    {
     "name": "stdout",
     "output_type": "stream",
     "text": [
      "INFO:tensorflow:Assets written to: C:\\Users\\PC\\Desktop\\NN\\Text calssification\\checkpoint\\assets\n"
     ]
    },
    {
     "name": "stderr",
     "output_type": "stream",
     "text": [
      "INFO:tensorflow:Assets written to: C:\\Users\\PC\\Desktop\\NN\\Text calssification\\checkpoint\\assets\n",
      "WARNING:absl:<keras.layers.recurrent.LSTMCell object at 0x00000140C9CBEDC0> has the same name 'LSTMCell' as a built-in Keras object. Consider renaming <class 'keras.layers.recurrent.LSTMCell'> to avoid naming conflicts when loading with `tf.keras.models.load_model`. If renaming is not possible, pass the object in the `custom_objects` parameter of the load function.\n"
     ]
    },
    {
     "name": "stdout",
     "output_type": "stream",
     "text": [
      "3659/3659 [==============================] - 531s 145ms/step - loss: 0.9889 - acc: 0.5796 - val_loss: 1.0037 - val_acc: 0.5818\n",
      "Epoch 6/10\n",
      "3659/3659 [==============================] - ETA: 0s - loss: 0.9695 - acc: 0.5909"
     ]
    },
    {
     "name": "stderr",
     "output_type": "stream",
     "text": [
      "WARNING:absl:Found untraced functions such as lstm_cell_layer_call_fn, lstm_cell_layer_call_and_return_conditional_losses while saving (showing 2 of 2). These functions will not be directly callable after loading.\n"
     ]
    },
    {
     "name": "stdout",
     "output_type": "stream",
     "text": [
      "INFO:tensorflow:Assets written to: C:\\Users\\PC\\Desktop\\NN\\Text calssification\\checkpoint\\assets\n"
     ]
    },
    {
     "name": "stderr",
     "output_type": "stream",
     "text": [
      "INFO:tensorflow:Assets written to: C:\\Users\\PC\\Desktop\\NN\\Text calssification\\checkpoint\\assets\n",
      "WARNING:absl:<keras.layers.recurrent.LSTMCell object at 0x00000140C9CBEDC0> has the same name 'LSTMCell' as a built-in Keras object. Consider renaming <class 'keras.layers.recurrent.LSTMCell'> to avoid naming conflicts when loading with `tf.keras.models.load_model`. If renaming is not possible, pass the object in the `custom_objects` parameter of the load function.\n"
     ]
    },
    {
     "name": "stdout",
     "output_type": "stream",
     "text": [
      "3659/3659 [==============================] - 549s 150ms/step - loss: 0.9695 - acc: 0.5909 - val_loss: 0.9929 - val_acc: 0.5861\n",
      "Epoch 7/10\n",
      "3659/3659 [==============================] - ETA: 0s - loss: 0.9731 - acc: 0.5904"
     ]
    },
    {
     "name": "stderr",
     "output_type": "stream",
     "text": [
      "WARNING:absl:Found untraced functions such as lstm_cell_layer_call_fn, lstm_cell_layer_call_and_return_conditional_losses while saving (showing 2 of 2). These functions will not be directly callable after loading.\n"
     ]
    },
    {
     "name": "stdout",
     "output_type": "stream",
     "text": [
      "INFO:tensorflow:Assets written to: C:\\Users\\PC\\Desktop\\NN\\Text calssification\\checkpoint\\assets\n"
     ]
    },
    {
     "name": "stderr",
     "output_type": "stream",
     "text": [
      "INFO:tensorflow:Assets written to: C:\\Users\\PC\\Desktop\\NN\\Text calssification\\checkpoint\\assets\n",
      "WARNING:absl:<keras.layers.recurrent.LSTMCell object at 0x00000140C9CBEDC0> has the same name 'LSTMCell' as a built-in Keras object. Consider renaming <class 'keras.layers.recurrent.LSTMCell'> to avoid naming conflicts when loading with `tf.keras.models.load_model`. If renaming is not possible, pass the object in the `custom_objects` parameter of the load function.\n"
     ]
    },
    {
     "name": "stdout",
     "output_type": "stream",
     "text": [
      "3659/3659 [==============================] - 572s 156ms/step - loss: 0.9731 - acc: 0.5904 - val_loss: 0.9979 - val_acc: 0.5789\n",
      "Epoch 8/10\n",
      "3659/3659 [==============================] - ETA: 0s - loss: 0.9660 - acc: 0.5946"
     ]
    },
    {
     "name": "stderr",
     "output_type": "stream",
     "text": [
      "WARNING:absl:Found untraced functions such as lstm_cell_layer_call_fn, lstm_cell_layer_call_and_return_conditional_losses while saving (showing 2 of 2). These functions will not be directly callable after loading.\n"
     ]
    },
    {
     "name": "stdout",
     "output_type": "stream",
     "text": [
      "INFO:tensorflow:Assets written to: C:\\Users\\PC\\Desktop\\NN\\Text calssification\\checkpoint\\assets\n"
     ]
    },
    {
     "name": "stderr",
     "output_type": "stream",
     "text": [
      "INFO:tensorflow:Assets written to: C:\\Users\\PC\\Desktop\\NN\\Text calssification\\checkpoint\\assets\n",
      "WARNING:absl:<keras.layers.recurrent.LSTMCell object at 0x00000140C9CBEDC0> has the same name 'LSTMCell' as a built-in Keras object. Consider renaming <class 'keras.layers.recurrent.LSTMCell'> to avoid naming conflicts when loading with `tf.keras.models.load_model`. If renaming is not possible, pass the object in the `custom_objects` parameter of the load function.\n"
     ]
    },
    {
     "name": "stdout",
     "output_type": "stream",
     "text": [
      "3659/3659 [==============================] - 534s 146ms/step - loss: 0.9660 - acc: 0.5946 - val_loss: 0.9856 - val_acc: 0.5952\n",
      "Epoch 9/10\n",
      "3659/3659 [==============================] - ETA: 0s - loss: 1.0321 - acc: 0.5562"
     ]
    },
    {
     "name": "stderr",
     "output_type": "stream",
     "text": [
      "WARNING:absl:Found untraced functions such as lstm_cell_layer_call_fn, lstm_cell_layer_call_and_return_conditional_losses while saving (showing 2 of 2). These functions will not be directly callable after loading.\n"
     ]
    },
    {
     "name": "stdout",
     "output_type": "stream",
     "text": [
      "INFO:tensorflow:Assets written to: C:\\Users\\PC\\Desktop\\NN\\Text calssification\\checkpoint\\assets\n"
     ]
    },
    {
     "name": "stderr",
     "output_type": "stream",
     "text": [
      "INFO:tensorflow:Assets written to: C:\\Users\\PC\\Desktop\\NN\\Text calssification\\checkpoint\\assets\n",
      "WARNING:absl:<keras.layers.recurrent.LSTMCell object at 0x00000140C9CBEDC0> has the same name 'LSTMCell' as a built-in Keras object. Consider renaming <class 'keras.layers.recurrent.LSTMCell'> to avoid naming conflicts when loading with `tf.keras.models.load_model`. If renaming is not possible, pass the object in the `custom_objects` parameter of the load function.\n"
     ]
    },
    {
     "name": "stdout",
     "output_type": "stream",
     "text": [
      "3659/3659 [==============================] - 537s 147ms/step - loss: 1.0321 - acc: 0.5562 - val_loss: 1.1324 - val_acc: 0.5066\n",
      "Epoch 10/10\n",
      "3659/3659 [==============================] - ETA: 0s - loss: 1.0993 - acc: 0.5190"
     ]
    },
    {
     "name": "stderr",
     "output_type": "stream",
     "text": [
      "WARNING:absl:Found untraced functions such as lstm_cell_layer_call_fn, lstm_cell_layer_call_and_return_conditional_losses while saving (showing 2 of 2). These functions will not be directly callable after loading.\n"
     ]
    },
    {
     "name": "stdout",
     "output_type": "stream",
     "text": [
      "INFO:tensorflow:Assets written to: C:\\Users\\PC\\Desktop\\NN\\Text calssification\\checkpoint\\assets\n"
     ]
    },
    {
     "name": "stderr",
     "output_type": "stream",
     "text": [
      "INFO:tensorflow:Assets written to: C:\\Users\\PC\\Desktop\\NN\\Text calssification\\checkpoint\\assets\n",
      "WARNING:absl:<keras.layers.recurrent.LSTMCell object at 0x00000140C9CBEDC0> has the same name 'LSTMCell' as a built-in Keras object. Consider renaming <class 'keras.layers.recurrent.LSTMCell'> to avoid naming conflicts when loading with `tf.keras.models.load_model`. If renaming is not possible, pass the object in the `custom_objects` parameter of the load function.\n"
     ]
    },
    {
     "name": "stdout",
     "output_type": "stream",
     "text": [
      "\b\b\b\b\b\b\b\b\b\b\b\b\b\b\b\b\b\b\b\b\b\b\b\b\b\b\b\b\b\b\b\b\b\b\b\b\b\b\b\b\b\b\b\b\b\b\b\b\b\b\b\b\b\b\b\b\b\b\b\b\b\b\b\b\b\b\b\b\b\b\b\b\b\b\b\b\b\b\b\b\b\r",
      "3659/3659 [==============================] - 538s 147ms/step - loss: 1.0993 - acc: 0.5190 - val_loss: 1.1137 - val_acc: 0.5171\n"
     ]
    }
   ],
   "source": [
    "lstm_history_base_model = lstm_base_model.fit(train_dataset, \n",
    "          validation_data = val_dataset,\n",
    "          epochs = 10,\n",
    "          callbacks=[checkpointer, early_stopping])"
   ]
  },
  {
   "cell_type": "code",
   "execution_count": 164,
   "metadata": {},
   "outputs": [],
   "source": [
    "def plot_loss_accuracy(hist,model):\n",
    "    fig=plt.figure()\n",
    "    plt.plot(hist.history['acc'],'r',linewidth=3.0)\n",
    "    plt.plot(hist.history['val_acc'],'b',linewidth=3.0)\n",
    "    plt.legend(['Training Accuracy', 'Validation Accuracy'],fontsize=18)\n",
    "    plt.xlabel('Epochs ',fontsize=16)\n",
    "    plt.ylabel('Accuracy',fontsize=16)\n",
    "    plt.title(f'Accuracy Curves : {model}',fontsize=16)\n",
    "    #fig.savefig('accuracy_lstm.png')\n",
    "    plt.show()"
   ]
  },
  {
   "cell_type": "code",
   "execution_count": 181,
   "metadata": {},
   "outputs": [],
   "source": [
    "lstm_base_version_1_hist = lstm_history_base_model"
   ]
  },
  {
   "cell_type": "code",
   "execution_count": 182,
   "metadata": {},
   "outputs": [
    {
     "name": "stderr",
     "output_type": "stream",
     "text": [
      "WARNING:absl:Found untraced functions such as lstm_cell_layer_call_fn, lstm_cell_layer_call_and_return_conditional_losses while saving (showing 2 of 2). These functions will not be directly callable after loading.\n"
     ]
    },
    {
     "name": "stdout",
     "output_type": "stream",
     "text": [
      "INFO:tensorflow:Assets written to: ram://84ae2c97-f3c6-4d1a-a3b9-4d2e68ed29cf/assets\n"
     ]
    },
    {
     "name": "stderr",
     "output_type": "stream",
     "text": [
      "INFO:tensorflow:Assets written to: ram://84ae2c97-f3c6-4d1a-a3b9-4d2e68ed29cf/assets\n",
      "WARNING:absl:<keras.layers.recurrent.LSTMCell object at 0x00000140C9CBEDC0> has the same name 'LSTMCell' as a built-in Keras object. Consider renaming <class 'keras.layers.recurrent.LSTMCell'> to avoid naming conflicts when loading with `tf.keras.models.load_model`. If renaming is not possible, pass the object in the `custom_objects` parameter of the load function.\n"
     ]
    },
    {
     "name": "stdout",
     "output_type": "stream",
     "text": [
      "Stored 'lstm_base_version_1_hist' (History)\n"
     ]
    }
   ],
   "source": [
    "%store lstm_base_version_1_hist"
   ]
  },
  {
   "cell_type": "code",
   "execution_count": 165,
   "metadata": {},
   "outputs": [
    {
     "data": {
      "image/png": "[encoded data removed]",
      "text/plain": [
       "<Figure size 576x396 with 1 Axes>"
      ]
     },
     "metadata": {},
     "output_type": "display_data"
    }
   ],
   "source": [
    "plot_loss_accuracy(lstm_history_base_model, 'Base LSTM')"
   ]
  },
  {
   "cell_type": "code",
   "execution_count": 173,
   "metadata": {},
   "outputs": [
    {
     "name": "stdout",
     "output_type": "stream",
     "text": [
      "407/407 [==============================] - 29s 70ms/step - loss: 1.1137 - acc: 0.5171\n"
     ]
    }
   ],
   "source": [
    "_,val_acc = lstm_base_model.evaluate(val_dataset)"
   ]
  },
  {
   "cell_type": "code",
   "execution_count": 172,
   "metadata": {},
   "outputs": [],
   "source": [
    "base_lstm_ver_1 = pd.DataFrame(lstm_history_base_model.history)\n",
    "base_lstm_ver_1['epoch'] = lstm_history_base_model.epoch"
   ]
  },
  {
   "cell_type": "code",
   "execution_count": 174,
   "metadata": {
    "scrolled": false
   },
   "outputs": [
    {
     "data": {
      "text/html": [
       "<div>\n",
       "<style scoped>\n",
       "    .dataframe tbody tr th:only-of-type {\n",
       "        vertical-align: middle;\n",
       "    }\n",
       "\n",
       "    .dataframe tbody tr th {\n",
       "        vertical-align: top;\n",
       "    }\n",
       "\n",
       "    .dataframe thead th {\n",
       "        text-align: right;\n",
       "    }\n",
       "</style>\n",
       "<table border=\"1\" class=\"dataframe\">\n",
       "  <thead>\n",
       "    <tr style=\"text-align: right;\">\n",
       "      <th></th>\n",
       "      <th>loss</th>\n",
       "      <th>acc</th>\n",
       "      <th>val_loss</th>\n",
       "      <th>val_acc</th>\n",
       "      <th>epoch</th>\n",
       "    </tr>\n",
       "  </thead>\n",
       "  <tbody>\n",
       "    <tr>\n",
       "      <th>0</th>\n",
       "      <td>1.201788</td>\n",
       "      <td>0.453334</td>\n",
       "      <td>1.118654</td>\n",
       "      <td>0.512761</td>\n",
       "      <td>0</td>\n",
       "    </tr>\n",
       "    <tr>\n",
       "      <th>1</th>\n",
       "      <td>1.060113</td>\n",
       "      <td>0.544257</td>\n",
       "      <td>1.083847</td>\n",
       "      <td>0.529213</td>\n",
       "      <td>1</td>\n",
       "    </tr>\n",
       "    <tr>\n",
       "      <th>2</th>\n",
       "      <td>1.027447</td>\n",
       "      <td>0.560860</td>\n",
       "      <td>1.062087</td>\n",
       "      <td>0.539668</td>\n",
       "      <td>2</td>\n",
       "    </tr>\n",
       "    <tr>\n",
       "      <th>3</th>\n",
       "      <td>1.009662</td>\n",
       "      <td>0.568905</td>\n",
       "      <td>1.007879</td>\n",
       "      <td>0.566728</td>\n",
       "      <td>3</td>\n",
       "    </tr>\n",
       "    <tr>\n",
       "      <th>4</th>\n",
       "      <td>0.988928</td>\n",
       "      <td>0.579598</td>\n",
       "      <td>1.003674</td>\n",
       "      <td>0.581796</td>\n",
       "      <td>4</td>\n",
       "    </tr>\n",
       "    <tr>\n",
       "      <th>5</th>\n",
       "      <td>0.969532</td>\n",
       "      <td>0.590906</td>\n",
       "      <td>0.992918</td>\n",
       "      <td>0.586101</td>\n",
       "      <td>5</td>\n",
       "    </tr>\n",
       "    <tr>\n",
       "      <th>6</th>\n",
       "      <td>0.973129</td>\n",
       "      <td>0.590376</td>\n",
       "      <td>0.997913</td>\n",
       "      <td>0.578875</td>\n",
       "      <td>6</td>\n",
       "    </tr>\n",
       "    <tr>\n",
       "      <th>7</th>\n",
       "      <td>0.966017</td>\n",
       "      <td>0.594561</td>\n",
       "      <td>0.985633</td>\n",
       "      <td>0.595172</td>\n",
       "      <td>7</td>\n",
       "    </tr>\n",
       "    <tr>\n",
       "      <th>8</th>\n",
       "      <td>1.032065</td>\n",
       "      <td>0.556180</td>\n",
       "      <td>1.132448</td>\n",
       "      <td>0.506611</td>\n",
       "      <td>8</td>\n",
       "    </tr>\n",
       "    <tr>\n",
       "      <th>9</th>\n",
       "      <td>1.099295</td>\n",
       "      <td>0.519028</td>\n",
       "      <td>1.113680</td>\n",
       "      <td>0.517066</td>\n",
       "      <td>9</td>\n",
       "    </tr>\n",
       "  </tbody>\n",
       "</table>\n",
       "</div>"
      ],
      "text/plain": [
       "       loss       acc  val_loss   val_acc  epoch\n",
       "0  1.201788  0.453334  1.118654  0.512761      0\n",
       "1  1.060113  0.544257  1.083847  0.529213      1\n",
       "2  1.027447  0.560860  1.062087  0.539668      2\n",
       "3  1.009662  0.568905  1.007879  0.566728      3\n",
       "4  0.988928  0.579598  1.003674  0.581796      4\n",
       "5  0.969532  0.590906  0.992918  0.586101      5\n",
       "6  0.973129  0.590376  0.997913  0.578875      6\n",
       "7  0.966017  0.594561  0.985633  0.595172      7\n",
       "8  1.032065  0.556180  1.132448  0.506611      8\n",
       "9  1.099295  0.519028  1.113680  0.517066      9"
      ]
     },
     "execution_count": 174,
     "metadata": {},
     "output_type": "execute_result"
    }
   ],
   "source": [
    "base_lstm_ver_1 "
   ]
  },
  {
   "cell_type": "code",
   "execution_count": null,
   "metadata": {},
   "outputs": [],
   "source": []
  },
  {
   "cell_type": "code",
   "execution_count": 175,
   "metadata": {},
   "outputs": [
    {
     "name": "stdout",
     "output_type": "stream",
     "text": [
      "1/1 [==============================] - 0s 52ms/step\n"
     ]
    },
    {
     "data": {
      "text/plain": [
       "array([[0.17089583, 0.28224355, 0.1576072 , 0.38925344]], dtype=float32)"
      ]
     },
     "execution_count": 175,
     "metadata": {},
     "output_type": "execute_result"
    }
   ],
   "source": [
    "lstm_base_model.predict([''' \n",
    "It seems you're having some trouble In dealing with these changes Living with these changes (oh no) \n",
    "The world is a scary place Now that you've woken up the demon in me \n",
    "Why can't you just leave here and die Never stick your hand in my face again bitch\n",
    "Fuck you\n",
    "I don't need this shit\n",
    "\n",
    "''' ])\n"
   ]
  },
  {
   "cell_type": "code",
   "execution_count": 54,
   "metadata": {},
   "outputs": [
    {
     "data": {
      "text/plain": [
       "['Jazz', 'Metal', 'Pop', 'Rock']"
      ]
     },
     "execution_count": 54,
     "metadata": {},
     "output_type": "execute_result"
    }
   ],
   "source": [
    "train_dataset.class_names"
   ]
  },
  {
   "cell_type": "markdown",
   "metadata": {},
   "source": [
    "## Optimize base LSTM"
   ]
  },
  {
   "cell_type": "code",
   "execution_count": null,
   "metadata": {},
   "outputs": [],
   "source": [
    "tf.keras.backend.clear_session()"
   ]
  },
  {
   "cell_type": "code",
   "execution_count": 68,
   "metadata": {},
   "outputs": [],
   "source": [
    "model_name = \"optimized lstm model\"\n",
    "checkpointer_opt = ModelCheckpoint(filepath =check_point_opt,\n",
    "                               save_best_only=False, save_weights_only = False, verbose=0,mode='min')\n",
    "early_stopping_opt = EarlyStopping(monitor='val_loss', min_delta=0, patience=10, verbose=0, mode='auto')"
   ]
  },
  {
   "cell_type": "code",
   "execution_count": 69,
   "metadata": {},
   "outputs": [],
   "source": [
    "lstm_opt_model = Sequential([\n",
    "  vectorize_layer,\n",
    "  Embedding(input_dim = vectorize_layer.vocabulary_size()+2, output_dim = EMBEDDING_DIMENSIONS,weights=[embedding_matrix],input_length=MAX_OUTPUT_LENGTH,trainable=False),\n",
    "  LSTM(128,return_sequences=True,dropout=0.2),\n",
    "  tf.keras.layers.GlobalMaxPooling1D(),\n",
    "  Dense(64,activation='relu'),\n",
    "  Dense(N_CLASSES,activation = softmax)])"
   ]
  },
  {
   "cell_type": "code",
   "execution_count": 70,
   "metadata": {},
   "outputs": [
    {
     "name": "stdout",
     "output_type": "stream",
     "text": [
      "Model: \"sequential_4\"\n",
      "_________________________________________________________________\n",
      " Layer (type)                Output Shape              Param #   \n",
      "=================================================================\n",
      " text_vectorization (TextVec  (None, 250)              0         \n",
      " torization)                                                     \n",
      "                                                                 \n",
      " embedding_4 (Embedding)     (None, 250, 100)          1000200   \n",
      "                                                                 \n",
      " lstm_4 (LSTM)               (None, 250, 128)          117248    \n",
      "                                                                 \n",
      " global_max_pooling1d (Globa  (None, 128)              0         \n",
      " lMaxPooling1D)                                                  \n",
      "                                                                 \n",
      " dense_5 (Dense)             (None, 64)                8256      \n",
      "                                                                 \n",
      " dense_6 (Dense)             (None, 4)                 260       \n",
      "                                                                 \n",
      "=================================================================\n",
      "Total params: 1,125,964\n",
      "Trainable params: 125,764\n",
      "Non-trainable params: 1,000,200\n",
      "_________________________________________________________________\n"
     ]
    }
   ],
   "source": [
    "lstm_opt_model.summary()"
   ]
  },
  {
   "cell_type": "code",
   "execution_count": 71,
   "metadata": {},
   "outputs": [],
   "source": [
    "lstm_opt_model.compile(\n",
    "    loss='sparse_categorical_crossentropy',\n",
    "    optimizer = Adam(learning_rate = LEARNING_RATE),\n",
    "    metrics = [\"acc\"]\n",
    "    )"
   ]
  },
  {
   "cell_type": "code",
   "execution_count": 72,
   "metadata": {},
   "outputs": [
    {
     "name": "stdout",
     "output_type": "stream",
     "text": [
      "Epoch 1/5\n",
      "3659/3659 [==============================] - ETA: 0s - loss: 1.0307 - acc: 0.5523"
     ]
    },
    {
     "name": "stderr",
     "output_type": "stream",
     "text": [
      "WARNING:absl:Found untraced functions such as lstm_cell_4_layer_call_fn, lstm_cell_4_layer_call_and_return_conditional_losses while saving (showing 2 of 2). These functions will not be directly callable after loading.\n"
     ]
    },
    {
     "name": "stdout",
     "output_type": "stream",
     "text": [
      "INFO:tensorflow:Assets written to: C:\\Users\\PC\\Desktop\\NN\\Text calssification\\checkpoint_opt\\assets\n"
     ]
    },
    {
     "name": "stderr",
     "output_type": "stream",
     "text": [
      "INFO:tensorflow:Assets written to: C:\\Users\\PC\\Desktop\\NN\\Text calssification\\checkpoint_opt\\assets\n",
      "WARNING:absl:<keras.layers.recurrent.LSTMCell object at 0x000001408779D550> has the same name 'LSTMCell' as a built-in Keras object. Consider renaming <class 'keras.layers.recurrent.LSTMCell'> to avoid naming conflicts when loading with `tf.keras.models.load_model`. If renaming is not possible, pass the object in the `custom_objects` parameter of the load function.\n"
     ]
    },
    {
     "name": "stdout",
     "output_type": "stream",
     "text": [
      "3659/3659 [==============================] - 406s 110ms/step - loss: 1.0307 - acc: 0.5523 - val_loss: 0.9660 - val_acc: 0.5910\n",
      "Epoch 2/5\n",
      "3659/3659 [==============================] - ETA: 0s - loss: 0.9702 - acc: 0.5944"
     ]
    },
    {
     "name": "stderr",
     "output_type": "stream",
     "text": [
      "WARNING:absl:Found untraced functions such as lstm_cell_4_layer_call_fn, lstm_cell_4_layer_call_and_return_conditional_losses while saving (showing 2 of 2). These functions will not be directly callable after loading.\n"
     ]
    },
    {
     "name": "stdout",
     "output_type": "stream",
     "text": [
      "INFO:tensorflow:Assets written to: C:\\Users\\PC\\Desktop\\NN\\Text calssification\\checkpoint_opt\\assets\n"
     ]
    },
    {
     "name": "stderr",
     "output_type": "stream",
     "text": [
      "INFO:tensorflow:Assets written to: C:\\Users\\PC\\Desktop\\NN\\Text calssification\\checkpoint_opt\\assets\n",
      "WARNING:absl:<keras.layers.recurrent.LSTMCell object at 0x000001408779D550> has the same name 'LSTMCell' as a built-in Keras object. Consider renaming <class 'keras.layers.recurrent.LSTMCell'> to avoid naming conflicts when loading with `tf.keras.models.load_model`. If renaming is not possible, pass the object in the `custom_objects` parameter of the load function.\n"
     ]
    },
    {
     "name": "stdout",
     "output_type": "stream",
     "text": [
      "3659/3659 [==============================] - 382s 104ms/step - loss: 0.9702 - acc: 0.5944 - val_loss: 0.9544 - val_acc: 0.5959\n",
      "Epoch 3/5\n",
      "3659/3659 [==============================] - ETA: 0s - loss: 0.9508 - acc: 0.6040"
     ]
    },
    {
     "name": "stderr",
     "output_type": "stream",
     "text": [
      "WARNING:absl:Found untraced functions such as lstm_cell_4_layer_call_fn, lstm_cell_4_layer_call_and_return_conditional_losses while saving (showing 2 of 2). These functions will not be directly callable after loading.\n"
     ]
    },
    {
     "name": "stdout",
     "output_type": "stream",
     "text": [
      "INFO:tensorflow:Assets written to: C:\\Users\\PC\\Desktop\\NN\\Text calssification\\checkpoint_opt\\assets\n"
     ]
    },
    {
     "name": "stderr",
     "output_type": "stream",
     "text": [
      "INFO:tensorflow:Assets written to: C:\\Users\\PC\\Desktop\\NN\\Text calssification\\checkpoint_opt\\assets\n",
      "WARNING:absl:<keras.layers.recurrent.LSTMCell object at 0x000001408779D550> has the same name 'LSTMCell' as a built-in Keras object. Consider renaming <class 'keras.layers.recurrent.LSTMCell'> to avoid naming conflicts when loading with `tf.keras.models.load_model`. If renaming is not possible, pass the object in the `custom_objects` parameter of the load function.\n"
     ]
    },
    {
     "name": "stdout",
     "output_type": "stream",
     "text": [
      "3659/3659 [==============================] - 391s 107ms/step - loss: 0.9508 - acc: 0.6040 - val_loss: 0.9357 - val_acc: 0.6113\n",
      "Epoch 4/5\n",
      "3659/3659 [==============================] - ETA: 0s - loss: 0.9468 - acc: 0.6061"
     ]
    },
    {
     "name": "stderr",
     "output_type": "stream",
     "text": [
      "WARNING:absl:Found untraced functions such as lstm_cell_4_layer_call_fn, lstm_cell_4_layer_call_and_return_conditional_losses while saving (showing 2 of 2). These functions will not be directly callable after loading.\n"
     ]
    },
    {
     "name": "stdout",
     "output_type": "stream",
     "text": [
      "INFO:tensorflow:Assets written to: C:\\Users\\PC\\Desktop\\NN\\Text calssification\\checkpoint_opt\\assets\n"
     ]
    },
    {
     "name": "stderr",
     "output_type": "stream",
     "text": [
      "INFO:tensorflow:Assets written to: C:\\Users\\PC\\Desktop\\NN\\Text calssification\\checkpoint_opt\\assets\n",
      "WARNING:absl:<keras.layers.recurrent.LSTMCell object at 0x000001408779D550> has the same name 'LSTMCell' as a built-in Keras object. Consider renaming <class 'keras.layers.recurrent.LSTMCell'> to avoid naming conflicts when loading with `tf.keras.models.load_model`. If renaming is not possible, pass the object in the `custom_objects` parameter of the load function.\n"
     ]
    },
    {
     "name": "stdout",
     "output_type": "stream",
     "text": [
      "3659/3659 [==============================] - 436s 119ms/step - loss: 0.9468 - acc: 0.6061 - val_loss: 0.9363 - val_acc: 0.6087\n",
      "Epoch 5/5\n",
      "3659/3659 [==============================] - ETA: 0s - loss: 0.9401 - acc: 0.6089"
     ]
    },
    {
     "name": "stderr",
     "output_type": "stream",
     "text": [
      "WARNING:absl:Found untraced functions such as lstm_cell_4_layer_call_fn, lstm_cell_4_layer_call_and_return_conditional_losses while saving (showing 2 of 2). These functions will not be directly callable after loading.\n"
     ]
    },
    {
     "name": "stdout",
     "output_type": "stream",
     "text": [
      "INFO:tensorflow:Assets written to: C:\\Users\\PC\\Desktop\\NN\\Text calssification\\checkpoint_opt\\assets\n"
     ]
    },
    {
     "name": "stderr",
     "output_type": "stream",
     "text": [
      "INFO:tensorflow:Assets written to: C:\\Users\\PC\\Desktop\\NN\\Text calssification\\checkpoint_opt\\assets\n",
      "WARNING:absl:<keras.layers.recurrent.LSTMCell object at 0x000001408779D550> has the same name 'LSTMCell' as a built-in Keras object. Consider renaming <class 'keras.layers.recurrent.LSTMCell'> to avoid naming conflicts when loading with `tf.keras.models.load_model`. If renaming is not possible, pass the object in the `custom_objects` parameter of the load function.\n"
     ]
    },
    {
     "name": "stdout",
     "output_type": "stream",
     "text": [
      "\b\b\b\b\b\b\b\b\b\b\b\b\b\b\b\b\b\b\b\b\b\b\b\b\b\b\b\b\b\b\b\b\b\b\b\b\b\b\b\b\b\b\b\b\b\b\b\b\b\b\b\b\b\b\b\b\b\b\b\b\b\b\b\b\b\b\b\b\b\b\b\b\b\b\b\b\b\b\b\b\b\r",
      "3659/3659 [==============================] - 478s 131ms/step - loss: 0.9401 - acc: 0.6089 - val_loss: 0.9387 - val_acc: 0.6107\n"
     ]
    }
   ],
   "source": [
    "lstm_history_opt_model = lstm_opt_model.fit(train_dataset, \n",
    "          validation_data = val_dataset,\n",
    "          epochs = 5,\n",
    "          callbacks=[checkpointer_opt, early_stopping_opt])"
   ]
  },
  {
   "cell_type": "code",
   "execution_count": 81,
   "metadata": {},
   "outputs": [],
   "source": [
    "tf.keras.backend.clear_session()"
   ]
  },
  {
   "cell_type": "code",
   "execution_count": 77,
   "metadata": {},
   "outputs": [
    {
     "data": {
      "image/png": "[encoded data removed]",
      "text/plain": [
       "<Figure size 576x396 with 1 Axes>"
      ]
     },
     "metadata": {},
     "output_type": "display_data"
    }
   ],
   "source": [
    "plot_loss_accuracy(lstm_history_opt_model, 'LSTM_Optimized')"
   ]
  },
  {
   "cell_type": "code",
   "execution_count": 176,
   "metadata": {},
   "outputs": [
    {
     "name": "stdout",
     "output_type": "stream",
     "text": [
      "407/407 [==============================] - 69s 168ms/step - loss: 0.9387 - acc: 0.6107\n"
     ]
    }
   ],
   "source": [
    "_,val_acc = lstm_opt_model.evaluate(val_dataset)"
   ]
  },
  {
   "cell_type": "code",
   "execution_count": 177,
   "metadata": {},
   "outputs": [],
   "source": [
    "opt_lstm_ver_1 = pd.DataFrame(lstm_history_opt_model.history)\n",
    "opt_lstm_ver_1['epoch'] = lstm_history_opt_model.epoch"
   ]
  },
  {
   "cell_type": "code",
   "execution_count": 178,
   "metadata": {},
   "outputs": [
    {
     "data": {
      "text/html": [
       "<div>\n",
       "<style scoped>\n",
       "    .dataframe tbody tr th:only-of-type {\n",
       "        vertical-align: middle;\n",
       "    }\n",
       "\n",
       "    .dataframe tbody tr th {\n",
       "        vertical-align: top;\n",
       "    }\n",
       "\n",
       "    .dataframe thead th {\n",
       "        text-align: right;\n",
       "    }\n",
       "</style>\n",
       "<table border=\"1\" class=\"dataframe\">\n",
       "  <thead>\n",
       "    <tr style=\"text-align: right;\">\n",
       "      <th></th>\n",
       "      <th>loss</th>\n",
       "      <th>acc</th>\n",
       "      <th>val_loss</th>\n",
       "      <th>val_acc</th>\n",
       "      <th>epoch</th>\n",
       "    </tr>\n",
       "  </thead>\n",
       "  <tbody>\n",
       "    <tr>\n",
       "      <th>0</th>\n",
       "      <td>1.030676</td>\n",
       "      <td>0.552303</td>\n",
       "      <td>0.965992</td>\n",
       "      <td>0.591021</td>\n",
       "      <td>0</td>\n",
       "    </tr>\n",
       "    <tr>\n",
       "      <th>1</th>\n",
       "      <td>0.970219</td>\n",
       "      <td>0.594408</td>\n",
       "      <td>0.954409</td>\n",
       "      <td>0.595941</td>\n",
       "      <td>1</td>\n",
       "    </tr>\n",
       "    <tr>\n",
       "      <th>2</th>\n",
       "      <td>0.950770</td>\n",
       "      <td>0.603973</td>\n",
       "      <td>0.935729</td>\n",
       "      <td>0.611316</td>\n",
       "      <td>2</td>\n",
       "    </tr>\n",
       "    <tr>\n",
       "      <th>3</th>\n",
       "      <td>0.946829</td>\n",
       "      <td>0.606091</td>\n",
       "      <td>0.936261</td>\n",
       "      <td>0.608702</td>\n",
       "      <td>3</td>\n",
       "    </tr>\n",
       "    <tr>\n",
       "      <th>4</th>\n",
       "      <td>0.940131</td>\n",
       "      <td>0.608892</td>\n",
       "      <td>0.938706</td>\n",
       "      <td>0.610701</td>\n",
       "      <td>4</td>\n",
       "    </tr>\n",
       "  </tbody>\n",
       "</table>\n",
       "</div>"
      ],
      "text/plain": [
       "       loss       acc  val_loss   val_acc  epoch\n",
       "0  1.030676  0.552303  0.965992  0.591021      0\n",
       "1  0.970219  0.594408  0.954409  0.595941      1\n",
       "2  0.950770  0.603973  0.935729  0.611316      2\n",
       "3  0.946829  0.606091  0.936261  0.608702      3\n",
       "4  0.940131  0.608892  0.938706  0.610701      4"
      ]
     },
     "execution_count": 178,
     "metadata": {},
     "output_type": "execute_result"
    }
   ],
   "source": [
    "opt_lstm_ver_1"
   ]
  },
  {
   "cell_type": "code",
   "execution_count": null,
   "metadata": {},
   "outputs": [],
   "source": []
  },
  {
   "cell_type": "markdown",
   "metadata": {},
   "source": [
    "## Multi - layer BiDirectional LSTM"
   ]
  },
  {
   "cell_type": "code",
   "execution_count": 87,
   "metadata": {},
   "outputs": [],
   "source": [
    "model_name = \"bidirectional lstm model\"\n",
    "checkpointer_bi = ModelCheckpoint(filepath =check_point_bi,\n",
    "                               save_best_only=False, save_weights_only = False, verbose=0,mode='min')\n",
    "early_stopping_bi = EarlyStopping(monitor='val_loss', min_delta=0, patience=10, verbose=0, mode='auto')"
   ]
  },
  {
   "cell_type": "code",
   "execution_count": 84,
   "metadata": {},
   "outputs": [],
   "source": [
    "lstm_bi_model = Sequential([\n",
    "  vectorize_layer,\n",
    "  Embedding(input_dim = vectorize_layer.vocabulary_size()+2, output_dim = EMBEDDING_DIMENSIONS,weights=[embedding_matrix],input_length=MAX_OUTPUT_LENGTH,trainable=False),\n",
    "  Bidirectional(LSTM(64, return_sequences = True)),\n",
    "  Bidirectional(LSTM(64)),\n",
    "  Dense(N_CLASSES, activation = softmax)\n",
    "  ])"
   ]
  },
  {
   "cell_type": "code",
   "execution_count": 85,
   "metadata": {},
   "outputs": [
    {
     "name": "stdout",
     "output_type": "stream",
     "text": [
      "Model: \"sequential\"\n",
      "_________________________________________________________________\n",
      " Layer (type)                Output Shape              Param #   \n",
      "=================================================================\n",
      " text_vectorization (TextVec  (None, 250)              0         \n",
      " torization)                                                     \n",
      "                                                                 \n",
      " embedding (Embedding)       (None, 250, 100)          1000200   \n",
      "                                                                 \n",
      " bidirectional (Bidirectiona  (None, 250, 128)         84480     \n",
      " l)                                                              \n",
      "                                                                 \n",
      " bidirectional_1 (Bidirectio  (None, 128)              98816     \n",
      " nal)                                                            \n",
      "                                                                 \n",
      " dense (Dense)               (None, 4)                 516       \n",
      "                                                                 \n",
      "=================================================================\n",
      "Total params: 1,184,012\n",
      "Trainable params: 183,812\n",
      "Non-trainable params: 1,000,200\n",
      "_________________________________________________________________\n"
     ]
    }
   ],
   "source": [
    "lstm_bi_model.summary()"
   ]
  },
  {
   "cell_type": "code",
   "execution_count": 86,
   "metadata": {},
   "outputs": [],
   "source": [
    "lstm_bi_model.compile(\n",
    "    loss='sparse_categorical_crossentropy',\n",
    "    optimizer = Adam(learning_rate = LEARNING_RATE),\n",
    "    metrics = [\"acc\"]\n",
    "    )"
   ]
  },
  {
   "cell_type": "code",
   "execution_count": 88,
   "metadata": {
    "scrolled": true
   },
   "outputs": [
    {
     "name": "stdout",
     "output_type": "stream",
     "text": [
      "Epoch 1/5\n",
      "3659/3659 [==============================] - ETA: 0s - loss: 1.0678 - acc: 0.5320"
     ]
    },
    {
     "name": "stderr",
     "output_type": "stream",
     "text": [
      "WARNING:absl:Found untraced functions such as lstm_cell_1_layer_call_fn, lstm_cell_1_layer_call_and_return_conditional_losses, lstm_cell_2_layer_call_fn, lstm_cell_2_layer_call_and_return_conditional_losses, lstm_cell_4_layer_call_fn while saving (showing 5 of 8). These functions will not be directly callable after loading.\n"
     ]
    },
    {
     "name": "stdout",
     "output_type": "stream",
     "text": [
      "INFO:tensorflow:Assets written to: C:\\Users\\PC\\Desktop\\NN\\Text calssification\\checkpoint_bi\\assets\n"
     ]
    },
    {
     "name": "stderr",
     "output_type": "stream",
     "text": [
      "INFO:tensorflow:Assets written to: C:\\Users\\PC\\Desktop\\NN\\Text calssification\\checkpoint_bi\\assets\n",
      "WARNING:absl:<keras.layers.recurrent.LSTMCell object at 0x00000140A2126820> has the same name 'LSTMCell' as a built-in Keras object. Consider renaming <class 'keras.layers.recurrent.LSTMCell'> to avoid naming conflicts when loading with `tf.keras.models.load_model`. If renaming is not possible, pass the object in the `custom_objects` parameter of the load function.\n",
      "WARNING:absl:<keras.layers.recurrent.LSTMCell object at 0x000001408C8D19A0> has the same name 'LSTMCell' as a built-in Keras object. Consider renaming <class 'keras.layers.recurrent.LSTMCell'> to avoid naming conflicts when loading with `tf.keras.models.load_model`. If renaming is not possible, pass the object in the `custom_objects` parameter of the load function.\n",
      "WARNING:absl:<keras.layers.recurrent.LSTMCell object at 0x000001408C659790> has the same name 'LSTMCell' as a built-in Keras object. Consider renaming <class 'keras.layers.recurrent.LSTMCell'> to avoid naming conflicts when loading with `tf.keras.models.load_model`. If renaming is not possible, pass the object in the `custom_objects` parameter of the load function.\n",
      "WARNING:absl:<keras.layers.recurrent.LSTMCell object at 0x000001409BAF55E0> has the same name 'LSTMCell' as a built-in Keras object. Consider renaming <class 'keras.layers.recurrent.LSTMCell'> to avoid naming conflicts when loading with `tf.keras.models.load_model`. If renaming is not possible, pass the object in the `custom_objects` parameter of the load function.\n"
     ]
    },
    {
     "name": "stdout",
     "output_type": "stream",
     "text": [
      "3659/3659 [==============================] - 651s 176ms/step - loss: 1.0678 - acc: 0.5320 - val_loss: 0.9933 - val_acc: 0.5693\n",
      "Epoch 2/5\n",
      "3659/3659 [==============================] - ETA: 0s - loss: 0.9576 - acc: 0.5936"
     ]
    },
    {
     "name": "stderr",
     "output_type": "stream",
     "text": [
      "WARNING:absl:Found untraced functions such as lstm_cell_1_layer_call_fn, lstm_cell_1_layer_call_and_return_conditional_losses, lstm_cell_2_layer_call_fn, lstm_cell_2_layer_call_and_return_conditional_losses, lstm_cell_4_layer_call_fn while saving (showing 5 of 8). These functions will not be directly callable after loading.\n"
     ]
    },
    {
     "name": "stdout",
     "output_type": "stream",
     "text": [
      "INFO:tensorflow:Assets written to: C:\\Users\\PC\\Desktop\\NN\\Text calssification\\checkpoint_bi\\assets\n"
     ]
    },
    {
     "name": "stderr",
     "output_type": "stream",
     "text": [
      "INFO:tensorflow:Assets written to: C:\\Users\\PC\\Desktop\\NN\\Text calssification\\checkpoint_bi\\assets\n",
      "WARNING:absl:<keras.layers.recurrent.LSTMCell object at 0x00000140A2126820> has the same name 'LSTMCell' as a built-in Keras object. Consider renaming <class 'keras.layers.recurrent.LSTMCell'> to avoid naming conflicts when loading with `tf.keras.models.load_model`. If renaming is not possible, pass the object in the `custom_objects` parameter of the load function.\n",
      "WARNING:absl:<keras.layers.recurrent.LSTMCell object at 0x000001408C8D19A0> has the same name 'LSTMCell' as a built-in Keras object. Consider renaming <class 'keras.layers.recurrent.LSTMCell'> to avoid naming conflicts when loading with `tf.keras.models.load_model`. If renaming is not possible, pass the object in the `custom_objects` parameter of the load function.\n",
      "WARNING:absl:<keras.layers.recurrent.LSTMCell object at 0x000001408C659790> has the same name 'LSTMCell' as a built-in Keras object. Consider renaming <class 'keras.layers.recurrent.LSTMCell'> to avoid naming conflicts when loading with `tf.keras.models.load_model`. If renaming is not possible, pass the object in the `custom_objects` parameter of the load function.\n",
      "WARNING:absl:<keras.layers.recurrent.LSTMCell object at 0x000001409BAF55E0> has the same name 'LSTMCell' as a built-in Keras object. Consider renaming <class 'keras.layers.recurrent.LSTMCell'> to avoid naming conflicts when loading with `tf.keras.models.load_model`. If renaming is not possible, pass the object in the `custom_objects` parameter of the load function.\n"
     ]
    },
    {
     "name": "stdout",
     "output_type": "stream",
     "text": [
      "3659/3659 [==============================] - 610s 167ms/step - loss: 0.9576 - acc: 0.5936 - val_loss: 0.9811 - val_acc: 0.5950\n",
      "Epoch 3/5\n",
      "3659/3659 [==============================] - ETA: 0s - loss: 0.9286 - acc: 0.6055"
     ]
    },
    {
     "name": "stderr",
     "output_type": "stream",
     "text": [
      "WARNING:absl:Found untraced functions such as lstm_cell_1_layer_call_fn, lstm_cell_1_layer_call_and_return_conditional_losses, lstm_cell_2_layer_call_fn, lstm_cell_2_layer_call_and_return_conditional_losses, lstm_cell_4_layer_call_fn while saving (showing 5 of 8). These functions will not be directly callable after loading.\n"
     ]
    },
    {
     "name": "stdout",
     "output_type": "stream",
     "text": [
      "INFO:tensorflow:Assets written to: C:\\Users\\PC\\Desktop\\NN\\Text calssification\\checkpoint_bi\\assets\n"
     ]
    },
    {
     "name": "stderr",
     "output_type": "stream",
     "text": [
      "INFO:tensorflow:Assets written to: C:\\Users\\PC\\Desktop\\NN\\Text calssification\\checkpoint_bi\\assets\n",
      "WARNING:absl:<keras.layers.recurrent.LSTMCell object at 0x00000140A2126820> has the same name 'LSTMCell' as a built-in Keras object. Consider renaming <class 'keras.layers.recurrent.LSTMCell'> to avoid naming conflicts when loading with `tf.keras.models.load_model`. If renaming is not possible, pass the object in the `custom_objects` parameter of the load function.\n",
      "WARNING:absl:<keras.layers.recurrent.LSTMCell object at 0x000001408C8D19A0> has the same name 'LSTMCell' as a built-in Keras object. Consider renaming <class 'keras.layers.recurrent.LSTMCell'> to avoid naming conflicts when loading with `tf.keras.models.load_model`. If renaming is not possible, pass the object in the `custom_objects` parameter of the load function.\n",
      "WARNING:absl:<keras.layers.recurrent.LSTMCell object at 0x000001408C659790> has the same name 'LSTMCell' as a built-in Keras object. Consider renaming <class 'keras.layers.recurrent.LSTMCell'> to avoid naming conflicts when loading with `tf.keras.models.load_model`. If renaming is not possible, pass the object in the `custom_objects` parameter of the load function.\n",
      "WARNING:absl:<keras.layers.recurrent.LSTMCell object at 0x000001409BAF55E0> has the same name 'LSTMCell' as a built-in Keras object. Consider renaming <class 'keras.layers.recurrent.LSTMCell'> to avoid naming conflicts when loading with `tf.keras.models.load_model`. If renaming is not possible, pass the object in the `custom_objects` parameter of the load function.\n"
     ]
    },
    {
     "name": "stdout",
     "output_type": "stream",
     "text": [
      "3659/3659 [==============================] - 703s 192ms/step - loss: 0.9286 - acc: 0.6055 - val_loss: 0.9599 - val_acc: 0.6002\n",
      "Epoch 4/5\n",
      "3659/3659 [==============================] - ETA: 0s - loss: 0.8983 - acc: 0.6219"
     ]
    },
    {
     "name": "stderr",
     "output_type": "stream",
     "text": [
      "WARNING:absl:Found untraced functions such as lstm_cell_1_layer_call_fn, lstm_cell_1_layer_call_and_return_conditional_losses, lstm_cell_2_layer_call_fn, lstm_cell_2_layer_call_and_return_conditional_losses, lstm_cell_4_layer_call_fn while saving (showing 5 of 8). These functions will not be directly callable after loading.\n"
     ]
    },
    {
     "name": "stdout",
     "output_type": "stream",
     "text": [
      "INFO:tensorflow:Assets written to: C:\\Users\\PC\\Desktop\\NN\\Text calssification\\checkpoint_bi\\assets\n"
     ]
    },
    {
     "name": "stderr",
     "output_type": "stream",
     "text": [
      "INFO:tensorflow:Assets written to: C:\\Users\\PC\\Desktop\\NN\\Text calssification\\checkpoint_bi\\assets\n",
      "WARNING:absl:<keras.layers.recurrent.LSTMCell object at 0x00000140A2126820> has the same name 'LSTMCell' as a built-in Keras object. Consider renaming <class 'keras.layers.recurrent.LSTMCell'> to avoid naming conflicts when loading with `tf.keras.models.load_model`. If renaming is not possible, pass the object in the `custom_objects` parameter of the load function.\n",
      "WARNING:absl:<keras.layers.recurrent.LSTMCell object at 0x000001408C8D19A0> has the same name 'LSTMCell' as a built-in Keras object. Consider renaming <class 'keras.layers.recurrent.LSTMCell'> to avoid naming conflicts when loading with `tf.keras.models.load_model`. If renaming is not possible, pass the object in the `custom_objects` parameter of the load function.\n",
      "WARNING:absl:<keras.layers.recurrent.LSTMCell object at 0x000001408C659790> has the same name 'LSTMCell' as a built-in Keras object. Consider renaming <class 'keras.layers.recurrent.LSTMCell'> to avoid naming conflicts when loading with `tf.keras.models.load_model`. If renaming is not possible, pass the object in the `custom_objects` parameter of the load function.\n",
      "WARNING:absl:<keras.layers.recurrent.LSTMCell object at 0x000001409BAF55E0> has the same name 'LSTMCell' as a built-in Keras object. Consider renaming <class 'keras.layers.recurrent.LSTMCell'> to avoid naming conflicts when loading with `tf.keras.models.load_model`. If renaming is not possible, pass the object in the `custom_objects` parameter of the load function.\n"
     ]
    },
    {
     "name": "stdout",
     "output_type": "stream",
     "text": [
      "3659/3659 [==============================] - 1445s 395ms/step - loss: 0.8983 - acc: 0.6219 - val_loss: 0.9457 - val_acc: 0.6070\n",
      "Epoch 5/5\n",
      "3659/3659 [==============================] - ETA: 0s - loss: 0.9026 - acc: 0.6203"
     ]
    },
    {
     "name": "stderr",
     "output_type": "stream",
     "text": [
      "WARNING:absl:Found untraced functions such as lstm_cell_1_layer_call_fn, lstm_cell_1_layer_call_and_return_conditional_losses, lstm_cell_2_layer_call_fn, lstm_cell_2_layer_call_and_return_conditional_losses, lstm_cell_4_layer_call_fn while saving (showing 5 of 8). These functions will not be directly callable after loading.\n"
     ]
    },
    {
     "name": "stdout",
     "output_type": "stream",
     "text": [
      "INFO:tensorflow:Assets written to: C:\\Users\\PC\\Desktop\\NN\\Text calssification\\checkpoint_bi\\assets\n"
     ]
    },
    {
     "name": "stderr",
     "output_type": "stream",
     "text": [
      "INFO:tensorflow:Assets written to: C:\\Users\\PC\\Desktop\\NN\\Text calssification\\checkpoint_bi\\assets\n",
      "WARNING:absl:<keras.layers.recurrent.LSTMCell object at 0x00000140A2126820> has the same name 'LSTMCell' as a built-in Keras object. Consider renaming <class 'keras.layers.recurrent.LSTMCell'> to avoid naming conflicts when loading with `tf.keras.models.load_model`. If renaming is not possible, pass the object in the `custom_objects` parameter of the load function.\n",
      "WARNING:absl:<keras.layers.recurrent.LSTMCell object at 0x000001408C8D19A0> has the same name 'LSTMCell' as a built-in Keras object. Consider renaming <class 'keras.layers.recurrent.LSTMCell'> to avoid naming conflicts when loading with `tf.keras.models.load_model`. If renaming is not possible, pass the object in the `custom_objects` parameter of the load function.\n",
      "WARNING:absl:<keras.layers.recurrent.LSTMCell object at 0x000001408C659790> has the same name 'LSTMCell' as a built-in Keras object. Consider renaming <class 'keras.layers.recurrent.LSTMCell'> to avoid naming conflicts when loading with `tf.keras.models.load_model`. If renaming is not possible, pass the object in the `custom_objects` parameter of the load function.\n",
      "WARNING:absl:<keras.layers.recurrent.LSTMCell object at 0x000001409BAF55E0> has the same name 'LSTMCell' as a built-in Keras object. Consider renaming <class 'keras.layers.recurrent.LSTMCell'> to avoid naming conflicts when loading with `tf.keras.models.load_model`. If renaming is not possible, pass the object in the `custom_objects` parameter of the load function.\n"
     ]
    },
    {
     "name": "stdout",
     "output_type": "stream",
     "text": [
      "\b\b\b\b\b\b\b\b\b\b\b\b\b\b\b\b\b\b\b\b\b\b\b\b\b\b\b\b\b\b\b\b\b\b\b\b\b\b\b\b\b\b\b\b\b\b\b\b\b\b\b\b\b\b\b\b\b\b\b\b\b\b\b\b\b\b\b\b\b\b\b\b\b\b\b\b\b\b\b\b\b\r",
      "3659/3659 [==============================] - 1831s 500ms/step - loss: 0.9026 - acc: 0.6203 - val_loss: 0.9394 - val_acc: 0.6090\n"
     ]
    }
   ],
   "source": [
    "lstm_history_bi_model = lstm_bi_model.fit(train_dataset, \n",
    "          validation_data = val_dataset,\n",
    "          epochs = 5,\n",
    "          callbacks=[checkpointer_bi, early_stopping_bi])"
   ]
  },
  {
   "cell_type": "code",
   "execution_count": 167,
   "metadata": {},
   "outputs": [
    {
     "data": {
      "image/png": "[encoded data removed]",
      "text/plain": [
       "<Figure size 576x396 with 1 Axes>"
      ]
     },
     "metadata": {},
     "output_type": "display_data"
    }
   ],
   "source": [
    "plot_loss_accuracy(lstm_history_bi_model, 'LSTM_Bi-directional')"
   ]
  },
  {
   "cell_type": "code",
   "execution_count": 169,
   "metadata": {},
   "outputs": [
    {
     "name": "stdout",
     "output_type": "stream",
     "text": [
      "407/407 [==============================] - 124s 303ms/step - loss: 0.9394 - acc: 0.6090\n"
     ]
    }
   ],
   "source": [
    "_,val_acc = lstm_bi_model.evaluate(val_dataset)"
   ]
  },
  {
   "cell_type": "markdown",
   "metadata": {},
   "source": [
    "change the batch to 128 -> with 16 is really slow"
   ]
  },
  {
   "cell_type": "code",
   "execution_count": 179,
   "metadata": {},
   "outputs": [],
   "source": [
    "lstm_bidirectional_ver_1 = pd.DataFrame(lstm_history_bi_model.history)\n",
    "lstm_bidirectional_ver_1['epoch'] = lstm_history_bi_model.epoch"
   ]
  },
  {
   "cell_type": "code",
   "execution_count": 180,
   "metadata": {},
   "outputs": [
    {
     "data": {
      "text/html": [
       "<div>\n",
       "<style scoped>\n",
       "    .dataframe tbody tr th:only-of-type {\n",
       "        vertical-align: middle;\n",
       "    }\n",
       "\n",
       "    .dataframe tbody tr th {\n",
       "        vertical-align: top;\n",
       "    }\n",
       "\n",
       "    .dataframe thead th {\n",
       "        text-align: right;\n",
       "    }\n",
       "</style>\n",
       "<table border=\"1\" class=\"dataframe\">\n",
       "  <thead>\n",
       "    <tr style=\"text-align: right;\">\n",
       "      <th></th>\n",
       "      <th>loss</th>\n",
       "      <th>acc</th>\n",
       "      <th>val_loss</th>\n",
       "      <th>val_acc</th>\n",
       "      <th>epoch</th>\n",
       "    </tr>\n",
       "  </thead>\n",
       "  <tbody>\n",
       "    <tr>\n",
       "      <th>0</th>\n",
       "      <td>1.067775</td>\n",
       "      <td>0.532027</td>\n",
       "      <td>0.993251</td>\n",
       "      <td>0.569342</td>\n",
       "      <td>0</td>\n",
       "    </tr>\n",
       "    <tr>\n",
       "      <th>1</th>\n",
       "      <td>0.957569</td>\n",
       "      <td>0.593622</td>\n",
       "      <td>0.981090</td>\n",
       "      <td>0.595018</td>\n",
       "      <td>1</td>\n",
       "    </tr>\n",
       "    <tr>\n",
       "      <th>2</th>\n",
       "      <td>0.928630</td>\n",
       "      <td>0.605545</td>\n",
       "      <td>0.959893</td>\n",
       "      <td>0.600246</td>\n",
       "      <td>2</td>\n",
       "    </tr>\n",
       "    <tr>\n",
       "      <th>3</th>\n",
       "      <td>0.898315</td>\n",
       "      <td>0.621874</td>\n",
       "      <td>0.945742</td>\n",
       "      <td>0.607011</td>\n",
       "      <td>3</td>\n",
       "    </tr>\n",
       "    <tr>\n",
       "      <th>4</th>\n",
       "      <td>0.902642</td>\n",
       "      <td>0.620337</td>\n",
       "      <td>0.939404</td>\n",
       "      <td>0.609010</td>\n",
       "      <td>4</td>\n",
       "    </tr>\n",
       "  </tbody>\n",
       "</table>\n",
       "</div>"
      ],
      "text/plain": [
       "       loss       acc  val_loss   val_acc  epoch\n",
       "0  1.067775  0.532027  0.993251  0.569342      0\n",
       "1  0.957569  0.593622  0.981090  0.595018      1\n",
       "2  0.928630  0.605545  0.959893  0.600246      2\n",
       "3  0.898315  0.621874  0.945742  0.607011      3\n",
       "4  0.902642  0.620337  0.939404  0.609010      4"
      ]
     },
     "execution_count": 180,
     "metadata": {},
     "output_type": "execute_result"
    }
   ],
   "source": [
    "lstm_bidirectional_ver_1"
   ]
  },
  {
   "cell_type": "code",
   "execution_count": null,
   "metadata": {},
   "outputs": [],
   "source": []
  }
 ],
 "metadata": {
  "kernelspec": {
   "display_name": "Python 3 (ipykernel)",
   "language": "python",
   "name": "python3"
  },
  "language_info": {
   "codemirror_mode": {
    "name": "ipython",
    "version": 3
   },
   "file_extension": ".py",
   "mimetype": "text/x-python",
   "name": "python",
   "nbconvert_exporter": "python",
   "pygments_lexer": "ipython3",
   "version": "3.9.7"
  }
 },
 "nbformat": 4,
 "nbformat_minor": 4
}
