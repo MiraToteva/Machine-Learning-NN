{
 "cells": [
  {
   "cell_type": "code",
   "execution_count": 1,
   "metadata": {},
   "outputs": [],
   "source": [
    "import spotipy\n",
    "from spotipy.oauth2 import SpotifyClientCredentials \n",
    "import pandas as pd\n",
    "import lyricsgenius\n",
    "from time import sleep\n",
    "import re\n",
    "from langdetect import detect"
   ]
  },
  {
   "cell_type": "markdown",
   "metadata": {},
   "source": [
    "# Don't reload the file! "
   ]
  },
  {
   "cell_type": "markdown",
   "metadata": {},
   "source": [
    "# Data scraping, cleaning and preparing the data set"
   ]
  },
  {
   "cell_type": "markdown",
   "metadata": {},
   "source": [
    "### **1.** We will start by collecting data from spotify with spotipy librarary for artist name and track name and based on them we will add and genres.\n",
    "\n",
    "Spotify has extensive list of genres - 126, we will select the only the main popular generes.*\n",
    "\n",
    " \n",
    " * pop\n",
    " \n",
    " * rock\n",
    " \n",
    " * metal\n",
    " \n",
    " * hip-hop\n",
    " \n",
    " * r&b\n",
    " \n",
    " * country\n",
    " \n",
    "*classification of popular genres : [Wikipedia link](https://en.wikipedia.org/wiki/List_of_popular_music_genres)\n",
    "\n"
   ]
  },
  {
   "cell_type": "code",
   "execution_count": 2,
   "metadata": {},
   "outputs": [],
   "source": [
    "client_id = \"client_id\"\n",
    "client_secret = \"client secret\"\n",
    "client_credentials_manager = SpotifyClientCredentials(client_id=client_id, client_secret=client_secret)\n",
    "sp = spotipy.Spotify(client_credentials_manager=client_credentials_manager)"
   ]
  },
  {
   "cell_type": "code",
   "execution_count": 3,
   "metadata": {},
   "outputs": [],
   "source": [
    "all_genres = sp.recommendation_genre_seeds()['genres']"
   ]
  },
  {
   "cell_type": "code",
   "execution_count": 4,
   "metadata": {},
   "outputs": [],
   "source": [
    "## excluding asian pop genres because of the lyrics\n",
    "excl_pop_list = ['cantopop','mandopop', 'pop-film' ,'k-pop']\n",
    "r_n_b_list = ['r-n-b', 'blues', 'soul', 'disco']\n",
    "hip_hop_list = [\"hip-hop\", 'trip-hop', 'hardcore']"
   ]
  },
  {
   "cell_type": "code",
   "execution_count": 5,
   "metadata": {},
   "outputs": [],
   "source": [
    "def group_genres(x):\n",
    "    grouped_genres = {'pop': [], 'hip-hop/rap' : [], 'rock' : [], 'country': [], 'r&b': [], 'metal' : []}\n",
    "    for i in range(0, len(all_genres)):\n",
    "        if \"pop\" in all_genres[i]:\n",
    "            if all_genres[i] not in excl_pop_list:\n",
    "                grouped_genres['pop'].append(all_genres[i])  \n",
    "        elif 'rock'in all_genres[i]:\n",
    "            grouped_genres['rock'].append(all_genres[i])    \n",
    "        elif \"country\" in all_genres[i] or 'bluegrass' in all_genres[i]:\n",
    "            grouped_genres['country'].append(all_genres[i])\n",
    "        elif all_genres[i] in hip_hop_list:\n",
    "            grouped_genres['hip-hop/rap'].append(all_genres[i])\n",
    "        elif all_genres[i] in r_n_b_list:\n",
    "            grouped_genres['r&b'].append(all_genres[i])\n",
    "        elif 'metal' in all_genres[i]:\n",
    "            grouped_genres['metal'].append(all_genres[i])\n",
    "    return grouped_genres"
   ]
  },
  {
   "cell_type": "code",
   "execution_count": 6,
   "metadata": {},
   "outputs": [],
   "source": [
    "grouped_genres = group_genres(all_genres)"
   ]
  },
  {
   "cell_type": "code",
   "execution_count": 7,
   "metadata": {
    "scrolled": true
   },
   "outputs": [
    {
     "data": {
      "text/plain": [
       "{'pop': ['indie-pop', 'j-pop', 'pop', 'power-pop', 'synth-pop'],\n",
       " 'hip-hop/rap': ['hardcore', 'hip-hop', 'trip-hop'],\n",
       " 'rock': ['alt-rock',\n",
       "  'hard-rock',\n",
       "  'j-rock',\n",
       "  'psych-rock',\n",
       "  'punk-rock',\n",
       "  'rock',\n",
       "  'rock-n-roll',\n",
       "  'rockabilly'],\n",
       " 'country': ['bluegrass', 'country'],\n",
       " 'r&b': ['blues', 'disco', 'r-n-b', 'soul'],\n",
       " 'metal': ['black-metal',\n",
       "  'death-metal',\n",
       "  'heavy-metal',\n",
       "  'metal',\n",
       "  'metal-misc',\n",
       "  'metalcore']}"
      ]
     },
     "execution_count": 7,
     "metadata": {},
     "output_type": "execute_result"
    }
   ],
   "source": [
    "### check genres list\n",
    "grouped_genres"
   ]
  },
  {
   "cell_type": "code",
   "execution_count": 8,
   "metadata": {},
   "outputs": [
    {
     "name": "stdout",
     "output_type": "stream",
     "text": [
      "(27000, 6)\n"
     ]
    }
   ],
   "source": [
    "\n",
    "# Making API request - going thorough the slected genres and request Spotify API to return artist name, track name, track_href and genre name\n",
    "\n",
    "artist_name = []\n",
    "track_name = []\n",
    "genre_name = []\n",
    "track_id = []\n",
    "artist_href = []\n",
    "track_href = []\n",
    "#album_image = []\n",
    "\n",
    "\n",
    "for genre, subgenre in grouped_genres.items():\n",
    "    \n",
    "    for _ in range(0,len(subgenre)):\n",
    "        for i in range (0, 1000, 50):\n",
    "            q1 = 'genre:'+str(subgenre[_])\n",
    "        \n",
    "            genre_results = sp.search(q=q1, type='track', limit=50, offset = i)\n",
    "            for i, t in enumerate(genre_results['tracks']['items']):           \n",
    "                artist_name.append(t['artists'][0]['name'])\n",
    "                track_name.append(t['name'])\n",
    "                track_id.append(t['id'])\n",
    "                artist_href.append(t['artists'][0]['external_urls']['spotify'])\n",
    "                track_href.append(t['external_urls']['spotify'])\n",
    "                #album_image.append(t['album']['images'][0]['url'])\n",
    "                genre_name.append(genre)\n",
    "          \n",
    "    \n",
    "spotify_dataframe = pd.DataFrame({'artist_name' : artist_name, 'track_name' : track_name, 'track_id' : track_id, 'artist_href' : artist_href, 'track_href' : track_href, 'genre_name' : genre_name})\n",
    "print(spotify_dataframe.shape)"
   ]
  },
  {
   "cell_type": "code",
   "execution_count": 9,
   "metadata": {},
   "outputs": [
    {
     "data": {
      "text/plain": [
       "genre_name\n",
       "country        2000\n",
       "hip-hop/rap    3000\n",
       "metal          5000\n",
       "pop            5000\n",
       "r&b            4000\n",
       "rock           8000\n",
       "dtype: int64"
      ]
     },
     "execution_count": 9,
     "metadata": {},
     "output_type": "execute_result"
    }
   ],
   "source": [
    "## check how many songs per genre we have\n",
    "spotify_dataframe.groupby(['genre_name']).size()"
   ]
  },
  {
   "cell_type": "code",
   "execution_count": 10,
   "metadata": {},
   "outputs": [
    {
     "data": {
      "text/plain": [
       "4627"
      ]
     },
     "execution_count": 10,
     "metadata": {},
     "output_type": "execute_result"
    }
   ],
   "source": [
    "# Data Exploration\n",
    "\n",
    "# using groupby to check for duplicates\n",
    "\n",
    "grouped = spotify_dataframe.groupby(['artist_name','track_name'], as_index=True).size()\n",
    "grouped[grouped > 1].count()"
   ]
  },
  {
   "cell_type": "code",
   "execution_count": 11,
   "metadata": {},
   "outputs": [],
   "source": [
    "# Data Cleanup - dropping duplicates based on artist_name and track_name\n",
    "\n",
    "# dropping those values\n",
    "\n",
    "spotify_dataframe.drop_duplicates(subset=['artist_name','track_name'], inplace=True)"
   ]
  },
  {
   "cell_type": "code",
   "execution_count": 12,
   "metadata": {},
   "outputs": [
    {
     "data": {
      "text/plain": [
       "0"
      ]
     },
     "execution_count": 12,
     "metadata": {},
     "output_type": "execute_result"
    }
   ],
   "source": [
    "\n",
    "# Data Exploration\n",
    "\n",
    "# making sure they are gone\n",
    "\n",
    "grouped_after_dropping = spotify_dataframe.groupby(['artist_name','track_name'], as_index=True).size()\n",
    "grouped_after_dropping[grouped_after_dropping > 1].count()"
   ]
  },
  {
   "cell_type": "code",
   "execution_count": 13,
   "metadata": {},
   "outputs": [
    {
     "data": {
      "text/plain": [
       "genre_name\n",
       "country        1687\n",
       "hip-hop/rap    2665\n",
       "metal          3752\n",
       "pop            4415\n",
       "r&b            2290\n",
       "rock           5360\n",
       "dtype: int64"
      ]
     },
     "execution_count": 13,
     "metadata": {},
     "output_type": "execute_result"
    }
   ],
   "source": [
    "spotify_dataframe.groupby(['genre_name']).size()"
   ]
  },
  {
   "cell_type": "markdown",
   "metadata": {},
   "source": [
    "### **2.** Audio features of the songs"
   ]
  },
  {
   "cell_type": "code",
   "execution_count": 14,
   "metadata": {},
   "outputs": [],
   "source": [
    "# Making API request - going thorough the selected genres and request Spotify API to return audio features of the songs\n",
    "\n",
    "rows = []\n",
    "batchsize = 100\n",
    "\n",
    "\n",
    "for i in range(0,len(spotify_dataframe['track_id']),batchsize):\n",
    "    batch = spotify_dataframe['track_id'][i:i+batchsize]\n",
    "    feature_results = sp.audio_features(batch)\n",
    "    for i, t in enumerate(feature_results):\n",
    "        rows.append(t)\n"
   ]
  },
  {
   "cell_type": "code",
   "execution_count": 15,
   "metadata": {},
   "outputs": [
    {
     "name": "stdout",
     "output_type": "stream",
     "text": [
      "Shape of the dataset: (20169, 18)\n"
     ]
    }
   ],
   "source": [
    "# Data Exploration\n",
    "\n",
    "audio_features_df = pd.DataFrame.from_dict(rows,orient='columns')\n",
    "print(\"Shape of the dataset:\", audio_features_df.shape)"
   ]
  },
  {
   "cell_type": "code",
   "execution_count": 16,
   "metadata": {},
   "outputs": [
    {
     "data": {
      "text/plain": [
       "(20169, 13)"
      ]
     },
     "execution_count": 16,
     "metadata": {},
     "output_type": "execute_result"
    }
   ],
   "source": [
    "\n",
    "# Data Cleanup - dropping and renaming columns\n",
    "\n",
    "columns_to_drop = ['analysis_url','type','uri', 'track_href','time_signature']\n",
    "audio_features_df.drop(columns_to_drop, axis=1,inplace=True)\n",
    "audio_features_df.rename(columns={'id': 'track_id'}, inplace=True)\n",
    "audio_features_df.shape"
   ]
  },
  {
   "cell_type": "code",
   "execution_count": 17,
   "metadata": {},
   "outputs": [
    {
     "data": {
      "text/html": [
       "<div>\n",
       "<style scoped>\n",
       "    .dataframe tbody tr th:only-of-type {\n",
       "        vertical-align: middle;\n",
       "    }\n",
       "\n",
       "    .dataframe tbody tr th {\n",
       "        vertical-align: top;\n",
       "    }\n",
       "\n",
       "    .dataframe thead th {\n",
       "        text-align: right;\n",
       "    }\n",
       "</style>\n",
       "<table border=\"1\" class=\"dataframe\">\n",
       "  <thead>\n",
       "    <tr style=\"text-align: right;\">\n",
       "      <th></th>\n",
       "      <th>artist_name</th>\n",
       "      <th>track_name</th>\n",
       "      <th>track_id</th>\n",
       "      <th>artist_href</th>\n",
       "      <th>track_href</th>\n",
       "      <th>genre_name</th>\n",
       "      <th>danceability</th>\n",
       "      <th>energy</th>\n",
       "      <th>key</th>\n",
       "      <th>loudness</th>\n",
       "      <th>mode</th>\n",
       "      <th>speechiness</th>\n",
       "      <th>acousticness</th>\n",
       "      <th>instrumentalness</th>\n",
       "      <th>liveness</th>\n",
       "      <th>valence</th>\n",
       "      <th>tempo</th>\n",
       "      <th>duration_ms</th>\n",
       "    </tr>\n",
       "  </thead>\n",
       "  <tbody>\n",
       "    <tr>\n",
       "      <th>0</th>\n",
       "      <td>Glass Animals</td>\n",
       "      <td>Heat Waves</td>\n",
       "      <td>3USxtqRwSYz57Ewm6wWRMp</td>\n",
       "      <td>https://open.spotify.com/artist/4yvcSjfu4PC0CY...</td>\n",
       "      <td>https://open.spotify.com/track/3USxtqRwSYz57Ew...</td>\n",
       "      <td>pop</td>\n",
       "      <td>0.761</td>\n",
       "      <td>0.525</td>\n",
       "      <td>11</td>\n",
       "      <td>-6.900</td>\n",
       "      <td>1</td>\n",
       "      <td>0.0944</td>\n",
       "      <td>0.4400</td>\n",
       "      <td>0.000007</td>\n",
       "      <td>0.0921</td>\n",
       "      <td>0.531</td>\n",
       "      <td>80.870</td>\n",
       "      <td>238805</td>\n",
       "    </tr>\n",
       "    <tr>\n",
       "      <th>1</th>\n",
       "      <td>Måneskin</td>\n",
       "      <td>Beggin'</td>\n",
       "      <td>3Wrjm47oTz2sjIgck11l5e</td>\n",
       "      <td>https://open.spotify.com/artist/0lAWpj5szCSwM4...</td>\n",
       "      <td>https://open.spotify.com/track/3Wrjm47oTz2sjIg...</td>\n",
       "      <td>pop</td>\n",
       "      <td>0.714</td>\n",
       "      <td>0.800</td>\n",
       "      <td>11</td>\n",
       "      <td>-4.808</td>\n",
       "      <td>0</td>\n",
       "      <td>0.0504</td>\n",
       "      <td>0.1270</td>\n",
       "      <td>0.000000</td>\n",
       "      <td>0.3590</td>\n",
       "      <td>0.589</td>\n",
       "      <td>134.002</td>\n",
       "      <td>211560</td>\n",
       "    </tr>\n",
       "    <tr>\n",
       "      <th>2</th>\n",
       "      <td>girl in red</td>\n",
       "      <td>we fell in love in october</td>\n",
       "      <td>1BYZxKSf0aTxp8ZFoeyM3d</td>\n",
       "      <td>https://open.spotify.com/artist/3uwAm6vQy7kWPS...</td>\n",
       "      <td>https://open.spotify.com/track/1BYZxKSf0aTxp8Z...</td>\n",
       "      <td>pop</td>\n",
       "      <td>0.566</td>\n",
       "      <td>0.366</td>\n",
       "      <td>7</td>\n",
       "      <td>-12.808</td>\n",
       "      <td>1</td>\n",
       "      <td>0.0280</td>\n",
       "      <td>0.1130</td>\n",
       "      <td>0.181000</td>\n",
       "      <td>0.1550</td>\n",
       "      <td>0.237</td>\n",
       "      <td>129.959</td>\n",
       "      <td>184154</td>\n",
       "    </tr>\n",
       "    <tr>\n",
       "      <th>3</th>\n",
       "      <td>Joy Again</td>\n",
       "      <td>Looking Out for You</td>\n",
       "      <td>3jfZ9M23l0L7RxzYMTgBTv</td>\n",
       "      <td>https://open.spotify.com/artist/4jCIAMb0zEArF3...</td>\n",
       "      <td>https://open.spotify.com/track/3jfZ9M23l0L7Rxz...</td>\n",
       "      <td>pop</td>\n",
       "      <td>0.682</td>\n",
       "      <td>0.900</td>\n",
       "      <td>9</td>\n",
       "      <td>-5.028</td>\n",
       "      <td>1</td>\n",
       "      <td>0.0874</td>\n",
       "      <td>0.0884</td>\n",
       "      <td>0.063000</td>\n",
       "      <td>0.0685</td>\n",
       "      <td>0.937</td>\n",
       "      <td>100.721</td>\n",
       "      <td>179499</td>\n",
       "    </tr>\n",
       "    <tr>\n",
       "      <th>4</th>\n",
       "      <td>Conan Gray</td>\n",
       "      <td>Heather</td>\n",
       "      <td>4xqrdfXkTW4T0RauPLv3WA</td>\n",
       "      <td>https://open.spotify.com/artist/4Uc8Dsxct0oMqx...</td>\n",
       "      <td>https://open.spotify.com/track/4xqrdfXkTW4T0Ra...</td>\n",
       "      <td>pop</td>\n",
       "      <td>0.357</td>\n",
       "      <td>0.425</td>\n",
       "      <td>5</td>\n",
       "      <td>-7.301</td>\n",
       "      <td>1</td>\n",
       "      <td>0.0333</td>\n",
       "      <td>0.5840</td>\n",
       "      <td>0.000000</td>\n",
       "      <td>0.3220</td>\n",
       "      <td>0.270</td>\n",
       "      <td>102.078</td>\n",
       "      <td>198040</td>\n",
       "    </tr>\n",
       "  </tbody>\n",
       "</table>\n",
       "</div>"
      ],
      "text/plain": [
       "     artist_name                  track_name                track_id  \\\n",
       "0  Glass Animals                  Heat Waves  3USxtqRwSYz57Ewm6wWRMp   \n",
       "1       Måneskin                     Beggin'  3Wrjm47oTz2sjIgck11l5e   \n",
       "2    girl in red  we fell in love in october  1BYZxKSf0aTxp8ZFoeyM3d   \n",
       "3      Joy Again         Looking Out for You  3jfZ9M23l0L7RxzYMTgBTv   \n",
       "4     Conan Gray                     Heather  4xqrdfXkTW4T0RauPLv3WA   \n",
       "\n",
       "                                         artist_href  \\\n",
       "0  https://open.spotify.com/artist/4yvcSjfu4PC0CY...   \n",
       "1  https://open.spotify.com/artist/0lAWpj5szCSwM4...   \n",
       "2  https://open.spotify.com/artist/3uwAm6vQy7kWPS...   \n",
       "3  https://open.spotify.com/artist/4jCIAMb0zEArF3...   \n",
       "4  https://open.spotify.com/artist/4Uc8Dsxct0oMqx...   \n",
       "\n",
       "                                          track_href genre_name  danceability  \\\n",
       "0  https://open.spotify.com/track/3USxtqRwSYz57Ew...        pop         0.761   \n",
       "1  https://open.spotify.com/track/3Wrjm47oTz2sjIg...        pop         0.714   \n",
       "2  https://open.spotify.com/track/1BYZxKSf0aTxp8Z...        pop         0.566   \n",
       "3  https://open.spotify.com/track/3jfZ9M23l0L7Rxz...        pop         0.682   \n",
       "4  https://open.spotify.com/track/4xqrdfXkTW4T0Ra...        pop         0.357   \n",
       "\n",
       "   energy  key  loudness  mode  speechiness  acousticness  instrumentalness  \\\n",
       "0   0.525   11    -6.900     1       0.0944        0.4400          0.000007   \n",
       "1   0.800   11    -4.808     0       0.0504        0.1270          0.000000   \n",
       "2   0.366    7   -12.808     1       0.0280        0.1130          0.181000   \n",
       "3   0.900    9    -5.028     1       0.0874        0.0884          0.063000   \n",
       "4   0.425    5    -7.301     1       0.0333        0.5840          0.000000   \n",
       "\n",
       "   liveness  valence    tempo  duration_ms  \n",
       "0    0.0921    0.531   80.870       238805  \n",
       "1    0.3590    0.589  134.002       211560  \n",
       "2    0.1550    0.237  129.959       184154  \n",
       "3    0.0685    0.937  100.721       179499  \n",
       "4    0.3220    0.270  102.078       198040  "
      ]
     },
     "execution_count": 17,
     "metadata": {},
     "output_type": "execute_result"
    }
   ],
   "source": [
    "# Data Cleanup - now we merge user inner to make sure we only keep track ids present\n",
    "\n",
    "audio_ft_df = pd.merge(spotify_dataframe,audio_features_df,on='track_id',how='inner')\n",
    "audio_ft_df.head()"
   ]
  },
  {
   "cell_type": "code",
   "execution_count": 18,
   "metadata": {},
   "outputs": [],
   "source": [
    "# Data Cleanup - making everything lower case\n",
    "\n",
    "audio_ft_df['track_name'] = audio_ft_df['track_name'].apply(lambda row: row.lower())\n",
    "audio_ft_df['artist_name'] = audio_ft_df['artist_name'].apply(lambda row: row.lower())"
   ]
  },
  {
   "cell_type": "code",
   "execution_count": 19,
   "metadata": {},
   "outputs": [],
   "source": [
    "audio_ft_df.drop_duplicates(subset=['artist_name','track_name'], inplace=True)"
   ]
  },
  {
   "cell_type": "markdown",
   "metadata": {},
   "source": [
    "source code :[github link](https://github.com/etarakci/music-genre-prediction/blob/master/jupyter_notebooks/Spotify%20API.ipynb)"
   ]
  },
  {
   "cell_type": "markdown",
   "metadata": {},
   "source": [
    "### **3.** Lyrics of the songs"
   ]
  },
  {
   "cell_type": "markdown",
   "metadata": {},
   "source": [
    "We will scrape lyrics with lyricsgenius library based on the artist name and track name.\n",
    "\n",
    "To make it easier later on to make the dataset balanced ( have the same number of songs per each genre) we will divide each music genre into different dataframe."
   ]
  },
  {
   "cell_type": "code",
   "execution_count": 20,
   "metadata": {},
   "outputs": [],
   "source": [
    "audio_ft_df['lyrics'] = ''"
   ]
  },
  {
   "cell_type": "code",
   "execution_count": 21,
   "metadata": {},
   "outputs": [],
   "source": [
    "genius = lyricsgenius.Genius('key')\n",
    "# set params\n",
    "genius.verbose = False # Turn off status messages\n",
    "genius.remove_section_headers = True # Remove section headers (e.g. [Chorus]) from lyrics when searching\n",
    "genius.skip_non_songs = False # Include hits thought to be non-songs (e.g. track lists)"
   ]
  },
  {
   "cell_type": "code",
   "execution_count": 25,
   "metadata": {},
   "outputs": [],
   "source": [
    "rock_df = audio_ft_df[audio_ft_df.genre_name == \"rock\"][-1300:]\n",
    "country_df = audio_ft_df[audio_ft_df.genre_name == \"country\"][-1300:]\n",
    "pop_df = audio_ft_df[audio_ft_df.genre_name == \"pop\"][-1300:]\n",
    "r_n_b_df = audio_ft_df[audio_ft_df.genre_name == \"r&b\"][-1300:]\n",
    "metal_df = audio_ft_df[audio_ft_df.genre_name == \"metal\"][-1300:]\n",
    "hip_hop_df = audio_ft_df[audio_ft_df.genre_name == \"hip-hop/rap\"][-1300:]"
   ]
  },
  {
   "cell_type": "code",
   "execution_count": 26,
   "metadata": {},
   "outputs": [],
   "source": [
    "def add_lyrics(df):\n",
    "   \n",
    "    for artist, track in zip(df.artist_name, df.track_name):\n",
    "        try:\n",
    "            song = genius.search_song(track,artist)\n",
    "            row = df[(df.artist_name == artist) & (df.track_name == track)].index.item()\n",
    "            df.at[row,'lyrics'] = song.lyrics       \n",
    "        except AttributeError:\n",
    "            pass\n",
    "        except ValueError:\n",
    "            pass"
   ]
  },
  {
   "cell_type": "code",
   "execution_count": 29,
   "metadata": {},
   "outputs": [],
   "source": [
    "rock_lyrics = add_lyrics(rock_df)"
   ]
  },
  {
   "cell_type": "code",
   "execution_count": 30,
   "metadata": {},
   "outputs": [],
   "source": [
    "country_lyrics = add_lyrics(country_df)"
   ]
  },
  {
   "cell_type": "code",
   "execution_count": 33,
   "metadata": {},
   "outputs": [],
   "source": [
    "pop_lyrics = add_lyrics(pop_df)"
   ]
  },
  {
   "cell_type": "code",
   "execution_count": 35,
   "metadata": {},
   "outputs": [],
   "source": [
    "r_n_b_lyrics = add_lyrics(r_n_b_df)"
   ]
  },
  {
   "cell_type": "code",
   "execution_count": 37,
   "metadata": {},
   "outputs": [],
   "source": [
    "metal_lyrics = add_lyrics(metal_df)"
   ]
  },
  {
   "cell_type": "code",
   "execution_count": 38,
   "metadata": {},
   "outputs": [],
   "source": [
    "hip_hop_lyrics = add_lyrics(hip_hop_df)"
   ]
  },
  {
   "cell_type": "code",
   "execution_count": 273,
   "metadata": {},
   "outputs": [],
   "source": [
    "with_lyrics = rock_df.append([country_df, pop_df, hip_hop_df, r_n_b_df, metal_df])"
   ]
  },
  {
   "cell_type": "code",
   "execution_count": 274,
   "metadata": {},
   "outputs": [
    {
     "data": {
      "text/plain": [
       "hip-hop/rap    1300\n",
       "metal          1300\n",
       "pop            1300\n",
       "rock           1300\n",
       "country        1300\n",
       "r&b            1300\n",
       "Name: genre_name, dtype: int64"
      ]
     },
     "execution_count": 274,
     "metadata": {},
     "output_type": "execute_result"
    }
   ],
   "source": [
    "with_lyrics.genre_name.value_counts()"
   ]
  },
  {
   "cell_type": "code",
   "execution_count": 275,
   "metadata": {},
   "outputs": [
    {
     "data": {
      "text/plain": [
       "lyrics\n",
       "False    7016\n",
       "True      784\n",
       "dtype: int64"
      ]
     },
     "execution_count": 275,
     "metadata": {},
     "output_type": "execute_result"
    }
   ],
   "source": [
    "with_lyrics.groupby(with_lyrics.lyrics == '').size()"
   ]
  },
  {
   "cell_type": "code",
   "execution_count": null,
   "metadata": {},
   "outputs": [],
   "source": [
    "### remove empty rows from the dataframes"
   ]
  },
  {
   "cell_type": "code",
   "execution_count": 276,
   "metadata": {},
   "outputs": [],
   "source": [
    "without_empty_lyrics = with_lyrics[with_lyrics.lyrics != '']"
   ]
  },
  {
   "cell_type": "code",
   "execution_count": 277,
   "metadata": {
    "scrolled": true
   },
   "outputs": [
    {
     "data": {
      "text/plain": [
       "metal          1220\n",
       "r&b            1213\n",
       "country        1210\n",
       "pop            1176\n",
       "rock           1155\n",
       "hip-hop/rap    1042\n",
       "Name: genre_name, dtype: int64"
      ]
     },
     "execution_count": 277,
     "metadata": {},
     "output_type": "execute_result"
    }
   ],
   "source": [
    "without_empty_lyrics.genre_name.value_counts()"
   ]
  },
  {
   "cell_type": "code",
   "execution_count": 278,
   "metadata": {},
   "outputs": [
    {
     "data": {
      "text/plain": [
       "lyrics\n",
       "False    7016\n",
       "dtype: int64"
      ]
     },
     "execution_count": 278,
     "metadata": {},
     "output_type": "execute_result"
    }
   ],
   "source": [
    "# check if all empy cells are deleted\n",
    "without_empty_lyrics.groupby(without_empty_lyrics.lyrics == '').size()"
   ]
  },
  {
   "cell_type": "code",
   "execution_count": 101,
   "metadata": {},
   "outputs": [],
   "source": [
    "#cleaned_country_df = country_df[country_df.lyrics != '']"
   ]
  },
  {
   "cell_type": "code",
   "execution_count": 103,
   "metadata": {},
   "outputs": [],
   "source": [
    "#cleaned_rock_df = rock_df[rock_df.lyrics != '']"
   ]
  },
  {
   "cell_type": "code",
   "execution_count": 104,
   "metadata": {},
   "outputs": [],
   "source": [
    "#cleaned_pop_df = pop_df[pop_df.lyrics != '']"
   ]
  },
  {
   "cell_type": "code",
   "execution_count": 105,
   "metadata": {},
   "outputs": [],
   "source": [
    "#cleaned_r_n_b_df = r_n_b_df[r_n_b_df.lyrics != '']"
   ]
  },
  {
   "cell_type": "code",
   "execution_count": 106,
   "metadata": {},
   "outputs": [],
   "source": [
    "#cleaned_metal_df = metal_df[metal_df.lyrics != '']"
   ]
  },
  {
   "cell_type": "code",
   "execution_count": 107,
   "metadata": {},
   "outputs": [],
   "source": [
    "#cleaned_hip_hop_df = hip_hop_df[hip_hop_df.lyrics != '']"
   ]
  },
  {
   "cell_type": "markdown",
   "metadata": {},
   "source": [
    "Some songs have remixes, variants, live"
   ]
  },
  {
   "cell_type": "code",
   "execution_count": 279,
   "metadata": {},
   "outputs": [],
   "source": [
    "\n",
    "def check_duplicates(key_word, dataset):\n",
    "    counter = 0\n",
    "    artist_to_ckeck = {}\n",
    "    for artist, song in zip(dataset.artist_name,dataset.track_name):\n",
    "        song_ = song.split(' ')\n",
    "        artist_ = artist\n",
    "        if key_word in song_:\n",
    "            counter+=1\n",
    "            if artist_ not in artist_to_ckeck:\n",
    "                artist_to_ckeck[artist_] = []\n",
    "                artist_to_ckeck[artist_].append(song)\n",
    "            else:\n",
    "                artist_to_ckeck[artist_].append(song)\n",
    "    print(f'{key_word} found {counter}')\n",
    "    return artist_to_ckeck"
   ]
  },
  {
   "cell_type": "code",
   "execution_count": 280,
   "metadata": {},
   "outputs": [],
   "source": [
    "def clear_duplicates(key_word, dataset):\n",
    "    for artist, song in zip(dataset.artist_name,dataset.track_name):\n",
    "        song_ = song.split(' ')\n",
    "        artist_ = artist\n",
    "        if key_word in song_:\n",
    "            index = dataset[(dataset.artist_name == artist_) & (dataset.track_name == song)].index[0]\n",
    "            #dataset.track_name.loc[index] = song.split(' - ')[0]\n",
    "            dataset.at[index,'track_name'] = song.split(' - ')[0]\n",
    "            \n",
    "\n",
    "    return dataset"
   ]
  },
  {
   "cell_type": "code",
   "execution_count": 281,
   "metadata": {},
   "outputs": [
    {
     "name": "stdout",
     "output_type": "stream",
     "text": [
      "remix found 61\n"
     ]
    },
    {
     "data": {
      "text/plain": [
       "{'paul anka': ['puppy love - remix'],\n",
       " 'kane brown': ['memory - feather remix', 'memory - said the sky remix'],\n",
       " 'brantley gilbert': ['bottoms up - remix'],\n",
       " 'lillix': ['tomorrow - radio remix'],\n",
       " 'weezer': ['africa - rac remix'],\n",
       " 'tove lo': ['habits (stay high) - hippie sabotage remix',\n",
       "  'cool girl - nora en pure remix',\n",
       "  'talking body - gryffin remix',\n",
       "  'talking body - kream remix',\n",
       "  'talking body - the young professionals remix',\n",
       "  'habits (stay high) - oliver nelson remix'],\n",
       " 'great good fine ok': [\"you're the one for me - digital farm animals remix\"],\n",
       " 'tove styrke': ['borderline - vanic remix'],\n",
       " 'la roux': ['automatic driver - tyler, the creator remix',\n",
       "  'in for the kill - skrillex remix',\n",
       "  \"in for the kill - skream's let's get ravey remix\"],\n",
       " 'gunship': ['tech noir - carpenter brut remix'],\n",
       " 'a-ha': ['take on me - kygo remix'],\n",
       " 'miike snow': ['animal - mark ronson remix',\n",
       "  'genghis khan - louis the child remix',\n",
       "  'silvia - roboberget remix'],\n",
       " 'chvrches': ['clearest blue - gryffin remix'],\n",
       " 'little dragon': ['water - fkj remix'],\n",
       " 'icona pop': ['i love it (feat. charli xcx) - tiësto remix'],\n",
       " 'the human league': ['fascination - extended remix'],\n",
       " 'dragonette': ['pick up the phone - arithmatix remix'],\n",
       " 'wham!': ['everything she wants - remix'],\n",
       " 'billy idol': ['eyes without a face - poolside remix'],\n",
       " 'a$ap ferg': ['plain jane remix (feat. nicki minaj)'],\n",
       " 'eminem': ['venom - remix'],\n",
       " 'lil nas x': ['panini - dababy remix'],\n",
       " 'wiz khalifa': ['captain - remix'],\n",
       " 'dj shadow': ['six days - remix'],\n",
       " 'everything but the girl': ['missing - todd terry remix / radio edit'],\n",
       " 'little people': [\"start shootin' - americana remix\"],\n",
       " 's-tone inc': ['blow my mind - remix'],\n",
       " 'massive attack': ['paradise circus - gui boratto remix'],\n",
       " 'unkle': ['the answer (feat. big in japan) [baltimore] - trentemøller remix'],\n",
       " 'röyksopp': ['running to the sea - seven lions remix'],\n",
       " 'lionel richie': ['angel - boogieman remix extended'],\n",
       " 'the knocks': ['ride or die (feat. foster the people) - vicetone remix'],\n",
       " 'lil tjay': ['brothers (feat. lil durk) - remix',\n",
       "  'leaked (feat. lil wayne) - remix'],\n",
       " 'wet': ['11 hours - branchez remix'],\n",
       " 'ty dolla $ign': ['blasé (feat. future & rae sremmurd) - louis the child remix'],\n",
       " 'adele': ['hometown glory - high contrast remix'],\n",
       " 'baynk': ['go with u - louis la roche remix'],\n",
       " 'brandy': ['i wanna be down (feat. queen latifah, yo-yo & mc lyte) - remix'],\n",
       " 'snoh aalegra': ['i want you around (feat. 6lack) - remix'],\n",
       " 'goldlink': ['crew remix (feat. gucci mane, brent faiyaz & shy glizzy)'],\n",
       " 'marvin gaye': ['sexual healing - kygo remix'],\n",
       " 'maverick sabre': ['slow down (feat. jorja smith) - vintage culture & slow motion remix'],\n",
       " 'thundercat': ['dragonball durag - remix'],\n",
       " 'rac': ['we belong - odesza remix'],\n",
       " 'amber mark': ['lose my cool - franc moody remix'],\n",
       " 'hayden james': ['something about you - odesza remix'],\n",
       " 'seinabo sey': ['younger - kygo remix'],\n",
       " 'cannons': ['fire for you - tiësto remix'],\n",
       " 'breaking benjamin': ['so cold - remix'],\n",
       " 'bring me the horizon': ['can you feel my heart - remix']}"
      ]
     },
     "execution_count": 281,
     "metadata": {},
     "output_type": "execute_result"
    }
   ],
   "source": [
    "check_duplicates('remix', without_empty_lyrics)"
   ]
  },
  {
   "cell_type": "code",
   "execution_count": 282,
   "metadata": {},
   "outputs": [],
   "source": [
    "without_remixes = clear_duplicates('remix',without_empty_lyrics)"
   ]
  },
  {
   "cell_type": "code",
   "execution_count": 283,
   "metadata": {},
   "outputs": [
    {
     "name": "stdout",
     "output_type": "stream",
     "text": [
      "remastered found 50\n"
     ]
    },
    {
     "data": {
      "text/plain": [
       "{'u2': ['with or without you - remastered'],\n",
       " 'queen': ['fat bottomed girls - remastered 2011',\n",
       "  'we are the champions - remastered 2011'],\n",
       " 'little river band': ['reminiscing - remastered'],\n",
       " 'elton john': ['goodbye yellow brick road - remastered 2014'],\n",
       " 'paul mccartney': ['wonderful christmastime - edited version / remastered 2011'],\n",
       " 'the clovers': ['love potion no. 9 - remastered / single version'],\n",
       " 'bruce channel': ['hey! baby - remastered'],\n",
       " 'bobby vee': ['take good care of my baby - 1990 remastered'],\n",
       " 'fats domino': [\"ain't that a shame? - remastered 2002\",\n",
       "  'blueberry hill - remastered 2002',\n",
       "  'walking to new orleans - remastered',\n",
       "  \"i'm walkin' - remastered\"],\n",
       " 'ricky nelson': ['never be anyone else but you - remastered'],\n",
       " 'elvis presley': ['blue suede shoes - remastered',\n",
       "  'always on my mind - remastered',\n",
       "  'fame and fortune - remastered'],\n",
       " 'dion & the belmonts': ['i wonder why - remastered'],\n",
       " 'johnny rivers': ['summer rain - remastered'],\n",
       " 'neil sedaka': ['calendar girl - remastered'],\n",
       " 'jack scott': [\"what in the world's come over you - remastered 1990\"],\n",
       " 'bobby darin': ['not for me - remastered 2002'],\n",
       " 'the coasters': ['poison ivy - 2007 remaster; remastered'],\n",
       " 'the everly brothers': ['gone, gone, gone - remastered version'],\n",
       " 'blondie': ['denis - remastered',\n",
       "  'heart of glass - single version / remastered',\n",
       "  'rip her to shreds - remastered',\n",
       "  'x offender - remastered',\n",
       "  'in the flesh - remastered'],\n",
       " 'culture club': ['karma chameleon - remastered 2002',\n",
       "  'miss me blind - remastered 2003',\n",
       "  'church of the poison mind - remastered 2002',\n",
       "  'love is love - remastered 2003',\n",
       "  'its a miracle - remastered 2012'],\n",
       " 'wham!': ['last christmas - remastered'],\n",
       " 'johnny hates jazz': ['shattered dreams - remastered'],\n",
       " 'a-ha': [\"i've been losing you - 2016 remastered\"],\n",
       " 'orchestral manoeuvres in the dark': ['enola gay - remastered'],\n",
       " 'the motels': ['only the lonely - remastered 1999'],\n",
       " 'billy idol': ['rebel yell - remastered',\n",
       "  'eyes without a face - remastered',\n",
       "  'flesh for fantasy - remastered'],\n",
       " 'the human league': ['human - remastered',\n",
       "  '(keep feeling) fascination - remastered'],\n",
       " 'the alarm': ['rain in the summertime - remastered'],\n",
       " 'paul young': ['come back and stay - 2008 remastered'],\n",
       " 'foxy': ['get off - remastered'],\n",
       " 'glen campbell': ['gentle on my mind - remastered 2001'],\n",
       " 'maxwell': [\"ascension (don't ever wonder) - remastered 2021\",\n",
       "  \"this woman's work - remastered 2021\"]}"
      ]
     },
     "execution_count": 283,
     "metadata": {},
     "output_type": "execute_result"
    }
   ],
   "source": [
    "check_duplicates('remastered', without_remixes)"
   ]
  },
  {
   "cell_type": "code",
   "execution_count": 284,
   "metadata": {},
   "outputs": [],
   "source": [
    "without_remastered = clear_duplicates('remastered',without_remixes)"
   ]
  },
  {
   "cell_type": "code",
   "execution_count": 285,
   "metadata": {},
   "outputs": [
    {
     "name": "stdout",
     "output_type": "stream",
     "text": [
      "remaster found 91\n"
     ]
    },
    {
     "data": {
      "text/plain": [
       "{'fleetwood mac': ['never going back again - 2004 remaster'],\n",
       " 'david bowie': ['rebel rebel - 2016 remaster',\n",
       "  'space oddity - 2015 remaster',\n",
       "  'heroes - 2017 remaster'],\n",
       " 'phil collins': [\"you can't hurry love - 2016 remaster\"],\n",
       " 'neil young': ['heart of gold - 2009 remaster'],\n",
       " 'led zeppelin': ['going to california - remaster'],\n",
       " 'genesis': [\"that's all - 2007 remaster\"],\n",
       " 'cliff richard': ['devil woman - 2001 remaster',\n",
       "  'summer holiday - 2003 remaster',\n",
       "  'ocean deep - 2002 remaster',\n",
       "  'the young ones - 2005 remaster',\n",
       "  'move it - 2002 remaster'],\n",
       " 'the everly brothers': [\"cathy's clown - 2007 remaster\",\n",
       "  'love hurts - 2007 remaster'],\n",
       " 'the dave clark five': ['because - 2019 - remaster',\n",
       "  'glad all over - 2019 - remaster'],\n",
       " 'dr. feelgood': ['milk and alcohol - 2002 remaster'],\n",
       " 'eagles': ['desperado - 2013 remaster'],\n",
       " 'son volt': ['tear stained eye - 2015 remaster'],\n",
       " 'the replacements': ['here comes a regular - 2008 remaster'],\n",
       " 'the cars': [\"since you're gone - 2017 remaster\",\n",
       "  'tonight she comes - 2017 remaster'],\n",
       " 'xtc': ['king for a day - 2001 remaster'],\n",
       " 'duran duran': ['hungry like the wolf - 2009 remaster',\n",
       "  'rio - 2009 remaster',\n",
       "  'girls on film - 2010 remaster',\n",
       "  'save a prayer - 2009 remaster',\n",
       "  'lonely in your nightmare - 2009 remaster',\n",
       "  'is there something i should know - 2010 remaster',\n",
       "  'the reflex - single version; 2010 remaster',\n",
       "  'the chauffeur - 2009 remaster',\n",
       "  'planet earth - 2010 remaster',\n",
       "  'new moon on monday - 2010 remaster',\n",
       "  'union of the snake - 2010 remaster'],\n",
       " 'talk talk': [\"it's my life - 1997 remaster\",\n",
       "  \"life's what you make it - 1997 remaster\",\n",
       "  'today - 1997 remaster',\n",
       "  'talk talk - 1997 remaster',\n",
       "  'living in another world - 1997 remaster',\n",
       "  'happiness is easy - 1997 remaster'],\n",
       " 'new order': ['age of consent - 2015 remaster',\n",
       "  \"blue monday '88 - 2015 remaster\",\n",
       "  'regret - 2015 remaster',\n",
       "  'chemical - 2015 remaster',\n",
       "  'temptation (7\" version) - 2015 remaster',\n",
       "  'special - 2015 remaster',\n",
       "  'krafty - 2015 remaster',\n",
       "  'ceremony - version 1; 2016 remaster',\n",
       "  'leave me alone - 2015 remaster',\n",
       "  'true faith - 2015 remaster',\n",
       "  'your silent face - 2015 remaster',\n",
       "  'dreams never end - 2015 remaster',\n",
       "  'love vigilantes - 2015 remaster',\n",
       "  'the perfect kiss - 2015 remaster',\n",
       "  'temptation - 7\" version; 2015 remaster',\n",
       "  'the village - 2015 remaster'],\n",
       " 'naked eyes': ['always something there to remind me - 2018 remaster',\n",
       "  'promises, promises - us single version / 2018 remaster',\n",
       "  'when the lights go out - 2018 remaster'],\n",
       " 'billy idol': ['dancing with myself - 2001 remaster'],\n",
       " 'pet shop boys': ['domino dancing - 2003 remaster',\n",
       "  \"opportunities (let's make lots of money) - 2001 remaster\",\n",
       "  'heart - 2001 remaster'],\n",
       " 'the power station': ['some like it hot - 2005 remaster',\n",
       "  'get it on (bang a gong) - 2005 remaster'],\n",
       " 'the stranglers': ['peaches - 1996 remaster',\n",
       "  'no more heroes - 1996 remaster'],\n",
       " 'electronic': ['getting away with it - 2013 remaster'],\n",
       " 'howard jones': ['no one is to blame - 2018 remaster'],\n",
       " 'everything but the girl': ['missing - 2013 remaster',\n",
       "  'wrong - 2015 remaster',\n",
       "  'before today - 2015 remaster',\n",
       "  'each and every one - 2012 remaster',\n",
       "  'the only living boy in new york - 2013 remaster',\n",
       "  'we walk the same line - 2013 remaster',\n",
       "  \"i didn't know i was looking for love - 2013 remaster\"],\n",
       " 'massive attack': ['i against i - 2006 digital remaster'],\n",
       " 'sister sledge': ['we are family - 2006 remaster'],\n",
       " 'tina turner': ['better be good to me - 2015 remaster'],\n",
       " 'simply red': ['holding back the years - 2008 remaster',\n",
       "  \"if you don't know me by now - 2008 remaster\"],\n",
       " 'michael jackson': ['man in the mirror - 2012 remaster',\n",
       "  'dirty diana - 2012 remaster'],\n",
       " 'aretha franklin': ['respect - 2003 remaster'],\n",
       " 'natalie cole': ['this will be (an everlasting love) - 2003 remaster'],\n",
       " 'x japan': ['standing sex - remaster',\n",
       "  'stab me in the back - remaster',\n",
       "  'easy fight rambling - remaster',\n",
       "  'celebration - remaster',\n",
       "  'desperate angel - remaster']}"
      ]
     },
     "execution_count": 285,
     "metadata": {},
     "output_type": "execute_result"
    }
   ],
   "source": [
    "check_duplicates('remaster', without_remastered)"
   ]
  },
  {
   "cell_type": "code",
   "execution_count": 286,
   "metadata": {},
   "outputs": [],
   "source": [
    "without_remaster = clear_duplicates('remaster', without_remastered)"
   ]
  },
  {
   "cell_type": "code",
   "execution_count": 287,
   "metadata": {},
   "outputs": [
    {
     "name": "stdout",
     "output_type": "stream",
     "text": [
      "version found 100\n"
     ]
    },
    {
     "data": {
      "text/plain": [
       "{'santana': ['black magic woman - single version'],\n",
       " 'chuck berry': ['run rudolph run - single version',\n",
       "  'let it rock - single version',\n",
       "  \"you can't catch me - single version\"],\n",
       " 'the righteous brothers': [\"you've lost that lovin' feelin' - single version\"],\n",
       " 'jerry lee lewis': ['great balls of fire - 1964 version',\n",
       "  \"whole lot of shakin' going on - single version\"],\n",
       " 'the bobby fuller four': ['i fought the law - single version'],\n",
       " 'the searchers': ['love potion number nine - stereo version',\n",
       "  'when you walk in the room - mono version',\n",
       "  'sweets for my sweet - stereo version'],\n",
       " 'the marcels': ['blue moon - 45 version'],\n",
       " 'little eva': ['the loco-motion - single version'],\n",
       " 'roger miller': ['little green apples - single version'],\n",
       " 'bill haley & his comets': ['shake, rattle and roll - single version',\n",
       "  \"(we're gonna) rock around the clock - single version\"],\n",
       " 'the spencer davis group': ['keep on running - mono version'],\n",
       " 'martha reeves & the vandellas': ['nowhere to run - single version / mono',\n",
       "  '(love is like a) heat wave - single version'],\n",
       " 'tommy james & the shondells': ['crimson & clover - long version'],\n",
       " 'ritchie valens': [\"come on, let's go - single version\"],\n",
       " 'pat boone': ['sugar moon - single version'],\n",
       " 'slim harpo': ['baby scratch my back - single version'],\n",
       " 'hank williams': [\"why don't you love me - single version\"],\n",
       " 'sam cooke': [\"i'll come running back to you - single version with dubs\"],\n",
       " 'them': [\"don't look back (feat. van morrison) - mono version\"],\n",
       " 'eddie cochran': ['three steps to heaven - single version'],\n",
       " 'the young rascals': [\"groovin' - single version\"],\n",
       " 'patsy cline': ['crazy - single version',\n",
       "  'i fall to pieces - single version',\n",
       "  \"she's got you - single version\",\n",
       "  'strange - single version',\n",
       "  \"leavin' on your mind - single version\",\n",
       "  \"back in baby's arms - single version\",\n",
       "  \"why can't he be you - single version\",\n",
       "  'so wrong - single version',\n",
       "  'he called me baby - single version',\n",
       "  'faded love - single version',\n",
       "  \"someday (you'll want me to want you) - single version\",\n",
       "  'imagine that - single version',\n",
       "  'shoes - single version'],\n",
       " 'billy fury': ['wondrous place - single version'],\n",
       " 'the drifters': ['come on over to my place - single version'],\n",
       " 'the osborne brothers': ['rocky top - single version'],\n",
       " 'trisha yearwood': [\"she's in love with the boy - single version\"],\n",
       " 'mark wills': [\"19 somethin' - greatest hits version\"],\n",
       " 'tracy byrd': [\"i'm from the country - single version\"],\n",
       " 'george strait': ['i cross my heart - pure country soundtrack version'],\n",
       " 'the new pornographers': ['the electric version'],\n",
       " 'blondie': ['union city blue - single version',\n",
       "  'one way or another - rerecorded 2014 version'],\n",
       " 'men without hats': ['the safety dance - extended dance version',\n",
       "  'the safety dance - short version'],\n",
       " 'level 42': ['something about you - 7\" version',\n",
       "  'running in the family - 7\" version'],\n",
       " 'mr. mister': ['kyrie - single version', 'broken wings - single version'],\n",
       " 'wham!': ['last christmas - single version'],\n",
       " 'soft cell': ['tainted love / where did our love go - extended version / medley',\n",
       "  'say hello, wave goodbye - 7\" single version'],\n",
       " 'the icicle works': ['whisper to a scream (birds fly) - single version'],\n",
       " 'tears for fears': ['pale shelter - 2nd single version',\n",
       "  'everybody wants to rule the world - extended version'],\n",
       " 'dead or alive': ['you spin me round (like a record) - rip it up version'],\n",
       " 'erasure': ['take a chance on me - pop! version'],\n",
       " 'duran duran': ['save a prayer - single version'],\n",
       " 'new order': ['true faith - 2011 total version'],\n",
       " 'alison moyet': ['invisible - single version'],\n",
       " 'grace jones': ['slave to the rhythm - hot blooded version'],\n",
       " '2pac': [\"hit 'em up - single version\"],\n",
       " 'everything but the girl': ['night and day - single version'],\n",
       " 'zero 7': ['don\\'t call it love - 12\" version'],\n",
       " 'röyksopp': ['monument - the inevitable end version'],\n",
       " 'air': ['people in the city la - demo version'],\n",
       " 'björk': [\"there's more to life than this - live version\"],\n",
       " 'depth charge': ['legend of the golden snake - single version'],\n",
       " 'donna summer': ['macarthur park - single version',\n",
       "  'hot stuff - single version'],\n",
       " 'vicki sue robinson': ['turn the beat around - single version'],\n",
       " 'boys town gang': [\"can't take my eyes off you - original extended version\"],\n",
       " 'olivia newton-john': ['suddenly - xanadu/soundtrack version'],\n",
       " 'village people': ['y.m.c.a. - single version'],\n",
       " 'atlantic starr': ['when love calls - single version'],\n",
       " 'gloria gaynor': ['never can say goodbye - single version'],\n",
       " 'hanson': ['mmmbop - single version'],\n",
       " 'michael jackson': ['rock with you - single version'],\n",
       " 'stevie wonder': ['superstition - single version',\n",
       "  'i just called to say i love you - single version'],\n",
       " 'mark ronson': ['valerie (feat. amy winehouse) - version revisited'],\n",
       " 'the temptations': [\"papa was a rollin' stone - single version\"],\n",
       " 'sade': ['smooth operator - single version'],\n",
       " 'dobie gray': ['drift away - single version'],\n",
       " 'jeremy passion': ['lemonade - ukulele version'],\n",
       " 'electric guest': ['oh devil - radio version'],\n",
       " 'curtis mayfield': ['move on up - extended version'],\n",
       " 'breaking benjamin': ['the diary of jane - single version',\n",
       "  'blow me away - soundtrack version'],\n",
       " 'shinedown': ['simple man - rock version'],\n",
       " 'marilyn manson': ['this is halloween - pop version'],\n",
       " 'apocalyptica': [\"i don't care - us version\"]}"
      ]
     },
     "execution_count": 287,
     "metadata": {},
     "output_type": "execute_result"
    }
   ],
   "source": [
    "check_duplicates('version', without_remaster)"
   ]
  },
  {
   "cell_type": "code",
   "execution_count": 288,
   "metadata": {},
   "outputs": [],
   "source": [
    "without_version = clear_duplicates('version', without_remaster)"
   ]
  },
  {
   "cell_type": "code",
   "execution_count": 289,
   "metadata": {},
   "outputs": [
    {
     "name": "stdout",
     "output_type": "stream",
     "text": [
      "edit found 34\n"
     ]
    },
    {
     "data": {
      "text/plain": [
       "{'chris cagle': ['chicks dig it - single edit'],\n",
       " 'cheap trick': ['the flame - single edit'],\n",
       " 'paul young': ['every time you go away - radio edit'],\n",
       " 'erasure': [\"oh l'amour - edit\"],\n",
       " 'cutting crew': [\"i've been in love before - edit\"],\n",
       " 'modern talking': [\"brother louie mix '98 (feat. eric singleton) - radio edit\"],\n",
       " 'icona pop': ['all night - cash cash remix; radio edit'],\n",
       " 'rick astley': ['cry for help - single edit'],\n",
       " 'ladytron': ['ghosts - single edit'],\n",
       " 'naked eyes': ['promises, promises - single edit'],\n",
       " 'the stranglers': ['walk on by - radio edit'],\n",
       " 'dead or alive': ['brand new lover - edit'],\n",
       " 'everything but the girl': ['missing - todd terry club mix / us radio edit'],\n",
       " 'faithless': ['insomnia - radio edit', 'we come 1 - radio edit'],\n",
       " 'little dragon': ['lover chanting - edit'],\n",
       " 'röyksopp': ['remind me - radio edit'],\n",
       " 'bent': ['magic love - radio edit'],\n",
       " 'dj shadow': ['scale it back - radio edit'],\n",
       " 'groove armada': ['i see you baby (feat. gramma funk) - fatboy slim radio edit',\n",
       "  'i see you baby - fatboy slim radio edit'],\n",
       " 'róisín murphy': ['something more - edit'],\n",
       " 'bonobo': ['stay the same - radio edit'],\n",
       " 'barry white': [\"you're the first, the last, my everything - edit\"],\n",
       " 'le youth': ['c o o l - radio edit'],\n",
       " 'polo & pan': ['ani kuni - edit'],\n",
       " 'bob sinclar': ['love generation - radio edit'],\n",
       " 'the shapeshifters': [\"lola's theme - radio edit\"],\n",
       " 'lime': ['your love - radio edit'],\n",
       " 'claptone': ['no eyes - radio edit'],\n",
       " 'big thief': ['shark smile - edit'],\n",
       " 'michael kiwanuka': ['cold little heart - radio edit'],\n",
       " 'bullet for my valentine': ['shatter - edit', \"don't need you - edit\"]}"
      ]
     },
     "execution_count": 289,
     "metadata": {},
     "output_type": "execute_result"
    }
   ],
   "source": [
    "check_duplicates('edit', without_version)"
   ]
  },
  {
   "cell_type": "code",
   "execution_count": 290,
   "metadata": {},
   "outputs": [],
   "source": [
    "without_edit = clear_duplicates('edit', without_version)"
   ]
  },
  {
   "cell_type": "code",
   "execution_count": 291,
   "metadata": {},
   "outputs": [
    {
     "name": "stdout",
     "output_type": "stream",
     "text": [
      "mix found 26\n"
     ]
    },
    {
     "data": {
      "text/plain": [
       "{'elvis presley': ['if i can dream - stereo mix'],\n",
       " 'morgan wallen': ['heartless - wallen album mix'],\n",
       " 'modern talking': [\"brother louie mix '98 (feat. eric singleton)\"],\n",
       " 'howard jones': ['what is love? - extended mix'],\n",
       " 'little dragon': ['the other lover - little dragon vocal celebration mix'],\n",
       " \"'til tuesday\": ['voices carry - single mix'],\n",
       " 'tove lo': ['habits (stay high) - the chainsmokers extended mix'],\n",
       " 'the stranglers': ['always the sun - sunny side up mix'],\n",
       " 'wham!': ['last christmas - pudding mix'],\n",
       " 'air': ['modular mix'],\n",
       " 'the orb': ['little fluffy clouds - dance mix 2'],\n",
       " 'propellerheads': ['history repeating - knee length mix'],\n",
       " 'faithless': ['insomnia - monster mix'],\n",
       " 'björk': ['i miss you (dobie rub part one) - sunshine mix'],\n",
       " 'sneaker pimps': ['6 underground - the perfecto mix',\n",
       "  'spin spin sugar - armands dark garage mix'],\n",
       " 'everything but the girl': ['missing - todd terry club mix'],\n",
       " 'lionel richie': ['the one - radio mix',\n",
       "  'the one - the mix',\n",
       "  \"don't stop the music - extended mix\",\n",
       "  'the one - reveal mix',\n",
       "  'the one - classic mix',\n",
       "  'the one - orchestral mix'],\n",
       " 'brick': ['dazz - dazz disco mix'],\n",
       " 'color me badd': ['i wanna sex you up - single mix'],\n",
       " 'mary j. blige': ['be without you - kendu mix']}"
      ]
     },
     "execution_count": 291,
     "metadata": {},
     "output_type": "execute_result"
    }
   ],
   "source": [
    "check_duplicates('mix', without_edit)"
   ]
  },
  {
   "cell_type": "code",
   "execution_count": 292,
   "metadata": {},
   "outputs": [],
   "source": [
    "without_mix = clear_duplicates('mix', without_edit)"
   ]
  },
  {
   "cell_type": "code",
   "execution_count": 293,
   "metadata": {},
   "outputs": [
    {
     "name": "stdout",
     "output_type": "stream",
     "text": [
      "live found 41\n"
     ]
    },
    {
     "data": {
      "text/plain": [
       "{'elvis presley': [\"i just can't help believin' - live\",\n",
       "  \"trying to get to you - second 'sit-down' show - live\",\n",
       "  \"are you lonesome tonight? - first 'sit-down' show - live\",\n",
       "  'sweet caroline - live',\n",
       "  'the wonder of you - live',\n",
       "  'burning love - live'],\n",
       " 'sam cooke': ['try a little tenderness / (i love you) for sentimental reasons / you send me - live',\n",
       "  'this little light of mine - live'],\n",
       " 'patsy cline': ['strange - live',\n",
       "  \"leavin' on your mind - live\",\n",
       "  'blue moon of kentucky - live',\n",
       "  \"you're stronger than me - live\",\n",
       "  \"why can't he be you - live\",\n",
       "  'imagine that - live',\n",
       "  'crazy - live',\n",
       "  'a church, a courtroom, and then goodbye - live'],\n",
       " 'jerry lee lewis': ['great balls of fire - live'],\n",
       " 'trampled by turtles': ['brown-eyed women - live'],\n",
       " 'jerry garcia band': ['i shall be released - live',\n",
       "  'the way you do the things you do - live',\n",
       "  'after midnight - live'],\n",
       " 'the wood brothers': ['ophelia - live'],\n",
       " 'elephant revival': ['have a cigar - live at red rocks'],\n",
       " 'tim mcgraw': ['live like you were dying'],\n",
       " 'florida georgia line': ['long live'],\n",
       " 'johnny cash': ['folsom prison blues - live at folsom state prison, folsom, ca - january 1968'],\n",
       " 'badfinger': ['day after day - live'],\n",
       " 'weezer': ['island in the sun - live from spotify nyc'],\n",
       " 'orchestral manoeuvres in the dark': ['(forever) live and die'],\n",
       " 'wang chung': ['to live and die in l.a. - from \"to live and die in l.a.\" soundtrack'],\n",
       " 'zero 7': ['take my hand (feat. lou stone) - live', 'crosses - live session'],\n",
       " 'portishead': ['glory box - live', 'sour times - live'],\n",
       " 'amon tobin': ['how do you live'],\n",
       " 'massive attack': ['live with me'],\n",
       " 'amy winehouse': ['valerie - live at bbc radio 1 live lounge, london / 2007'],\n",
       " 'accept': ['double cello concerto in g minor - live in wacken 2017',\n",
       "  'night on bald mountain - live in wacken 2017'],\n",
       " 'doro': ['kiss of death - live'],\n",
       " 'spiritbox': ['we live in a strange world']}"
      ]
     },
     "execution_count": 293,
     "metadata": {},
     "output_type": "execute_result"
    }
   ],
   "source": [
    "check_duplicates('live', without_mix)"
   ]
  },
  {
   "cell_type": "code",
   "execution_count": 294,
   "metadata": {},
   "outputs": [],
   "source": [
    "without_live = clear_duplicates('live', without_mix)"
   ]
  },
  {
   "cell_type": "code",
   "execution_count": 295,
   "metadata": {},
   "outputs": [],
   "source": [
    "without_duplicates = without_live.drop_duplicates(subset=['artist_name','track_name'])"
   ]
  },
  {
   "cell_type": "code",
   "execution_count": 296,
   "metadata": {},
   "outputs": [
    {
     "data": {
      "text/plain": [
       "(6878, 19)"
      ]
     },
     "execution_count": 296,
     "metadata": {},
     "output_type": "execute_result"
    }
   ],
   "source": [
    "without_duplicates.shape"
   ]
  },
  {
   "cell_type": "code",
   "execution_count": 297,
   "metadata": {},
   "outputs": [
    {
     "name": "stdout",
     "output_type": "stream",
     "text": [
      "remix found 2\n"
     ]
    },
    {
     "data": {
      "text/plain": [
       "{'a$ap ferg': ['plain jane remix (feat. nicki minaj)'],\n",
       " 'goldlink': ['crew remix (feat. gucci mane, brent faiyaz & shy glizzy)']}"
      ]
     },
     "execution_count": 297,
     "metadata": {},
     "output_type": "execute_result"
    }
   ],
   "source": [
    "check_duplicates('remix', without_duplicates)"
   ]
  },
  {
   "cell_type": "code",
   "execution_count": 298,
   "metadata": {},
   "outputs": [],
   "source": [
    "### keep only English lyrics\n",
    "\n",
    "def map_language(data):\n",
    "    df = data.copy()\n",
    "    df['Language'] = df['lyrics'].apply(detect)\n",
    "    return df"
   ]
  },
  {
   "cell_type": "code",
   "execution_count": 422,
   "metadata": {},
   "outputs": [],
   "source": [
    "mapped_df = map_language(without_duplicates)"
   ]
  },
  {
   "cell_type": "code",
   "execution_count": 423,
   "metadata": {},
   "outputs": [
    {
     "data": {
      "text/plain": [
       "array(['en', 'ca', 'pt', 'es', 'de', 'so', 'id', 'fr', 'ro', 'nl', 'ru',\n",
       "       'tl', 'af', 'sk', 'no', 'sw', 'it', 'ja', 'fi', 'pl', 'cs'],\n",
       "      dtype=object)"
      ]
     },
     "execution_count": 423,
     "metadata": {},
     "output_type": "execute_result"
    }
   ],
   "source": [
    "mapped_df.Language.unique()"
   ]
  },
  {
   "cell_type": "code",
   "execution_count": 440,
   "metadata": {},
   "outputs": [],
   "source": [
    "english_lyrics = mapped_df [mapped_df.Language == 'en']"
   ]
  },
  {
   "cell_type": "code",
   "execution_count": 441,
   "metadata": {
    "scrolled": true
   },
   "outputs": [
    {
     "data": {
      "text/plain": [
       "genre_name\n",
       "country        1205\n",
       "hip-hop/rap     967\n",
       "metal          1153\n",
       "pop            1096\n",
       "r&b             960\n",
       "rock           1056\n",
       "dtype: int64"
      ]
     },
     "execution_count": 441,
     "metadata": {},
     "output_type": "execute_result"
    }
   ],
   "source": [
    "english_lyrics.groupby(['genre_name']).size()"
   ]
  },
  {
   "cell_type": "code",
   "execution_count": 442,
   "metadata": {},
   "outputs": [],
   "source": [
    "final_english_lyrics = english_lyrics[~english_lyrics['lyrics'].str.contains('last updated:', case=False)]"
   ]
  },
  {
   "cell_type": "code",
   "execution_count": 443,
   "metadata": {},
   "outputs": [],
   "source": [
    "final = final_english_lyrics[~final_english_lyrics['lyrics'].str.contains('CHAPTER', case=True)]"
   ]
  },
  {
   "cell_type": "code",
   "execution_count": 444,
   "metadata": {},
   "outputs": [
    {
     "data": {
      "text/plain": [
       "genre_name\n",
       "country        1196\n",
       "hip-hop/rap     961\n",
       "metal          1147\n",
       "pop            1078\n",
       "r&b             957\n",
       "rock           1046\n",
       "dtype: int64"
      ]
     },
     "execution_count": 444,
     "metadata": {},
     "output_type": "execute_result"
    }
   ],
   "source": [
    "final.groupby(['genre_name']).size()"
   ]
  },
  {
   "cell_type": "code",
   "execution_count": 445,
   "metadata": {},
   "outputs": [],
   "source": [
    "final_rock_df = final[final.genre_name == \"rock\"][-950:]\n",
    "final_country_df = final[final.genre_name == \"country\"][-950:]\n",
    "final_pop_df = final[final.genre_name == \"pop\"][-950:]\n",
    "final_r_n_b_df = final[final.genre_name == \"r&b\"][-950:]\n",
    "final_metal_df = final[final.genre_name == \"metal\"][-950:]\n",
    "final_hip_hop_df = final[final.genre_name == \"hip-hop/rap\"][-950:]"
   ]
  },
  {
   "cell_type": "code",
   "execution_count": 446,
   "metadata": {},
   "outputs": [],
   "source": [
    "final_with_lyrics = final_rock_df.append([final_country_df, final_pop_df, final_hip_hop_df, final_r_n_b_df,final_metal_df])"
   ]
  },
  {
   "cell_type": "code",
   "execution_count": 447,
   "metadata": {},
   "outputs": [
    {
     "data": {
      "text/plain": [
       "genre_name\n",
       "country        950\n",
       "hip-hop/rap    950\n",
       "metal          950\n",
       "pop            950\n",
       "r&b            950\n",
       "rock           950\n",
       "dtype: int64"
      ]
     },
     "execution_count": 447,
     "metadata": {},
     "output_type": "execute_result"
    }
   ],
   "source": [
    "final_with_lyrics.groupby(['genre_name']).size()"
   ]
  },
  {
   "cell_type": "code",
   "execution_count": 450,
   "metadata": {},
   "outputs": [],
   "source": [
    "final_with_lyrics.to_csv(r'C:\\Users\\PC\\Desktop\\Machine Learning\\ML Project\\final_with_lyrics.csv', index = False, header=True)"
   ]
  },
  {
   "cell_type": "code",
   "execution_count": 417,
   "metadata": {},
   "outputs": [
    {
     "data": {
      "text/plain": [
       "Int64Index([20152], dtype='int64')"
      ]
     },
     "execution_count": 417,
     "metadata": {},
     "output_type": "execute_result"
    }
   ],
   "source": [
    "final_english_lyrics[(final_english_lyrics.genre_name == 'metal') & (final_english_lyrics.track_name == 'breaking the mirror - acoustic')].index"
   ]
  }
 ],
 "metadata": {
  "kernelspec": {
   "display_name": "Python 3",
   "language": "python",
   "name": "python3"
  },
  "language_info": {
   "codemirror_mode": {
    "name": "ipython",
    "version": 3
   },
   "file_extension": ".py",
   "mimetype": "text/x-python",
   "name": "python",
   "nbconvert_exporter": "python",
   "pygments_lexer": "ipython3",
   "version": "3.8.5"
  }
 },
 "nbformat": 4,
 "nbformat_minor": 4
}
